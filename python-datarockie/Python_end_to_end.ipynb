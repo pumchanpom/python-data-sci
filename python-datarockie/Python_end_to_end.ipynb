{
  "nbformat": 4,
  "nbformat_minor": 0,
  "metadata": {
    "colab": {
      "provenance": []
    },
    "kernelspec": {
      "name": "python3",
      "display_name": "Python 3"
    },
    "language_info": {
      "name": "python"
    }
  },
  "cells": [
    {
      "cell_type": "markdown",
      "metadata": {
        "id": "5bSBXOmfmXBJ"
      },
      "source": [
        "# **Topics**\n",
        "- basic calculation\n",
        "- variables\n",
        "- type hints\n",
        "- string methods\n",
        "- data structures: list, tutple, dictionary\n",
        "- control flow, try catch syntax\n",
        "- function\n",
        "- OOP\n",
        "- import modules\n",
        "- CSV examples\n",
        "- a little bit of numpy and pandas\n",
        "- Intro to sklearn basics & machine learning\n",
        "- glimpse of tensorflow"
      ]
    },
    {
      "cell_type": "markdown",
      "metadata": {
        "id": "_KOk_PAAx9uS"
      },
      "source": [
        "# **Basic Calculation**"
      ]
    },
    {
      "cell_type": "code",
      "metadata": {
        "colab": {
          "base_uri": "https://localhost:8080/"
        },
        "id": "lkRSC3w3kKSE",
        "outputId": "78df04af-d6b7-4151-e747-cdac35f447c6"
      },
      "source": [
        "# calculation \n",
        "1 + 1\n",
        "print(1 + 1)\n",
        "print(9 - 3)\n",
        "print(5 * 8)\n",
        "print(5 / 4)\n",
        "print(9 ** 2)"
      ],
      "execution_count": null,
      "outputs": [
        {
          "output_type": "stream",
          "text": [
            "2\n",
            "6\n",
            "40\n",
            "1.25\n",
            "81\n"
          ],
          "name": "stdout"
        }
      ]
    },
    {
      "cell_type": "markdown",
      "metadata": {
        "id": "A-jtBJKayKnT"
      },
      "source": [
        "# **Variables**"
      ]
    },
    {
      "cell_type": "code",
      "metadata": {
        "colab": {
          "base_uri": "https://localhost:8080/"
        },
        "id": "-ek5i636olz2",
        "outputId": "23b25c6f-57eb-4de4-f972-67b9848dcfdb"
      },
      "source": [
        "# variables \n",
        "my_name = \"Pume\"\n",
        "my_school = \"Chulalongkorn University\"\n",
        "print(my_name)\n",
        "print(my_school)\n",
        "print(\"I'm learning python\")\n",
        "print('I\\'m learning python')"
      ],
      "execution_count": null,
      "outputs": [
        {
          "output_type": "stream",
          "text": [
            "Pume\n",
            "Chulalongkorn University\n",
            "I'm learning python\n",
            "I'm learning python\n"
          ],
          "name": "stdout"
        }
      ]
    },
    {
      "cell_type": "markdown",
      "metadata": {
        "id": "3DrllCqNpw1d"
      },
      "source": [
        "1. ชื่อตัวแปรห้ามขึ้นด้วยตัวเลข\n",
        "2. ตั้งชื่อ snake case e.g. name_first\n",
        "3. lowercase "
      ]
    },
    {
      "cell_type": "code",
      "metadata": {
        "colab": {
          "base_uri": "https://localhost:8080/"
        },
        "id": "j_3jLZI5o5JK",
        "outputId": "e3f32ef3-804f-4786-86ff-6fdede5e4d8b"
      },
      "source": [
        "# long string - \"\"\" \"\"\" (triple quotes)\n",
        "long_quote = \"\"\"This is a very long quote \n",
        "I am learning Python\n",
        "The Zen of Python \"\"\"\n",
        "print(long_quote)"
      ],
      "execution_count": null,
      "outputs": [
        {
          "output_type": "stream",
          "text": [
            "This is a very long quote \n",
            "I am learning Python\n",
            "The Zen of Python \n"
          ],
          "name": "stdout"
        }
      ]
    },
    {
      "cell_type": "markdown",
      "metadata": {
        "id": "410NCzNVyhmT"
      },
      "source": [
        "# **Data Types**\n",
        "1. String: str\n",
        "2. Integer: int \n",
        "3. Float: float\n",
        "4. Boolean: bool"
      ]
    },
    {
      "cell_type": "code",
      "metadata": {
        "colab": {
          "base_uri": "https://localhost:8080/"
        },
        "id": "6gTFcOxhpri-",
        "outputId": "71e4ae7a-47ee-4766-e826-505cc8ffc44a"
      },
      "source": [
        "# data types\n",
        "my_name = 'Pume'\n",
        "age = 32\n",
        "income = 39679.45\n",
        "movie_lover = True\n",
        "\n",
        "print(type(my_name))\n",
        "print(type(age))\n",
        "print(type(income))\n",
        "print(type(movie_lover))"
      ],
      "execution_count": null,
      "outputs": [
        {
          "output_type": "stream",
          "text": [
            "<class 'str'>\n",
            "<class 'int'>\n",
            "<class 'float'>\n",
            "<class 'bool'>\n"
          ],
          "name": "stdout"
        }
      ]
    },
    {
      "cell_type": "code",
      "metadata": {
        "colab": {
          "base_uri": "https://localhost:8080/"
        },
        "id": "p_xjwflwrEC9",
        "outputId": "4b0215c3-50ce-4645-ca8b-f8cd1ad892f1"
      },
      "source": [
        "# check type\n",
        "print(isinstance(my_name, str))\n",
        "print(isinstance(age, int))\n",
        "print(isinstance(income, float))\n",
        "print(isinstance(movie_lover, bool))"
      ],
      "execution_count": null,
      "outputs": [
        {
          "output_type": "stream",
          "text": [
            "True\n",
            "True\n",
            "True\n",
            "True\n"
          ],
          "name": "stdout"
        }
      ]
    },
    {
      "cell_type": "code",
      "metadata": {
        "colab": {
          "base_uri": "https://localhost:8080/"
        },
        "id": "d3YE0gsYr0VD",
        "outputId": "31020fef-8cff-4228-da33-1f51db289f87"
      },
      "source": [
        "# print fstring template: f\" \" \n",
        "my_name = 'Pume'\n",
        "age = 32\n",
        "print( f\"Hello, my name is {my_name} and I'm {age} years old.\" )"
      ],
      "execution_count": null,
      "outputs": [
        {
          "output_type": "stream",
          "text": [
            "Hello, my name is Pume and I'm 32 years old.\n"
          ],
          "name": "stdout"
        }
      ]
    },
    {
      "cell_type": "code",
      "metadata": {
        "colab": {
          "base_uri": "https://localhost:8080/"
        },
        "id": "n7_33IMFsL7C",
        "outputId": "a6736aa7-9b40-40a2-fe01-e09777c61688"
      },
      "source": [
        "# fstring (old way): .format()\n",
        "print( \"Hello, my name is {} and I'm {} years old.\".format(my_name, age) )"
      ],
      "execution_count": null,
      "outputs": [
        {
          "output_type": "stream",
          "text": [
            "Hello, my name is Pume and I'm 32 years old.\n"
          ],
          "name": "stdout"
        }
      ]
    },
    {
      "cell_type": "code",
      "metadata": {
        "colab": {
          "base_uri": "https://localhost:8080/"
        },
        "id": "kBcdycSpsnHh",
        "outputId": "3d6af889-3ee0-4abd-d153-b01c7d8485fe"
      },
      "source": [
        "# string + string \n",
        "text = \"Hello \" + \"World \"\n",
        "print( (text + \"\\n\") * 5 )"
      ],
      "execution_count": null,
      "outputs": [
        {
          "output_type": "stream",
          "text": [
            "Hello World \n",
            "Hello World \n",
            "Hello World \n",
            "Hello World \n",
            "Hello World \n",
            "\n"
          ],
          "name": "stdout"
        }
      ]
    },
    {
      "cell_type": "code",
      "metadata": {
        "colab": {
          "base_uri": "https://localhost:8080/"
        },
        "id": "CaT5iJxftOfZ",
        "outputId": "e06ddd6e-c3b8-415b-aa18-a670575b7dae"
      },
      "source": [
        "# type hints \n",
        "# dynamic typed \n",
        "name = 'Pume'\n",
        "name2: str = \"Pume\"\n",
        "age2: int = 32\n",
        "print(type(name2))\n",
        "print(type(age2))"
      ],
      "execution_count": null,
      "outputs": [
        {
          "output_type": "stream",
          "text": [
            "<class 'str'>\n",
            "<class 'int'>\n"
          ],
          "name": "stdout"
        }
      ]
    },
    {
      "cell_type": "markdown",
      "metadata": {
        "id": "OoINFRF2yxuh"
      },
      "source": [
        "# **Function**"
      ]
    },
    {
      "cell_type": "code",
      "metadata": {
        "colab": {
          "base_uri": "https://localhost:8080/"
        },
        "id": "Tip37aRYt7Vg",
        "outputId": "67cd7966-40a6-458c-d3c7-79ebc4551995"
      },
      "source": [
        "# define function \n",
        "def hello():\n",
        "  print(\"hello world!\")\n",
        "\n",
        "# test function\n",
        "hello()"
      ],
      "execution_count": null,
      "outputs": [
        {
          "output_type": "stream",
          "text": [
            "hello world!\n"
          ],
          "name": "stdout"
        }
      ]
    },
    {
      "cell_type": "code",
      "metadata": {
        "colab": {
          "base_uri": "https://localhost:8080/"
        },
        "id": "uiSDz_mXuV7w",
        "outputId": "358441d8-a0c3-4033-e9b1-0303e1864b12"
      },
      "source": [
        "# define function \n",
        "def hello(name3):\n",
        "  print(f\"Hello, {name3}!\")\n",
        "\n",
        "# test function\n",
        "name3 = input(\"Name: \")\n",
        "hello(name3)"
      ],
      "execution_count": null,
      "outputs": [
        {
          "output_type": "stream",
          "text": [
            "Name: Pume\n",
            "Hello, Pume!\n"
          ],
          "name": "stdout"
        }
      ]
    },
    {
      "cell_type": "code",
      "metadata": {
        "colab": {
          "base_uri": "https://localhost:8080/"
        },
        "id": "p5vtjf8LvHsf",
        "outputId": "d3347e78-f6d7-441b-f393-1279702d2a95"
      },
      "source": [
        "a = int(input(\"Number 1: \"))\n",
        "b = int(input(\"Number 2: \"))\n",
        "\n",
        "# define function\n",
        "def sum_two_num(a: int, b: int) -> int:\n",
        "  return a + b\n",
        "\n",
        "# test function \n",
        "sum_two_num(a, b)"
      ],
      "execution_count": null,
      "outputs": [
        {
          "output_type": "stream",
          "text": [
            "Number 1: 45\n",
            "Number 2: 5666\n"
          ],
          "name": "stdout"
        },
        {
          "output_type": "execute_result",
          "data": {
            "text/plain": [
              "5711"
            ]
          },
          "metadata": {
            "tags": []
          },
          "execution_count": 40
        }
      ]
    },
    {
      "cell_type": "markdown",
      "metadata": {
        "id": "rjeM_oYTy27y"
      },
      "source": [
        "# **assert**"
      ]
    },
    {
      "cell_type": "code",
      "metadata": {
        "id": "y_R9tTtww6PI"
      },
      "source": [
        "c = input(\"Number: \")\n",
        "# check input whether it is the desired data type \n",
        "assert isinstance(c, int), \"Number should be integer\""
      ],
      "execution_count": null,
      "outputs": []
    },
    {
      "cell_type": "markdown",
      "metadata": {
        "id": "nyyynNkiy-_C"
      },
      "source": [
        "# **String Method**"
      ]
    },
    {
      "cell_type": "code",
      "metadata": {
        "colab": {
          "base_uri": "https://localhost:8080/"
        },
        "id": "ZALQ95yrxjuj",
        "outputId": "4464630d-0c56-4f3d-bc7f-d22c20ae3bce"
      },
      "source": [
        "text = \"a duck walks into a bar\"\n",
        "print(len(text))\n",
        "print(text.upper())\n",
        "print(text.split(\" \"))\n",
        "print(text.replace(\"duck\", \"lion\"))"
      ],
      "execution_count": null,
      "outputs": [
        {
          "output_type": "stream",
          "text": [
            "23\n",
            "A DUCK WALKS INTO A BAR\n",
            "['a', 'duck', 'walks', 'into', 'a', 'bar']\n",
            "a lion walks into a bar\n",
            "None\n"
          ],
          "name": "stdout"
        }
      ]
    },
    {
      "cell_type": "markdown",
      "metadata": {
        "id": "HjIvXWmU02vi"
      },
      "source": [
        "# **Index**\n",
        "- start with index [0]\n",
        "- end with index [-1]\n",
        "- index [2:6] = from 2 to 5 (not include 6)\n",
        "- index [0: :2] = [start: stop: step]"
      ]
    },
    {
      "cell_type": "code",
      "metadata": {
        "id": "a83VtCdN0cyO"
      },
      "source": [
        "text = \"a duck walks into a bar\"\n",
        "print(text[0])\n",
        "print(text[1])\n",
        "print(text[2])\n",
        "print(text[-1])"
      ],
      "execution_count": null,
      "outputs": []
    },
    {
      "cell_type": "code",
      "metadata": {
        "colab": {
          "base_uri": "https://localhost:8080/"
        },
        "id": "O0jqR1F21CyB",
        "outputId": "8d87779d-290f-4b0d-b327-f1cab60f0e21"
      },
      "source": [
        "print(text[2:6])\n",
        "print(text[7:12])\n",
        "print(text[13:])\n",
        "print(text[0: :3])"
      ],
      "execution_count": null,
      "outputs": [
        {
          "output_type": "stream",
          "text": [
            "duck\n",
            "walks\n",
            "into a bar\n",
            "au l taa\n"
          ],
          "name": "stdout"
        }
      ]
    },
    {
      "cell_type": "code",
      "metadata": {
        "colab": {
          "base_uri": "https://localhost:8080/"
        },
        "id": "aQ544A8O4uyw",
        "outputId": "30e0c91a-e414-4aec-aba5-265234f1d537"
      },
      "source": [
        "# string is immutable \n",
        "text2 = \"I love hotdog.\"\n",
        "text2 = text2.replace(\"hotdog\", \"sandwich\")\n",
        "print(text2)\n",
        "## text2[0] = \"They\" -> TypeError: 'str' object does not support item assignment\n",
        "text2 = \"They\" + text2[1:]\n",
        "print(text2)"
      ],
      "execution_count": null,
      "outputs": [
        {
          "output_type": "stream",
          "text": [
            "I love sandwich.\n",
            "They love sandwich.\n"
          ],
          "name": "stdout"
        }
      ]
    },
    {
      "cell_type": "markdown",
      "metadata": {
        "id": "lz0frXPF53CU"
      },
      "source": [
        "# **Data Structure**\n",
        "- List [  ]: mutable, expandable, updatable\n",
        "- Tuple (  ): immutable, unupdatable \n",
        "- Dictionary {  }: mutable, unordered, key-value pair"
      ]
    },
    {
      "cell_type": "code",
      "metadata": {
        "colab": {
          "base_uri": "https://localhost:8080/"
        },
        "id": "liBVL_wg5yy2",
        "outputId": "bbe7147e-a36a-4b83-db8c-f76cb1bb5e49"
      },
      "source": [
        "# List\n",
        "\n",
        "shopping_list = ['eggs', 'milk', 'bread']\n",
        "print(shopping_list)\n",
        "shopping_list[0] = 'carrot'\n",
        "shopping_list: list\n",
        "shopping_list_new = ['sugar', 'cake']\n",
        "print(shopping_list_new)\n",
        "shopping_total = shopping_list + shopping_list_new\n",
        "print(shopping_total)"
      ],
      "execution_count": null,
      "outputs": [
        {
          "output_type": "stream",
          "text": [
            "['eggs', 'milk', 'bread']\n",
            "['sugar', 'cake']\n",
            "['carrot', 'milk', 'bread', 'sugar', 'cake']\n"
          ],
          "name": "stdout"
        }
      ]
    },
    {
      "cell_type": "code",
      "metadata": {
        "colab": {
          "base_uri": "https://localhost:8080/"
        },
        "id": "vgEPOK-O809l",
        "outputId": "5d3385f0-45ac-47a4-8bd7-4566b6bbdd24"
      },
      "source": [
        "# type hints : list \n",
        "\n",
        "friends: list = [\"David\", \"Susan\", \"Joe\", 100]\n",
        "print(friends)"
      ],
      "execution_count": null,
      "outputs": [
        {
          "output_type": "stream",
          "text": [
            "['David', 'Susan', 'Joe', 100]\n"
          ],
          "name": "stdout"
        }
      ]
    },
    {
      "cell_type": "code",
      "metadata": {
        "colab": {
          "base_uri": "https://localhost:8080/"
        },
        "id": "Pc6KYZA9-2t7",
        "outputId": "bbb9325c-cd76-4a97-eed7-451df737ee22"
      },
      "source": [
        "# type hints : list \n",
        "\n",
        "from typing import List \n",
        "friends: List[str] = [\"David\", \"Susan\", \"Joe\"]\n",
        "salary: List[int] = [30000, 45000, 89000]\n",
        "print(friends)\n",
        "print(salary)"
      ],
      "execution_count": null,
      "outputs": [
        {
          "output_type": "stream",
          "text": [
            "['David', 'Susan', 'Joe']\n",
            "[30000, 45000, 89000]\n"
          ],
          "name": "stdout"
        }
      ]
    },
    {
      "cell_type": "code",
      "metadata": {
        "colab": {
          "base_uri": "https://localhost:8080/"
        },
        "id": "W7xWYH2d_QOB",
        "outputId": "fa9acb2a-9e15-4fca-a081-cc6ef54a714a"
      },
      "source": [
        "# method vs function \n",
        "# list method \n",
        "\n",
        "print(shopping_list)\n",
        "shopping_list.append('chocolate milk') # .append()\n",
        "print(shopping_list)\n",
        "shopping_list.insert(1, \"cheese\") # .insert()\n",
        "print(shopping_list)"
      ],
      "execution_count": null,
      "outputs": [
        {
          "output_type": "stream",
          "text": [
            "['carrot', 'milk', 'bread']\n",
            "['carrot', 'milk', 'bread', 'chocolate milk']\n",
            "['carrot', 'cheese', 'milk', 'bread', 'chocolate milk']\n"
          ],
          "name": "stdout"
        }
      ]
    },
    {
      "cell_type": "code",
      "metadata": {
        "colab": {
          "base_uri": "https://localhost:8080/"
        },
        "id": "FshP2yIHBil7",
        "outputId": "06ff283e-7558-4075-d981-453c894a22c0"
      },
      "source": [
        "# list method \n",
        "\n",
        "shopping_list.remove('bread') # .remove()\n",
        "print(shopping_list)"
      ],
      "execution_count": null,
      "outputs": [
        {
          "output_type": "stream",
          "text": [
            "['carrot', 'cheese', 'milk', 'chocolate milk']\n"
          ],
          "name": "stdout"
        }
      ]
    },
    {
      "cell_type": "code",
      "metadata": {
        "colab": {
          "base_uri": "https://localhost:8080/",
          "height": 52
        },
        "id": "HIK5AYigCMF_",
        "outputId": "5dbd73f9-a179-44ce-e47c-44646d75d8b7"
      },
      "source": [
        "# tuple \n",
        "\n",
        "username = (\"paolino\", \"pumechan\", \"pasqualino\")\n",
        "print(type(username))\n",
        "username[0]"
      ],
      "execution_count": null,
      "outputs": [
        {
          "output_type": "stream",
          "text": [
            "<class 'tuple'>\n"
          ],
          "name": "stdout"
        },
        {
          "output_type": "execute_result",
          "data": {
            "application/vnd.google.colaboratory.intrinsic+json": {
              "type": "string"
            },
            "text/plain": [
              "'paolino'"
            ]
          },
          "metadata": {
            "tags": []
          },
          "execution_count": 139
        }
      ]
    },
    {
      "cell_type": "code",
      "metadata": {
        "colab": {
          "base_uri": "https://localhost:8080/"
        },
        "id": "EPmYBoSLEEDG",
        "outputId": "f0c38fd0-c68b-4134-b6a8-698ddaa16dc0"
      },
      "source": [
        "# tuple: multiple assignment \n",
        "\n",
        "username1, username2, username3 = username\n",
        "print(username1)\n",
        "print(username2)\n",
        "print(username3)"
      ],
      "execution_count": null,
      "outputs": [
        {
          "output_type": "stream",
          "text": [
            "paolino\n",
            "pumechan\n",
            "pasqualino\n"
          ],
          "name": "stdout"
        }
      ]
    },
    {
      "cell_type": "code",
      "metadata": {
        "colab": {
          "base_uri": "https://localhost:8080/"
        },
        "id": "mytJPWj2HTVi",
        "outputId": "43a5572b-18fd-475b-fb79-b7c0ab941eb0"
      },
      "source": [
        "# dictionary\n",
        "\n",
        "customers = {\n",
        "    \"name\": \"David\", \n",
        "    \"age\": 32,\n",
        "    \"city\": \"New York\",\n",
        "    \"fav_movies\": [\"Totoro\", \"Minari\", \"Seobok\"]\n",
        "}\n",
        "print(customers)"
      ],
      "execution_count": null,
      "outputs": [
        {
          "output_type": "stream",
          "text": [
            "{'name': 'David', 'age': 32, 'city': 'New York', 'fav_movies': ['Totoro', 'Minari', 'Seobok']}\n"
          ],
          "name": "stdout"
        }
      ]
    },
    {
      "cell_type": "code",
      "metadata": {
        "colab": {
          "base_uri": "https://localhost:8080/",
          "height": 35
        },
        "id": "YKal_0CBIZ_x",
        "outputId": "e10459d3-395f-4cc6-bc43-09c1d47d1590"
      },
      "source": [
        "# dictionary - subset\n",
        "customers[\"name\"]\n",
        "customers[\"fav_movies\"][2]"
      ],
      "execution_count": null,
      "outputs": [
        {
          "output_type": "execute_result",
          "data": {
            "application/vnd.google.colaboratory.intrinsic+json": {
              "type": "string"
            },
            "text/plain": [
              "'Seobok'"
            ]
          },
          "metadata": {
            "tags": []
          },
          "execution_count": 147
        }
      ]
    },
    {
      "cell_type": "code",
      "metadata": {
        "id": "4FQoVfSTI0Sx"
      },
      "source": [
        "# List of dictionary [ {}, {}, {}]\n",
        "\n",
        "list_customers = [\n",
        "    {\n",
        "      \"name\": \"David\", \n",
        "      \"age\": 32,\n",
        "      \"city\": \"New York\",\n",
        "      \"fav_movies\": [\"Totoro\", \"Minari\", \"Seobok\", \"The Day After Tomorrow\"]\n",
        "    },\n",
        "    {\n",
        "      \"name\": \"Jane\", \n",
        "      \"age\": 27,\n",
        "      \"gender\": \"female\",\n",
        "      \"city\": \"Kyoto\",\n",
        "      \"fav_movies\": [\"Spirited Away\", \"Your Name\", \"Call Me By Your Name\"]\n",
        "    },\n",
        "    {\n",
        "      \"name\": \"Takeshi\", \n",
        "      \"age\": 21,\n",
        "      \"city\": \"Sydney\",\n",
        "      \"fav_movies\": None,\n",
        "      \"like_japan\": True    \n",
        "    }            \n",
        "]\n",
        "\n",
        "print(list_customers)"
      ],
      "execution_count": null,
      "outputs": []
    },
    {
      "cell_type": "code",
      "metadata": {
        "colab": {
          "base_uri": "https://localhost:8080/",
          "height": 35
        },
        "id": "hxi5zGmUKkuC",
        "outputId": "34eddcc5-fc96-470a-bfe1-6dccb874e554"
      },
      "source": [
        "# List of dictionary - subsets\n",
        "\n",
        "list_customers[2][\"city\"]\n",
        "list_customers[1][\"fav_movies\"][2]"
      ],
      "execution_count": null,
      "outputs": [
        {
          "output_type": "execute_result",
          "data": {
            "application/vnd.google.colaboratory.intrinsic+json": {
              "type": "string"
            },
            "text/plain": [
              "'Call Me By Your Name'"
            ]
          },
          "metadata": {
            "tags": []
          },
          "execution_count": 159
        }
      ]
    },
    {
      "cell_type": "code",
      "metadata": {
        "colab": {
          "base_uri": "https://localhost:8080/",
          "height": 35
        },
        "id": "ntgw2yhCLMo4",
        "outputId": "7e3558b4-2734-443a-a4e5-c24bd38a1443"
      },
      "source": [
        "# List of dictionary - methods\n",
        "\n",
        "customers = {\n",
        "    \"name\": \"David\", \n",
        "    \"age\": 32,\n",
        "    \"city\": \"New York\",\n",
        "    \"fav_movies\": [\"Totoro\", \"Minari\", \"Seobok\"]\n",
        "}\n",
        "\n",
        "list(customers.keys()) # extract keys in dictionary\n",
        "list(customers.values()) # extract values in dictionary\n",
        "# customers[\"cities\"] -> KeyError: 'cities'\n",
        "customers.get(\"city\") # extract information from dictionary"
      ],
      "execution_count": null,
      "outputs": [
        {
          "output_type": "execute_result",
          "data": {
            "application/vnd.google.colaboratory.intrinsic+json": {
              "type": "string"
            },
            "text/plain": [
              "'New York'"
            ]
          },
          "metadata": {
            "tags": []
          },
          "execution_count": 169
        }
      ]
    },
    {
      "cell_type": "markdown",
      "metadata": {
        "id": "wAnkiMCvNMzw"
      },
      "source": [
        "# **Control Flow**\n",
        "- if\n",
        "- for\n",
        "- while\n",
        "- try catch (Error)"
      ]
    },
    {
      "cell_type": "code",
      "metadata": {
        "colab": {
          "base_uri": "https://localhost:8080/"
        },
        "id": "7dVSzNAbNAlL",
        "outputId": "8bf12d6c-722c-4071-90de-21bcbaf4a7a4"
      },
      "source": [
        "# if \n",
        "score = int(input(\"Score: \"))\n",
        "if score >= 80:\n",
        "  print(\"Passed\")\n",
        "else:\n",
        "  print(\"Failed\")\n",
        "\n",
        "# type(score)"
      ],
      "execution_count": null,
      "outputs": [
        {
          "output_type": "stream",
          "name": "stdout",
          "text": [
            "Score: 67\n",
            "Failed\n"
          ]
        }
      ]
    },
    {
      "cell_type": "code",
      "metadata": {
        "colab": {
          "base_uri": "https://localhost:8080/"
        },
        "id": "97BC_1Y1O900",
        "outputId": "62423c5b-f80e-4705-ce08-86c602f4bce7"
      },
      "source": [
        "# function grade\n",
        "def grade():\n",
        "    score = int(input(\"Score: \"))\n",
        "    if score >= 80:\n",
        "        print(\"Passed\")\n",
        "    else:\n",
        "        print(\"Failed\")\n",
        "\n",
        "grade()"
      ],
      "execution_count": null,
      "outputs": [
        {
          "output_type": "stream",
          "text": [
            "Score: 223\n",
            "Passed\n"
          ],
          "name": "stdout"
        }
      ]
    },
    {
      "cell_type": "code",
      "metadata": {
        "colab": {
          "base_uri": "https://localhost:8080/"
        },
        "id": "dqOcM2A0QBEE",
        "outputId": "7875ffd7-a133-429e-aec9-7cafc99024ea"
      },
      "source": [
        "# function grade\n",
        "def grade():\n",
        "    score = int(input(\"Score: \"))\n",
        "    if score >= 80:\n",
        "        return \"Passed\"\n",
        "    else:\n",
        "        return \"Failed\"\n",
        "\n",
        "result = grade()\n",
        "print(result)"
      ],
      "execution_count": null,
      "outputs": [
        {
          "output_type": "stream",
          "text": [
            "Score: 456\n",
            "Passed\n"
          ],
          "name": "stdout"
        }
      ]
    },
    {
      "cell_type": "code",
      "metadata": {
        "colab": {
          "base_uri": "https://localhost:8080/"
        },
        "id": "TtuStrF_Qa25",
        "outputId": "54df5701-1414-4be3-9015-de3fda164755"
      },
      "source": [
        "def grade2():\n",
        "  score2 = int(input(\"Score: \"))\n",
        "  if score2 >= 80:\n",
        "    return \"A\"\n",
        "  elif score2 >= 70:\n",
        "    return \"B\"\n",
        "  elif score2 >= 60:\n",
        "    return \"C\"\n",
        "  elif score2 >= 50:\n",
        "    return \"D\"\n",
        "  else:\n",
        "    return \"F\"\n",
        "\n",
        "result2 = grade2()\n",
        "print(result2)"
      ],
      "execution_count": null,
      "outputs": [
        {
          "output_type": "stream",
          "text": [
            "Score: 67\n",
            "C\n"
          ],
          "name": "stdout"
        }
      ]
    },
    {
      "cell_type": "code",
      "metadata": {
        "colab": {
          "base_uri": "https://localhost:8080/"
        },
        "id": "9DoxHkUkRwVl",
        "outputId": "3be947b7-3e1e-41fd-b2d0-ab7ccb247568"
      },
      "source": [
        "# while loop 1\n",
        "count = 0\n",
        "while count < 10:\n",
        "  print(\"Hello World\")\n",
        "  count += 1"
      ],
      "execution_count": null,
      "outputs": [
        {
          "output_type": "stream",
          "text": [
            "Hello World\n",
            "Hello World\n",
            "Hello World\n",
            "Hello World\n",
            "Hello World\n",
            "Hello World\n",
            "Hello World\n",
            "Hello World\n",
            "Hello World\n",
            "Hello World\n"
          ],
          "name": "stdout"
        }
      ]
    },
    {
      "cell_type": "code",
      "metadata": {
        "id": "X7h77V4xXZ4T",
        "colab": {
          "base_uri": "https://localhost:8080/",
          "height": 174
        },
        "outputId": "c476a672-465f-4f13-9dc3-759bc176e2e7"
      },
      "source": [
        "# while loop 2\n",
        "def play_games():\n",
        "  while True:\n",
        "    print(\"Type q to quit the game.\")\n",
        "    real_answer = 'tiger'\n",
        "    user_input = input(\"Guess an animal: \")\n",
        "    if user_input.lower() == real_answer:\n",
        "      return \"Congratulations, your guess is correct!\"\n",
        "    else:\n",
        "      print(\"Sorry, it's wrong. Keep guessing.\")\n",
        "    if user_input.lower() == \"q\":\n",
        "      break\n",
        "  print(\"Goodbye!\")\n",
        "play_games()"
      ],
      "execution_count": null,
      "outputs": [
        {
          "name": "stdout",
          "output_type": "stream",
          "text": [
            "Type q to quit the game.\n",
            "Guess an animal: dog\n",
            "Sorry, it's wrong. Keep guessing.\n",
            "Type q to quit the game.\n",
            "Guess an animal: cat\n",
            "Sorry, it's wrong. Keep guessing.\n",
            "Type q to quit the game.\n",
            "Guess an animal: tiger\n"
          ]
        },
        {
          "output_type": "execute_result",
          "data": {
            "text/plain": [
              "'Congratulations, your guess is correct!'"
            ],
            "application/vnd.google.colaboratory.intrinsic+json": {
              "type": "string"
            }
          },
          "metadata": {},
          "execution_count": 3
        }
      ]
    },
    {
      "cell_type": "code",
      "metadata": {
        "colab": {
          "base_uri": "https://localhost:8080/"
        },
        "id": "I_7eUUXOuJmK",
        "outputId": "7b73a365-d74a-46dd-ea4c-a529ddb9a6ac"
      },
      "source": [
        "# for loop\n",
        "friends = [\"Jack\", \"Joe\", \"Jim\", \"Josh\", \"Jeremy\"]\n",
        "for friend in friends:\n",
        "  print(\"Hello, \" + friend.upper())"
      ],
      "execution_count": null,
      "outputs": [
        {
          "output_type": "stream",
          "text": [
            "Hello, JACK\n",
            "Hello, JOE\n",
            "Hello, JIM\n",
            "Hello, JOSH\n",
            "Hello, JEREMY\n"
          ],
          "name": "stdout"
        }
      ]
    },
    {
      "cell_type": "code",
      "metadata": {
        "colab": {
          "base_uri": "https://localhost:8080/"
        },
        "id": "DwglxpOxxpTN",
        "outputId": "eebe99cd-ca9e-440a-efaa-9d73bc52a28e"
      },
      "source": [
        "# for loop - list comprehension \n",
        "[\"Hello, \" + friend.upper() for friend in friends]"
      ],
      "execution_count": null,
      "outputs": [
        {
          "output_type": "execute_result",
          "data": {
            "text/plain": [
              "['Hello, JACK', 'Hello, JOE', 'Hello, JIM', 'Hello, JOSH', 'Hello, JEREMY']"
            ]
          },
          "metadata": {
            "tags": []
          },
          "execution_count": 24
        }
      ]
    },
    {
      "cell_type": "code",
      "metadata": {
        "colab": {
          "base_uri": "https://localhost:8080/"
        },
        "id": "GbOAo8NAy-kr",
        "outputId": "27380ab1-943e-43d4-bcad-2916a03eea45"
      },
      "source": [
        "# for loop 2\n",
        "nums = [2, 23, 45, 55]\n",
        "result =[]\n",
        "for num in nums:\n",
        "  result.append(5 * num)\n",
        "print(result)"
      ],
      "execution_count": null,
      "outputs": [
        {
          "output_type": "stream",
          "text": [
            "[10, 115, 225, 275]\n"
          ],
          "name": "stdout"
        }
      ]
    },
    {
      "cell_type": "code",
      "metadata": {
        "colab": {
          "base_uri": "https://localhost:8080/"
        },
        "id": "TrdDpueUzYpL",
        "outputId": "f27e16e0-8144-49ca-c23f-e4c42a087d57"
      },
      "source": [
        "# for loop 2 - list comprehension\n",
        "\n",
        "nums = [2, 23, 45, 55]\n",
        "result = [4 * num for num in nums]\n",
        "print(result)"
      ],
      "execution_count": null,
      "outputs": [
        {
          "output_type": "stream",
          "text": [
            "[8, 92, 180, 220]\n"
          ],
          "name": "stdout"
        }
      ]
    },
    {
      "cell_type": "code",
      "metadata": {
        "colab": {
          "base_uri": "https://localhost:8080/"
        },
        "id": "zxWwnhs-BuPK",
        "outputId": "bd6afb93-3763-4b37-c0bb-9ae6750a7733"
      },
      "source": [
        "# try catch \n",
        "# except -> run when there is an error\n",
        "\n",
        "x = 10 \n",
        "try: \n",
        "  x / 0\n",
        "except:\n",
        "  print(str(x) + \" cannot be divided by 0\")"
      ],
      "execution_count": null,
      "outputs": [
        {
          "output_type": "stream",
          "text": [
            "10 cannot be divided by 0\n"
          ],
          "name": "stdout"
        }
      ]
    },
    {
      "cell_type": "code",
      "metadata": {
        "id": "Qnz2Xo2CC-Ud",
        "colab": {
          "base_uri": "https://localhost:8080/"
        },
        "outputId": "9e043277-dd49-454f-bbe2-93de53570b3e"
      },
      "source": [
        "# try \n",
        "x = 1000\n",
        "\n",
        "try: \n",
        "  print(x/0)\n",
        "\n",
        "except ZeroDivisionError:\n",
        "  print(str(x) + \" cannot be divided by 0\")\n",
        "\n",
        "except NameError:\n",
        "  print(\"Variable is not defined\")\n",
        "\n",
        "finally:\n",
        "  print(\"It's done!\")"
      ],
      "execution_count": null,
      "outputs": [
        {
          "output_type": "stream",
          "text": [
            "1000 cannot be divided by 0\n",
            "It's done!\n"
          ],
          "name": "stdout"
        }
      ]
    },
    {
      "cell_type": "markdown",
      "metadata": {
        "id": "yxAkRYCb6ezJ"
      },
      "source": [
        "# **Function**"
      ]
    },
    {
      "cell_type": "code",
      "metadata": {
        "colab": {
          "base_uri": "https://localhost:8080/"
        },
        "id": "iJ6O_R_l05-S",
        "outputId": "36c308fa-070f-4645-dfd9-42557b48fac5"
      },
      "source": [
        "number = int(input(\"Number: \"))\n",
        "\n",
        "def cube(number):\n",
        "  return (number ** 3)\n",
        "\n",
        "cube(number)"
      ],
      "execution_count": null,
      "outputs": [
        {
          "output_type": "stream",
          "text": [
            "Number: 3\n"
          ],
          "name": "stdout"
        },
        {
          "output_type": "execute_result",
          "data": {
            "text/plain": [
              "27"
            ]
          },
          "metadata": {
            "tags": []
          },
          "execution_count": 35
        }
      ]
    },
    {
      "cell_type": "code",
      "metadata": {
        "colab": {
          "base_uri": "https://localhost:8080/"
        },
        "id": "T1HV7CBi7-QH",
        "outputId": "9d1356ce-e0ad-426e-d537-b14dfe32c0b0"
      },
      "source": [
        "# function\n",
        "\n",
        "def cube(number: int) -> int:\n",
        "  assert isinstance(number, int), \"Number should be an integer\"\n",
        "  return number ** 3\n",
        "\n",
        "cube(54)\n"
      ],
      "execution_count": null,
      "outputs": [
        {
          "output_type": "execute_result",
          "data": {
            "text/plain": [
              "157464"
            ]
          },
          "metadata": {
            "tags": []
          },
          "execution_count": 44
        }
      ]
    },
    {
      "cell_type": "code",
      "metadata": {
        "colab": {
          "base_uri": "https://localhost:8080/"
        },
        "id": "wbyhvxbC8-YZ",
        "outputId": "add2c6dd-80c2-4e45-eeaf-df6822203549"
      },
      "source": [
        "# lambda function: anonymous function\n",
        "\n",
        "cube = lambda number: number ** 3\n",
        "cube(3)\n",
        "\n",
        "divide_num = lambda a, b: round(a/b, 3)\n",
        "divide_num(109, 56)"
      ],
      "execution_count": null,
      "outputs": [
        {
          "output_type": "execute_result",
          "data": {
            "text/plain": [
              "1.946"
            ]
          },
          "metadata": {
            "tags": []
          },
          "execution_count": 47
        }
      ]
    },
    {
      "cell_type": "code",
      "metadata": {
        "colab": {
          "base_uri": "https://localhost:8080/"
        },
        "id": "Oy8aQG6X-iZp",
        "outputId": "1d9d19b1-9428-4f52-bd9e-40de4d0ac034"
      },
      "source": [
        "# list of tuple: [ (), (), ()]\n",
        "cars = [('mazda', 2019),\n",
        "        ('benz', 2020),\n",
        "        ('volkswagen', 2018),\n",
        "        ('bentley', 2017),\n",
        "        ('ford', 2015)]\n",
        "\n",
        "# .sort() and lambda function\n",
        "cars.sort(key = lambda car: car[1], reverse = True)\n",
        "print(cars)"
      ],
      "execution_count": null,
      "outputs": [
        {
          "output_type": "stream",
          "text": [
            "[('benz', 2020), ('mazda', 2019), ('volkswagen', 2018), ('bentley', 2017), ('ford', 2015)]\n"
          ],
          "name": "stdout"
        }
      ]
    },
    {
      "cell_type": "markdown",
      "metadata": {
        "id": "W7BlfLbU9IZn"
      },
      "source": [
        "# **Object Oriented Programming (OOP)**\n",
        "- object and class \n",
        "- attributes \n",
        "- methods "
      ]
    },
    {
      "cell_type": "code",
      "metadata": {
        "id": "7JPgstWgBHAS",
        "colab": {
          "base_uri": "https://localhost:8080/"
        },
        "outputId": "f5b660b0-bcdf-49d7-a2bd-a4df5b10dc5f"
      },
      "source": [
        "# object Dog()\n",
        "\n",
        "class Dog():\n",
        "  name = \"fufu\"\n",
        "  age = 3\n",
        "  color = 'brown'\n",
        "\n",
        "my_dog = Dog()\n",
        "\n",
        "print(my_dog.name)\n",
        "print(my_dog.age)\n",
        "print(my_dog.color)"
      ],
      "execution_count": null,
      "outputs": [
        {
          "output_type": "stream",
          "text": [
            "fufu\n",
            "3\n",
            "brown\n"
          ],
          "name": "stdout"
        }
      ]
    },
    {
      "cell_type": "code",
      "metadata": {
        "id": "W35kgnO-_gaJ"
      },
      "source": [
        "# object Dog() -> constructor \n",
        "\n",
        "class Dog():\n",
        "  def __init__(self, name, age, color):\n",
        "    self.name = name \n",
        "    self.age = age\n",
        "    self.color = color \n",
        "\n",
        "  def __str__(self):\n",
        "    return f\"Hello, I am a Dog Class and my name is {self.name}.\"\n",
        "  \n",
        "  def sitting(self):\n",
        "    print(\"I'm sitting.\")\n",
        "\n",
        "  def eating(self, food_name):\n",
        "    print( f\"My favorite food is {food_name}.\")\n",
        "  \n",
        "  def get_older(self):\n",
        "    self.age += 1 "
      ],
      "execution_count": null,
      "outputs": []
    },
    {
      "cell_type": "code",
      "metadata": {
        "id": "YuFRceE8AvLN"
      },
      "source": [
        "namhom = Dog('Namhom', 6, 'white')"
      ],
      "execution_count": null,
      "outputs": []
    },
    {
      "cell_type": "code",
      "metadata": {
        "colab": {
          "base_uri": "https://localhost:8080/"
        },
        "id": "d4n6BAazA6Rg",
        "outputId": "97f45f5f-bb8a-42f2-bbbb-3db95f7d2788"
      },
      "source": [
        "print(namhom.name)\n",
        "print(namhom.age)\n",
        "print(namhom.color)"
      ],
      "execution_count": null,
      "outputs": [
        {
          "output_type": "stream",
          "text": [
            "Namhom\n",
            "6\n",
            "white\n"
          ],
          "name": "stdout"
        }
      ]
    },
    {
      "cell_type": "code",
      "metadata": {
        "colab": {
          "base_uri": "https://localhost:8080/"
        },
        "id": "_9capH1WBoE2",
        "outputId": "cdf2849e-473a-4f35-a022-42194a2ab9a8"
      },
      "source": [
        "jack = Dog('Jack', 2, 'brown')\n",
        "print(jack.name)\n",
        "print(jack.age)\n",
        "print(jack.color)"
      ],
      "execution_count": null,
      "outputs": [
        {
          "output_type": "stream",
          "text": [
            "Jack\n",
            "2\n",
            "brown\n"
          ],
          "name": "stdout"
        }
      ]
    },
    {
      "cell_type": "code",
      "metadata": {
        "colab": {
          "base_uri": "https://localhost:8080/"
        },
        "id": "HEZGXUYdB8NF",
        "outputId": "ed407224-5de2-48ae-d24e-a30c6d396a99"
      },
      "source": [
        "jack.sitting()\n",
        "namhom.eating(\"tofu\")\n",
        "print(jack.age)"
      ],
      "execution_count": null,
      "outputs": [
        {
          "output_type": "stream",
          "text": [
            "I'm sitting.\n",
            "My favorite food is tofu.\n",
            "2\n"
          ],
          "name": "stdout"
        }
      ]
    },
    {
      "cell_type": "code",
      "metadata": {
        "colab": {
          "base_uri": "https://localhost:8080/"
        },
        "id": "EVBp0_ZMEER8",
        "outputId": "750d5bb6-0797-4dd8-9813-94499989a839"
      },
      "source": [
        "print(namhom)\n",
        "print(jack)"
      ],
      "execution_count": null,
      "outputs": [
        {
          "output_type": "stream",
          "text": [
            "Hello, I am a Dog Class and my name is Namhom.\n",
            "Hello, I am a Dog Class and my name is Jack.\n"
          ],
          "name": "stdout"
        }
      ]
    },
    {
      "cell_type": "markdown",
      "metadata": {
        "id": "72ZS2DPRG-Oc"
      },
      "source": [
        "# **ATM** \n",
        "- attribute: balance \n",
        "- methods: check balance, deposit, withdraw, online withdraw with OTP\n"
      ]
    },
    {
      "cell_type": "code",
      "metadata": {
        "id": "DuTrMeN1GYK1"
      },
      "source": [
        "# ATM \n",
        "import random \n",
        "\n",
        "class ATM():\n",
        "  def __init__(self, account_name, initial_cash):\n",
        "    self.account_name = account_name\n",
        "    self.balance = initial_cash\n",
        "  \n",
        "  def __str__(self):\n",
        "    return f\"ATM: {self.account_name}\"\n",
        "\n",
        "  def check_balance(self):\n",
        "    print(f\"Your Balance: {self.balance} THB\")\n",
        "\n",
        "  def deposit(self, money):\n",
        "    self.balance += money\n",
        "  \n",
        "  def withdraw(self, money):\n",
        "    if money > self.balance:\n",
        "      print(f\"Your Balance: {self.balance} \\nNot Enough Money\")\n",
        "    else: \n",
        "      print(\"Your transaction is successful!\")\n",
        "      self.balance -= money\n",
        "  \n",
        "  def online_withdraw(self, money):\n",
        "    if money > self.balance:\n",
        "      print(f\"Error: Not Enough Money \\nYour Balance: {self.balance}\")\n",
        "    else:\n",
        "      OTP = random.randint(100000, 999999)\n",
        "      print(f\"OTP: {OTP}\")\n",
        "      user_input = int(input(\"Please type OTP: \"))\n",
        "      if OTP == user_input:\n",
        "        print(\"Success: Please receive your money.\")\n",
        "        self.balance -= money\n",
        "      else: \n",
        "        print(\"Your OTP is incorrect. \\nPlease try again.\")\n",
        "\n"
      ],
      "execution_count": null,
      "outputs": []
    },
    {
      "cell_type": "code",
      "metadata": {
        "id": "zis_lsUbQuhN"
      },
      "source": [
        "# random a number with six digits \n",
        "import random \n",
        "random.randint(100000, 999999) "
      ],
      "execution_count": null,
      "outputs": []
    },
    {
      "cell_type": "code",
      "metadata": {
        "id": "YJHz5pnOJ67a"
      },
      "source": [
        "vilazini = ATM(\"Vilazini\", 30000) # Initial balance "
      ],
      "execution_count": null,
      "outputs": []
    },
    {
      "cell_type": "code",
      "metadata": {
        "id": "c-zC5FjoKMho"
      },
      "source": [
        "# check ATM account\n",
        "print(vilazini.account_name)\n",
        "print(vilazini.balance)\n",
        "print(vilazini)"
      ],
      "execution_count": null,
      "outputs": []
    },
    {
      "cell_type": "code",
      "metadata": {
        "id": "nhqnHyeBMAd_"
      },
      "source": [
        "vilazini.check_balance() # check balance"
      ],
      "execution_count": null,
      "outputs": []
    },
    {
      "cell_type": "code",
      "metadata": {
        "id": "6FHOzi_FNGTB"
      },
      "source": [
        "vilazini.deposit(5000) # deposit"
      ],
      "execution_count": null,
      "outputs": []
    },
    {
      "cell_type": "code",
      "metadata": {
        "id": "OYyz77LKNM3g"
      },
      "source": [
        "vilazini.withdraw(500000000) # withdraw "
      ],
      "execution_count": null,
      "outputs": []
    },
    {
      "cell_type": "code",
      "metadata": {
        "colab": {
          "base_uri": "https://localhost:8080/"
        },
        "id": "Xk5v3GUfSo_R",
        "outputId": "017b5b98-8141-42bd-acf3-cfcbc12e8ea1"
      },
      "source": [
        "my_atm = ATM('Pume', 45000)\n",
        "print(my_atm.account_name)\n",
        "print(my_atm.balance)\n",
        "print(my_atm)\n",
        "my_atm.check_balance() "
      ],
      "execution_count": null,
      "outputs": [
        {
          "output_type": "stream",
          "text": [
            "Pume\n",
            "45000\n",
            "ATM: Pume\n",
            "Your Balance: 45000 THB\n"
          ],
          "name": "stdout"
        }
      ]
    },
    {
      "cell_type": "code",
      "metadata": {
        "colab": {
          "base_uri": "https://localhost:8080/"
        },
        "id": "a8HeG6wuTgLX",
        "outputId": "c6f6497b-b18a-49b5-d831-d87c9cde3536"
      },
      "source": [
        "my_atm.deposit(5000)\n",
        "my_atm.check_balance() "
      ],
      "execution_count": null,
      "outputs": [
        {
          "output_type": "stream",
          "text": [
            "Your Balance: 50000 THB\n"
          ],
          "name": "stdout"
        }
      ]
    },
    {
      "cell_type": "code",
      "metadata": {
        "colab": {
          "base_uri": "https://localhost:8080/"
        },
        "id": "o2TXs7QRTyIv",
        "outputId": "203df33f-00c6-4e46-c402-56ec44f6433c"
      },
      "source": [
        "my_atm.withdraw(1000)\n",
        "my_atm.check_balance() "
      ],
      "execution_count": null,
      "outputs": [
        {
          "output_type": "stream",
          "text": [
            "Your transaction is successful!\n",
            "Your Balance: 48500 THB\n"
          ],
          "name": "stdout"
        }
      ]
    },
    {
      "cell_type": "code",
      "metadata": {
        "colab": {
          "base_uri": "https://localhost:8080/"
        },
        "id": "ac6gq8GCUSme",
        "outputId": "5921e6ab-1ec6-45c7-b224-6bdefeb6215d"
      },
      "source": [
        "my_atm.online_withdraw(300)"
      ],
      "execution_count": null,
      "outputs": [
        {
          "output_type": "stream",
          "text": [
            "OTP: 204164\n",
            "Please type OTP: 204164\n",
            "Success: Please receive your money.\n"
          ],
          "name": "stdout"
        }
      ]
    },
    {
      "cell_type": "markdown",
      "metadata": {
        "id": "Fhw3Zx3zVmi1"
      },
      "source": [
        "# **Pandas**\n",
        "- import numpy and pandas \n",
        "- change to arrays \n",
        "- statistical analysis: .mean(), .min(), .max(), .std(), .sum()\n",
        "- download csv to dataframe: pd.read_csv()\n",
        "- export file: .to_csv()\n",
        "- methods: .head(), .tail(), .shape(), .query()\n"
      ]
    },
    {
      "cell_type": "code",
      "metadata": {
        "colab": {
          "base_uri": "https://localhost:8080/"
        },
        "id": "3n6W4cDSWdlN",
        "outputId": "72f560c0-3adc-4a12-ac3f-623682ff4e3d"
      },
      "source": [
        "# magic command \n",
        "!pwd\n",
        "!ls\n",
        "!ls sample_data "
      ],
      "execution_count": null,
      "outputs": [
        {
          "output_type": "stream",
          "text": [
            "/content\n",
            "sample_data\n",
            "anscombe.json\t\t      mnist_test.csv\n",
            "california_housing_test.csv   mnist_train_small.csv\n",
            "california_housing_train.csv  README.md\n"
          ],
          "name": "stdout"
        }
      ]
    },
    {
      "cell_type": "code",
      "metadata": {
        "id": "vFpQOPI7Wz6c"
      },
      "source": [
        "!pip list"
      ],
      "execution_count": null,
      "outputs": []
    },
    {
      "cell_type": "code",
      "metadata": {
        "id": "q-Jfm8ShVd5E"
      },
      "source": [
        "import numpy as np\n",
        "import pandas as pd \n",
        "# numpy is subset of pandas "
      ],
      "execution_count": null,
      "outputs": []
    },
    {
      "cell_type": "code",
      "metadata": {
        "colab": {
          "base_uri": "https://localhost:8080/"
        },
        "id": "GdZ6-n6XXKB0",
        "outputId": "5eaf929e-4794-4ac4-81d8-55eb6626fb96"
      },
      "source": [
        "numbers = [1, 2, 5, 34, 56, 678, 34, 999]\n",
        "# print(type(numbers))\n",
        "\n",
        "numbers = np.array(numbers) # change to arrays\n",
        "type(numbers)"
      ],
      "execution_count": null,
      "outputs": [
        {
          "output_type": "execute_result",
          "data": {
            "text/plain": [
              "numpy.ndarray"
            ]
          },
          "metadata": {
            "tags": []
          },
          "execution_count": 142
        }
      ]
    },
    {
      "cell_type": "code",
      "metadata": {
        "colab": {
          "base_uri": "https://localhost:8080/"
        },
        "id": "-KFqgutbXo9m",
        "outputId": "05332596-b889-4fc5-e14d-21fe38caf38a"
      },
      "source": [
        "# numpy and statistical analysis \n",
        "\n",
        "print(numbers.mean())\n",
        "print(numbers.min())\n",
        "print(numbers.max())\n",
        "print(numbers.sum())\n",
        "print(numbers.std())\n"
      ],
      "execution_count": null,
      "outputs": [
        {
          "output_type": "stream",
          "text": [
            "226.125\n",
            "1\n",
            "999\n",
            "1809\n",
            "362.9915417403001\n"
          ],
          "name": "stdout"
        }
      ]
    },
    {
      "cell_type": "code",
      "metadata": {
        "id": "U-Y7PUMZYqul"
      },
      "source": [
        "# download csv to dataframe\n",
        "\n",
        "movies = pd.read_csv(\"imdb.csv\")"
      ],
      "execution_count": null,
      "outputs": []
    },
    {
      "cell_type": "code",
      "metadata": {
        "colab": {
          "base_uri": "https://localhost:8080/",
          "height": 204
        },
        "id": "OVFnb-GCdtk3",
        "outputId": "b4f13597-2e1e-499b-da0c-eca7e9a185b0"
      },
      "source": [
        "# print first five rows in the CSV file uploaded \n",
        "\n",
        "movies.head()"
      ],
      "execution_count": null,
      "outputs": [
        {
          "output_type": "execute_result",
          "data": {
            "text/html": [
              "<div>\n",
              "<style scoped>\n",
              "    .dataframe tbody tr th:only-of-type {\n",
              "        vertical-align: middle;\n",
              "    }\n",
              "\n",
              "    .dataframe tbody tr th {\n",
              "        vertical-align: top;\n",
              "    }\n",
              "\n",
              "    .dataframe thead th {\n",
              "        text-align: right;\n",
              "    }\n",
              "</style>\n",
              "<table border=\"1\" class=\"dataframe\">\n",
              "  <thead>\n",
              "    <tr style=\"text-align: right;\">\n",
              "      <th></th>\n",
              "      <th>NO</th>\n",
              "      <th>MOVIE_NAME</th>\n",
              "      <th>YEAR</th>\n",
              "      <th>RATING</th>\n",
              "      <th>LENGTH</th>\n",
              "      <th>GENRE</th>\n",
              "      <th>SCORE</th>\n",
              "    </tr>\n",
              "  </thead>\n",
              "  <tbody>\n",
              "    <tr>\n",
              "      <th>0</th>\n",
              "      <td>1</td>\n",
              "      <td>The Shawshank Redemption</td>\n",
              "      <td>1994</td>\n",
              "      <td>R</td>\n",
              "      <td>142</td>\n",
              "      <td>Drama</td>\n",
              "      <td>9.3</td>\n",
              "    </tr>\n",
              "    <tr>\n",
              "      <th>1</th>\n",
              "      <td>2</td>\n",
              "      <td>The Godfather</td>\n",
              "      <td>1972</td>\n",
              "      <td>R</td>\n",
              "      <td>175</td>\n",
              "      <td>Crime, Drama</td>\n",
              "      <td>9.2</td>\n",
              "    </tr>\n",
              "    <tr>\n",
              "      <th>2</th>\n",
              "      <td>3</td>\n",
              "      <td>The Dark Knight</td>\n",
              "      <td>2008</td>\n",
              "      <td>PG-13</td>\n",
              "      <td>152</td>\n",
              "      <td>Action, Crime, Drama</td>\n",
              "      <td>9.0</td>\n",
              "    </tr>\n",
              "    <tr>\n",
              "      <th>3</th>\n",
              "      <td>4</td>\n",
              "      <td>The Godfather: Part II</td>\n",
              "      <td>1974</td>\n",
              "      <td>R</td>\n",
              "      <td>202</td>\n",
              "      <td>Crime, Drama</td>\n",
              "      <td>9.0</td>\n",
              "    </tr>\n",
              "    <tr>\n",
              "      <th>4</th>\n",
              "      <td>5</td>\n",
              "      <td>The Lord of the Rings: The Return of the King</td>\n",
              "      <td>2003</td>\n",
              "      <td>PG-13</td>\n",
              "      <td>201</td>\n",
              "      <td>Action, Adventure, Drama</td>\n",
              "      <td>8.9</td>\n",
              "    </tr>\n",
              "  </tbody>\n",
              "</table>\n",
              "</div>"
            ],
            "text/plain": [
              "   NO  ... SCORE\n",
              "0   1  ...   9.3\n",
              "1   2  ...   9.2\n",
              "2   3  ...   9.0\n",
              "3   4  ...   9.0\n",
              "4   5  ...   8.9\n",
              "\n",
              "[5 rows x 7 columns]"
            ]
          },
          "metadata": {
            "tags": []
          },
          "execution_count": 151
        }
      ]
    },
    {
      "cell_type": "code",
      "metadata": {
        "colab": {
          "base_uri": "https://localhost:8080/",
          "height": 142
        },
        "id": "3oV8CvdFd9d8",
        "outputId": "796bd7ed-2a07-453b-a122-65d2b8c5ff36"
      },
      "source": [
        "movies.tail(3)"
      ],
      "execution_count": null,
      "outputs": [
        {
          "output_type": "execute_result",
          "data": {
            "text/html": [
              "<div>\n",
              "<style scoped>\n",
              "    .dataframe tbody tr th:only-of-type {\n",
              "        vertical-align: middle;\n",
              "    }\n",
              "\n",
              "    .dataframe tbody tr th {\n",
              "        vertical-align: top;\n",
              "    }\n",
              "\n",
              "    .dataframe thead th {\n",
              "        text-align: right;\n",
              "    }\n",
              "</style>\n",
              "<table border=\"1\" class=\"dataframe\">\n",
              "  <thead>\n",
              "    <tr style=\"text-align: right;\">\n",
              "      <th></th>\n",
              "      <th>NO</th>\n",
              "      <th>MOVIE_NAME</th>\n",
              "      <th>YEAR</th>\n",
              "      <th>RATING</th>\n",
              "      <th>LENGTH</th>\n",
              "      <th>GENRE</th>\n",
              "      <th>SCORE</th>\n",
              "    </tr>\n",
              "  </thead>\n",
              "  <tbody>\n",
              "    <tr>\n",
              "      <th>97</th>\n",
              "      <td>98</td>\n",
              "      <td>Requiem for a Dream</td>\n",
              "      <td>2000</td>\n",
              "      <td>R</td>\n",
              "      <td>102</td>\n",
              "      <td>Drama</td>\n",
              "      <td>8.3</td>\n",
              "    </tr>\n",
              "    <tr>\n",
              "      <th>98</th>\n",
              "      <td>99</td>\n",
              "      <td>American Beauty</td>\n",
              "      <td>1999</td>\n",
              "      <td>R</td>\n",
              "      <td>122</td>\n",
              "      <td>Drama</td>\n",
              "      <td>8.3</td>\n",
              "    </tr>\n",
              "    <tr>\n",
              "      <th>99</th>\n",
              "      <td>100</td>\n",
              "      <td>Good Will Hunting</td>\n",
              "      <td>1997</td>\n",
              "      <td>R</td>\n",
              "      <td>126</td>\n",
              "      <td>Drama, Romance</td>\n",
              "      <td>8.3</td>\n",
              "    </tr>\n",
              "  </tbody>\n",
              "</table>\n",
              "</div>"
            ],
            "text/plain": [
              "     NO           MOVIE_NAME  YEAR RATING  LENGTH           GENRE  SCORE\n",
              "97   98  Requiem for a Dream  2000      R     102           Drama    8.3\n",
              "98   99      American Beauty  1999      R     122           Drama    8.3\n",
              "99  100    Good Will Hunting  1997      R     126  Drama, Romance    8.3"
            ]
          },
          "metadata": {
            "tags": []
          },
          "execution_count": 152
        }
      ]
    },
    {
      "cell_type": "code",
      "metadata": {
        "colab": {
          "base_uri": "https://localhost:8080/"
        },
        "id": "UaCOYxkUeHn3",
        "outputId": "492d0874-1b7b-4a80-e12c-b41e89f1c4fc"
      },
      "source": [
        "# shape: (rows, columns) \n",
        "stores.shape # attributes "
      ],
      "execution_count": null,
      "outputs": [
        {
          "output_type": "stream",
          "text": [
            "(100, 7)\n"
          ],
          "name": "stdout"
        }
      ]
    },
    {
      "cell_type": "code",
      "metadata": {
        "id": "gesOiz_xeYmW"
      },
      "source": [
        "# filter data \n",
        "movie_r_drama = movies.query(\"RATING == 'R' & GENRE == 'Drama'\")"
      ],
      "execution_count": null,
      "outputs": []
    },
    {
      "cell_type": "code",
      "metadata": {
        "colab": {
          "base_uri": "https://localhost:8080/"
        },
        "id": "65Z7eQ8af4IN",
        "outputId": "43323bdc-03a4-41e5-f0f5-f945f152513e"
      },
      "source": [
        "movies.query(\"RATING == 'R'\").shape"
      ],
      "execution_count": null,
      "outputs": [
        {
          "output_type": "execute_result",
          "data": {
            "text/plain": [
              "(47, 7)"
            ]
          },
          "metadata": {
            "tags": []
          },
          "execution_count": 159
        }
      ]
    },
    {
      "cell_type": "code",
      "metadata": {
        "id": "L51TcYR0gggN"
      },
      "source": [
        "# export csv \n",
        "movie_r_drama.to_csv(\"movie_r_drama.csv\")"
      ],
      "execution_count": null,
      "outputs": []
    }
  ]
}