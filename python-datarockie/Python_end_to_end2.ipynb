{
  "nbformat": 4,
  "nbformat_minor": 0,
  "metadata": {
    "colab": {
      "provenance": [],
      "collapsed_sections": [
        "zBoOenNvSpg4",
        "jvyhYeOIXS2T",
        "zOsmCSaNfLPb",
        "UTorKC2M3Zs_",
        "Vyf3FVnYEuKq"
      ]
    },
    "kernelspec": {
      "name": "python3",
      "display_name": "Python 3"
    },
    "language_info": {
      "name": "python"
    }
  },
  "cells": [
    {
      "cell_type": "markdown",
      "metadata": {
        "id": "zBoOenNvSpg4"
      },
      "source": [
        "# **Basic Python**"
      ]
    },
    {
      "cell_type": "code",
      "metadata": {
        "colab": {
          "base_uri": "https://localhost:8080/"
        },
        "id": "dsh9NUyrSLMy",
        "outputId": "61bec696-f133-45fd-a0c7-cf6d687efd18"
      },
      "source": [
        "name = \"Pume\"\n",
        "age = 32\n",
        "\n",
        "print(name)\n",
        "print(age)"
      ],
      "execution_count": null,
      "outputs": [
        {
          "output_type": "stream",
          "text": [
            "Pume\n",
            "32\n"
          ],
          "name": "stdout"
        }
      ]
    },
    {
      "cell_type": "code",
      "metadata": {
        "colab": {
          "base_uri": "https://localhost:8080/"
        },
        "id": "4SuPu_efTtQt",
        "outputId": "07016e70-009e-4460-d327-6dd6f6be99e9"
      },
      "source": [
        "# fstring\n",
        "print( f\"Hello, my name is {name} and I am {age} years old.\")"
      ],
      "execution_count": null,
      "outputs": [
        {
          "output_type": "stream",
          "text": [
            "Hello, my name is Pume and I am 32 years old.\n"
          ],
          "name": "stdout"
        }
      ]
    },
    {
      "cell_type": "code",
      "metadata": {
        "colab": {
          "base_uri": "https://localhost:8080/"
        },
        "id": "9L_6AUP2v7GZ",
        "outputId": "842d889b-811c-444f-90b8-2e98730cefef"
      },
      "source": [
        "# data type\n",
        "\n",
        "x = \"1000\" #string\n",
        "x = int(x) #cast string into integer\n",
        "type(x)"
      ],
      "execution_count": null,
      "outputs": [
        {
          "output_type": "execute_result",
          "data": {
            "text/plain": [
              "int"
            ]
          },
          "metadata": {
            "tags": []
          },
          "execution_count": 137
        }
      ]
    },
    {
      "cell_type": "code",
      "metadata": {
        "colab": {
          "base_uri": "https://localhost:8080/"
        },
        "id": "GuA0lXqDT7Wu",
        "outputId": "6479012e-260f-476f-b961-765637cf19c6"
      },
      "source": [
        "# data structures in Python \n",
        "\n",
        "shopping_list = ['eggs', 'milk', 'bacon']\n",
        "print(shopping_list)"
      ],
      "execution_count": null,
      "outputs": [
        {
          "output_type": "stream",
          "text": [
            "['eggs', 'milk', 'bacon']\n"
          ],
          "name": "stdout"
        }
      ]
    },
    {
      "cell_type": "code",
      "metadata": {
        "colab": {
          "base_uri": "https://localhost:8080/"
        },
        "id": "InVXvATcULZ7",
        "outputId": "04ffa3af-514e-4acf-ce30-200d296f234e"
      },
      "source": [
        "print( shopping_list[0] )\n",
        "print( shopping_list[1] )\n",
        "print( shopping_list[2] )"
      ],
      "execution_count": null,
      "outputs": [
        {
          "output_type": "stream",
          "text": [
            "eggs\n",
            "milk\n",
            "bacon\n"
          ],
          "name": "stdout"
        }
      ]
    },
    {
      "cell_type": "code",
      "metadata": {
        "colab": {
          "base_uri": "https://localhost:8080/"
        },
        "id": "WAmmKlvfUbj2",
        "outputId": "b73a3ee9-b961-4844-c803-0b9bc94dcd79"
      },
      "source": [
        "# control flow \n",
        "for item in shopping_list:\n",
        "    print(item.upper())"
      ],
      "execution_count": null,
      "outputs": [
        {
          "output_type": "stream",
          "text": [
            "EGGS\n",
            "MILK\n",
            "BACON\n"
          ],
          "name": "stdout"
        }
      ]
    },
    {
      "cell_type": "code",
      "metadata": {
        "colab": {
          "base_uri": "https://localhost:8080/"
        },
        "id": "Et6QKGXzU5we",
        "outputId": "acd0d1c9-aa18-4fd6-fcae-64183a57bb97"
      },
      "source": [
        "# list comprehension\n",
        "upper_shopping = [print(item.upper()) for item in shopping_list]\n",
        "# print(upper_shopping)"
      ],
      "execution_count": null,
      "outputs": [
        {
          "output_type": "stream",
          "text": [
            "EGGS\n",
            "MILK\n",
            "BACON\n"
          ],
          "name": "stdout"
        }
      ]
    },
    {
      "cell_type": "code",
      "metadata": {
        "colab": {
          "base_uri": "https://localhost:8080/"
        },
        "id": "VDhBLzHBVcAN",
        "outputId": "368af85a-987a-4d47-c19a-50d2b476dd97"
      },
      "source": [
        "# function \n",
        "def hello(name):\n",
        "    print(f\"Hello, {name}!\")\n",
        "\n",
        "hello(\"Jay Park\")"
      ],
      "execution_count": null,
      "outputs": [
        {
          "output_type": "stream",
          "text": [
            "Hello, Jay Park!\n"
          ],
          "name": "stdout"
        }
      ]
    },
    {
      "cell_type": "code",
      "metadata": {
        "colab": {
          "base_uri": "https://localhost:8080/"
        },
        "id": "fDNrSx92Vw4d",
        "outputId": "d4a43852-67d5-4074-9b29-bee9b975f543"
      },
      "source": [
        "# function & type hint 1\n",
        "\n",
        "def hello(name: str) -> None:\n",
        "    print(f\"Hello, {name}!\")\n",
        "\n",
        "hello(\"Patrick\")"
      ],
      "execution_count": null,
      "outputs": [
        {
          "output_type": "stream",
          "text": [
            "Hello, Patrick!\n"
          ],
          "name": "stdout"
        }
      ]
    },
    {
      "cell_type": "code",
      "metadata": {
        "colab": {
          "base_uri": "https://localhost:8080/"
        },
        "id": "c_mZGEaPWX42",
        "outputId": "8715f53c-9256-457a-99fd-6c462c860c8b"
      },
      "source": [
        "# function & type hint 2\n",
        "\n",
        "def add_two_nums(a: int, b: float) -> float:\n",
        "    return a + b\n",
        "\n",
        "add_two_nums(999, 111.45)"
      ],
      "execution_count": null,
      "outputs": [
        {
          "output_type": "execute_result",
          "data": {
            "text/plain": [
              "1110.45"
            ]
          },
          "metadata": {
            "tags": []
          },
          "execution_count": 20
        }
      ]
    },
    {
      "cell_type": "markdown",
      "metadata": {
        "id": "jvyhYeOIXS2T"
      },
      "source": [
        "# Object Oriented Programming \n",
        "- object and class\n",
        "- attributes\n",
        "- methods: function \n"
      ]
    },
    {
      "cell_type": "code",
      "metadata": {
        "id": "oVVzlUl8XD9c"
      },
      "source": [
        "# Object Oriented Programming \n",
        "\n",
        "class Dog():\n",
        "    name = \"Jack\"\n",
        "    age = 4\n",
        "    weight = 8\n",
        "    breed = \"Shiba Inu\"\n",
        "\n"
      ],
      "execution_count": null,
      "outputs": []
    },
    {
      "cell_type": "code",
      "metadata": {
        "id": "zH8e8QJMY_W5"
      },
      "source": [
        "my_dog = Dog()"
      ],
      "execution_count": null,
      "outputs": []
    },
    {
      "cell_type": "code",
      "metadata": {
        "colab": {
          "base_uri": "https://localhost:8080/"
        },
        "id": "Z4zQcfYSZGa5",
        "outputId": "e94a81c6-8556-4f08-a5a7-b08c3ded43fa"
      },
      "source": [
        "print(my_dog.name)\n",
        "print(my_dog.age)\n",
        "print(my_dog.weight)"
      ],
      "execution_count": null,
      "outputs": [
        {
          "output_type": "stream",
          "text": [
            "Jack\n",
            "4\n",
            "8\n"
          ],
          "name": "stdout"
        }
      ]
    },
    {
      "cell_type": "code",
      "metadata": {
        "id": "wlF1XqOqZYgS"
      },
      "source": [
        "class Dog():\n",
        "    def __init__(self, name, age, breed):\n",
        "        self.name = name\n",
        "        self.age = age\n",
        "        self.breed = breed\n",
        "    \n",
        "    def __str__(self):\n",
        "        return f\"I am a dog named {self.name}.\"\n",
        "\n",
        "    def barking(self):\n",
        "        print(\"Woof, woof!\")\n",
        "    \n",
        "    def eating(self, food):\n",
        "        print(f\"I am eating {food}. It's delicious.\")\n",
        "\n"
      ],
      "execution_count": null,
      "outputs": []
    },
    {
      "cell_type": "code",
      "metadata": {
        "id": "t-a-Rf97Z5hq"
      },
      "source": [
        "my_dog2 = Dog(\"Judie\", 3, \"Dalmatian\")"
      ],
      "execution_count": null,
      "outputs": []
    },
    {
      "cell_type": "code",
      "metadata": {
        "colab": {
          "base_uri": "https://localhost:8080/"
        },
        "id": "7OVodgyTaF8C",
        "outputId": "525b3eb2-bb1d-4fcd-9900-dbfd09e80058"
      },
      "source": [
        "print(my_dog2.name)\n",
        "print(my_dog2.age)\n",
        "print(my_dog2.breed)"
      ],
      "execution_count": null,
      "outputs": [
        {
          "output_type": "stream",
          "text": [
            "Judie\n",
            "3\n",
            "Dalmatian\n"
          ],
          "name": "stdout"
        }
      ]
    },
    {
      "cell_type": "code",
      "metadata": {
        "colab": {
          "base_uri": "https://localhost:8080/"
        },
        "id": "VGmm8xtIawaR",
        "outputId": "8960c36f-8efb-498f-9856-f94ac675e984"
      },
      "source": [
        "my_dog2.eating(\"Fried Rice\")\n",
        "my_dog2.barking()"
      ],
      "execution_count": null,
      "outputs": [
        {
          "output_type": "stream",
          "text": [
            "I am eating Fried Rice. It's delicious.\n",
            "Woof, woof!\n"
          ],
          "name": "stdout"
        }
      ]
    },
    {
      "cell_type": "code",
      "metadata": {
        "colab": {
          "base_uri": "https://localhost:8080/"
        },
        "id": "F11X67jZb3_O",
        "outputId": "64ed5d75-07e4-477e-970f-0aa92bfbf73a"
      },
      "source": [
        "print(my_dog2)"
      ],
      "execution_count": null,
      "outputs": [
        {
          "output_type": "stream",
          "text": [
            "I am a dog named Judie.\n"
          ],
          "name": "stdout"
        }
      ]
    },
    {
      "cell_type": "code",
      "metadata": {
        "id": "AsN7-c6NcPyw"
      },
      "source": [
        "# Book class \n",
        "\n",
        "class Book():\n",
        "    def __init__(self, title, year, genre, length):\n",
        "        self.title = title\n",
        "        self.year = year\n",
        "        self.genre = genre\n",
        "        self.length = length \n",
        "    \n",
        "    def add_author(self, author):\n",
        "        self.author = author\n",
        "\n",
        "    def __str__(self):\n",
        "        return f\"Book title: {self.title} \\nAuthor: {self.author}\" "
      ],
      "execution_count": null,
      "outputs": []
    },
    {
      "cell_type": "code",
      "metadata": {
        "id": "C6-NJsLCcp4f"
      },
      "source": [
        "my_book = Book(\"Business Made Simple\", 2021, \"Business\", 203)"
      ],
      "execution_count": null,
      "outputs": []
    },
    {
      "cell_type": "code",
      "metadata": {
        "colab": {
          "base_uri": "https://localhost:8080/"
        },
        "id": "JhKpFMBcc10l",
        "outputId": "1be55c53-ce6b-48e9-f6ae-c6d111611092"
      },
      "source": [
        "print(my_book.title)\n",
        "print(my_book.year)\n",
        "print(my_book.genre)\n",
        "print(my_book.length)"
      ],
      "execution_count": null,
      "outputs": [
        {
          "output_type": "stream",
          "text": [
            "Business Made Simple\n",
            "2021\n",
            "Business\n",
            "203\n"
          ],
          "name": "stdout"
        }
      ]
    },
    {
      "cell_type": "code",
      "metadata": {
        "colab": {
          "base_uri": "https://localhost:8080/"
        },
        "id": "a87Ku1Q6dSG3",
        "outputId": "eb9e229b-f81f-4097-fc31-c93748f07408"
      },
      "source": [
        "print(my_book)"
      ],
      "execution_count": null,
      "outputs": [
        {
          "output_type": "stream",
          "text": [
            "Book title: Business Made Simple \n",
            "Author: Donald Miller\n"
          ],
          "name": "stdout"
        }
      ]
    },
    {
      "cell_type": "code",
      "metadata": {
        "id": "LUHh2NA0d_uI"
      },
      "source": [
        "my_book.add_author(\"Donald Miller\")"
      ],
      "execution_count": null,
      "outputs": []
    },
    {
      "cell_type": "markdown",
      "metadata": {
        "id": "zOsmCSaNfLPb"
      },
      "source": [
        "# **CSV Monster** "
      ]
    },
    {
      "cell_type": "code",
      "metadata": {
        "colab": {
          "base_uri": "https://localhost:8080/"
        },
        "id": "tNdMqSikfI8A",
        "outputId": "fce17e47-3601-4bc0-9611-7e2a8c6629f5"
      },
      "source": [
        "# import csv\n",
        "\n",
        "import csv \n",
        "list_content = []\n",
        "with open(\"hotel.csv\", \"r\") as  file:\n",
        "    content = csv.reader(file)\n",
        "    for row in content: \n",
        "        #print(row)\n",
        "        list_content.append(row)\n",
        "\n",
        "\n",
        "print(list_content)"
      ],
      "execution_count": null,
      "outputs": [
        {
          "output_type": "stream",
          "text": [
            "[['id', 'hotel', 'location', 'pricepernight'], ['1', 'Ideo', 'Bangkok', '20'], ['2', 'Accor', 'London', '25'], ['3', 'Premium', 'Seoul', '32'], ['4', 'Super Star', 'Dubai', '50'], ['5', 'Planet', 'Tokyo', '22'], ['6', 'Joby', 'Bangkok', '30'], ['7', 'JW Marriot', 'Bangkok', '35'], ['8', 'Kenshin', 'Tokyo', '20'], ['9', 'Eloquent', 'London', '42'], ['10', 'Big Ben', 'London', '45']]\n"
          ],
          "name": "stdout"
        }
      ]
    },
    {
      "cell_type": "code",
      "metadata": {
        "colab": {
          "base_uri": "https://localhost:8080/"
        },
        "id": "mFcO1VhbhK2k",
        "outputId": "bbf82cbf-4812-4836-b454-9ab77ab70ef1"
      },
      "source": [
        "print(list_content[0])\n",
        "print(list_content[2])"
      ],
      "execution_count": null,
      "outputs": [
        {
          "output_type": "stream",
          "text": [
            "['id', 'hotel', 'location', 'pricepernight']\n",
            "['2', 'Accor', 'London', '25']\n"
          ],
          "name": "stdout"
        }
      ]
    },
    {
      "cell_type": "code",
      "metadata": {
        "colab": {
          "base_uri": "https://localhost:8080/"
        },
        "id": "Z9_JJ-h_hTuU",
        "outputId": "b25e7492-d4dd-4cdd-d594-441f0999d890"
      },
      "source": [
        "print(len(list_content))"
      ],
      "execution_count": null,
      "outputs": [
        {
          "output_type": "stream",
          "text": [
            "11\n"
          ],
          "name": "stdout"
        }
      ]
    },
    {
      "cell_type": "code",
      "metadata": {
        "id": "DoZL1ogOhmB8"
      },
      "source": [
        "# class CSV Monster \n",
        "\n",
        "class CSVMonster():\n",
        "    list_data = []\n",
        "    \n",
        "    def __init__(self):\n",
        "        pass\n",
        "\n",
        "    def read_csv(self, filename):\n",
        "        try: \n",
        "            with open(filename, \"r\") as file:\n",
        "                content = csv.reader(file)\n",
        "                for row in content:\n",
        "                    self.list_data.append(row)\n",
        "            # print(self.list_data)\n",
        "            print(\"Successful. CSV file has been uploaded.\")\n",
        "        except: \n",
        "            print(\"Error. CSV file cannot be uploaded. Try again.\")\n",
        "    \n",
        "    def head(self):\n",
        "        for row in self.list_data[:6]:\n",
        "            print(row) \n",
        "        # print(self.list_data[:6])\n",
        "        # show rows #1-#5 \n",
        "\n",
        "    def tail(self):\n",
        "        print(self.list_data[0])\n",
        "        for row in self.list_data[-5:]:\n",
        "            print(row)\n",
        "\n",
        "    def column_names(self):\n",
        "        print(self.list_data[0])\n",
        "\n",
        "    def info(self):\n",
        "        print(f\"Number of columns: {len(self.list_data[0])}\")\n",
        "        print(f\"Number of rows: {len(self.list_data[1:])}\")\n",
        "    \n",
        "    # lines not separated\n",
        "    def filter_city(self, city): \n",
        "        result = []\n",
        "        for row in self.list_data[1:]:\n",
        "            if row[2] == city:\n",
        "                result.append(row)\n",
        "        print(result)\n",
        "    \n",
        "    # lines separated \n",
        "    def filter_city2(self, city): \n",
        "        for row in self.list_data[1:]:\n",
        "            if row[2] == city:\n",
        "                print(row)\n",
        "    \n",
        "    def find_mean_price(self):\n",
        "        prices = []\n",
        "        for row in self.list_data[1:]:\n",
        "            prices.append(int(row[3]))\n",
        "        #print(prices)\n",
        "        avg_price = sum(prices)/len(prices)\n",
        "        print(f\"Average: {avg_price}\")\n",
        "\n",
        "    def add_vat(self, vat_percent):\n",
        "        old_price = []\n",
        "        new_price = []\n",
        "        for row in self.list_data[1:]:\n",
        "            price = float(row[3])\n",
        "            old_price.append(round(price, 2))\n",
        "            new_price.append( round(price * float(1+vat_percent), 2))\n",
        "        print(f\"Without Vat: {old_price}\")\n",
        "        print(f\"Vat Included: {new_price}\")"
      ],
      "execution_count": null,
      "outputs": []
    },
    {
      "cell_type": "code",
      "metadata": {
        "id": "2Y1GKashipr1"
      },
      "source": [
        "my_csv_monster = CSVMonster()"
      ],
      "execution_count": null,
      "outputs": []
    },
    {
      "cell_type": "code",
      "metadata": {
        "colab": {
          "base_uri": "https://localhost:8080/"
        },
        "id": "jDhjbfrGiuQT",
        "outputId": "10fbf2e9-c87e-4fa7-8460-6403a402834a"
      },
      "source": [
        "my_csv_monster.read_csv(\"hotel.csv\")"
      ],
      "execution_count": null,
      "outputs": [
        {
          "output_type": "stream",
          "text": [
            "Successful. CSV file has been uploaded.\n"
          ],
          "name": "stdout"
        }
      ]
    },
    {
      "cell_type": "code",
      "metadata": {
        "colab": {
          "base_uri": "https://localhost:8080/"
        },
        "id": "SNB_KysS1Gzw",
        "outputId": "64641dfe-c7ed-48e6-e55b-c6c478e0e923"
      },
      "source": [
        "my_csv_monster.add_vat(0.07)"
      ],
      "execution_count": null,
      "outputs": [
        {
          "output_type": "stream",
          "text": [
            "Without Vat: [20.0, 25.0, 32.0, 50.0, 22.0, 30.0, 35.0, 20.0, 42.0, 45.0]\n",
            "Vat Included: [21.4, 26.75, 34.24, 53.5, 23.54, 32.1, 37.45, 21.4, 44.94, 48.15]\n"
          ],
          "name": "stdout"
        }
      ]
    },
    {
      "cell_type": "code",
      "metadata": {
        "colab": {
          "base_uri": "https://localhost:8080/"
        },
        "id": "vzXjfJxpjOOT",
        "outputId": "82561bbb-417a-4d73-e29f-49f9da6b6b13"
      },
      "source": [
        "my_csv_monster.head()"
      ],
      "execution_count": null,
      "outputs": [
        {
          "output_type": "stream",
          "text": [
            "['id', 'hotel', 'location', 'pricepernight']\n",
            "['1', 'Ideo', 'Bangkok', '20']\n",
            "['2', 'Accor', 'London', '25']\n",
            "['3', 'Premium', 'Seoul', '32']\n",
            "['4', 'Super Star', 'Dubai', '50']\n",
            "['5', 'Planet', 'Tokyo', '22']\n"
          ],
          "name": "stdout"
        }
      ]
    },
    {
      "cell_type": "code",
      "metadata": {
        "colab": {
          "base_uri": "https://localhost:8080/"
        },
        "id": "M0GhRF-Hl5-i",
        "outputId": "a085da3e-4844-40a1-9985-77f8a62b50de"
      },
      "source": [
        "my_csv_monster.tail()"
      ],
      "execution_count": null,
      "outputs": [
        {
          "output_type": "stream",
          "text": [
            "['id', 'hotel', 'location', 'pricepernight']\n",
            "['6', 'Joby', 'Bangkok', '30']\n",
            "['7', 'JW Marriot', 'Bangkok', '35']\n",
            "['8', 'Kenshin', 'Tokyo', '20']\n",
            "['9', 'Eloquent', 'London', '42']\n",
            "['10', 'Big Ben', 'London', '45']\n"
          ],
          "name": "stdout"
        }
      ]
    },
    {
      "cell_type": "code",
      "metadata": {
        "colab": {
          "base_uri": "https://localhost:8080/"
        },
        "id": "U_wA9c5rnsfq",
        "outputId": "b3313244-dded-4120-f90b-487316f38a54"
      },
      "source": [
        "my_csv_monster.info()"
      ],
      "execution_count": null,
      "outputs": [
        {
          "output_type": "stream",
          "text": [
            "Number of columns: 4\n",
            "Number of rows: 10\n"
          ],
          "name": "stdout"
        }
      ]
    },
    {
      "cell_type": "code",
      "metadata": {
        "colab": {
          "base_uri": "https://localhost:8080/"
        },
        "id": "rK2pG-xqn2Yn",
        "outputId": "4e0e2e68-56f7-4348-d3b3-1671fe866d91"
      },
      "source": [
        "my_csv_monster.column_names()"
      ],
      "execution_count": null,
      "outputs": [
        {
          "output_type": "stream",
          "text": [
            "['id', 'hotel', 'location', 'pricepernight']\n"
          ],
          "name": "stdout"
        }
      ]
    },
    {
      "cell_type": "code",
      "metadata": {
        "id": "v9-4U_-_n9A4",
        "colab": {
          "base_uri": "https://localhost:8080/"
        },
        "outputId": "42c93a8b-5003-43c8-e582-9c9543018c88"
      },
      "source": [
        "my_csv_monster.filter_city(\"London\")"
      ],
      "execution_count": null,
      "outputs": [
        {
          "output_type": "stream",
          "text": [
            "[['2', 'Accor', 'London', '25'], ['9', 'Eloquent', 'London', '42'], ['10', 'Big Ben', 'London', '45']]\n"
          ],
          "name": "stdout"
        }
      ]
    },
    {
      "cell_type": "code",
      "metadata": {
        "colab": {
          "base_uri": "https://localhost:8080/"
        },
        "id": "gaxWeFbeunKp",
        "outputId": "d0616880-d17d-424d-eb40-93815553b768"
      },
      "source": [
        "my_csv_monster.filter_city2(\"Dubai\")"
      ],
      "execution_count": null,
      "outputs": [
        {
          "output_type": "stream",
          "text": [
            "['4', 'Super Star', 'Dubai', '50']\n"
          ],
          "name": "stdout"
        }
      ]
    },
    {
      "cell_type": "code",
      "metadata": {
        "colab": {
          "base_uri": "https://localhost:8080/"
        },
        "id": "7WjnxvX4xteb",
        "outputId": "66b505be-b7fb-487f-da02-69ff19001169"
      },
      "source": [
        "my_csv_monster.find_mean_price()"
      ],
      "execution_count": null,
      "outputs": [
        {
          "output_type": "stream",
          "text": [
            "Average: 32.1\n"
          ],
          "name": "stdout"
        }
      ]
    },
    {
      "cell_type": "markdown",
      "metadata": {
        "id": "UTorKC2M3Zs_"
      },
      "source": [
        "# **Pandas**"
      ]
    },
    {
      "cell_type": "code",
      "metadata": {
        "id": "T2S4zpz7vjZF"
      },
      "source": [
        "import pandas as pd"
      ],
      "execution_count": null,
      "outputs": []
    },
    {
      "cell_type": "code",
      "metadata": {
        "id": "l1zf06ys3tac"
      },
      "source": [
        "data = pd.read_csv(\"Sample SuperStore.csv\")"
      ],
      "execution_count": null,
      "outputs": []
    },
    {
      "cell_type": "code",
      "metadata": {
        "id": "q3Hsillb37U7"
      },
      "source": [
        "data.head()"
      ],
      "execution_count": null,
      "outputs": []
    },
    {
      "cell_type": "code",
      "metadata": {
        "id": "qECeXFCr4GNb"
      },
      "source": [
        "data.tail()"
      ],
      "execution_count": null,
      "outputs": []
    },
    {
      "cell_type": "code",
      "metadata": {
        "id": "mGZSGH404Iz-"
      },
      "source": [
        "data.info()\n",
        "# data type: object = string"
      ],
      "execution_count": null,
      "outputs": []
    },
    {
      "cell_type": "code",
      "metadata": {
        "colab": {
          "base_uri": "https://localhost:8080/"
        },
        "id": "dzqMt2Gd4ueE",
        "outputId": "ff5b8e4f-78c0-491a-fe66-9ac947cba26b"
      },
      "source": [
        "data.shape \n",
        "# attribute: no ()\n",
        "# result: (row, column) "
      ],
      "execution_count": null,
      "outputs": [
        {
          "output_type": "execute_result",
          "data": {
            "text/plain": [
              "(9994, 21)"
            ]
          },
          "metadata": {
            "tags": []
          },
          "execution_count": 12
        }
      ]
    },
    {
      "cell_type": "code",
      "metadata": {
        "colab": {
          "base_uri": "https://localhost:8080/"
        },
        "id": "PFAGaTyK470p",
        "outputId": "e2f1386f-e259-4a35-d8a3-bdcfbb94252e"
      },
      "source": [
        "print(\"Columns:\", data.shape[1])\n",
        "print(\"Rows:\", data.shape[0])"
      ],
      "execution_count": null,
      "outputs": [
        {
          "output_type": "stream",
          "text": [
            "Columns: 21\n",
            "Rows: 9994\n"
          ],
          "name": "stdout"
        }
      ]
    },
    {
      "cell_type": "code",
      "metadata": {
        "colab": {
          "base_uri": "https://localhost:8080/"
        },
        "id": "AMDRb7RzrUVF",
        "outputId": "ee63aca8-96a4-4590-c69b-ddbc65752545"
      },
      "source": [
        "data.columns\n",
        "# attribute"
      ],
      "execution_count": null,
      "outputs": [
        {
          "output_type": "execute_result",
          "data": {
            "text/plain": [
              "Index(['Row ID', 'Order ID', 'Order Date', 'Ship Date', 'Ship Mode',\n",
              "       'Customer ID', 'Customer Name', 'Segment', 'Country', 'City', 'State',\n",
              "       'Postal Code', 'Region', 'Product ID', 'Category', 'Sub-Category',\n",
              "       'Product Name', 'Sales', 'Quantity', 'Discount', 'Profit'],\n",
              "      dtype='object')"
            ]
          },
          "metadata": {
            "tags": []
          },
          "execution_count": 15
        }
      ]
    },
    {
      "cell_type": "code",
      "metadata": {
        "colab": {
          "base_uri": "https://localhost:8080/"
        },
        "id": "GSP4tcy45rQ-",
        "outputId": "03a671cc-cb94-4d8d-80ff-32d89fc045d6"
      },
      "source": [
        "column_names = list(data.columns)\n",
        "print(column_names)"
      ],
      "execution_count": null,
      "outputs": [
        {
          "output_type": "stream",
          "text": [
            "['Row ID', 'Order ID', 'Order Date', 'Ship Date', 'Ship Mode', 'Customer ID', 'Customer Name', 'Segment', 'Country', 'City', 'State', 'Postal Code', 'Region', 'Product ID', 'Category', 'Sub-Category', 'Product Name', 'Sales', 'Quantity', 'Discount', 'Profit']\n"
          ],
          "name": "stdout"
        }
      ]
    },
    {
      "cell_type": "code",
      "metadata": {
        "colab": {
          "base_uri": "https://localhost:8080/"
        },
        "id": "2OCGGxGX6ZQ9",
        "outputId": "ddf9d5f4-8b69-450b-ff3e-4b7c0e0345df"
      },
      "source": [
        "# list comprehension\n",
        "# for column in column_names:\n",
        "    # print(column.lower().replace(\" \", \"_\").replace(\"-\", \"_\"))\n",
        "\n",
        "clean_column_name = [column.lower().replace(\" \", \"_\").replace(\"-\", \"_\") for column in column_names]\n",
        "print(clean_column_name)"
      ],
      "execution_count": null,
      "outputs": [
        {
          "output_type": "stream",
          "text": [
            "['row_id', 'order_id', 'order_date', 'ship_date', 'ship_mode', 'customer_id', 'customer_name', 'segment', 'country', 'city', 'state', 'postal_code', 'region', 'product_id', 'category', 'sub_category', 'product_name', 'sales', 'quantity', 'discount', 'profit']\n"
          ],
          "name": "stdout"
        }
      ]
    },
    {
      "cell_type": "code",
      "metadata": {
        "id": "Wt65tcFp7sij"
      },
      "source": [
        "# replace new column names\n",
        "data.columns = clean_column_name"
      ],
      "execution_count": null,
      "outputs": []
    },
    {
      "cell_type": "code",
      "metadata": {
        "colab": {
          "base_uri": "https://localhost:8080/"
        },
        "id": "CqlR4Dtb5ed5",
        "outputId": "91e1278b-e174-4688-be33-be82bdd57e54"
      },
      "source": [
        "# filter data 1 with pandas\n",
        "print(data.shape)\n",
        "print(data.query(\"ship_mode == 'Standard Class'\").shape)\n",
        "print(data.query(\"ship_mode == 'Second Class'\").shape)"
      ],
      "execution_count": null,
      "outputs": [
        {
          "output_type": "stream",
          "text": [
            "(9994, 21)\n",
            "(5968, 21)\n",
            "(1945, 21)\n"
          ],
          "name": "stdout"
        }
      ]
    },
    {
      "cell_type": "code",
      "metadata": {
        "colab": {
          "base_uri": "https://localhost:8080/"
        },
        "id": "dhb_1Psy8o3e",
        "outputId": "ab63a6a6-396a-4a2b-fc7a-63a8d1b3db9b"
      },
      "source": [
        "# filter data 2\n",
        "# filter data more than one conditions \n",
        "# and = &\n",
        "print(data.query(\"ship_mode == 'Standard Class' & city == 'Los Angeles' & segment == 'Corporate'\").shape)"
      ],
      "execution_count": null,
      "outputs": [
        {
          "output_type": "stream",
          "text": [
            "(135, 21)\n"
          ],
          "name": "stdout"
        }
      ]
    },
    {
      "cell_type": "code",
      "metadata": {
        "colab": {
          "base_uri": "https://localhost:8080/"
        },
        "id": "kXz6NdrMwbY4",
        "outputId": "4f69c392-87b2-47bc-f19e-25f5c63fc71e"
      },
      "source": [
        "# filter data 3\n",
        "# or = |\n",
        "print(data.query(\"ship_mode == 'Standard Class' & city == 'Los Angeles' | segment == 'Corporate'\").shape)"
      ],
      "execution_count": null,
      "outputs": [
        {
          "output_type": "stream",
          "text": [
            "(3334, 21)\n"
          ],
          "name": "stdout"
        }
      ]
    },
    {
      "cell_type": "code",
      "metadata": {
        "id": "Ekypo3Ow9W5z"
      },
      "source": [
        "# filter data 3\n",
        "data1 = data.query(\"ship_mode == 'Standard Class' & city == 'Los Angeles' & segment == 'Corporate'\")"
      ],
      "execution_count": null,
      "outputs": []
    },
    {
      "cell_type": "code",
      "metadata": {
        "id": "5ndtdQoq9jpK"
      },
      "source": [
        "# export data1 in CSV file \n",
        "data1.to_csv('data_standard_LA_corporate.csv')"
      ],
      "execution_count": null,
      "outputs": []
    },
    {
      "cell_type": "code",
      "metadata": {
        "colab": {
          "base_uri": "https://localhost:8080/",
          "height": 204
        },
        "id": "GJPNs8UK-HSl",
        "outputId": "c3ce7d8e-e61d-4a42-d430-9bfd7ce50fab"
      },
      "source": [
        "# select columns \n",
        "column_needed = ['order_id', 'ship_date', 'customer_name', 'city', 'country']\n",
        "data[column_needed].head()"
      ],
      "execution_count": null,
      "outputs": [
        {
          "output_type": "execute_result",
          "data": {
            "text/html": [
              "<div>\n",
              "<style scoped>\n",
              "    .dataframe tbody tr th:only-of-type {\n",
              "        vertical-align: middle;\n",
              "    }\n",
              "\n",
              "    .dataframe tbody tr th {\n",
              "        vertical-align: top;\n",
              "    }\n",
              "\n",
              "    .dataframe thead th {\n",
              "        text-align: right;\n",
              "    }\n",
              "</style>\n",
              "<table border=\"1\" class=\"dataframe\">\n",
              "  <thead>\n",
              "    <tr style=\"text-align: right;\">\n",
              "      <th></th>\n",
              "      <th>order_id</th>\n",
              "      <th>ship_date</th>\n",
              "      <th>customer_name</th>\n",
              "      <th>city</th>\n",
              "      <th>country</th>\n",
              "    </tr>\n",
              "  </thead>\n",
              "  <tbody>\n",
              "    <tr>\n",
              "      <th>0</th>\n",
              "      <td>CA-2016-152156</td>\n",
              "      <td>11/11/2016</td>\n",
              "      <td>Claire Gute</td>\n",
              "      <td>Henderson</td>\n",
              "      <td>United States</td>\n",
              "    </tr>\n",
              "    <tr>\n",
              "      <th>1</th>\n",
              "      <td>CA-2016-152156</td>\n",
              "      <td>11/11/2016</td>\n",
              "      <td>Claire Gute</td>\n",
              "      <td>Henderson</td>\n",
              "      <td>United States</td>\n",
              "    </tr>\n",
              "    <tr>\n",
              "      <th>2</th>\n",
              "      <td>CA-2016-138688</td>\n",
              "      <td>6/16/2016</td>\n",
              "      <td>Darrin Van Huff</td>\n",
              "      <td>Los Angeles</td>\n",
              "      <td>United States</td>\n",
              "    </tr>\n",
              "    <tr>\n",
              "      <th>3</th>\n",
              "      <td>US-2015-108966</td>\n",
              "      <td>10/18/2015</td>\n",
              "      <td>Sean O'Donnell</td>\n",
              "      <td>Fort Lauderdale</td>\n",
              "      <td>United States</td>\n",
              "    </tr>\n",
              "    <tr>\n",
              "      <th>4</th>\n",
              "      <td>US-2015-108966</td>\n",
              "      <td>10/18/2015</td>\n",
              "      <td>Sean O'Donnell</td>\n",
              "      <td>Fort Lauderdale</td>\n",
              "      <td>United States</td>\n",
              "    </tr>\n",
              "  </tbody>\n",
              "</table>\n",
              "</div>"
            ],
            "text/plain": [
              "         order_id   ship_date    customer_name             city        country\n",
              "0  CA-2016-152156  11/11/2016      Claire Gute        Henderson  United States\n",
              "1  CA-2016-152156  11/11/2016      Claire Gute        Henderson  United States\n",
              "2  CA-2016-138688   6/16/2016  Darrin Van Huff      Los Angeles  United States\n",
              "3  US-2015-108966  10/18/2015   Sean O'Donnell  Fort Lauderdale  United States\n",
              "4  US-2015-108966  10/18/2015   Sean O'Donnell  Fort Lauderdale  United States"
            ]
          },
          "metadata": {
            "tags": []
          },
          "execution_count": 26
        }
      ]
    },
    {
      "cell_type": "code",
      "metadata": {
        "colab": {
          "base_uri": "https://localhost:8080/",
          "height": 206
        },
        "id": "v-IqAihT-27S",
        "outputId": "7003bf7e-6993-4aaf-d747-b1d9c1fcbdae"
      },
      "source": [
        "data[column_needed].query(\"city == 'Miami'\").head()"
      ],
      "execution_count": null,
      "outputs": [
        {
          "output_type": "execute_result",
          "data": {
            "text/html": [
              "<div>\n",
              "<style scoped>\n",
              "    .dataframe tbody tr th:only-of-type {\n",
              "        vertical-align: middle;\n",
              "    }\n",
              "\n",
              "    .dataframe tbody tr th {\n",
              "        vertical-align: top;\n",
              "    }\n",
              "\n",
              "    .dataframe thead th {\n",
              "        text-align: right;\n",
              "    }\n",
              "</style>\n",
              "<table border=\"1\" class=\"dataframe\">\n",
              "  <thead>\n",
              "    <tr style=\"text-align: right;\">\n",
              "      <th></th>\n",
              "      <th>order_id</th>\n",
              "      <th>ship_date</th>\n",
              "      <th>customer_name</th>\n",
              "      <th>city</th>\n",
              "    </tr>\n",
              "  </thead>\n",
              "  <tbody>\n",
              "    <tr>\n",
              "      <th>402</th>\n",
              "      <td>CA-2014-113166</td>\n",
              "      <td>12/26/2014</td>\n",
              "      <td>Luke Foster</td>\n",
              "      <td>Miami</td>\n",
              "    </tr>\n",
              "    <tr>\n",
              "      <th>633</th>\n",
              "      <td>CA-2017-144694</td>\n",
              "      <td>9/26/2017</td>\n",
              "      <td>Brian Dahlen</td>\n",
              "      <td>Miami</td>\n",
              "    </tr>\n",
              "    <tr>\n",
              "      <th>634</th>\n",
              "      <td>CA-2017-144694</td>\n",
              "      <td>9/26/2017</td>\n",
              "      <td>Brian Dahlen</td>\n",
              "      <td>Miami</td>\n",
              "    </tr>\n",
              "    <tr>\n",
              "      <th>1046</th>\n",
              "      <td>CA-2016-169103</td>\n",
              "      <td>3/13/2016</td>\n",
              "      <td>Zuschuss Carroll</td>\n",
              "      <td>Miami</td>\n",
              "    </tr>\n",
              "    <tr>\n",
              "      <th>1047</th>\n",
              "      <td>CA-2016-169103</td>\n",
              "      <td>3/13/2016</td>\n",
              "      <td>Zuschuss Carroll</td>\n",
              "      <td>Miami</td>\n",
              "    </tr>\n",
              "  </tbody>\n",
              "</table>\n",
              "</div>"
            ],
            "text/plain": [
              "            order_id   ship_date     customer_name   city\n",
              "402   CA-2014-113166  12/26/2014       Luke Foster  Miami\n",
              "633   CA-2017-144694   9/26/2017      Brian Dahlen  Miami\n",
              "634   CA-2017-144694   9/26/2017      Brian Dahlen  Miami\n",
              "1046  CA-2016-169103   3/13/2016  Zuschuss Carroll  Miami\n",
              "1047  CA-2016-169103   3/13/2016  Zuschuss Carroll  Miami"
            ]
          },
          "metadata": {
            "tags": []
          },
          "execution_count": 16
        }
      ]
    },
    {
      "cell_type": "code",
      "metadata": {
        "id": "rEEumnnH_w1G"
      },
      "source": [
        "# drop columns \n",
        "data.drop(columns = ['row_id', 'order_id']).head()"
      ],
      "execution_count": null,
      "outputs": []
    },
    {
      "cell_type": "code",
      "metadata": {
        "id": "kAQjmNKwCExQ",
        "colab": {
          "base_uri": "https://localhost:8080/"
        },
        "outputId": "cfa72117-aa6a-4931-f6cb-bab81d135866"
      },
      "source": [
        "# data analysis with pandas \n",
        "# .value_counts()\n",
        "data.value_counts(\"ship_mode\")"
      ],
      "execution_count": null,
      "outputs": [
        {
          "output_type": "execute_result",
          "data": {
            "text/plain": [
              "ship_mode\n",
              "Standard Class    5968\n",
              "Second Class      1945\n",
              "First Class       1538\n",
              "Same Day           543\n",
              "dtype: int64"
            ]
          },
          "metadata": {
            "tags": []
          },
          "execution_count": 30
        }
      ]
    },
    {
      "cell_type": "code",
      "metadata": {
        "colab": {
          "base_uri": "https://localhost:8080/"
        },
        "id": "DI91TJYECObb",
        "outputId": "d2c96929-483c-4c13-bd0a-da93e397bf53"
      },
      "source": [
        "data.value_counts(\"city\").head()"
      ],
      "execution_count": null,
      "outputs": [
        {
          "output_type": "execute_result",
          "data": {
            "text/plain": [
              "city\n",
              "New York City    915\n",
              "Los Angeles      747\n",
              "Philadelphia     537\n",
              "San Francisco    510\n",
              "Seattle          428\n",
              "dtype: int64"
            ]
          },
          "metadata": {
            "tags": []
          },
          "execution_count": 32
        }
      ]
    },
    {
      "cell_type": "code",
      "metadata": {
        "colab": {
          "base_uri": "https://localhost:8080/"
        },
        "id": "nh53_XIcCFZj",
        "outputId": "ac82fc91-f3de-4aae-a970-4aec5c50473c"
      },
      "source": [
        "data.value_counts(\"city\").tail()"
      ],
      "execution_count": null,
      "outputs": [
        {
          "output_type": "execute_result",
          "data": {
            "text/plain": [
              "city\n",
              "Danbury        1\n",
              "Orland Park    1\n",
              "Davis          1\n",
              "Ontario        1\n",
              "Aberdeen       1\n",
              "dtype: int64"
            ]
          },
          "metadata": {
            "tags": []
          },
          "execution_count": 31
        }
      ]
    },
    {
      "cell_type": "code",
      "metadata": {
        "id": "DOEqc0UECUF-"
      },
      "source": [
        "# groupby()[].sum()\n",
        "# aggregation function \n",
        "\n",
        "data.groupby(['category', 'sub_category'])['sales', 'quantity'].sum()"
      ],
      "execution_count": null,
      "outputs": []
    },
    {
      "cell_type": "code",
      "metadata": {
        "colab": {
          "base_uri": "https://localhost:8080/",
          "height": 692
        },
        "id": "8v-PM6QxDZg1",
        "outputId": "bc2dd513-6f9f-4b9f-eb32-94106c4fea52"
      },
      "source": [
        "# aggregation function\n",
        "\n",
        "data.groupby(['category', 'sub_category'])['sales', 'quantity'].agg(['sum', 'mean', 'median', 'count'])"
      ],
      "execution_count": null,
      "outputs": [
        {
          "output_type": "stream",
          "text": [
            "/usr/local/lib/python3.7/dist-packages/ipykernel_launcher.py:3: FutureWarning: Indexing with multiple keys (implicitly converted to a tuple of keys) will be deprecated, use a list instead.\n",
            "  This is separate from the ipykernel package so we can avoid doing imports until\n"
          ],
          "name": "stderr"
        },
        {
          "output_type": "execute_result",
          "data": {
            "text/html": [
              "<div>\n",
              "<style scoped>\n",
              "    .dataframe tbody tr th:only-of-type {\n",
              "        vertical-align: middle;\n",
              "    }\n",
              "\n",
              "    .dataframe tbody tr th {\n",
              "        vertical-align: top;\n",
              "    }\n",
              "\n",
              "    .dataframe thead tr th {\n",
              "        text-align: left;\n",
              "    }\n",
              "\n",
              "    .dataframe thead tr:last-of-type th {\n",
              "        text-align: right;\n",
              "    }\n",
              "</style>\n",
              "<table border=\"1\" class=\"dataframe\">\n",
              "  <thead>\n",
              "    <tr>\n",
              "      <th></th>\n",
              "      <th></th>\n",
              "      <th colspan=\"4\" halign=\"left\">sales</th>\n",
              "      <th colspan=\"4\" halign=\"left\">quantity</th>\n",
              "    </tr>\n",
              "    <tr>\n",
              "      <th></th>\n",
              "      <th></th>\n",
              "      <th>sum</th>\n",
              "      <th>mean</th>\n",
              "      <th>median</th>\n",
              "      <th>count</th>\n",
              "      <th>sum</th>\n",
              "      <th>mean</th>\n",
              "      <th>median</th>\n",
              "      <th>count</th>\n",
              "    </tr>\n",
              "    <tr>\n",
              "      <th>category</th>\n",
              "      <th>sub_category</th>\n",
              "      <th></th>\n",
              "      <th></th>\n",
              "      <th></th>\n",
              "      <th></th>\n",
              "      <th></th>\n",
              "      <th></th>\n",
              "      <th></th>\n",
              "      <th></th>\n",
              "    </tr>\n",
              "  </thead>\n",
              "  <tbody>\n",
              "    <tr>\n",
              "      <th rowspan=\"4\" valign=\"top\">Furniture</th>\n",
              "      <th>Bookcases</th>\n",
              "      <td>114879.9963</td>\n",
              "      <td>503.859633</td>\n",
              "      <td>306.82025</td>\n",
              "      <td>228</td>\n",
              "      <td>868</td>\n",
              "      <td>3.807018</td>\n",
              "      <td>3</td>\n",
              "      <td>228</td>\n",
              "    </tr>\n",
              "    <tr>\n",
              "      <th>Chairs</th>\n",
              "      <td>328449.1030</td>\n",
              "      <td>532.332420</td>\n",
              "      <td>362.13600</td>\n",
              "      <td>617</td>\n",
              "      <td>2356</td>\n",
              "      <td>3.818476</td>\n",
              "      <td>3</td>\n",
              "      <td>617</td>\n",
              "    </tr>\n",
              "    <tr>\n",
              "      <th>Furnishings</th>\n",
              "      <td>91705.1640</td>\n",
              "      <td>95.825668</td>\n",
              "      <td>41.96000</td>\n",
              "      <td>957</td>\n",
              "      <td>3563</td>\n",
              "      <td>3.723093</td>\n",
              "      <td>3</td>\n",
              "      <td>957</td>\n",
              "    </tr>\n",
              "    <tr>\n",
              "      <th>Tables</th>\n",
              "      <td>206965.5320</td>\n",
              "      <td>648.794771</td>\n",
              "      <td>447.84000</td>\n",
              "      <td>319</td>\n",
              "      <td>1241</td>\n",
              "      <td>3.890282</td>\n",
              "      <td>3</td>\n",
              "      <td>319</td>\n",
              "    </tr>\n",
              "    <tr>\n",
              "      <th rowspan=\"9\" valign=\"top\">Office Supplies</th>\n",
              "      <th>Appliances</th>\n",
              "      <td>107532.1610</td>\n",
              "      <td>230.755710</td>\n",
              "      <td>82.69000</td>\n",
              "      <td>466</td>\n",
              "      <td>1729</td>\n",
              "      <td>3.710300</td>\n",
              "      <td>3</td>\n",
              "      <td>466</td>\n",
              "    </tr>\n",
              "    <tr>\n",
              "      <th>Art</th>\n",
              "      <td>27118.7920</td>\n",
              "      <td>34.068834</td>\n",
              "      <td>15.50400</td>\n",
              "      <td>796</td>\n",
              "      <td>3000</td>\n",
              "      <td>3.768844</td>\n",
              "      <td>3</td>\n",
              "      <td>796</td>\n",
              "    </tr>\n",
              "    <tr>\n",
              "      <th>Binders</th>\n",
              "      <td>203412.7330</td>\n",
              "      <td>133.560560</td>\n",
              "      <td>18.56000</td>\n",
              "      <td>1523</td>\n",
              "      <td>5974</td>\n",
              "      <td>3.922521</td>\n",
              "      <td>3</td>\n",
              "      <td>1523</td>\n",
              "    </tr>\n",
              "    <tr>\n",
              "      <th>Envelopes</th>\n",
              "      <td>16476.4020</td>\n",
              "      <td>64.867724</td>\n",
              "      <td>29.04600</td>\n",
              "      <td>254</td>\n",
              "      <td>906</td>\n",
              "      <td>3.566929</td>\n",
              "      <td>3</td>\n",
              "      <td>254</td>\n",
              "    </tr>\n",
              "    <tr>\n",
              "      <th>Fasteners</th>\n",
              "      <td>3024.2800</td>\n",
              "      <td>13.936774</td>\n",
              "      <td>10.58400</td>\n",
              "      <td>217</td>\n",
              "      <td>914</td>\n",
              "      <td>4.211982</td>\n",
              "      <td>4</td>\n",
              "      <td>217</td>\n",
              "    </tr>\n",
              "    <tr>\n",
              "      <th>Labels</th>\n",
              "      <td>12486.3120</td>\n",
              "      <td>34.303055</td>\n",
              "      <td>14.94000</td>\n",
              "      <td>364</td>\n",
              "      <td>1400</td>\n",
              "      <td>3.846154</td>\n",
              "      <td>3</td>\n",
              "      <td>364</td>\n",
              "    </tr>\n",
              "    <tr>\n",
              "      <th>Paper</th>\n",
              "      <td>78479.2060</td>\n",
              "      <td>57.284092</td>\n",
              "      <td>26.72000</td>\n",
              "      <td>1370</td>\n",
              "      <td>5178</td>\n",
              "      <td>3.779562</td>\n",
              "      <td>3</td>\n",
              "      <td>1370</td>\n",
              "    </tr>\n",
              "    <tr>\n",
              "      <th>Storage</th>\n",
              "      <td>223843.6080</td>\n",
              "      <td>264.590553</td>\n",
              "      <td>113.92800</td>\n",
              "      <td>846</td>\n",
              "      <td>3158</td>\n",
              "      <td>3.732861</td>\n",
              "      <td>3</td>\n",
              "      <td>846</td>\n",
              "    </tr>\n",
              "    <tr>\n",
              "      <th>Supplies</th>\n",
              "      <td>46673.5380</td>\n",
              "      <td>245.650200</td>\n",
              "      <td>27.93000</td>\n",
              "      <td>190</td>\n",
              "      <td>647</td>\n",
              "      <td>3.405263</td>\n",
              "      <td>3</td>\n",
              "      <td>190</td>\n",
              "    </tr>\n",
              "    <tr>\n",
              "      <th rowspan=\"4\" valign=\"top\">Technology</th>\n",
              "      <th>Accessories</th>\n",
              "      <td>167380.3180</td>\n",
              "      <td>215.974604</td>\n",
              "      <td>100.00000</td>\n",
              "      <td>775</td>\n",
              "      <td>2976</td>\n",
              "      <td>3.840000</td>\n",
              "      <td>3</td>\n",
              "      <td>775</td>\n",
              "    </tr>\n",
              "    <tr>\n",
              "      <th>Copiers</th>\n",
              "      <td>149528.0300</td>\n",
              "      <td>2198.941618</td>\n",
              "      <td>1099.98000</td>\n",
              "      <td>68</td>\n",
              "      <td>234</td>\n",
              "      <td>3.441176</td>\n",
              "      <td>3</td>\n",
              "      <td>68</td>\n",
              "    </tr>\n",
              "    <tr>\n",
              "      <th>Machines</th>\n",
              "      <td>189238.6310</td>\n",
              "      <td>1645.553313</td>\n",
              "      <td>599.98500</td>\n",
              "      <td>115</td>\n",
              "      <td>440</td>\n",
              "      <td>3.826087</td>\n",
              "      <td>3</td>\n",
              "      <td>115</td>\n",
              "    </tr>\n",
              "    <tr>\n",
              "      <th>Phones</th>\n",
              "      <td>330007.0540</td>\n",
              "      <td>371.211534</td>\n",
              "      <td>209.97000</td>\n",
              "      <td>889</td>\n",
              "      <td>3289</td>\n",
              "      <td>3.699663</td>\n",
              "      <td>3</td>\n",
              "      <td>889</td>\n",
              "    </tr>\n",
              "  </tbody>\n",
              "</table>\n",
              "</div>"
            ],
            "text/plain": [
              "                                    sales               ... quantity      \n",
              "                                      sum         mean  ...   median count\n",
              "category        sub_category                            ...               \n",
              "Furniture       Bookcases     114879.9963   503.859633  ...        3   228\n",
              "                Chairs        328449.1030   532.332420  ...        3   617\n",
              "                Furnishings    91705.1640    95.825668  ...        3   957\n",
              "                Tables        206965.5320   648.794771  ...        3   319\n",
              "Office Supplies Appliances    107532.1610   230.755710  ...        3   466\n",
              "                Art            27118.7920    34.068834  ...        3   796\n",
              "                Binders       203412.7330   133.560560  ...        3  1523\n",
              "                Envelopes      16476.4020    64.867724  ...        3   254\n",
              "                Fasteners       3024.2800    13.936774  ...        4   217\n",
              "                Labels         12486.3120    34.303055  ...        3   364\n",
              "                Paper          78479.2060    57.284092  ...        3  1370\n",
              "                Storage       223843.6080   264.590553  ...        3   846\n",
              "                Supplies       46673.5380   245.650200  ...        3   190\n",
              "Technology      Accessories   167380.3180   215.974604  ...        3   775\n",
              "                Copiers       149528.0300  2198.941618  ...        3    68\n",
              "                Machines      189238.6310  1645.553313  ...        3   115\n",
              "                Phones        330007.0540   371.211534  ...        3   889\n",
              "\n",
              "[17 rows x 8 columns]"
            ]
          },
          "metadata": {
            "tags": []
          },
          "execution_count": 37
        }
      ]
    },
    {
      "cell_type": "code",
      "metadata": {
        "id": "v1a7lGTOEs_k",
        "colab": {
          "base_uri": "https://localhost:8080/"
        },
        "outputId": "491c0bd6-5181-4a15-fd58-cdcd02881e01"
      },
      "source": [
        "# .reset_index()\n",
        "result = data.groupby(['category', 'sub_category'])['sales', 'quantity'].agg(['sum', 'mean', 'median', 'count']).reset_index()\n",
        "result.to_csv(\"aggregate_result.csv\")"
      ],
      "execution_count": null,
      "outputs": [
        {
          "output_type": "stream",
          "text": [
            "/usr/local/lib/python3.7/dist-packages/ipykernel_launcher.py:1: FutureWarning: Indexing with multiple keys (implicitly converted to a tuple of keys) will be deprecated, use a list instead.\n",
            "  \"\"\"Entry point for launching an IPython kernel.\n"
          ],
          "name": "stderr"
        }
      ]
    },
    {
      "cell_type": "code",
      "metadata": {
        "id": "c2e-TWgCEtKS",
        "colab": {
          "base_uri": "https://localhost:8080/",
          "height": 351
        },
        "outputId": "0900a11d-c0ad-4070-ffad-f4f28c280bee"
      },
      "source": [
        "result = data.groupby(['category', 'sub_category'])['sales', 'quantity']. \\\n",
        "    agg(['sum', 'mean', 'median', 'count']). \\\n",
        "    reset_index(). \\\n",
        "    head(7)\n",
        "\n",
        "result "
      ],
      "execution_count": null,
      "outputs": [
        {
          "output_type": "stream",
          "text": [
            "/usr/local/lib/python3.7/dist-packages/ipykernel_launcher.py:1: FutureWarning: Indexing with multiple keys (implicitly converted to a tuple of keys) will be deprecated, use a list instead.\n",
            "  \"\"\"Entry point for launching an IPython kernel.\n"
          ],
          "name": "stderr"
        },
        {
          "output_type": "execute_result",
          "data": {
            "text/html": [
              "<div>\n",
              "<style scoped>\n",
              "    .dataframe tbody tr th:only-of-type {\n",
              "        vertical-align: middle;\n",
              "    }\n",
              "\n",
              "    .dataframe tbody tr th {\n",
              "        vertical-align: top;\n",
              "    }\n",
              "\n",
              "    .dataframe thead tr th {\n",
              "        text-align: left;\n",
              "    }\n",
              "</style>\n",
              "<table border=\"1\" class=\"dataframe\">\n",
              "  <thead>\n",
              "    <tr>\n",
              "      <th></th>\n",
              "      <th>category</th>\n",
              "      <th>sub_category</th>\n",
              "      <th colspan=\"4\" halign=\"left\">sales</th>\n",
              "      <th colspan=\"4\" halign=\"left\">quantity</th>\n",
              "    </tr>\n",
              "    <tr>\n",
              "      <th></th>\n",
              "      <th></th>\n",
              "      <th></th>\n",
              "      <th>sum</th>\n",
              "      <th>mean</th>\n",
              "      <th>median</th>\n",
              "      <th>count</th>\n",
              "      <th>sum</th>\n",
              "      <th>mean</th>\n",
              "      <th>median</th>\n",
              "      <th>count</th>\n",
              "    </tr>\n",
              "  </thead>\n",
              "  <tbody>\n",
              "    <tr>\n",
              "      <th>0</th>\n",
              "      <td>Furniture</td>\n",
              "      <td>Bookcases</td>\n",
              "      <td>114879.9963</td>\n",
              "      <td>503.859633</td>\n",
              "      <td>306.82025</td>\n",
              "      <td>228</td>\n",
              "      <td>868</td>\n",
              "      <td>3.807018</td>\n",
              "      <td>3</td>\n",
              "      <td>228</td>\n",
              "    </tr>\n",
              "    <tr>\n",
              "      <th>1</th>\n",
              "      <td>Furniture</td>\n",
              "      <td>Chairs</td>\n",
              "      <td>328449.1030</td>\n",
              "      <td>532.332420</td>\n",
              "      <td>362.13600</td>\n",
              "      <td>617</td>\n",
              "      <td>2356</td>\n",
              "      <td>3.818476</td>\n",
              "      <td>3</td>\n",
              "      <td>617</td>\n",
              "    </tr>\n",
              "    <tr>\n",
              "      <th>2</th>\n",
              "      <td>Furniture</td>\n",
              "      <td>Furnishings</td>\n",
              "      <td>91705.1640</td>\n",
              "      <td>95.825668</td>\n",
              "      <td>41.96000</td>\n",
              "      <td>957</td>\n",
              "      <td>3563</td>\n",
              "      <td>3.723093</td>\n",
              "      <td>3</td>\n",
              "      <td>957</td>\n",
              "    </tr>\n",
              "    <tr>\n",
              "      <th>3</th>\n",
              "      <td>Furniture</td>\n",
              "      <td>Tables</td>\n",
              "      <td>206965.5320</td>\n",
              "      <td>648.794771</td>\n",
              "      <td>447.84000</td>\n",
              "      <td>319</td>\n",
              "      <td>1241</td>\n",
              "      <td>3.890282</td>\n",
              "      <td>3</td>\n",
              "      <td>319</td>\n",
              "    </tr>\n",
              "    <tr>\n",
              "      <th>4</th>\n",
              "      <td>Office Supplies</td>\n",
              "      <td>Appliances</td>\n",
              "      <td>107532.1610</td>\n",
              "      <td>230.755710</td>\n",
              "      <td>82.69000</td>\n",
              "      <td>466</td>\n",
              "      <td>1729</td>\n",
              "      <td>3.710300</td>\n",
              "      <td>3</td>\n",
              "      <td>466</td>\n",
              "    </tr>\n",
              "    <tr>\n",
              "      <th>5</th>\n",
              "      <td>Office Supplies</td>\n",
              "      <td>Art</td>\n",
              "      <td>27118.7920</td>\n",
              "      <td>34.068834</td>\n",
              "      <td>15.50400</td>\n",
              "      <td>796</td>\n",
              "      <td>3000</td>\n",
              "      <td>3.768844</td>\n",
              "      <td>3</td>\n",
              "      <td>796</td>\n",
              "    </tr>\n",
              "    <tr>\n",
              "      <th>6</th>\n",
              "      <td>Office Supplies</td>\n",
              "      <td>Binders</td>\n",
              "      <td>203412.7330</td>\n",
              "      <td>133.560560</td>\n",
              "      <td>18.56000</td>\n",
              "      <td>1523</td>\n",
              "      <td>5974</td>\n",
              "      <td>3.922521</td>\n",
              "      <td>3</td>\n",
              "      <td>1523</td>\n",
              "    </tr>\n",
              "  </tbody>\n",
              "</table>\n",
              "</div>"
            ],
            "text/plain": [
              "          category sub_category        sales  ...  quantity             \n",
              "                                         sum  ...      mean median count\n",
              "0        Furniture    Bookcases  114879.9963  ...  3.807018      3   228\n",
              "1        Furniture       Chairs  328449.1030  ...  3.818476      3   617\n",
              "2        Furniture  Furnishings   91705.1640  ...  3.723093      3   957\n",
              "3        Furniture       Tables  206965.5320  ...  3.890282      3   319\n",
              "4  Office Supplies   Appliances  107532.1610  ...  3.710300      3   466\n",
              "5  Office Supplies          Art   27118.7920  ...  3.768844      3   796\n",
              "6  Office Supplies      Binders  203412.7330  ...  3.922521      3  1523\n",
              "\n",
              "[7 rows x 10 columns]"
            ]
          },
          "metadata": {
            "tags": []
          },
          "execution_count": 43
        }
      ]
    },
    {
      "cell_type": "markdown",
      "metadata": {
        "id": "Vyf3FVnYEuKq"
      },
      "source": [
        "# **Basic Machine Learning**\n",
        "- training set: 80%\n",
        "- test set: 20%\n",
        "- Scoring / prediction \n",
        "- Evaluation \n",
        "\n",
        "- sklearn = scikit-learn \n",
        "\n",
        "- MAE = mean absolute error formula: \n",
        "\n",
        "![MAE.jpg](data:image/jpeg;base64,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)\n"
      ]
    },
    {
      "cell_type": "code",
      "metadata": {
        "id": "_TKsdFRAFA2R"
      },
      "source": [
        "import pandas as pd\n",
        "from sklearn.linear_model import LinearRegression"
      ],
      "execution_count": null,
      "outputs": []
    },
    {
      "cell_type": "code",
      "metadata": {
        "id": "Yr8J1uG0GQwq",
        "colab": {
          "base_uri": "https://localhost:8080/",
          "height": 432
        },
        "outputId": "6f7563ba-2710-4b9e-de1d-14c4eb823335"
      },
      "source": [
        "# house price prediction \n",
        "\n",
        "home_data_train = pd.read_csv(\"home_data_train.csv\")\n",
        "home_data_train"
      ],
      "execution_count": null,
      "outputs": [
        {
          "output_type": "error",
          "ename": "FileNotFoundError",
          "evalue": "ignored",
          "traceback": [
            "\u001b[0;31m---------------------------------------------------------------------------\u001b[0m",
            "\u001b[0;31mFileNotFoundError\u001b[0m                         Traceback (most recent call last)",
            "\u001b[0;32m<ipython-input-2-511a08437228>\u001b[0m in \u001b[0;36m<module>\u001b[0;34m()\u001b[0m\n\u001b[1;32m      1\u001b[0m \u001b[0;31m# house price prediction\u001b[0m\u001b[0;34m\u001b[0m\u001b[0;34m\u001b[0m\u001b[0;34m\u001b[0m\u001b[0m\n\u001b[1;32m      2\u001b[0m \u001b[0;34m\u001b[0m\u001b[0m\n\u001b[0;32m----> 3\u001b[0;31m \u001b[0mhome_data_train\u001b[0m \u001b[0;34m=\u001b[0m \u001b[0mpd\u001b[0m\u001b[0;34m.\u001b[0m\u001b[0mread_csv\u001b[0m\u001b[0;34m(\u001b[0m\u001b[0;34m\"home_data_train.csv\"\u001b[0m\u001b[0;34m)\u001b[0m\u001b[0;34m\u001b[0m\u001b[0;34m\u001b[0m\u001b[0m\n\u001b[0m\u001b[1;32m      4\u001b[0m \u001b[0mhome_data_train\u001b[0m\u001b[0;34m\u001b[0m\u001b[0;34m\u001b[0m\u001b[0m\n",
            "\u001b[0;32m/usr/local/lib/python3.7/dist-packages/pandas/io/parsers.py\u001b[0m in \u001b[0;36mread_csv\u001b[0;34m(filepath_or_buffer, sep, delimiter, header, names, index_col, usecols, squeeze, prefix, mangle_dupe_cols, dtype, engine, converters, true_values, false_values, skipinitialspace, skiprows, skipfooter, nrows, na_values, keep_default_na, na_filter, verbose, skip_blank_lines, parse_dates, infer_datetime_format, keep_date_col, date_parser, dayfirst, cache_dates, iterator, chunksize, compression, thousands, decimal, lineterminator, quotechar, quoting, doublequote, escapechar, comment, encoding, dialect, error_bad_lines, warn_bad_lines, delim_whitespace, low_memory, memory_map, float_precision)\u001b[0m\n\u001b[1;32m    686\u001b[0m     )\n\u001b[1;32m    687\u001b[0m \u001b[0;34m\u001b[0m\u001b[0m\n\u001b[0;32m--> 688\u001b[0;31m     \u001b[0;32mreturn\u001b[0m \u001b[0m_read\u001b[0m\u001b[0;34m(\u001b[0m\u001b[0mfilepath_or_buffer\u001b[0m\u001b[0;34m,\u001b[0m \u001b[0mkwds\u001b[0m\u001b[0;34m)\u001b[0m\u001b[0;34m\u001b[0m\u001b[0;34m\u001b[0m\u001b[0m\n\u001b[0m\u001b[1;32m    689\u001b[0m \u001b[0;34m\u001b[0m\u001b[0m\n\u001b[1;32m    690\u001b[0m \u001b[0;34m\u001b[0m\u001b[0m\n",
            "\u001b[0;32m/usr/local/lib/python3.7/dist-packages/pandas/io/parsers.py\u001b[0m in \u001b[0;36m_read\u001b[0;34m(filepath_or_buffer, kwds)\u001b[0m\n\u001b[1;32m    452\u001b[0m \u001b[0;34m\u001b[0m\u001b[0m\n\u001b[1;32m    453\u001b[0m     \u001b[0;31m# Create the parser.\u001b[0m\u001b[0;34m\u001b[0m\u001b[0;34m\u001b[0m\u001b[0;34m\u001b[0m\u001b[0m\n\u001b[0;32m--> 454\u001b[0;31m     \u001b[0mparser\u001b[0m \u001b[0;34m=\u001b[0m \u001b[0mTextFileReader\u001b[0m\u001b[0;34m(\u001b[0m\u001b[0mfp_or_buf\u001b[0m\u001b[0;34m,\u001b[0m \u001b[0;34m**\u001b[0m\u001b[0mkwds\u001b[0m\u001b[0;34m)\u001b[0m\u001b[0;34m\u001b[0m\u001b[0;34m\u001b[0m\u001b[0m\n\u001b[0m\u001b[1;32m    455\u001b[0m \u001b[0;34m\u001b[0m\u001b[0m\n\u001b[1;32m    456\u001b[0m     \u001b[0;32mif\u001b[0m \u001b[0mchunksize\u001b[0m \u001b[0;32mor\u001b[0m \u001b[0miterator\u001b[0m\u001b[0;34m:\u001b[0m\u001b[0;34m\u001b[0m\u001b[0;34m\u001b[0m\u001b[0m\n",
            "\u001b[0;32m/usr/local/lib/python3.7/dist-packages/pandas/io/parsers.py\u001b[0m in \u001b[0;36m__init__\u001b[0;34m(self, f, engine, **kwds)\u001b[0m\n\u001b[1;32m    946\u001b[0m             \u001b[0mself\u001b[0m\u001b[0;34m.\u001b[0m\u001b[0moptions\u001b[0m\u001b[0;34m[\u001b[0m\u001b[0;34m\"has_index_names\"\u001b[0m\u001b[0;34m]\u001b[0m \u001b[0;34m=\u001b[0m \u001b[0mkwds\u001b[0m\u001b[0;34m[\u001b[0m\u001b[0;34m\"has_index_names\"\u001b[0m\u001b[0;34m]\u001b[0m\u001b[0;34m\u001b[0m\u001b[0;34m\u001b[0m\u001b[0m\n\u001b[1;32m    947\u001b[0m \u001b[0;34m\u001b[0m\u001b[0m\n\u001b[0;32m--> 948\u001b[0;31m         \u001b[0mself\u001b[0m\u001b[0;34m.\u001b[0m\u001b[0m_make_engine\u001b[0m\u001b[0;34m(\u001b[0m\u001b[0mself\u001b[0m\u001b[0;34m.\u001b[0m\u001b[0mengine\u001b[0m\u001b[0;34m)\u001b[0m\u001b[0;34m\u001b[0m\u001b[0;34m\u001b[0m\u001b[0m\n\u001b[0m\u001b[1;32m    949\u001b[0m \u001b[0;34m\u001b[0m\u001b[0m\n\u001b[1;32m    950\u001b[0m     \u001b[0;32mdef\u001b[0m \u001b[0mclose\u001b[0m\u001b[0;34m(\u001b[0m\u001b[0mself\u001b[0m\u001b[0;34m)\u001b[0m\u001b[0;34m:\u001b[0m\u001b[0;34m\u001b[0m\u001b[0;34m\u001b[0m\u001b[0m\n",
            "\u001b[0;32m/usr/local/lib/python3.7/dist-packages/pandas/io/parsers.py\u001b[0m in \u001b[0;36m_make_engine\u001b[0;34m(self, engine)\u001b[0m\n\u001b[1;32m   1178\u001b[0m     \u001b[0;32mdef\u001b[0m \u001b[0m_make_engine\u001b[0m\u001b[0;34m(\u001b[0m\u001b[0mself\u001b[0m\u001b[0;34m,\u001b[0m \u001b[0mengine\u001b[0m\u001b[0;34m=\u001b[0m\u001b[0;34m\"c\"\u001b[0m\u001b[0;34m)\u001b[0m\u001b[0;34m:\u001b[0m\u001b[0;34m\u001b[0m\u001b[0;34m\u001b[0m\u001b[0m\n\u001b[1;32m   1179\u001b[0m         \u001b[0;32mif\u001b[0m \u001b[0mengine\u001b[0m \u001b[0;34m==\u001b[0m \u001b[0;34m\"c\"\u001b[0m\u001b[0;34m:\u001b[0m\u001b[0;34m\u001b[0m\u001b[0;34m\u001b[0m\u001b[0m\n\u001b[0;32m-> 1180\u001b[0;31m             \u001b[0mself\u001b[0m\u001b[0;34m.\u001b[0m\u001b[0m_engine\u001b[0m \u001b[0;34m=\u001b[0m \u001b[0mCParserWrapper\u001b[0m\u001b[0;34m(\u001b[0m\u001b[0mself\u001b[0m\u001b[0;34m.\u001b[0m\u001b[0mf\u001b[0m\u001b[0;34m,\u001b[0m \u001b[0;34m**\u001b[0m\u001b[0mself\u001b[0m\u001b[0;34m.\u001b[0m\u001b[0moptions\u001b[0m\u001b[0;34m)\u001b[0m\u001b[0;34m\u001b[0m\u001b[0;34m\u001b[0m\u001b[0m\n\u001b[0m\u001b[1;32m   1181\u001b[0m         \u001b[0;32melse\u001b[0m\u001b[0;34m:\u001b[0m\u001b[0;34m\u001b[0m\u001b[0;34m\u001b[0m\u001b[0m\n\u001b[1;32m   1182\u001b[0m             \u001b[0;32mif\u001b[0m \u001b[0mengine\u001b[0m \u001b[0;34m==\u001b[0m \u001b[0;34m\"python\"\u001b[0m\u001b[0;34m:\u001b[0m\u001b[0;34m\u001b[0m\u001b[0;34m\u001b[0m\u001b[0m\n",
            "\u001b[0;32m/usr/local/lib/python3.7/dist-packages/pandas/io/parsers.py\u001b[0m in \u001b[0;36m__init__\u001b[0;34m(self, src, **kwds)\u001b[0m\n\u001b[1;32m   2008\u001b[0m         \u001b[0mkwds\u001b[0m\u001b[0;34m[\u001b[0m\u001b[0;34m\"usecols\"\u001b[0m\u001b[0;34m]\u001b[0m \u001b[0;34m=\u001b[0m \u001b[0mself\u001b[0m\u001b[0;34m.\u001b[0m\u001b[0musecols\u001b[0m\u001b[0;34m\u001b[0m\u001b[0;34m\u001b[0m\u001b[0m\n\u001b[1;32m   2009\u001b[0m \u001b[0;34m\u001b[0m\u001b[0m\n\u001b[0;32m-> 2010\u001b[0;31m         \u001b[0mself\u001b[0m\u001b[0;34m.\u001b[0m\u001b[0m_reader\u001b[0m \u001b[0;34m=\u001b[0m \u001b[0mparsers\u001b[0m\u001b[0;34m.\u001b[0m\u001b[0mTextReader\u001b[0m\u001b[0;34m(\u001b[0m\u001b[0msrc\u001b[0m\u001b[0;34m,\u001b[0m \u001b[0;34m**\u001b[0m\u001b[0mkwds\u001b[0m\u001b[0;34m)\u001b[0m\u001b[0;34m\u001b[0m\u001b[0;34m\u001b[0m\u001b[0m\n\u001b[0m\u001b[1;32m   2011\u001b[0m         \u001b[0mself\u001b[0m\u001b[0;34m.\u001b[0m\u001b[0munnamed_cols\u001b[0m \u001b[0;34m=\u001b[0m \u001b[0mself\u001b[0m\u001b[0;34m.\u001b[0m\u001b[0m_reader\u001b[0m\u001b[0;34m.\u001b[0m\u001b[0munnamed_cols\u001b[0m\u001b[0;34m\u001b[0m\u001b[0;34m\u001b[0m\u001b[0m\n\u001b[1;32m   2012\u001b[0m \u001b[0;34m\u001b[0m\u001b[0m\n",
            "\u001b[0;32mpandas/_libs/parsers.pyx\u001b[0m in \u001b[0;36mpandas._libs.parsers.TextReader.__cinit__\u001b[0;34m()\u001b[0m\n",
            "\u001b[0;32mpandas/_libs/parsers.pyx\u001b[0m in \u001b[0;36mpandas._libs.parsers.TextReader._setup_parser_source\u001b[0;34m()\u001b[0m\n",
            "\u001b[0;31mFileNotFoundError\u001b[0m: [Errno 2] No such file or directory: 'home_data_train.csv'"
          ]
        }
      ]
    },
    {
      "cell_type": "code",
      "metadata": {
        "id": "eIyN3ka8Gp_H"
      },
      "source": [
        "home_data_train.columns"
      ],
      "execution_count": null,
      "outputs": []
    },
    {
      "cell_type": "code",
      "metadata": {
        "id": "dHGMwLbAGw9C"
      },
      "source": [
        "# select columns needed \n",
        "# features = ตัวแปรต้น = x model.fit(x, y)\n",
        "# target = ตัวแปรตาม = y model.predit(y)\n",
        "\n",
        "list_columns = ['LotArea', 'YearBuilt', '1stFlrSF', '2ndFlrSF', 'FullBath', 'BedroomAbvGr', 'TotRmsAbvGrd']\n",
        "features = home_data_train[list_columns]\n",
        "features.head()\n",
        "\n",
        "target = home_data_train[\"SalePrice\"]\n",
        "target"
      ],
      "execution_count": null,
      "outputs": []
    },
    {
      "cell_type": "code",
      "metadata": {
        "id": "GtnoMIBp6Uww"
      },
      "source": [
        "import pandas as pd\n",
        "from sklearn.linear_model import LinearRegression\n",
        "from sklearn.metrics import mean_absolute_error, mean_squared_error \n",
        "# mean absolute error (MAE)\n",
        "\n",
        "linear_model = LinearRegression() # __init__ model \n",
        "linear_model.fit(features, target) # training / fitting \n",
        "predictions = linear_model.predict(features) # scoring / evaluation \n",
        "print(\"MAE:\", mean_absolute_error(target, predictions))\n",
        "print(\"MSE:\", mean_squared_error(target, predictions))\n",
        "print(\"RMSE:\", mean_squared_error(target, predictions, squared = False))"
      ],
      "execution_count": null,
      "outputs": []
    },
    {
      "cell_type": "code",
      "metadata": {
        "id": "IRMPJbwN9bxV"
      },
      "source": [
        "# prediction \n",
        "list(linear_model.predict(features)[:5])"
      ],
      "execution_count": null,
      "outputs": []
    },
    {
      "cell_type": "code",
      "metadata": {
        "id": "nJfAb27u72D2"
      },
      "source": [
        "# actual price \n",
        "target.head().to_list()"
      ],
      "execution_count": null,
      "outputs": []
    },
    {
      "cell_type": "code",
      "metadata": {
        "id": "czvfKjYgAKk0"
      },
      "source": [
        "# Full Loop - Train, Test, Split\n",
        "\n",
        "from sklearn.model_selection import train_test_split\n",
        "\n",
        "x = home_data_train[list_columns]\n",
        "y = home_data_train[\"SalePrice\"]\n",
        "\n",
        "train_x, val_x, train_y, val_y = train_test_split(x, y, test_size = 0.2, random_state = 42)"
      ],
      "execution_count": null,
      "outputs": []
    },
    {
      "cell_type": "code",
      "metadata": {
        "id": "6LDQsRW7fscA"
      },
      "source": [
        "print(train_x.shape)\n",
        "print(val_x.shape)\n",
        "# print(train_y.shape)\n",
        "# print(val_y.shape)"
      ],
      "execution_count": null,
      "outputs": []
    },
    {
      "cell_type": "code",
      "metadata": {
        "id": "7-ZlmaiUgQQP"
      },
      "source": [
        "# init model\n",
        "model = LinearRegression()\n",
        "\n",
        "# training model\n",
        "model.fit(train_x, train_y)\n",
        "\n",
        "# predict\n",
        "predictions = model.predict(val_x)\n",
        "\n",
        "# evaluate \n",
        "print(\"MAE:\", mean_absolute_error(val_y, predictions))\n",
        "print(\"MSE:\", mean_squared_error(val_y, predictions))\n",
        "print(\"RMSE:\", mean_squared_error(val_y, predictions, squared = False))"
      ],
      "execution_count": null,
      "outputs": []
    },
    {
      "cell_type": "code",
      "metadata": {
        "id": "5JwhozlhiJS3"
      },
      "source": [
        "home_data_test = pd.read_csv(\"home_data_test.csv\")"
      ],
      "execution_count": null,
      "outputs": []
    },
    {
      "cell_type": "code",
      "metadata": {
        "id": "oum9OvEKil71"
      },
      "source": [
        "test_x = home_data_test[list_columns]\n",
        "# test_y = home_data_test[\"SalePrice\"]\n",
        "\n",
        "test_predictions = model.predict(test_x)\n",
        "\n",
        "# print(\"MAE:\", mean_absolute_error(test_y, test_predictions))\n",
        "# print(\"MSE:\", mean_squared_error(test_y, test_predictions))\n",
        "# print(\"RMSE:\", mean_squared_error(test_y, test_predictions, squared = False))\n",
        "\n",
        "print(test_predictions[:10])"
      ],
      "execution_count": null,
      "outputs": []
    },
    {
      "cell_type": "code",
      "metadata": {
        "id": "xZKWXzuqkc8N"
      },
      "source": [
        "# Decision tree and Random Forest Regressor \n",
        "\n",
        "from sklearn.tree import DecisionTreeRegressor\n",
        "from sklearn.ensemble import RandomForestRegressor\n",
        "\n",
        "x = home_data_train[list_columns]\n",
        "y = home_data_train[\"SalePrice\"]\n",
        "\n",
        "train_x, val_x, train_y, val_y = train_test_split(x, y, test_size = 0.2, random_state = 42)\n",
        "\n",
        "# init model\n",
        "model_linear = LinearRegression()\n",
        "model_decision_tree = DecisionTreeRegressor()\n",
        "model_random_forest = RandomForestRegressor()\n",
        "\n",
        "# training (fitting)\n",
        "model_linear.fit(train_x, train_y)\n",
        "model_decision_tree.fit(train_x, train_y)\n",
        "model_random_forest.fit(train_x, train_y)\n",
        "\n",
        "# predict \n",
        "predictions_linear = model_linear.predict(val_x)\n",
        "predictions_decision_tree = model_decision_tree.predict(val_x)\n",
        "predictions_random_forest = model_random_forest.predict(val_x)\n",
        "\n",
        "# evaluate \n",
        "print(\"Linear Regression MAE:\", mean_absolute_error(val_y, predictions_linear))\n",
        "print(\"Decision Tree MAE:\", mean_absolute_error(val_y, predictions_decision_tree))\n",
        "print(\"Random Forest MAE:\", mean_absolute_error(val_y, predictions_random_forest))\n",
        "\n",
        "# The lower MAE, the better"
      ],
      "execution_count": null,
      "outputs": []
    },
    {
      "cell_type": "markdown",
      "metadata": {
        "id": "qsRdhiXxotZo"
      },
      "source": [
        "# **Tensorflow**\n",
        "- Deep Learning\n",
        "\n",
        "![Deep-Learning-Consist_.png](data:image/png;base64,iVBORw0KGgoAAAANSUhEUgAAAloAAADiCAIAAAAZP/6MAACAAElEQVR42ux9CXhU1fn3uessmZlkspMAIQsRAiFAWAKIgGgCRcU/yFJEUeuCBRU3LG1RS0W02upjFZXFqoCiomVRQSqIfICgbEICkpAQQvY9s8+de+/5nswPjmNYigpoNefhiePk5t5zz3n39/e+R2xqajIYDDzPy7JMCNF1nZwaiqKYTCZCiNfr5XleFEWO4yilhBCO49hloZ9/2FBVVZKkQCCAn4QQSZL8fr/BYDjbn2Aa+MkGz/P40u/3S5LEvtc0TZIkSikuIITgWWe85w97ozYzOX0EAgGssKZpiqLwPG8wGGhwhM6fvTX7nlLKBUfo3TRNwzen/wrD5/MZDAaXy2U0GrFxoVNtM1t2K/Kjh6Io+NDc3CxJksViwcpTSjVN43meOzXIr2y0oViwkqqqsixrmgYWYAT8006V7Q6kwU+7WaHkqmkaIUQIDsbCp9Pzeb5d6GefzycIAuiTSQkmDEO/0TRNEISfZE3ARKIoqqqq6zoIBmvChiAImKHP5zMajaEvgrfQgoO95tl43+v1ms1m/O2lfFlKqc/n03VdEARon9AXudijVVCaTKbm5mZZlr1eb5uVxbpQSkVRxP+2Wf0LMkDWoG98xmafQ+uckQGgCCmlmOq3LymKuq6DdPCr0AvaKJ6LtMeYA56FbQ4EAmC/UK1GKVUUheM4URQZx+JXPp+P53nh1DjdLglVvUzxMJYGWUMKh2qmCyvvoPIppdHR0VhPRjAQIr9CRXg2uwHr43A4DAZDIBAwGAwejwe08ZPrwp+DImTz4XleURRZlsG24BGYEZgnY5bvqw4ZvxiNRkVRdF1XVTUQCFit1tDLID1cLhfP82az+SexV7iQAd2mKIrRaGzzOh6PBzzOlJmqquA+fGa8/19lMkzqS/yamqZh5n6/nxDidDpFUcR2X4pF9vv9giB4vV4oPKYnOI5TVdXv94eFhXm93srKykAgEBkZGR0dfcG9Q9xE1/VDhw5RSiMiImJjY6EOQ/XEfzWceZ6HJoCJFPo9SATSGQzGGD70nj9YPfxXDuE4Dvr+8OHDXq83MTExLi6OqShmkTFpePqsQCtQhH6//9wWk8fjAVWBJZiJAJbACoQawheQmgVBKC4u1nXdbrdHR0fDU29XhG0ImOf50D0KBALfS6ZfMgfxJ3dV2WQaGhrcbndTU1OXLl3Cw8MdDockSYIgfN91O6PsYoZyqOQNDZWdj1q9BOsAUexyuVJSUsxmMxT52SQAVoapT+YGICxxbu8Q/lkb0/zSDJ/PV1hYaDAYEhMTrVYrYieXRjELf/3rX5uamiIiIpqaml5++eUdp8bx48cTExMjIiI4jisqKrr33nvffPPNyMjIzMzMNqLtx5MFZHR1dfXMmTNfe+01k8nUr18/SZKYO3WePFlUVPTKK6/s3LkzOTnZarWG/qqgoGDhwoWfffZZr169zGYzlNPpyuCCe0uhd4Ymu+mmm/71r395vd5hw4a1MdP8fv+KFSvWrVsXFRUVGxsbOiWHw/Hyyy//5z//cblcl1122RmDvaHrKYpiVVXV6tWrCwsLjUaj1Wp1u934EwSFQO4X9k1hrXu93unTp7/88ss1NTXDhg0zGAztuvD08c4777z//vvbtm3bsmXLZ5999lVwKIrSpUuXC6iAf5i58+9///uNN9745ptvunXr9n3F0H+Nrf0ASggEAhzHVVVVzZo1a9myZREREVlZWZgYzNnTB0JBZ/xVaHwVHxjXb968edmyZeXl5b169XI6naEeyaZNm958882CgoKuXbtCgPwkZOPxeK655po33nhD1/WBAwcitaSFjNdff3316tWwREN3v66ubvHixevWrdM0LS0tjW3T2SQez/OFhYXvv/++0+lMSUm5ZGYBpbS2tnbs2LFvvfVWfHx8165dKaWXzknVNM3n8/373//u06cPkoj4PioqKi8v7/nnn6eUbtq0yWw2GwyG+++/X1EUn8+HeAWjMLYZuq4rwaGeGiBKfGB/oiiKx+OhlELh4ftDhw7FxMTwPP/QQw/BAVIUxe/3q6pKKW1pacH1iGmEPpGNlStXYv533HGH2+1m/KCq6rJly/BemzdvxpderxeRVdzE7XbjEfjmjIykqmroW7PYLH76goNNz+PxuN1u/IrdU1XV8PBwjuOmTp2KOYTerbCwMCUlRZKknj17FhcX47d45dLS0oiICEmSpk2bButB13WPx+P1ej0eD27OJoM9PXjwoNls7tix4/r16ymlHo8HQXnsBZYXW4lvYIXhVngR7BGbJ36evjjYcdwTE8jIyCCEXH/99Q6HAyuG+4eSDbv5r2eA0iilTU1Nw4cP5ziO5QthtkdERFx77bVbtmwJXVu2QfjgcDgYNYI1sI9+vx/04Ha78T1+hi61w+Hwer1gT8xEP9MYNWoUx3Hx8fFlZWX6WYbX68X98VLYelAXmzyoCxMIJRs8OvSzPzgYDeNL3Mrtdvt8Pk3TduzYYbPZCCGPPPKIz+cDNaqqyp6CpcCDMEnGmG1EDVvANov8hz/8AfJ90aJFTJrhsunTpwuCYLVajxw5wuYZehM2Z7fbHbrjoXID6+P3+3Vdxz6yFfP5fE6nk/Ev+1tN05xOJzhaVVVEFARBmDFjBvYd0gb3379/f1RUFCEkKyuroqIidM2PHj2KXP60adOwqpBRoWuIdYYwpJQ+++yzkiQNHjy4tLSUvTJb4dCb48/dbjf7LRtOpzNUQEFWhO4yE6SYjKZphYWF2IVHH330EgsKkef5o0eP3nnnnXV1dVardeLEieHh4QUFBV999dUnn3zSo0cPSmlmZua9995bVVU1ePBgnufhZOAn8pzAqiDW1yYKBycM3i77EpAZZqGwfB7LjbGEOYtXIL8iCAKDZoQGUfHZbDYj5LtixYohQ4bcfPPNgUCAUirLstFolGW5jSGDIABmKEmS2Wz2er2yLLNcAkuGsewXC8NikrIssxWACaPrOnsoEtpYpfOJffM8HxcXV1VVdejQobvuuuvjjz9mKVWLxRIdHe12u0OvZ5FV8C2yKaIoAqdjNps9Hk9ERERYWBgC8ZihIAh+vx+XcRyHuWFrwJxycEBY+/1+juOMRiOz0U53OEJTv/BxEcAxBge+ZCAR5uibTKYzBoR/JSM6OlqW5bi4uKFDh9rtdo/Hs2XLlmPHjq1bt27Pnj1r167Nzs5mwXOWwuB5PiwsDEyBfWS55NB9gawB+4AYsEFWqxWMA1Y629yioqJEUUxISDhHIlOW5dCkO2iPMS8mIElSaL4Nk8Gj2U/wjizLoTTMQB+QG4CepaSkzJw5s6mpaeTIkQaDwel0IlIaiglAxgtzAzwQa+V0Og0GA/tfkDqWiC0vHxwmk8nn882ePbtPnz7Z2dmSJIHfAUkzmUwQGmB8iCMWxEK4xWw2s/wcC8OwVAUTa2FhYaHJIFEUIRIBLcR7YVYWi8Xj8YRGWdjNsZuhfJSamurxeA4fPjx9+vS1a9f6fD7sO8/zHTp0qKqqioiIYPk59vogCWDusNos3YiJsWwLCzkwjuY4zmAw6LpuNpuxxSxIEAgELBYL87uYrIBoReoKT4HUDRUvlFJYP/gGtAHVe/Hy66KiKJ988onP5zObzW+++ebo0aM5jqutrS0uLl61atXEiRN1XbdYLPfddx/HcTabjeM4yFZKqdFo5Hn+xIkTx44dS09Pj4+Px6p5vd4TJ05ompaQkGA2m10uFxKQgUAAb+hwOMrLyzVN69GjB3th6MJAIIAt9Pv90ChYVp/Pt3fv3pSUlKSkJEw9NAeGXQFHhYeHu1yu3/3udx06dMjNzUXQA6zVRubiubW1tVVVVYmJifHx8Uz6gMM9Hg9TY2Bgt9sNrmAgKLAHrHKz2Wy1WmVZ9vv9JSUlDQ0NVqu1c+fOVqs1NA9xNgyLoigulwvq5NNPP3344Yeff/55TB4ZclAMG1Deuq7v2LEjOjo6LS0tNIJaUVEB5QTTDPdpbGyEIGbuBdQS7swwqF6vF5wA+KvL5WoMDqRtQqftcrlwjSzL9fX1LBLLJA5jBjj6IAC2Dj+H1NSlT8ix2Hh6evr8+fPBOIFAYPHixfPmzauurv7DH/7w/vvv22w2ELbL5RJF8dixY5qmdejQISwsDEtnNBqZAPL7/c3NzZWVlV26dIH9hF/Be4DR5nQ6Gxsbm5qaoqOjO3bseLYt0DQN9MBwwmc03ZxOZ0VFhc/ni42NtdvtDG3HUgOVlZUtLS0Gg6FDhw5QM1An8AZUVbXb7YqiOBwOIJAZWIHjuMrKypqamri4uIiICNBSeHj4ww8/jJsrimK1Wv1+v9frhTytq6urqKiglHbr1g22LFQpPCqXy1VfX5+QkBAXFwdeVlWVZd1CA6d+v99ms7nd7ttvv/2jjz5KTExkRjmy4AyUYDQa/X5/S0tLeXl5IBCIjo6OiooymUws6wbj0mQyAa8AbQfLG+4+Hgr2UVW1oaFB13Vsut/vP3ToEMdxVqu1U6dOLMcMhD+0yBkj4R6PBzdft27dX//617lz50qSBIeMzYGhT+GWHD161OPxxAYHLCfQlSRJcCSw4AaDAZKfWWlQ0iznij9k1j+w9FBjPp+vqKjI7/cnJCR06NABv4Vl4PF4ECMRRbG8vNxms7EwuNPpxHNBAE6nE8DPi8iijY2NN954oyzL8fHx//nPf9p4r4hI5OfnR0dHGwyG++67j1K6ZMkSpKOKi4tnzpyJVeB5/ve//73P53vjjTeQtzOZTD179gQ6pr6+vnv37oSQxcHBDJOcnJyPP/4YXvb+/fshah988EEWr9N1/Z133unZsyfgGISQHj16bN++XVEUaKDQAM6qVavgFcEk6dy58/79+xGaWLFiBUsPsADgk08+CfYAYU2cOPHgwYOIXXz44YfJyclms3n79u1MoIwbNw62Mx73+9//3mAw3Hjjjfn5+Tk5ORaLZe3atSdOnJg5cyaziTiOy8rKWr16dWiwlOf5m266KTSahFFQUIDULOZjMBhefvllBBb279+fmJhICJk2bRpUu67rO3fuHDhwIC6WJCklJWXhwoUOh0NV1dmzZ7MVMxqNgiAsX7583rx5hJARI0bU19dTSgcNGiQIQlFR0aFDh5KD49ChQ7qu33HHHSaTafDgwbqu19bWLliwICIiArazwWCYOnUq9pS5ena7fdmyZZs2bYqNjR0wYEBdXR2snHHjxjmdTsT38vLyCCHDhw8vLi5m0jB0734NwVL2po2NjTfccAMhJC8vr66uLjTsds8994ByPvvsM0SKKioqHn30UYvFwqzGadOmFRQUIDhPKa2oqHjqqafS0tIgKTiOy8vLO3ToEAJfK1euNJlMGRkZ+/fvHz9+PMxHo9F49913FxYWhk6MjcmTJ/M8n5WVVVNTc7Zg6eOPPx6anbrxxhtBFYijLlu2rHfv3iA/g8EQFxc3a9aslpaWpqYmTdOmTZvG8/w111xTVlY2YsQIo9H44Ycfvvzyy7Ish4eHl5WVTZgwAcEJSZJGjBjR0tKiKMqRI0c6d+4sSdJf/vIXSuknn3wiy3Lnzp3Xrl376KOP8jwPWXzFFVecOHHC7/c3NTV5vd733nuvW7duEDgmk+ntt9/+wx/+wPP8xIkTWVqHxVf/+Mc/hsYzrr/+eoQNFUV54IEHIFIQLNV1vays7NZbb7XZbMwIuP3225ubm8GwjzzyiCRJnTp1Ygmdurq63r17S5I0evRoSmlpaWlubi7HcS+99BJ4JzMzs76+vrCwcMaMGdABJpNJEIRhw4Zt2LABFAI3t02wlEVcDxw4gJdFyDQqKuqdd95BlPXw4cMxMTGEkOnTp/t8PgRLX3jhhdTUVOYc9+jRA4F6t9udnZ0NfcmCAWVlZddff73ZbJ47dy6ltLi4OCEhAXGjzZs38zx/880319XVKYqSmppqMplmz56tKMrhw4dvvvlmxJ84jrPb7TNnzgTh6br+n//8R5bl7t27b9++/amnnuI47pFHHjl69CjIeN68eXjrgoKC+Ph4SZLuvPPOi8qhrZr8ueeek2U5Jiamb9++r7766v79+xsbG1mygVK6b98+2GjI6v3jH//A8vXr148Q0rFjR4vFAo9n1qxZhJCEhITExERI4dtuu83n89XX1/fo0SMiIqJ79+48z6empnbv3h1rnZSU9O6771JKt2/fHh0dHaoOKaWzZs0SBMFisQwaNOjqq68eNGgQeGz58uWnv8yaNWsQMs3MzDQYDJIkXX/99SDQt99+WxAEg8Gwdu1aj8fT3Nw8adIkSZLsdvsVV1wxbty4zMxMQkhcXNx7771HKV29enV4eDghZO/evVgHTdMgwmJiYvC4GTNmgKtjY2ONRmO3bt22b9/+2GOPEUKys7Nvu+22e+65p2vXroSQ2NhYSLempibkR8+oDgsLC/v27UsIufLKK2G8h4eH79y5k1J65MgRuMXIHVJK3333XZvNZjabs7Ozc3JyBg0aBCNr3rx5uq6/9tprSUlJiFMlJyf36NHjs88+y8/PjwiOd999V9f1RYsWGY3GSZMmrV+/nhDy4IMPOp3O2trajh07chy3bNkyn893/fXXQ5SkpKR07drVbrcLgtCxY8c9e/Z4vd7GxkYsyDXXXAM3euzYsSdOnMBbjBs3zu12Nzc3jx07lhCSkZGRn59P20fQOrz22muhDsvLyyEaPB4PBERKSoogCPPmzfP5fB6PZ/DgwVjzESNGDBs2rG/fvoIgJCcn79ixAzn1KVOmIK01ePDgESNGpKenE0KsViso+Z133rHZbImJiRDc2dnZUCqSJI0ZM6aqqgrWXqiqg9mXmZlZW1sb+j2Uh9vtnjJlCmJFVwZHnz59OI6Ljo6GrVlUVASxMH78+Hvuuefqq6+GooIxTSmdMmWKJElDhw5Fjjk8PHzr1q3PP/+8JElWqzUrK4sQkp6eztBwr776KixCMMWcOXMURVmzZo0sy3BzBUHIyMhAdFcQhJkzZ+Kl3nzzTbPZjHhjZmYmxEvnzp05jpswYUJouhEaEbnD1NTUnJwcQOgfe+wxxFdmz55NCOnZs+fBgwcVRTl+/PiQIUNgCw4ZMmT48OGYW0ZGBmDV999/PwQdS5zX1tZmZWVxHHfDDTdAHQ4ePJgQ8rvf/Q5+0pgxY1paWqZOnSoIQk5Ozs033zx16tTOnTsTQlJSUr744gtVVWtqaiwWSxt1yPJw+fn5AwYMAF3Fx8fjXSBADhw4AFzCQw89hMzlrFmzOI6zWCxDgiMjIwNBhY0bN2KPEhISYEynpaWlp6c3Nja+/vrrEG67d++mlI4bN85oNC5fvvyBBx7gef6NN96AsyQIQnx8fHV19cGDB0GNJpMpKysLKkCSpCFDhkDFrFmzhuf5QYMG9ezZE67w4sWLjx8/jszaX/7yF0VRtm3bNmjQIMiTlpaW0OT0hVeHyLL26dOHed8RERFjx46dP3/+rl27sNBt1OHixYthq9pstueee66wsPCJJ56A8uB5fsKECbt37/7444+zsrIEQejZs2dVVVVLS0tGRgbMkIceeqioqKiiouIf//gHaG7AgAEOh+P48eOIpM2aNQtc9/nnn8MNfeyxx0CvXq938uTJRqOxU6dOJ06caPMya9euhSHz/PPP33///fj80EMPaZq2atUqiPUvvviCUrpq1Sqe56Ojo+fPnw9n5ejRo3l5eZIkDR8+vK6u7rPPPouLizOZTNu2bfP5fDALQtWhqqow5GVZzsjImDt37qZNm+rq6goLC999912WTy4vL4eZjFfw+Xw2m+0c3uEVV1xBCLnttttWrlwJ7h0wYMCJEyeqq6uTk5MJIbfeeisUZ8+ePXFlU1MTtgmp7/Dw8M8//1xRlPXr10Nmvf3227W1tXjEzJkzwUuaptXV1UVFRdlstquuuioqKmrbtm26rj/22GOCIKSnp1NKFy1aBFK+8847d+3a1dTUtGDBApiE119/fV1dXXNzM8vsjh49euHChVu2bPH7/Zjb1KlTNU2bPn06x3EdO3b8+OOP2xUhRl1d3dnU4aFDh3JycgghkydPdrvdS5YsgWpZtWoV/Ok9e/b06dMHeDGv14sLzGbzc889B3IqLy8fNmwYx3E9e/ZUFOXtt9+G15iamrpy5cqysrIdO3ZMmTIFBvjjjz/OCp//qzoEqGHRokU8z8fGxkJLIYSAJMv48eObm5s9Hs+rr76KMADE9AMPPCBJUnJyckFBAaX07rvvJoTYbLb4+Pj58+e/++67TU1Nzz33HJS0xWJZsGDB4cOHX3zxxejoaEmS8vLyKKUHDx6Mjo4WBAFz3rBhAzjaarXed999paWly5cvhwQfOHCgw+EoLi7GQiUmJq5cubKiomLr1q3Dhg0DSUMnsUAFhOwjjzzCcVz37t3XrVs3fPhwLOyyZcsURbn99tth11ZUVOi6Pn/+fJ7nk5OT161bh3fcsGFDjx49JEmC1setkpKSWFaipqYGNvf48eMppSUlJZiMIAhDhw5duHDhpk2bVFXdvXv3okWLGMiuoKAAGnHevHmIh5vNZkmSZs6cidhyKJAnPz8fUnf27Nmvv/66yWSCQCsvLy8oKIiKiuI4Dry/atWqiIgIu92O2yLGMGHCBEJIWlpaSUmJx+N58sknEUzatWtXc3OzrutVVVVpaWkGg2HJkiWU0l27dhmNxoyMjB49evTr1w+UfPXVV5tMprFjx7JQR3h4+NNPP11XV1dUVDRr1iybzSbL8hNPPKGq6tq1a+EHR0RE3HrrrcuXLy8ODnhKTz/9tMPh6NSpEzwECLGLiqwhTqezubn56NGj99xzD7w9FjxMSUl5/fXXT/cOmTp89NFHsZSFhYXZ2dmEkNzcXFhbuq4/8sgjwDi1tLT4/X64g+PHj2e4U03THnzwQaPRaLfbN27cePz4cVS/Mu/wzjvvlCQpLi6utLQUk6SUbty4MS4uzmKxLF26tE2Qbd26dTBnFi5cWFtbO3DgQLzO6tWrP/74Y7iVO3bsUFX1xhtv5Hl++PDhTU1NNTU19fX1uq7DSYJ9tGvXrnOrQ3iHHMfFxMR88sknsAEZqOyzzz575plnFi9evHPnzmuvvVaW5VGjRsEgQlr7jOrwyJEjQ4YMgZNNKX3hhRcAB5g6deq+ffu6du0qCMKNN95IKX355ZclSTIYDNu3b/d4PKWlpYgmwS1bsGABvG2TyWSz2dasWaNpGmLLGzZs4DguISEBts7dd98NWYm4UGNj44ABA4xG4xNPPNHU1HTDDTdwHNe3b1+g1LBxf/rTn+Bn79u3z+l0Iqtxww03NDY2wghoaWlBpGXs2LGPPfZYREQE4vBg5nZdeG51WF1dDSmZm5vb2NgIAXrzzTfrut7U1FRWVub3+xctWmS1WhMSEqqqqkaPHg0uQwy2vLzc6/WuWrXKYrFERETs2LEDOy5J0sKFC6G6KKU1NTV9+/aVZblfv36hIhUMdTZ16Ha7PR7PtGnTCCHXXXddbW1tU1NTVVUVpXTp0qWSJBmNxsLCQpBKfn7+mjVrFi1atHLlyqeffhqMs2rVKkrpjTfeiIu3bdvG1uSpp56Cd/j000+zXMl1110nCMLVV18NKYR8wdy5c3Vd//DDD2FeP/DAA1g6VDEJgoDVWLFiBUTtk08+qes6eO3EiRPI2owfPx5OGx6EvMzs2bNlWe7UqdP+/fv37t0LEz8xMfHgwYNwHNPS0rBfkIfYl/LycoRn58yZI8sylDGiRAkJCQx6XV1dDTNx3Lhxuq4XFxcPHToUzsCBAwcwfyZA1q1bt3DhwuXLl2/ZsmXMmDGEkGuvvdbpdPr9fnjAbbxDsN7BgwczMjJ4np89ezal9C9/+QtzlwsLC2ErMG0NX7aiosLhcCB6uXbtWviUmzZtgvzhOG7YsGHYU6S0nn76aZPJNGnSpMbGRlVVQasGg2HBggWqqu7duzchIcFgMOzZsyc/P7979+6yLE+fPh3AV6Bnr776almWhwwZ4nQ6QZyEkD/+8Y8M9IvoAiFk5syZsJz69esHeYXNuojIUoi2hISEv/71r8eOHWtubt68efPKlSuPHz9eXV1911139e/fv00zMKfTCcDY0KFDESJDqpbn+czMTMBeENY3Go1IZUuShCSz3W6HIgRANC8v74UXXgBSA7cCoAYfysrKAoGAoiiTJk3yeDzIXdXX1yOXsH79+ttuuy00DwrwGODCMTExixcvHjFiRHNz89y5c3NycgwGAzACmqYhRP7NN9/k5eUhHI9aIvSeKCgoyMnJ8QYHKkzALWcE19nt9uzsbOyTxWL59NNP//znPx84cADPslqtLpcL4VZkm5GZh8XQpsWPyWRCsQfQyXfcccfXX3/92muvffDBBzabDdyLHg1HjhzRNM1oND788MMOh0PXdSS6y8rKeJ5ftWrVH/7wB+SxJUmCzw3kxYABA3Jycvbs2XPgwIHevXv36tULqfX4+Hij0fjZZ5+B9O+44476+vrDhw+bTKa8vLzIyEjsiKZp/fv3B8q3qqrqsssu83g8yKnY7XbgNZC61zRt27ZtGzduRG8LiN1zoBnbB0ZhYWFlZSVEQFlZ2cGDB3me/+qrr4YMGQKZbrfba2pq3G630+n86KOPqqurATzJzs4GeYDAXC4Xx3GokwNtxMXFIaTZ0tISGxvbp0+fg8Fx/mgms9n8zTffbN26VZbl/fv3wwMAfNrhcIii6PV6CwoKUlNTZ8yYsXnz5tLSUqBG8QiAucCnANRkZ2cjtQ/eB6r5iiuu8Pv9LpcLAFfcAX/OYLSoDYcY6d+/vyzLDofDaDQmJyczrCmKTwRBuOGGGyCRmpqaOgbH4cOHGXST1boASgZAo6qq2dnZixcvnjRpUlVV1cyZMwEAAST72LFjLS0tPM9v27ZtxIgRUAxhYWFI2+/du3fPnj3wb9AR5hz1lDzP9+rVq2vXrqqqIle3ffv2P/3pT7t27YLAAYYW6BtVVS0Wy+nFTm2aPCCV6PP55syZk5+f/9FHHy1ZsgQJY2DFPR7Pvn370Elx7Nixoiiim6PH4wFcaOfOncOHD4fHLAgCoCEAAQ0bNiw6Ovqjjz46fPjw4MGDIyIiwNTA2S5ZsqSysrJvcGzYsOHw4cMcx40dOxbPBSozNzd306ZNBQUFADSBrnJycgRBgO+LtzAYDMuXLweWPiYmZsCAASBvSE6mjC4sIl30eDxhYWGU0vDwcJiiw4cP/93vfvenP/3pgw8+8Pv9BQUFPXv2BMINs2cwRagWRFnRhAxYI2CKQI5IosKvFwShtrYWXwLBBS2rKAqreaCUNjQ0QLkykoqPj7fZbOhSlpCQMHr06IaGhpycHAarY0hLUBj4v0ePHv/617+mTZuWn5//zTff4P6YMHwaTdOSk5MBOXG73REREcCA9OnTB4A3aEcoHuY0MzXm8/mwJi6Xy263y7JcUVHx9NNPf/3119dcc82MGTNiY2P379+/ZMkSJA4B68IaQvWGAkFhReJBaOomy/L8+fMrKio2bNjw+uuv471kWRZFMTY2FnEDMJLD4QgPD/f7/b17946JiYmPj4e9AtANUIKwlO12+/Tp02+//fY1a9ZMnjx57dq1AI8BnfThhx82NzffeuutsbGxjY2NkiR5PB4YH1DSaA4AFQjIGaCJgeBgcFksVENDQ3p6el1dXW1t7eOPP/6Pf/wDZvKl6bf0Mx+AfsDFx45Dyu/duxdQgkGDBsXFxcXGxgKv26FDBxBAXV1d3759f/Ob39TV1SH3hn5dyP2AXxRFSU9PN5lMKSkpkHSh+FIQf3NzM3CPQEsC1A2tg+0L7VHMRI/BYIiKikI0okOHDhaLxe12m0ymQCCQm5trMpkSEhIWLFiwePHiTp06Pf/88yjNeuaZZ9566y3wC4KHXq/XYDD4fD6r1Qp0KBahoaEBrSJhLjNSYXKf5fkAFEejFnC0rutAdgDXipsrihIIBDDD0G7ArNMKA0LjQ2ijqAkTJuzbt++pp57asWMHFhbBVVY1gerM1NRUnudbWlqgLSilcXFxLpcLTEcpRcEJmJFhyAFVhbaD+04IOXLkyOzZs3fs2DFu3Lh7771XluWjR4/+7W9/Ky4uFkURbWgYogpSlE07tCwNrylJ0nPPPdfQ0LB58+bXX38dyF6LxQLxxXFcY2Nj//79YRlgfYYMGaKqKorfIYuAdYfB7XQ6MzIyxo4d++KLL27ZsiUtLe3AgQMxMTEul6uioqKhoeHQoUOCIMyaNQueAJoHuVwuIB9hoNfV1WHpsCAIS7jdbp7nrVYrot9Y3ubm5q5du3q93v/3//7fO++8M27cOPQhOne3oB+lDiMiIr788ssXXnhh9uzZQCUB3pKSkgKS9fv94eHhcMnhZ0RFRbGSl9CWm2ccwEFBYiqKUltbe/z4cUQzXC7X0qVLNU2Lj48HSg17bLVaYQXAczcYDM8++yzy/6zoGHc+R9MN0MpvfvObP//5zw8//DBTnIhVZmRklJSUxMbG3n///f369UP9U11dHcgoNjZ2/fr10dHR9fX1+fn5Q4cOxSsAOQKIMGuizbS4IAj5+fmbN2+Oj4//61//mpqaKklSRkbGu+++ixgseAPmLSujRLkepifLMhBAsDbq6+vj4uIefvjhXbt2ORwOOJrNzc2wCWAkTpo0KS8vj8mFxsbGhIQEdKDFl2D70IVKSkrq2rXrhx9+uHz58tLS0l69euXm5v4lOI4fPw6AHKU0ISGhZ8+eBw4c+OSTT2677ba+ffuCZ7Zs2QK4c3R0NBNw2DuGHQe9du3a9a233iovL588efKrr76alZU1bdo0+NkXvDnc/9xgtc8ILUKCr1279qWXXqKUZmVlDRkyRBTFjIyMzz//vFu3bgsXLgQyEJoMxnhMcFBKIyMjX3zxRZvNBsmIaldFUSIjIz/66COv16tp2saNG5EckiQpPz//8OHDlFIgL9p47dg+2DehO4VyguTk5L1792ZmZj777LPJycmQDDBh4+LikBfgef6uu+4C7FxRlJycnLfeegtE0qbjdqhoQ2QINh8w/ey5obVVGLgV5CzMNdAnpdRkMimKkpycLMuy0+lctGgRS0zW1dXBb2b9TllbXVRqhQaN3W73k08+eezYsXfeeQeldVDDycnJUVFR9fX1l19++dKlS9kqAUfN83x4eDjkjNPpLCsrS0pKslgsRUVFUDyCIDBPF/EnyEar1Xrw4MEdO3akpaU988wziYmJoihmZWUtWbIEvhTOVMC0oT5ZuScrjGa6UBAEmOlz5szZvXu3y+WSZRmNQcLCwtLS0jZu3Gi1Wp955pmkpCToY6/X29TUhEQYq+M0Go1M0qLcZdiwYW+88caGDRs8Ho/T6bzlllu2bt26Y8eO55577uDBg2FhYaNHj+Z53m63h4WFeTyeFStWXHXVVQgvHz9+fNu2bcDj2Gw2u93OTBx8YGJE07TBgwd/+umnDz300MKFC++9997c3Fy73Y7X/zHHLZzLSFUUZf78+StXrrz88ssnTpy4atWqTZs2PfXUU0uXLsXDMjIy4GFApbG0LcvbMdvtjANxM8hluOG33HLLli1biouLH3300ffee48QMnjw4G7dutXU1GCzS0tL9+3bV15e/tvf/hbW8U033VRVVYVqyJkzZ9rtdqTT27yMMWSgPpLjuN///vf33HOPpmnYZlQ03nLLLbIsFxQUvPTSSzU1NaqqlpSUzJgxIzU1FZlzXGwwGJYtW1YQHEOHDv30009xhw0bNiCGgPGdrneC4HQ6N2/eXFdXV11dvXjx4k2bNvE8f/jw4WPHjqEgSRCEqqqqL7/88tChQ7CF8S6h3WGMRmN0dHQgELjyyiv//ve/owgSkU9K6eDBgwETuOuuu3bu3InsxSuvvJKenj5q1ChWzmwwGBwOxwcffLBixYoPPvgA/kH//v3/7//+jxDyxBNPFBcXP/bYYzfccENYWNj777+/b9++QYMGYcdlWR47dqzZbC4uLp49e/aePXuqq6vnzJnzwgsvmEym8ePHd+nShR2XwcoNWRyYENK/f//evXtfe+21ALU//vjjlZWVLMbwKx8Q9w0NDevWrVuzZs2LL754ww03TJw4saSkxGQy/fGPf4Q0mTRpkizLq1atWrp0aVlZWUtLyxdffDFmzJiePXtu3bo1EAjccccduq4fO3bswQcfrK+vR1nhlClT4uPjESIDLUVERCxduvSBBx4oKSnZuXPnTTfddOTIEY7jfvvb34KkQxMikLBhYWGvvPLKypDx9ttvFxUVTZkyRdf1TZs2vf3229XV1cho3nLLLV27dt28eTMhJD4+Hp0dy8rKioqKiouLX3vtNURT9u7di6SA0Wg0BQd05NlMavwKipmViocWjxsMBpPJhOpbROmBI1VVdejQod26deN5/rXXXps7d+7Ro0e3bt163XXXffXVV+cZH0a51CuvvNK3b19UlBsMBoAbJ0+eDHz7888/X1tbW19fv2fPniuvvLJfv35bt25l7SmcTueTTz5ZWFi4bt26yZMnHzp0yGw27927F4Be1nMVSVPW9KO4uHjnzp319fU1NTX/+te/du/eLYpiaWlpZWUlevRwHFdSUrJly5YjR46cbsrAmAAg32g0XnXVVfPnz2dGEsK848ePh7n/4IMPVlVVNTU1lZeXz5w5s3Pnzm+88QZIAuGxI0eOLF26dNGiRbt27QoPD6eUjho1asiQITt37gT4/NFHH73jjjuKiooWL17sdDpnz54Np7x79+7Tp09XVXX16tUPPPAANP299967Y8cOSZKmTJkiy3JtbS2C1Wd0q/7v//7PYDA8+uij6enptbW1yNTCJ7lYvTvq6uqmT5+OHHUbO9FoND777LOU0q+++gr7BL/h6aefBpmi64GqqgcPHkSW+I477kC+FElXQkhycnJpaanb7e7Xrx9S9+np6ew1kLZ8//33kWoGeJJVAVJK//nPfwL3jwQVbKK4uLh///vfLGzCxvvvv4/bAjXgdDoRsK2qqgJajxCCCp7m5uYXXngBJBgREdGpUyc8tF+/frt370YD1REjRrBeOWgjMnHiRISSxo8fD6QPZoUciaZpZWVleXl5UMYpKSkJCQkWiwVwaoPB8Pe//51Sings4jb9+vWrra1ljaAOHToElPmNN97IUDbQkcjME0LGjBkDI+Pzzz/v0aMHdHZCQgJch8TExEWLFsHzKC0tjYmJgZsoCAKSRrBONm7cCARNXFycoihOp3PChAnwSgF2YL3xHnnkEVb3yqK7SP5rmlZVVYVfzZgxA+U0bre7rq4OhUdjxoxBf6mamhoUD+Tm5rrdbjgrv3IoTW5ubqgJxT6npKS8+eabQCRpmtbc3HzfffdBLsfExIBBgMEpLi6GVzRnzhzEPyVJSkpKwt369OmzZcsWn8+3Zs0aGOYALYfKEQCgWMMzhLIppVddddXZ3Pe+ffsCo4EpWSyWxMREXDxgwIB9+/bpuo7yVswHAaehQ4diDtnZ2YDS4K3r6+sZAA3iAgWXfr8f4DUgYIcOHQqMZUREhCzLKEfbuHEjY3bQMMjVYDD07du3rq7O6/Vu3LgxLS0tFB44atSo9PR0nucnTZrE6g7RIk7TtIceegjI0l27dqFxBMq0duzYERsby/N8VFQU6g5R34K3gMeMJZ0yZcqJEyfcbveRI0cyMzMh6zGysrKuuOIKMP6iRYtqamrQeXXChAmAAqGWEWA6juOSk5NtNlt0dDQqOjiOA2EgpYWU26hRowBKAKZm79698IlvvfXWNs3eUCiCukPM/5///CfKE4HyhVmfnp6+fv16FNV8+OGHLLfKcdzNN9/MOvMBdMrE0d69e1mPZZSfojSgvLx84sSJzMtkRDVz5szy8nIUqePmb7zxBpqNoIgFlwH239LSgnoMgIrbdOi8sIwpLFiw4JprrunVq1fnzp1jYmKwARkZGdnZ2XPnzr3pppt4nm9ubq6pqYmJiRk9enRWVpbD4Whubk5JSZk8eXKHDh3gbxUWFsbExFx77bWQ0bIsV1ZWNjY29u3bd9y4cbDRKisrc3Nz586di47Sdrs9Nzd3wYIFo0aNQn16amoqWthkZWUNHz68T58+gwcP7tu3r6ZpUVFRiqJ069ZtwoQJ8+bNu+KKK04/kKGmpubEiRO9evXKy8tDixYQWURERP/+/Wtrazt06DBx4kQgfXv27Nm9e/fw8HAo75EjR15++eXPP/88tLUsy0OHDgVqvHPnzsOHD58zZ879999fX18PQT948ODDhw+rqtqrV6/x48djy8PDw9PT0xVFQS+ezMzMBQsW3HvvvSUlJbIsX3/99ZdddllGRkZVVZXdbk9PT7/88sshFsEwXq+3urpaluW8vLyBAwcy51sQhOHDhyMXct1112VnZwcCgeTkZNTRh4eHBwKBzp07X3nllXPmzAHsCHjd9PT00tJSm82WlZU1ZsyYq666Cm59UlKSrusmk2natGngSavV2tDQ0K9fvzvvvJOhigghI0eOTElJgdJNDI6pU6c+++yzHTp0ADTp66+/7tSp05gxY/r06UMpDQsLU1W1qKjIZrNdfvnlAwcORLFHampqZWWlJEk9evRAAeW5+4T9IgdrKKjreklJSUJCQrdu3Tp37pydnZ2SkpKZmTl16tR58+aNGDHC6XQi4RcWFjZq1KgOHTogPq/r+uDBgydNmvTkk0926tQJUKmRI0ci2YMug7179544ceL8+fNR9H3gwAHU9S5YsGD06NFI6qSkpEydOvXll19GcXBoNxk0pQI+87Lg6HZqdO3addCgQVdddVVOTk5iYqLZbIar0a9fvxtvvHHJkiWdOnXyer2Ig6GfnMlkuv3221966aXIyMjm5mbQ4bFjx0RRzMzMvPbaa81mM4IZ5eXlDoejR48eeXl5CQkJAByUl5erqpqTk3PllVc6nc6qqqqEhIS8vLzu3bv7/f7jx49nZmbm5eXh9QG+czqdvXv3vuaaa1RV7d69O6CP8fHxaWlpQ4cOfemll/bt21dYWJiWljZ58mRBEBAIQQ+Umpoap9OZmZk5bNiwuLg4AGTQw7pbt26KovTv33/kyJEmk8lsNo8ePToyMlLkicDzJqOhb5+se2bOeOzRuVHRMURXY+PiUrp0qSgvC7fZkjp3umbMmEfn/nnsddeVl5UndkiYOGFCfFxc2fEys8mUe3Vuv+xsjhCe48NMpm6XXcZxnNVibW5sGpST89Tfnp4xY0ZJSYndbs/Ly0tPT+/duzcaanbp0gV1qIgDw8U/ceKE1Wq9+uqr+/fvH3pmxciRI1taWsLDw6+88kqgrnJycgYOHIiGbZIkpaenjxs37m9/+1vfvn3hgsfFxVmt1rq6uqSkJEiqXr16IbgVHx/vcDgiIyMffPDB5ORku90eEREB9N/IkSMRxwYBIAWOMEBMTMxVV101ffr0u+++u0OHDji4saKionfv3rm5uUlJSZDYqqrm5+d36tTpN7/5DTa6V69ewD+HhYX179+f9be74A4iB3sQ/jVCHGgrwLpgIEcI+xGwHwTrQfEs8gNnnAUqARuB7xgVFVVbW5ubm/v1119PmDBh5cqVOGJCVdWsrCwWD0G/wUAgcPz48fT0dNYVELxaXV3d0tJitVo7duwI/sGftIl7VFZWhoeHA3/FuuiyRnnNzc2RkZGAOSG8Dt/F5XKhlRoT0whhK4py9OhRs9mcmpqKx6FoBGFMURQbGhoQkWDRY7jRJSUlXq8XHV85jmtoaGhubu7UqRNgOy0tLU6nE/NkeSOGa/V6vdHR0aE5FdbtCQSNtqhQwLjbiRMnbDYbwG8MmADaQtEn64oQmqepr69H7hpuHxrssn46LOePpxQXFzc0NCQlJQHFA5OT4zg0hUL9KFA2JpPJ7XajIR9yrujq1NDQAKQx0iq/wjMuGEwD7gi4urGxMSIiwufzhYWF4fxniAkcf4hOlQhEHzt2zOFwwGnAFoDYcJSPJElFRUVer7djx45RUVHsUMB33333lltu8fl8K1euHDdunN/v/+abb4AEDqUHdjQm5gCSYN37mNwByAuP1jTtm2++oZSmpaXBtwg9Ztbr9RYXF8fGxiK7yfN8ZWUlz/ORkZFoicJxXFRUFPgIcTwAN2JiYiA9gOiGbIHNh8XBmrCEE4P1YQ5oCwdwX0VFBWJL6HRvs9nQPL2kpOTWW29duHAhJBUDgSOyZTAYsMLoEAbTBNKJnTSE/LcgCF63E90Qg/ZBmKoGJINRVxF85hsbG9xuD8/zHYO1g4RwrhaHw+FI6NSRUOL3+Twet90eSThOb2UoXRBENRAQRLGs7HhTY1NW796cwKNqvqmpicUGYDdbLJaYmBgIENYuGHjGyMjINhl6wHZcLhdrGMmwRWVlZQ0NDXFxcQCFsMQkriktLUXdcOgWIwgPcAmamgLhApoJBcz7/X6r1ep0OgsLC00mE8LXWFv4nQA6hDZxRVwdjVthFIKoGhoaDAYDgJ8MxHfh1SHjAaAZIQRZm2B25DSDt7IyCRATg4cwuC3DVbNrPB7PiBEj9u3bN3Xq1CVLloS2dmU+EK5kbe5Y+0SWesT7Nzc3AzJwxmM/2QzxV1AzDJOG7ALrRs3OPmQqH3IH1iI7NhNaE9vDJAjLYLMutOArs9mMRQCVoC6CURKC8gzL16Z9F16TwQ1C08UAGQOFi/lomoZ2iEg6wlcDwAxvwfp04/pQ3sCahHZ5buPBMGbAdrDsYOhJigiJhHIO5Dgs7ja9lUPvzw6Y/VUBatrYbVhbhrZHh1gcOwpMYBtrL/RkO0T50NuT9c4NPSkTbW/BRytWrEAno8WLF//ud78L7bR+tjPCWBNUhElC1Tn2FHQYetg6pBs8LWg1xMdgU4aeUos3Ym8HnDlDykBEshbE0KNtTudHvI4doglcOqgRgBc8sbKy8vbbb29sbLzllltyc3MFQSgpKfnHP/6BgsWNGzeOGDECRAvmws1h5wHphkeDmDEfsBsr0mh1AGSJgIyDeXNeFAPBvB0vij6P12gOo5rKCaKuKorSuoNqQBMNcqv6DahiUExwAq+1qhMcD67jQyvLq6pokMHI2FxsaKgEO53G8LcAG4fuL/YOCp4dQsDa94NPWedxrD+sotB3hxBgx9P7fD7Y3LAnIPAh1tiW4aGsjzwASuyke9Y3nMWK2P1BJ6gmgMjC/UMhnBceWQrGw6RFUQw9+oDxHugV1Mkcc/YzFIrGgM74X2ZDYVNZb2j0F2ZWBjQQgwyFikvmNrHfoiFcaCN5tjTg8NDm8aHYV6bqYAGAq3EHUEnoARGswo9pAqZBwbRMR7JqKlAS0N7MPoK5EGorMb8W9loono2d+8zel8WvmKeOFwc4jRmwrJU2YwDW8x5Ez4RjKOcAIYVfQTa10U8sVItqHJfLZQ4O9naMkdj5JKAKeBV4OyZ2YV4wgvl1gksZeWMvGAFj3UJPbGbYY/AmM+lAtCaTidEPa50MFmbXMMgJjkRgEEqImHOcl8lOqmlTbgtaBV2hgTVDL4cegQIsIkuLMpOLgT/hy8JqhPkPx4JJG1ZLACplZbXQduAgtnSMoxmng0dQEvfll1/u2rUrMTERItvpdCJ1179/f7fbzY4HCT3AAa/JOI6Z9czoR8EcHqRpqh44eQfJYCK6JooSJ4iq4mu9j6q0WuGt2rF1v3VdC3YCI6oaNMSDmkPzK4IokpMC6mQIAVf6PF5BOnlgAFwxSADwFztEiBnomDY2GuYCEz6YeegJQqyaBXY80zr4jDVn5j4ro4J2QNUEVh6uM+iBCcNQNYy9Y0LSYrEAJSvLMl4BOEe2EVAijDwgb5k+ZnbkRWmyH8pmZ+u+/2MO4gEPKIry4IMPfvHFFxMmTEBb+tNlRBvddo45tDkP4Wwnd4ce7Nnmt2d7o9OvPPcczn2381k3Vjl7DvXQ5m/bHG51xuvPfcp/m0OVzzi3Mx68fO61Op/5/5rPAf6+fHT+FHv6fsEc0TRt586dTz31lMfjmTdvHk7V/uHC4jx44fu+13kS/A9+1ptvvvnPf/4T9XAJCQnDhw+/6667AAhqw03nkDNtZM539oLqbWfCBz/r9Czf8G2Opfsva8Wd1xqe8WSSs93/3PLw/Nf/bOvTpn7me83n3HLyYssTDqHeswnQH68O4QgzJmSa73ux+nmyxLmv+Tmrw+8lHX6AmDgjybarw1+wOkT6g0Wo2Nl+P6aE+ZKpwwv4LFzDluK/TuB81OF3eOfnoQ6/1/r8V3V4nut/YdXhD+OdC1x3yHThRQrIskAc80FZXdrPfFy8CHX7aB8XW++yfBjCXOwEyv/NF9KD/37gQAEuxA4Cg78yvv5Rq/djhOd/Xeefm4wVQ+d9Mc5iRZwXQBUkCE+HV1zSfQraLoTqIcZXsOECQegc0gRbpfP05G/bR/v4Hxqh8DHogGB4hmp6QOCDcRoaQtUcxOXPjM7hFrWy648V5ZA5DHoTigo8j2l8d1m44MQ4ekrN/PwVYfv4PozDACk/wIH9McGi7xucuUCKkBBd+5ZKOJ1yreStE14jhBKB44LoAwIm1LnWzwKTFOcTLP2ZS8kLsl8/Zl/aHe4LyzvnE5ynVPtW57XKd76V6GlQuLdeGvwtvr90Jik59fhvpxlUgkEvluNPqcNvuZW/hDM8PUbZ+vBTK9Y6Ryzad/XledG2zv24iZxUcty3W81/R7zxoapaPxWc5UMvPv9A6A/j6/MPw57/ul0MWXQG75A97Bcvp05Zdfy3AQRO50iwFIxoHJGCbmEwpt/6kzKyancP28f/+OBDlJ/e1uP5CVV8qEbkvsurYD+OPxXr+4nn3KplKJsdRZCpVVdx5CdZzxA1qZ/c3++IOT5EI/I/p03/WQ/xIp2U8TPViISjra/JBxWhyoHTdJXjiEA1yvGIlgYDpzzfqiD5do3YPv73Q0DBMAcRWmU3FyBEbbWDuVMOIiXMNaTcJRXlOvcdm7+VM3XhlENzypdq5UrmVun8xRbr3wZpQz2w4Ow49kmFX8i1DTtfitU75V7q3/UOW1eMP6m2T4Vzg5kgPSjAeBL6V8L/aLzqoqvDX49QABlpHChIFYhCqI8QL6FKK5W4laBY0HXCS2FRhMiEmIM/+fYAfPv4nzT+KD0l3JlkpwiKnLLx2L/gxTx3aflRP02o8wSOF/MO8R/KU16/5CkJ/WQ49KSDBRWiBpEHQbeWij+Ry8WfISnIUUS1OES4eES/Toa72sePVYe/EGcxxNbjaas12uJsCreGiUQlan2gufJ44b7S4oLqiuMuhzvMZo2Kj+6YnBwe2Smxc4Zo7EBpmMoZCS9TSQya1q13Ot2C/qU61u15vv+tvQgtugD+H5QfVHVU1VSe0zTdR4jucDhkychxkiSajAYL6vd1SrmgRuQviQhtVXFcq5caILqB8AFd4fXAyXQGT4jP2XqR0UIEiehaqxnLX9owDacHNJ8kCDpR/X6/LJh1XeUF3a+4VVUzGS2SFEGDDQ++70b+sMtZgcdJx5Wycnve53cToquaEiZLJKD6PV6DyUhEgUgyx/2XhOvF4PHvRas/K1nEsX5g5yjDv5Dm6k+nDoMGqRogbiPRCGmuKfl687rllUX7Is3ckJy+ZpPJr6oNjrrPd37p18yZWSPHTrqHSLG6EKUJ5lPd3sglCyj9msV6+7ggfmErt7X6N6pK/ALPq5pfFihHlIDqlEQTIZyqalqAlyUbJ5r1VmftZHc04VLtkc7pKg2IXDB4pytE9REpCFkJeFudG1VvVZQWe6sfRjiNI5RywsUO9DGJwSlBF9WvEX9A8Rt5mYgGojUQIehCaAL1SZwhnPDfQu3Oy73+vg7laerw5Ow4SgP+1p/Ez8kiIW5d9fA8RzRKJCvxeonJSjRCeVnjWr3Y0HXjOOGSkuL/jhz4tqr0EszvJ1eHhPM5/WUy76wq+XrDqn/Jnqoxw/tIapPqaZEETqVqk9cR1aGjSzH/e93OuIR+U2Y8QY0pAS6cF2XhFGXSb6MT7aNdHf4s1SEwj63qUCWcououVXNLMqGqM3/f/ysvLeJ4ajKFpaX26HJZP6KKJGAiUoTOn+pBGgzHoRHnhRKdSFXA7/zWrORUjvgcnjqb2UhUV+GBLxuqT6g+p8VittlsqZdlkrAOhLMR3kJ4g84JlHAXO3eotz4CylelnI+SgEb8kq40lhWWHS1we+v9isdksgzoN1SI6koEO1ENhD9V4N+qGkPiqxdYHWqnRGiwmRtVSMBFzDLRG73Oin37v1BUh+Jxh/GWHt16R3S5jBAj1QwaH6YRmVBRFiVKtVbvv9WtbFeHv3Z1CBypSyMVlaW73lg4f0S/tLRoyVtfbDfpPkeDzPMczxktYQFOrmkJhEd227KttEXrcPvcVzUhttV8JqIQGixtV4ft6vBnrA4pT7SAJvEBwrkI7ww4yz9YvcLTXBVwVVsNvMfr5DnOFhHr9JCBA/O654wm1E44K+EkysmUQ1xSv4CehA5cB6Hf8k2rqvbpSg0vujZ/9F5h/ldhsqb7W4yibrdFuDx+jVqiYi67cuJdhFiJEKaLJspJF7vcItg0q1UXEk5xNJVbrfzhQ3s+/fAdu6xEGKnib/R43bxooLrFZEoccfXEyO4DCGchnBhEJ0mnEnsXXh3quhqsQKGqrklEJ44GYtKU+pLlK15S1XqzhbhddbIoWGW7LNmcPtJ34Mju/UdqxBLgInVqNEpiqwAM7iYXUjzWrg7PoA5/ieMkRbZayq1vGSC8wpMWQsqfe2J6gs05uFc856g26h6BuAWiyjov6CKhIiUyJ9vcahgVuyxbs3PouOl9rrnN7ZIM5hihTe6Qo+3ivn38PElfIyTg95mph4gtB9a/sWXT22npdrMYSO/UQSAKx/kopze6AkdPNB6rVlLTh4yZPJNoNmKK1XRj0PjjeeAnybfq54fTNuVOeocn1SHn97gCmtNiU53lu5e++Bej6OzeNTrGyluNxGY2mg2WpibteGlz0dFmjxZ+232P8/FdidFGhOiLDfTWW/3YgMfZIHNuyeRf9+YLR77ZltUt3qA5kztGGiXF7/druqHoWH1JmbfFJ4++/qaeA68iYR3VgCyIVo6XL5g6DA1GcUTXFY1TOE7XiCpqHkFpOfL/Pty44e0OsXxUuJ4YZ4uyGzmd8px8vKL2UEmVVwuTzAk33fuEU4mxRqRqupfj4BfyoTWm7fIqdAiPP/74L9VEPklQ+G+rKapyxHU0//P8Lz+6IjvRpNYYtGaZuEXi4YkikYBIdYFyAiVqwOtxujWNj+3YZfver/tfmScINsKbeNyRa2u4tavD9vFzI/2AHhCITxQ8X3yw+INlf+ueZMwddlmMJWDwNRr1JoPeJOsOi4kmdY6Pi4s+sP/rvdu/yM7NCzi8lIiCZKIc4TjtVAXbj67FCmIeIdVbb6tTUSSymbqrD732/JzLEuQeKdaUBMkmtphJC++rV92NnOKPtFkSoiIpVT/buq1Xr0zeHEZEY6h6vhjaUCcaVb0Bb6NJ8q5d9lxd+e7hAzt3TZQijV6lpczCOYmvUfE0dekYn5KaHBcTvX79mtiYmKikHrxGdCIGS9dChM853L3z9gvxmeMo4TSd+gROEznn4S2rN7z/ypB+Hft0j+oYqWvOMq35hJX3OWqPGaVAj4yU6AhTRenR/K8P9LtqnOLzi6LUugs63H2OzbBdXv0q1SHRgvkA94pXnurXLS7a6DLqDpPqkalfpJoUBJkHi/EpIVTjNNlk4mSzhxrLmwIxcanWqKSALoq82K4O28fPf3BEVRSHkXc3l+5bv2bxgN7xA7M7tTQck4iTV5yS6hE0F6f5RY763K5wq61DXPzR4oqKoyd6DBouGK2U8norQ2jBZINwAdQh2s1wGscFOE4lVCW8h/oqVyx5Koo0D+ubEh9ORbXZSDxcwK17XYrXpVMaCChhYYb4xA6cUX797beGj85TdE0Qwi5meRjliU41r1H253+1cftn7wwd2Ck+SlWdZeFiwEwUR12ZzSRZTEYt4KeqKstSYlKXlatWpyZ3jYhP4nRZIxwXPE3u/LTceWvpVsGkC0QnnE8g/uqiPf9558V+l9nTk8ze5hLdW2GRPFajxusegSpmWXc6m8KMQpeOifv2fV1WVpmZMzTYXU7kTrqGUIQ8oe3i6jvjl1Zf3ubg3NOH6nObRd7IE5NAJF0XdVXSiUDRvChYpMwpHO/3B1oEWbHY+C7JCZu2bApi7oLG8jkjpe2jffxUBB96YlGwXN3D6c37dm9QPCcuS7O7W0pooF5XGnm9RdBaeM0tqm7iaTTrDmdlgZV3XN6/a311UfWR3UR18UTl6YWtttX51n/Boj2iaqpL99Y3VH5T9PW2y7PSiKOyqaLE01Dha64lPpeoB2Rek4jHKDpVpcrjKrYYnV2Swt5fuUiWeXIyhHvxhqQqHtXb+NGaZT27RcdGaL6WY8RbzfkaOG9TvM0kq24p4OT9jbqngnoqYsPp5f0z1q9Z6Wms1DV/q92tB48o0Om3/36kVf/tx4BAOC7gPLR7q6TU9L0sJtBSatCbTLxL5l0ScfFai1VSjLorJkwnSr2oNw7uk6K0lB4/uNXnbdF0jR301uojtkPkf8HqsI0WDKgBTdM0lTY2NeHk4eLi4k/Xr/e7PD6nS3F7dH+A53gh2KXmO3TBU1EiBiPVqVuUVUoUo0kURCoaeEIDQS+TtuvC9vGzInh89vl8p9ShJurehsrCY0VfXX1FT+KvMgtus+wVqVMgPo7zidQvUr9MPZLaEmHwcb7KSLNPUOsrSwuI7iE0oBNNp8FGTbzInxrc2cd5OKwSR0QabBcmSIQPM7z1rxcmjx0pa01G3WM3UptETSLliSqInEESJMEnc25ZaJKFhsgIv0lqKdi/jXhrqeIjOCyJEiibc5u/33f43Y0Gs7Tl03XxUXLP9NiAq1zyN1gEH6+0GDhFoIrEaZLmDRP84Wa/1ezxO0+kJtkKC3a5G6sEo+D3eyXRQNtomh+pGk+d2dXqqeuuhhNFe7Z+dP2VA9WWCjPxmjiPSDycpuqaJrSuryJShfgdJqKYOE9K53BP87FDB3cYzSY9oHHBOkYIMO4SddH5XxriL09G4IPAC06nyyCb7BF2p6vl3ffes0eGlR8trqtrio7qKvE+gfcQ1UeIFOxKg1ZV6GXFE6JxPNV1VddVjtd4qqmaovOB1os57hL3O24f7eO/Enzo+XnB08xFyWzyu+rdzRXx0b2IwykSj0gVjqh8sFkJkkccpQIJSETViBhuI4mx5uPH8juVfsOFBRTOohNRJ3xoYcOPaGGvE6qpeiCgB6ju5VW3hWuurzpm6hMp6j6J+nSiUE6lwdJHLQhqFYJgII7wKqdrSl1aUnS101FRXmqPi5OpTZTlk/mvCzxa59mqUryNeqBFomZOV2RdlThdoLrA2pbyKs/pAqcJhPc5vRJnS+sS1dxYGeNzCpw1eIoI4XmO9Y75ERCk7/xXVT2iKAkBl4XXRKpIuqJTVSfqdzKVwT4GPCUc12rPuJxNUZEWniiaz8kLYafaEnHtLUx/FeqQDUVRwsPDCSGLFy11OBv7ZvcKqG5C+araRpdPt4aZAroocLJIdY4LAvF0ieOEk62YKMdxUvAgGM3pdH1TcVgSJLfXJRvDOTRu4kj72U/t42fHzKJ4UjNpfqJ5GyqriN9n5PUAUSSq8ETniK7xQbg+R/lTMpQnVCA+b0v1Zakd120t/PKLzy1xboWzqVTQOb5VK53lLOjzP4i11bVsVb6aoqtU91FfQ5zVY7eadcXNi6rOqTqvBtmK1zhRJyJPdUkLCFQlHOUJbzRQm0GOi7JVVZxI7DqqtrohMtLOcZwgyBd8DWVZJIEWj6M5xm6TdJ3XiKzKUrAsJAiPBcvzOqfrHCW8L9pu93LezO4px0uPdO0/hvNqjY31VotdlC+QaKV6sI95ULUGw+Cuxtp4u0XQdZ7yGuF1InOcRklwAVsVoUSIqFORUgMlYkAjcfEdS+oam5scEbEJuh7giNzOKb80dXjuk9wJIUajefXq1QcOHEhKShozbIws8++9v6Kposzl8h07Xh7R1SAQTuJFlRNFKp+sr2oVEFzwvCdZI0ZKwjTVuHf3vqP18ssvPX/3jL/oJBAMM/BIbvPtEdP2cWlp/tx+Bs/zqqpSSvMPfL11w7IIsdpiMXm9XqHVsuP4YFl+sHOKrpOTPZa0YHUhJbzD4TDFyPGxsb0ye8ckD1CITeNE8t0CtbOdHhw8TPG/DE3RdF1ViEp1r92sac7iDe80my09NcWhUSiYIPC0VU0HG+jTAGKsOq/6VQ9npLIsv/LSi890/01sbLrf7xcE/mwe6o86gEw26C0uXfPFxdh54uKp3uojaxwVWlle+NaJ5KmmC4QYBd7hcEVHdHrh9eWpGSOTe15hNIcFtDMIKy70MNVTEz3HZp98UKujd/JQAUkykkBzQ319dHQ05YJ7RyGEWs2b4NUi5URCRY3ndY4XeNEgm+ymSOfxRo/HHckLmqoLQjsn/YLU4bnrOvFz48aN69atmzJlyi233NKxY8e6upr3P3gnqVMX4qnleWnb9r39Mq8ShQi/yyW2mqSIIWiEaLqgahzvCwgab+b52JoKbdf2+uTeA6uOVb7y4t9vuf0uyWgmhFeJJrW7hu3jktN8qGBlQl9RFIPBAHV14sSJZcuWUaVxXO6AzR8tirZY+f/P3nuAR3VeeeNvuWX6aNQ16r13JIEwiN7BGGODuzGOSxxnnWQ/ezd1kzibZB3bi3GjmWqMaaaIDgIkhISQACEQCCFQQb1Pv+19/8/MxazjdbybPLvff781x9c8Qs8AVzPvPb/zO+V3tHrZxSuUZSnBVFb3MkCkEHB30yeBHAEmt8LLAr5Q35Q0xhVpsGg4fyJTxHBfLVL+mVv/EoC/5YbvJW99rZaIEEUCbhbxp47vvHB2vwewdglqEasQBvhG4iBVF1Yw2OvXMUGYIFnBWEaMS5R6h2yxCYmbN2+KjM2bPHmKn38AAMDjcvI8T4iCfdpp9C7ioL8NGokiIupCBt5k0d/pvJYQFEiABKDoDRvultpEH4YxyMu8WI8LacxaA6+/3tkZERpYum9nzI2e+Q89zWLOYbfxGlZ9i75crv51N/XN0PjVZYEQuAS3z+cAURJYFgGCGL254eatnMR0+6gLIkGnY4jkxnfpPiVemCQEyRQCSdISoHg8zhPHTtiUqJ/8Yy4lELLIaXfodGaIoMclaHT8V+7hu/6g/b86aHHvebu3x59SarPZWlpaPvjgA7PZ/Mwzz1it1uDg4AsXaveX7p0+fVp7++1LF6pjIgPH5Kd2dbeGBJsZBmCMMeSQNyxABEIJQRFqJGShrNXuMu071GAMSRp1MBMnTFYIvXqtKTYxieO1hFAMGfiXUfm+3bf/CxkRdas7w3iR4M6dO9XV1ceOHVuwYMHUSQ+cPLbPNtzT092Sn5OmCDYGyhhQ7JPMRoBS3+JrBXqxUKE6CZg4Q/jVllFTYNLVmwMNV26HWWNNlkBAgSRLql7vN8Lht592CKHa3eOFQ4wgArdv3Xz//XeoYp83e+reLz6fOC5XQ2wMcEIoQigjL2BTRCGmFALR+z+GItLJOFDBwUePXmlo7H3k8Zch1m3ZssXiZw4OCuA0OkAJYjjqY653Z9bh3wKH1KeKPTzYe+ro/j07N+SkRfvpFB4IVHazrApi5K5qHcWQsFRmFaKVgUFCfkcr6s/V33ntjV8LCrNt2x4Imbj4OIZj7Da7Vqu9q6d+907+wrv35/d5N/4AlGFZlyQizGIAB3o6as6e3LT+IxY6CzOigTRq9uPdrmEMFeQlsNAnEoJURFQAJwic3hR5645j+572tt4evSk4JTmFYU2KLCLEIIy/ntG9D4f/r88dSpL3cR0YGKirq9u+fbvdbn/llVcyMzMppTqdrrauZs2aNd/73vOnTp3ouNNxu7Xl+e89P/PRRzZvWNPV1x2flEAQJwOGQI4CTBAvYJ2AzFAX3djmOlLRPO/R7895aNmGLTsYjS4lM9McGLxn3/6U9DSNRosg/soGtPtweN/+75ksy5IkUUoZhoEQXrt2raqq6uTJkzExMU899ZQgCH/4w+8zU1OqzlT293VnZSRpWMJgGSAvxfH1gCEKKPH6TZZQDlCtDI1a/8TzDZ1dw/Qnf/xYEdAnG7eODA6FBofqDQYvjfB47hHBvwoO3W63TqdDCHV13Dl9+mTpgf0vvLQ8NTnhs88+vXzxYnpCeKhBZqkDQi/w+XpnZOglRQoFsgKRAjgJmCUQ4nQHvffOBYMxSEbaydNmPvjg/Lfe+pdbt24H+HsN3BsLgX8LHHo8HoZhRkdHrzQ0fLJuU352Vl5myo3Gi4F+vMnAyZKb51iirqCHEECWApZSjhBWIhonMSqakC+OXpR54+Vr3eMmzFywYPH+0kNnz1YaDYawsFBJktW87pd3gv49v/+LiVMvZcYazNocrisNlz77dFOkNfiFZU9Vnz6cEx/CKDZJcsmyh2UVRClU11F53z4qeyMKveDWQib06u3RpvbO7mFBgZqm6zetoSGBQUGY4b8B/+7D4f/rcMgwTEVFxeHDh2/duvXss89OmDCBECJJkkajqamp2f7553/44x862tsbr13Jycluudk8Z8FCi8VSPLH4SmPT9Zu3bS4JawMM5mCPxEhQ54FmDwqsbx5uuGkvKHl0zKLlGsav+XaXJTDoelNLfEJSbFzcgdIDwSEhAf4B8JuO8H04vG//HYzwqyaKolarFUWxubn55MmT9fX1kZGRjzzySHx8fENDw9tvvz131qwrl6/KotTX1wWpkpgQDZAMfBwPUUwBIoiVACNDLQEGhZpEYLl5Rz53ucMYFNfR2jfjwaXTZy04d6b6etP14ZHhMKuVYRh1CdRfBYeSJOl0OkVRjh8/vm/vXj+L36s/fM3hsG3d9qkkiuFhwRUnDk8pyGCoh0JF3XPo063x4rYCkIw4ARpFECDD8NJDDSEh8ddu9Cdn5dZdbsjLy5s/f77b7Tl9ury7uyssLEyj0X4LHH572ZVhmMrKyrKysvaOOz/+8etRCWlX66qqyk8mxkQEBviJbhfHanx1U0ghopChvjBCJqwHGHRByeUXWq+1DvaMwqIJc6/euGO1Rk2dPhMQ5ciRQ6Ojo1arVaPR/G1wCAGACF65cuXYsWM3rl3/4Q9fTstKP19Z0dZ0pftWY3pyAqthEYtkolAvCmICMQFYhrwI9TIwGs3xV5tGRhXTi6/98lT1ZUnBycmppfsPpWdk+flZiE9l4c8EA+7D4X8PHBJ1cOFbxYr+dgchy7Iaq544caKysnJ4eDgnJ2fp0qUmk0kQBI/HYzQaKyoqzp49+/Nf/KzzTufBQwemTZ3y1lt/fPZ738vOL6CQ0WhNBROmDgw63TLXdKv/WkvP9dbBC9e6bvYIw4Jx0KWfteil7ClLgIeHvCUkOPLj1Z9MnTHjdmvbww8vFkTxfNW58DCrxexHCEEI/VeV8e/bfftGIKSUIoQIIbIsAwB4nu/o6Pjiiy9GRka0Wu2SJUsiIyM1Gk19ff1nn3320ksvnTt3ThKVkRHbL375y4H+vlu3b8YlxnsUUSYQAUZUkEtBbpmHvL9L0bsVI+SjNu4sr6jtK5k1T4Kapub29Mz83Nx8k8FYU3u+5nwNz/NWq/XeAOK3hIDqbYuiSCllWfbUqVN79+4lhCxe/NDY4vE9/b3Hjh9nMMtxbGXlWdvQgAYoEZHh3QMDkOWxRidBRiRYhKwHcTaJFZCfwlnLq9pjEkte+sGb//LOGn9rWEpqakX56cyMzLT0zIL8/LoLdVVV1R6PJzY+weNxMwyjKARC+JWindckSfraiKT6na6urtLS0s7Ozuzs7EWLFjEsLt211zY8GBEaUnb8aEF+gUZnGLU7MItk6mVdCuJEwlJG7xQQ1kdcaXPf7lMWPvGDQ6dqXYpm0vQ5h4+eCg4JKSwqmFgyqepsZUNDg9PpiouL8yEP9JFF7L23r/kNBCkhEHljbKIQ33oMbLfZ1n68qqP1Tk5uzpJHH+F49uypk7eam6dMmLDuox2RkYGxiamDI3a3qCCNTlY4l4QAoyeMn0PW6/0SPGLAyeqbBVMXpxRPr6277BFJeHjknDnz9pcejI2NM/ubZVECFFBCiSJLksSwzH04/O+AQ/rfEXJQSgVBYFkWY3z27Nldu3ZpNJrY2Nh58+ZZrVZBEBRF4XkeY7xjx46bN2++/PLLCMPVq1ePGZN//fr14JCQjKzM4NBwCjAFDAZ8YvqY9IwiCgxB4SlRiXlBcVmRSYVRyeOmP/yCJTgZID9AtYrEiBLtHxrSafXJKSkb1n/yvRe/bzEbd+/aHRQcHBgYJEnSVx3EfTi8b/8doKieK0KI0+lctWrVrVu3wsPDZ8yYkZiYqEaH58+fP3DgwEsvvVRRUcFgtr39TnBI8ENLl0aEWs/VVN1ouRmbkIAxg7AWIE5GehHrXYqR0YYP2bmDJ+qdJMihcL2j7udefK3u4pXhodGEpER//4CCsYWCIJw/f/7mzZvZ2dn3aM23dLQRQliWdTqda9eudblcWVlZ8+fPN5rMtpHhzZ9ujYyOHnU4+gf6L164+MRjTyRERh05ciKnYJyMOBEwMuIAZyScyUEZbAzVBSVt3H4yIDzv4Rd/fqOpt6Nn2OF2LXz4obCw0L179z1QMll0u8cUjTXodfX19dVVVZFRUWazWZK8QYPdbkcIYV8n5T3hHkVRVLRWa6779u2rqamJi4tbvHhxSEgIIeD6tZaqs5Vj8vL7unsv1V6sOlOVnp7Ja/WCTDUGM9KYBKpxiKzNhQ1+sfU3+i7cGHnm+z+LzZt04PCZtu6RyOiEiSUlp8pOjsnPQ4DkjSngWKaxsbGiojwqKorjeJfLhTFWefa/I4KIKAr0ISUEcM+eL44cPJyWnDZ37ty4pDgCwNWGhgsX66ZOmXqo9EiAUVN6oFpGJLdwLEHssEPUGQIJY6CsecAOtP7xza2OQ8cvT57zZObEuUDvHxoS0XC1McA/sLW145lnn33vvfejIqLNfn4sxyLsixsoRQy+D4d/JRz69CDof5Ae/K+HQ5UUchx36dKlFStWQAgnTJgwfvz46OhoAIDT6VSLhRDCHTt21NfX/+AHP9Dr9X/601vFxcV6ve7w4UOTp02Oj4vX6Y0QYARYSDWSG2JoCk/Ii4zLCkssjEoqDI8vCAzPsdtkhIwY6ADkFAVZQiwQ4I2bNi2YO8egN+zbvWvBQw/5+/tv3rQJIhwfH3+fHd63/1rY+0aYoZSuWbPm+vXrqampubm548aN4zhOxcKTJ0/u2LHj7//+7y9dumS3OxUi2+32kkklsTFxvEaTmZl55fq1L/bu9w8MDgwKk6BGQHoJme2i7tiZK3UN3c+9/Kv49AnVF5rj0nJutnYuWfr059t3WgPDgwKD3G5PQlJCTEyMy+XauHGjv79/aGjoV0PAezBDfCbLskoKS0tLCwoKJk+enJCQoHhfD8+cqegfHAoICoIAdXR0Hjx4+E9//FP2tPniqFBec7Fv1BEWkygirYvq7IQVOd2F5juf7TlbUPLgo8t+BDRBCtK39/ZBFh89cvT57z0PADhx7FhRcbHL6YiIik5NSfG3WPbs23u96XpBQeHw8LA6dvxVOGRZVu3ChRBevnx57dq1oaGh06dPz8zMVIujo6MjH3344fLnn+to76iprhnoGcjIyO6803OzuS02KcvmhqNuzuHR8fqorj568NhFrI996sV/0EemE6Atq7xAES8TOLZwHMcyly5eSE1JdjocUVHR8fHxQYFBO3ftbGlpKRhTyGl4SRDvJZ9VczociqJwGh5Q0N7WtnrVKoPePHXylMJxYzEBgiy6XPb3P1j57DPPtjTdso24Nm3YNa54QtEDkz9Ys94cGGIOjJCoTsFmt6wFmuDDp69cv2V/6vk3otPGKn7BIuAiI+L3frFHITArM/t6U/Pjjz3+hz/8MSE+ITgkGKAvk7fomyUXvjs+7a+EQ/oViPO9Rb69LfDPE6Pk38U9/wXmdDoHBwfffPNNtUY4bty4wMBANdbDGLMsq/aaHz9+vK2t7Uc/+pFOpzt27BhCsLi4eM+eL9LSUu02W3HxRAgAohhRFlKWYY0A6yU3QIxWgLwItQplFYJYzoyxHlBEKPSeEQxdTldsbMzpk6dmzJje1t7mdjgzM7KsERHbPt8eHBwcGhp6Hw7v23+J/aXzs3Xr1kOHDs2fPz8zMzMlJSUgIEAQBIQQy7K1tbU7duz47W9/qyjKyZMn09LSuzq77U77k08/gyDGDMubTIVFRYVji6803ao+f/XK9e7LTd31Tb0O0ZBXNHv6nKdD0x8Ijkrr6Rmqu3xVpnDq9FnJicmffvpZalqazqgnRDGZTPHx8QkJCWVlZbW1tVar1WQy3bthddhRtfb29rfeestkMj366KMJCQksy7rdbl6judZ4effuPT95/f9UVFQ6HI629o6RoaHlz71gMAbExCenZGQP2NwNjbeuNXfV1d+qrr/Z0e+JShjzyON/VzhpsQIsHpE3+YV29fZ//vm2p598yulyTpw48WxlleDxJKYkuxwOAIA1IjIuLtYjeD768OOIiIiAgAC1LvhVdsiybE9Pz4YNG1pbWx977LHCwkKDwaDSWUmSfvnLX7744gv9vX0NVxqDg0NXr/505coV02bOtUYlHjld3Xizq/rijctN3VdbBjXmyDkLnyua8QjjHy+4gAL1LG+42nhDFBVA4dIlj+7bu2docCA3P1/weHQ6XVBo2Jj8fIfDuWr1arPRFBUTw/45QZQlSaPVetye9Z+sq64+98zTT+fk5AWHh4g2J2ZZSZE+/OjDhQsfjIqMfudP7yYmp9TXN85esHDmU09nZeQcKjtzsfF2Y0t/bX1rS5d9wMFMmvX4/EdeMMbkUKj3QB6zWgZysiT39w+YTWYAkdnPsnTpYz/68Y8z0jOCAoN8C6QU9BdmEr87Pu2v2XdI7oYN92BOQarmj/q7u0rp3zqOh/4zYfK9d1/9WhTFoaGhI0eOtLW1PfbYY/Hx8V99vd1u12g0PM8LgnD48GGbzfbUU08BAK5evbpp06ZXX32l5nyN3TZCgPL0U0+5HR6DzvTlxi/gqz8DAglBhFICvDAJEEXqSjbfv+8NeO12u3+g/85tO0aGBgICLGPHFr79zjtv/MNPg6xhnV13Nqzf8PDDj6SkpCiKgjH+v7NI+b79r6wRqq5HrQioNen29vaWlpajR49OmzYtMzMzJCREURS1s5RhGIxxU1PTtm3bfvKTn5jN5g8//HDcuHFNTc1dnV0PTCwZW5TvezglAF2A2gF1ACCLdof3eEMCIcSIh1APsAlQDnDa3/32zXMX6n789/9n3/4D7/zp3cozVTXna5588nGe5xkGabVaCLEkCxcuXKiuro6Pj8/JzgkLC/UV6RgASGNj4+ny0zab7dFHH42KjMSYdbtdClF0Wl3TjaY9u3e98v1XT5SXC4JACd20eX1eTvYvfvZTDfYN8wEPgKI82ou8XxOKIOQgYg0AGyjRQs6fEh4iruxY2YH9+7KyMw4fPvjuu+9qNbrVa9YsWrw4JibabndoNBqIEUSwu6t369atFotlwYIFVqtV9RJGo7G/v7+urq60tPThhx8uKirS6XQjIyNGoxFj7HA4VvzrytlzZudk5xw7fuzc2arQQMupk0c+/uBdk0UPeAhGegASARR8Po7xXlALiBYoWolwMoAKRPlF43/ww78TBCE7M3P61Ck/+/k/PvX4EzExsTzPK4osiiLGjMvl3rFjB8dyCx96yGQyIQYrkoRZtqvjTsOVK8eOHn1o0UP5+WNYlhFFyWV36Hgdx3Gr1q9JS0uZNGXq73/35vhxRZ99uhlQ6ZVXXszITAIcJM5RdHfJIgFYAogFWAsIDxSeUFYBDGJYzGJZEP7PG/+YmpKSkZF98uSpH732E0EQ/vmP//x3f/d3ERER906gKIrfoqvwv9u5/TXskN5Lcn+5Ogne/QYFROWIEKjTvX/7ri817UkpxRiLonj9+vW6urr9+/fn5uY+/fTTrM++1tumotZvf/tbhNCzzz4LABgZGdmyZcusWbMCAwP27NlTPL74ZnNz8bhJhEgM5nz3DcE9LPSJ2iKCfMQRQXpP2xb6wFjgeJbBTMvN5tCQoCNHjsyaPTM+Pm7dJ+tLSiaa/fxTU1MOHjzkDQCDgr6hYey+3be/xgYHBw0GgyiKo6Oj586d27JliyzLP/3pT2NiYoxGozrV7lMlRRDCysrK48ePv/DCC8HBwWvWrDEajRaLBQB6+3br3PkLtBpOlLzI6XskVTUvPebCsCYY8/6I8wfYSJGJUgPBGsRp7A4HxExz882gkLCu7q5ZM2fY7bYTJ04UFxdTSliW90kBMxHhEbk5OXW1dYePHNZqddZwKyFKWVnZoYOHxo8fv+ihRWY/s0cQZFkmlBj0xoGBgbffefulF19wuF0nT5wYP35CV3fX0aPHnnz8ifSMdEIpBBgiFiAd0vpDXTDUhSJtIGT8AfCjRE+p3u2iCLKIwRgxlWcqas6fe+GF7506dapk2gyLybR5y+asrGx/f39CCMMyRCEmk3nChAlut/uzzz5zOp3R0dE6ne6EzwRBeOONN2JiYiCEauPryMgIhHDlypVpqekFhQU152taW1tzcnL2le5PTUubPmsWQKzsUSBvBKzBd+kBo4fYBJDBG0lgEwA8IRRA1N3T4/GIw0ND4eFhGp6bM2fOin9dkZGRYTKZMMshCDDGPK8pKChECG3fvr27uzs4KMhgNN1our59+/bBwcEf/fjHiclJsiQjCL0hEcZanX7N2lVh1rDp06fd6bzTeacjNCyspeWWRxaWv/iSR1IAYDFnBqwJMEbAGgE2AqwDQA+gHkAthBqMGKTmQylQCHG5hNFRe2pKyoGDhyaVTMrLz33vvff8/PysVqsaymOM1cmT+3D47WhIfWs8qU+YnVJAIfVevsZh4qOJ9N9anf9WOFQb5zDGDQ0NFRUVFy9eDAsLW758eWRkJCGE47ivfSQYY0VRVq1aZTabn3/+eVmWIYSffvppXFzctGnT3n77TwsXLqy/fGnx4ocJFXR6ndctYF8zDSIAKBAQBEUEFEQlBGQIFR/sI9+AkfdfYlgGUoI5Jjkl6YudO6dMmVJaemD+/AVDw8Pna8/n5uXq9cbMzMz333/f4/EkJCSoQf19RLxvfxtHZFnW4XCcOXOmoaHhzp07r7/+elFRkSiKatiuKIo6a8jz/MaNG2tra1955ZXQ0NDa2tqbN28+99xzBw8edDqdaWmpSYnxPvpIZCJR798PKcWE8Ao1KESjUKwArFCWIo4iDQUMIZTjNTt37GYwN3vW7LLjZVOnTIuOiensvFNbW1tYWKQoitNlJ4pCiAIAyMsbk5SYWHO+Zt/efSdPnvQz+y19bGlyUirDsNiXwnW5XAaDYWh4aPXq1cuWLYuNjTtx/ERCYoJ9dPRgaSnL4GXPLzebLQr1xqPEN9uOKOvlNIQDhAVQB6AGAh5CzuMROA2rSIp/oP/O7Z+FhYaFh4d3dXYZ9frExASZKAcOHEhOTtFoNKN2m1arlWVleHg4PT19/PjxdXV1u3fvrq2tHRwcXLRo0aRJk5xOp9p3qpYSTSbT2rVrTSbT448/Njw0curkydjomL7e3kv1F8eNLcrKyqS+zR4AsgQy3gtwXu4FtQAafXfIIIwxgyiiN1taqquqfvDDV8vKygiR09PSUlNSV636OC4uzs9s9kYwGCPMOO2O8AhvSNHa1rrts88qysv7+vrnzZs3b8F8nuOJQnxQRDHLKLJ8/MRxp8s1b948juPefefdSSWTP/10q0arzcnJz0jPZFkOMxzwoZ0v94Z9F+t9AwEG9N8gTZYVSkFwSMjWrVujoqLT0tO6OrsHBgazc7IyMzM/+ugjSZLi4uIcDi/JVjuZvxEC/3d7tr9WaYz8m0z73S0h3sOMfWpvrPdXgn27zQD4G/XmOY6rra1duXLlxYsXrVbrT37yk+nTp7vdbnXcXrWvvt7lcpWWlgYFBb3wwgsqcTx//jzDMGPHjq2urk5OTsIMttvtIcGRvFZDACFAJsADgAsCF4IOBG0IjCIwiMCA96JDCIwgOIqBA/oSOJIssBpedDqBQuLj4zHGgYGBV65cmTN3TldX17macwCQwcHBH//4xxcuXDhz5szXfNx/uH/xvn3XYO/bz8MXX3yxb9++1tbW4uLiF198UT3SDMMghERRVFeVCYKwe/fu0dHRN99802KxDA8PHz169Iknnvj888/DwsIcTltgoD9E3sDO5bar2qSY5SlkAeYgRr5UH+e7WACx9zmGQJZIuDVyZMQWExNXXl4+d97cP739J5bFCxYscDqdZWVlsiwb9Aae51mWZRhMqYIwGhn2/qdWKyx+FkJkUfKMjo5CiDiOGxwc3L59e2FRYWRkZEdHR0NDw7SpMzCDEUbqZIjb41QA9VUnEAGMTBiFMICygPJAYb3eHLEAY41WgxB2e1yUyEVjx2IGV1efmz5jxq5duzRa3Zx588aMKdi/f7/Xe7CcIAharVYd9dNoNBaLBWPc39+v0WjUQQsVCD0ejyRJLMuWlZXZbLYlS5YQBbS1t2l9f+TcuXPBwcF5eXmAYRUCOK0eszxmechqvRfiAeIoYHy3DQlUKKIMxuER4b293b29vbExMTabrb2jIyIqevr06aWlB4aGBmVZUiRJ8gh6k1EQvL9qtTqGZUdHR9UAWpEkm82GGHy3pYXQpuvXm5tvPPnkkyY/8+FDh8eMKeB5Pj8/v6XldmRENMvr767WUX0xUrzXV706pf92eZm99/tTp04ZGhw8cODg448/XlFR3tjYGBIS8rvf/a62trasrMz7objdf4YQX86rfBfsP8kOfSlQ6JPYJQpRZEoURAlkOQiJN/KEHHS7kEeQXG6s0foqiSpa0j+X5UPf6BfUsBdjPDQ09Pnnn3d0dISFhc2cOTMuLk6VoVIndb4qzKYO/CmKsmvXrpCQkMmTJ0uSxHFcW1tbeXn5zJkzIyIi1q9f/8gji7du3frEE4/rDZxPy1CWqJvxUkAnkG1QGnEPtR7Yvq7x/PGr5w83XTrZcL7MNdobHh1GJCelIqEEe08RxixDJTkuIemT9RueX/69z7dtL5k+LS42dvPmzdHR0QEBgTzPT5gw4dy5cy0tLampqWo4/y1dgveB4TteI1TdMcMwsixjjAkhu3fvPn78eHh4eHp6+tSpUwMDA++dE/ULtWUMALBv3z5BENTaASFk7dq1DzzwAEKos7PTaDQiBMeNHafVaACkPtyiyAtAWBQFDW8QJI9CRIU6FephGMQijSCJGGNJEhFEDofj0qVLfn7m2NjYpqamkJDQsLDQ2NjYw4cPx8TE+PkAT/F6ALJhw4Zbt27Fx8e/+uqr2VnZVxuvlp0sczgdSYnJLIs9Ho9OZ9i4cYPRYJw7dy7D4NVrVr/6g1dPnTp57fo1URTDrGGzZswQRA9ivF6CKLLH7dLptIosEZlgHvt2ixKf3AxBPqUVlmUoJdFREStWrJg/b27HnY6cnNxr1xqTUlIT4uNu377V0tKSkpqKvHiHNRrNqVOntm/fznHcM888M3PmzJGRkYqKip6enqysLISQF5D0+kuXLu3evfv111/X6/U9Pb2rPl715JNP3mhuVgi51XJzyZJHtBre10pAFUXq6ev2M5qQN6SWMOBt9lGM7yk1ej9cnd5w6eKlnt6+/Pz84cFBj+BJSky0hoXduNHU1NSUnp7BMCzCDETwYl3dhg3rzSbzwoULH3lksdFoPHTo0J07nampqQzGoyMjHMsODw+vWr36mWee8Q8McDkc+/btnzlz5tnKSpPJr6PjzqKHF5lNRoWIAEoQAqdjAGNZEp2KIjAsBxAQPG4v/tF7DcAIYKQ3GoZHRppbWuITkkfttslTpqxb5z08Op0uNzf3+PHjsiwnJiYS4mWo6vm8dwL/k4stvwtw+KW8OoSyW2A5FlEInU4giEAGwC2BoVHAaIBHxiwPRBlgRhWYoPBrGn3oq65B5eNqelMUxW3btlVVVRUWFo4fPz4/P1+W5W9UwVAjKYRQX1/f7373uzFjxkyePBlCqNFoPB7P+vXri4uLk5KS9uzZY7FYYmKiK89WLpg/jwBCKVGo6PIMAezioQKlwT1bP965aUW8VWNkR4IMLsl1J9CPa711ZcfWDXodikyOxQwDCQOpT2IYAKzVuB1Op8MZGBJUXX12/ISJo7aR2rra4nHjCSFarTYjI+PIkSMDAwOpqanfMo94Hw7vgyLLsupMPcdxNTU1f/jDH2JiYiZNmlRYWBgUFKRSQLWCfu/MqBzxN7/5TXx8/OzZs9WxogMHDvj5+ZWUlBw5ckSv10MI4+LiY2Nj6d39nd5Hl2UYqkiUKl78Y9wsI7BYZLGCAHELdgazHreb4ziEoMGgX/Hevz63/NmOO+3p6WllZScmTJjAcVxoaOjbb7/9wAPFWq2h7kLtRx9+lJObk5+fn5ubIwgCwzB5uXkGg6HxauP+/ftSU9MsFv+tn33a2tr6yg9e4Vju1KlTHMtlZmZ2d3cPDAxcrr/83PPPhwaHsixGSKaKAIDoZYAIQNlFqQsjCTAyAAIAEqUygeqORgIgMBr9Pt+2LSEhfnR0ZOKEicePn0hLT6WUZmVlHzhQanc60lIz2tvb161bZ7PZ5syZM2nSJJfLRQjJyMiIjY1VpyGDgoKioqKuXLmyffv2X/ziFzzP+/zP5xMnToSU1tXVmYym1LSU3JwshIBCFEWRFMXh728EwKMAuyg6IBQBVTCCGHh5gTp6xmu0p06d0huMAQEBiQkJ58+fz8nM0ur1yUnJZ86cGRjoT0xMEEVp5XvvdXZ2Lnr44aLCQkuAv9vpCo+MTE5MdLvda9au1Wo0SakpI8PD77777svf/35kZCSAcNPGTRFRkUHBQZfq689UnMnJzZoxayaARJScmFEkcQRhgWUxQG7MyAiKlEiEEkjUtay+PKpvwJ8C4ivpQo7zstK01DS3x3Xx4sXc3Fye57Ozs48ePXrp0qXCwkL1BP5ndpV8N+CQfrXYd6+BlGBCgKwAuxsMO5Tmjt1/XFGzaefFPYdbKs7pBMmP1wGOB95nmBBEFV8N/99EiVQWD+82Z2OMZVl2OBxlZWXbtm0rKSmZMGFCYmKiTqdT/8g97eCvAQmEsKenZ8WKFcXFxVOmTEEIMQwjCMKhQ4dcLtf8+fMFQTh9+vTkyZOPHDlcWFgYERlBKaGAQCB53KM6VpHtvX/81Y+MaCQzxhSgGY0IkPXsQGyE1qQhZhOOsgZXVhzvbWtKzc6BwKgQDiEMEFIkOTklZceOHbNmzjpRdiI5KTEvL7fxamNPT29kZCTP8263u7i4eOPGje3t7VlZWV/N696Hw/v2tRwUIaSlpWXdunV2u/25557Lz8+3WCzqAJ+a0Pva+fF4PG+++WZ2dvaCBQvUR6OxsfHs2bNPPPGEy+WqqKhISEjo7e0dM2YMgizGrG9/OkQQKYobYy8WutytbumWIHeIcq8oDVLippKk0Rp51ou0mGWDgv1rzldr9dqBwf5p06Z2dXZ293SlpCQHBATGxES9+bs3bzQ1KbL8xBNPxsbGciynaqyok3yBgYEZGRkGo+GDDz64eOGC2+X+2c9+AShxOBxbt2596XsvXb58+VzNuYTkpJqa2gULHrT4WRzOIQYJHCMzmCLqFO29kjAIgQNzgnO0C0A35iBkOAgkCinyunMEGY3LYTtz5sz44uKREVtCYkJ5RUVOTo7DYZ86ddrWrVsvXKi7dKn+gQcemD17tp+fH8MwGo1GFMX+/n6r1RoSEpKbm3vkyJFDhw41Nja+8sorWq3WZrN5PJ662gvTp0+/3drK8VzZiRMPLpgfHh7mS61qMINEdxdCo7Lc77B1A+Iksk2vZzFGQPGFy77oX6M1DPQPniw7npWZQSkICwu72XwzPi6O12oKC8Zs3ryloqK8oeFqScnERYsXm01GURSdDqfBYBgYGAgMDgoJDsnPzy8rKztTUbF+w4aXX345Pj5e8Ejd3T0NVxsWPLTw061bHpgwofFaY1ho8JiCHFm2sxxFUKbIbnf2UGQTxEG3OCxKdswCjjX6cqTq7SGEIUBIlGSTydTa2sZgprOrQyHynDlzTp8+rShKREQEwzDZ2dlHjhxpbm7Ozc1Ve2q+GpP9r7e/SpVHBoQAUQAOz9W9B3Z+tNZ5uytcZ9QRLCrSsI4/s2O7GyrLX3+t8LmngUkLKFYwYjj2Xq3xLrj6vmBZdnBwsLKysrq6evLkyb/61a8IIers4L2h+7/0MfT3969YseKpp55KSEhQ/YIkSbdu3aqvr//1r38tiuLevXujoqIiIiLa29ufefYZShVvVO5FYxJk4oGn95//6bWMWL/EME2wXqGinYejIh2ljiFJwLyiC9QEPjwtY2fp8bJt+ilL/xEDCBQdALwoy1qeY1hGUZSkxORNmzb+8EevLV++/Pe//2NaWppOp1PnPX7zm9+8/fbb27ZtU0c+vj1vdh8a/2eyt7vd0b4lBl9qDvrmiihRaYqqI+LbD4HU35KvlOL/w7H6+vr6c+fODQ4OPvnkk6GhoWrWVMXCe3j51exCf3//+vXrCwoK5s2bJwiCy+USRXH9+vXLly9HCJWWlhYVFfX399vt9sDAQFGUfQPBAFMCgYeRRwBxD3fd2r1n/fWbVQC5fYyGCQ6ILy6enZU5SRcaDygri5jhTAVjCy7VX1r+3PeOHzuePyb34IHDs2bO7Orqvt16e3hoWJKk2bPnmM0Wh9NmsQQAABxOG0KMoogYs4riKSocFxgQ+MorryxZuqSu7nx+fv7atWsnl0xiNbzg9jicjpGR4bHji/UGnUIcOkbBshNQYehOc+Pl2mtXLgwP9o4ODymKEhgSnJiSWTB+qjUlD1IeAx24u9sPlJSUbN36aWZW1vr1G9944436hob+/n6Lxe/69Wujo6MDgwNvvP6PkZGR9z4CRVG0Wq3JZFI7RMxm85NPPvnWW2+NjIxcvnxZpePvvvvunLlzJEk6V1O1ZMmSXbt2iJILYAW4BhyDXU57146dq9vvXLUEmBz2Ua1OG26NnjJ1TlhoGmdM935WAMnK3XtbuXKF2ezX0dGxcOHCX/zsZ6mpqfHxcR0dHQEB/nv37v3kk40x0dGKJPk2UglGo0GRZYufnyJJDMZBwcGvvPqDH7/2I4bB/f39nZ2d1rCIw0eOxCclanRa3qA7U3UmLS0lLy/LYes2mFggD/d0N504uqf+whlFdhp0mhGbPSIqvqh4Wm7ORKM5zkdjTD4/TwCAguD28/NPTkouryjPy8s7cuRITk7OM88888///M9WqzU2NlYdvvzwww83b9781FNPqczkO88Oqbri8u4ghSR4MKTeWNNpBy23Sn//x91vvRPuENI0mjBRshCPGchmTKw6xsrAhuryunMn4+KjdRaLR5J5jZ76vAmE2OWws95DALu7us5UVGzf9jmF4MUXX0xLS/v3wkUsy361WIgxHh4e1ul0HR0dmzZtevDBB7OysiRJcrlcCKGRkZFVq1Y9/vjjQUFB7e3tTU1NCxYsOHjwYF5ebkhwiFoMhhCwwAOV/nX/8kakyf1AZrBR6eXlQZ46qeKGUKFU1gBGiygLBEw9OVkZu3fuTI2N01sjgcRSwDKcBiIQHRH9/vsfPLvs2es3mv39AwICAqOjo7dt25aRkaHVajmOI4SUlJRcvHjx6tWrSUlJHMd5PB5FUdSf6Gswfx8O/wfW9ryhG4KAKsOj/YgIjCwDp+BuvOG53S63t3s6WslQHysLQKMBHhGwvCISbxR+t6JA1a8IVHMjUK2Ou91uNUF66dKlEydOXLlyZc6cOQsWLDAYDCrsqSUAtVlMBUWMsdPpBAD09vauX79+3LhxM2bMsNvtLpfLYrF88sknBQUFRUVF3d3dn3322RNPPNHS0lJQUGA2WxDD2EUPQRKPJYBc9rba1b//yem9q4qS/cdlROXHBefFBeXHhUaYcVvjxd3btiRFhZkCDb7mU5YAbteu0slTZly5fOmRxUuuXGloamq6cuWKIAr/9Ot/am5ubm1rTUlNhgAyDCZEgQgSqjAMKwgCwzLt7W0ffPDBRx9/FBsTu2PHjvLy8sDAwEUPPwJEZfuO7VOmT92+a9eSJUsjIoJ4RnKP3uaQ69imlTvXvxPAjY7PDMqK1hUlBRUmBRcmhXferC8vK7X3dcbHxAERAt4MAQMw9jMZr15tlGXJz89i0BsQg0+eLLt8+fKxY8fefuftlOSUVatW5+bmqtUTlWSrQbMacEiStG3btoKCgmXLlp0+fbqxsfH27dscx02dOuXo0SNRsVFVNWez8jJSUqMtZtJYubd0y780VG4rzg3ITjamx+jzUoKKs2J5eXjXhrXXLpyLjUrSB4RASrxIy2hcbsfl+ssB/n6KJEdFRk6fPn3NmtWyrOzdu+eRRx6ZM2fuls1bsrKzFZ8qKc9rVHU0zDBeHuYTDVi/7pPc3NwfvvrDUydOXb/eZLPZegb6n3hs6XurP3xgQvHp06cs/n7TpxUzcNQ52LjmvZ+WH1hXnGIqyQyemBSY7K+dXTQmITSwvKz0zMkj4RazJTAEIC3keADdCpI5VksUYPbzO3v2rMXiFxQUJIpifHx8VFTUunXrsrOzfX1STEFBQXd39/Hjx1NSUnzrJIlaovr3M7LfndohvRciY4b1FQ4B6O/d+bs/VH22c2JkXIigBLhFkyjpFEEDZA0gWkXWK4KOhXcG+irOV0+bPZcPCgGMRnC5FFmmhGgM+u7OrmNHjzZcvuwWPK/+4NWx48apPWDf4qHUN93tdhuNxtra2l27ds2ZM0eth8uyrPbarFq1asaMGWlpaQzDnD17luf5hISEgwcPTppcYjQZ72rmQMoA99DtC7Wnd49Nt4YaJST0s8DBUBlAkSIZAZkhlKEKBh5BdOj0BoPR79iJ8qKZDwFqhIwRIiiIEseyt1tvJ6YkjY6OXrt2LT093WQyORyOEydOjB071uPx8DwvSVJubu7Vq1erq6tzc3PViWnZZzzP32eH/8NB0csJFQIQ1LKUgfDWoWNVW7dX7iot+3Rb+Y7PT+3ccenM6bZrV6XRUWt4JKAYyDLkGOLrD/OlzcBdvQoKKCGCIKi9l6WlpadPn7527dr48ePnzZvn7++vFt7+0s2og3FDQ0MrV66cPHlySUmJ4LOAgIADBw4MDg4++OCDbrd79+7dS5YsaWtru3Xr1pw5cxx2J2QwZYEs2rWsPNx6buUffhJhEr63ZAoWezTQqSF2HRnlqUPPkujIIGtI4M5dn4uKJyE7B0HOEhDa2HhzYGBo1oypH77/r6Fh1t1f7F62bNnMmbMRgomJibV1td1d3ckpyRixlBKGYQlRVGGX9o72jRs2LnxoYVxsPMZ48uTJhw4dGhwclEW5q6NLEqSImIjTFacz0tIjIwLdzjajTt67+q2Wy6fnTstOijTI9nYNGdJDp5GRJGd/TGRQambSpbra6/UNGeMmAswR3xZexGvLT53s6+t96aWXP171cWpa6gcffDBhwsTX/+GnsiIFBYVotdpjx46lpaWprlyNPgVBsNlsJpPp2LFjnZ2djz/+uMvlKi4u9vPze/PNN9XUztWrDZOmjP9o9Xtjx+VkpkacO/JZ+cH1U8ZE5KdYgv08BtbJ0REs2XjgNrFg8rgchmFKD4qRn98AAIAASURBVB6JiAw3hwUjjlVkyWwO0HDMts8+f/XVV48fP3Ht2rVLly5xHPfTn/9Sp9VYrdYA/4ADpaUlJSVuX71WlUaDvilDluf27tkLIFi46CHMMHlj8sKt4b/6za/1BoMHyhQSg1nX09PZ29U+d9ZE91DTmvd/FR2MHpyW5c+Miv1NyNETadFIDpvTPpCVEx8dHbx53bowS1BQVCyRRMirS7AYQDHHsTyvuXCh7uGHH165cmVhYWF4eHhfX19jY2NhYaEkSYqixMXFDQwMqBl4jUYzNDSk9m3979Zn/gtwCL9Mbqrj9pIEZQmIQk91zZ6VH2X4BeK+EZ1bsiiAV2SWEkwoJAomCkuoQinQadu7ewdGnTkTJgNRxLyG1Wltg0OHDx/q6OiADJo2Y8bYsUUMz4mieO+8fqN9tbnu2rVrO3funDZt2tixY9XeMJVT7tmzx2QyTZ48GWPc2dlZXl7+6KOPVlVVBQQEZKSne+ManwQNgBQDT+mOteFBbEKkhXgGMHEiIHp5IZAJFgCVEFAQkPVGXpBlAHkF6a7d6i/InIDZYMAYFAA9godlWKKQczXVixYtOnTokE6ni46OTkxMrK+v7+vrS09PFwSB4zhKaXZ29rVr144dO5aUlKTX6x0Oh8FguC/5/T/fICVAloAsAtvo5l/+U8Wmbc3HTmn6Ri1Od5DHFW8yQNtQffXZ2uqzoz09aYmJ2GTwkiRAqK8ZkgJEgbpP6W476MWLF7/44guPx2O1WpcvX242m+9JcqtH5RtRmef54eHh3/zmN3Pnzi0qKlJhVafTdXV17d2797HHHvPz82tsbLxx48b8+fOrq6uTkpL8/f0ZBus0vEd06Fm5v+PCqhU/T4pkHpqVYxtoNBtkRR5loIuBDgw9LtewXs8ZzdqImPDj5eVanTHUGg0R29DQ6Ha7hod6jh078vL3v08UGhMTExwc4nDaWYYNt4bv2bMnICAgKDiQUooRo16SLH744Yez58zOy8vDiGEYpqysjOf5hxY9dPtW64o/rQiPtIpEiIqO1Gv5lKQUlg5UHd15u/70c4/NhHQAyoM61oOoUxRsTvewyahxy26HMJqUnNjV0VVfdzFzwhSIfSNdBDjs9rb29p7u3ssNlzHDzpo1KyAgICQ4SBBECEFYmLW9vb2urq6wsFDl2apSB8/zlZWVN27cWLZsmRqgEEJqa2vT09ODg4O3b98+MNiblh4riUOhgZoAvbDq3Z89NCs/1E/xN4qEjCDgANQJqaCITgYRDkNLoBlp2R17duSNydLo9YJCEGJ7uwfq6xswRps3b0lOTikpKenv78/Py+U4FjFMaJhVFITDhw4VFhZ+dYUkxOjM6fLKysoXXngBI+RTecVDg0MeUZg+Y8YnGzc6XPaOjraEaGtMeGB8uGHj6t9EB8OZk9Mdgy3E1W3iFT0HRNEmSg7ISZRxMQzNzczcs28PhDAqKwt6CQ0LAAsoVhQaEWEtKyvTG7Tx8QmXL1+O99mRI0f8/f3Dw8PV1v3k5OTR0dEdO3bk5+fr9Xp1QcJ3mB3egyIGA0qlto59H6/uq6mL4/RBhLEoVCdKGkoQJRgo0IuIBCsyhRDzvFNUhu2exKREU1wi5Pit6zdcvXYtLj4+KzdnTGGh3mAYGh5WU6BqiPQfWlNT0/bt23/4wx+mpaV5PB415ciy7NmzZ5ubmxcvXqwWzHfu3BkbG5uWlnbs2LGUlJQwa6gve6ncg8Pyo9usgTg8kBPsvRxyISBBQCiUAPJAoLCUQkDcglOhgGKNoGhYbXjfMIgeMwsoWKaEQqjV8jyvqa07HxMTY7FY6urqUlNTNRpNSkpKVVWVoihqKUgdI8nNzR0aGjp//nxCQoLFYhEEQc2J3YfD/8kEEfkGWoHDuf13bx5fuz5CpFlG/xARmJ2uAEW0UMXCoCCjnqXk0oWL58/VFObnc/5BquShQilm2Hs96a2trVu2bFFTUrNnz05LSxNFESGkak2oGdG/BIcOh+O9995T2yPVxnePxzMyMrJ+/fqlS5fGxsZyHLdx48Zly5bZbLbq6uqFCxeqPANjrGEwokNX6o7cvHxi7uQUYfQmkgawbGOgAIGbpQIDBI6liuLBmBr8jRq9qf5KY2pqtk7nd+TIiTMVZ8aNLZw4cQLHa7Ozc9asWfPAA+N1Wh3DMH5+ltjYmDVr1ozJH8MwDMtykixgxKxa9XFMbMz0adMxYhVF7OrqqqmpycnJSU1NjYuN7e/qCwgKfOMf/v7Jp5ZMnTgRSoPu4dbV7/zy0ZljBu9cthgJh+xuRw8lLgYTjoMch0XZ6fHYFSJbQ8IvXb6qN/oFBEU4XZTXmfU67ZtvvmkymWfMmKHV6R5+ePHGjRtjY+Ms/hatVo8Qio+PP3/+vCAIcXFxQ0NDHo9H5YUVFRWvvfaaynIQQnfu3CkvLx8/fnxJScn+/ftnz52+bu2K2Ej/RbMfOLz7k6hAkhihY0m/x9HltHURaRQjiUWKLLiI5EGA9Pf3WYItDo+jpa0tMysfMwaMLS6HZ93aDbIkP/HEY1qtbsaMGW1tbR6POzo2bmhgQKvTR8fG1NXWdnZ1pqSk3HMCdzo6Dh86tGTpUn/foCQhRBTljz76cMnSpWmpyV39/bxGU3Hq6FBv58/+8bWaEzuu1e6fPz3LMdgCpQGOjPLIwwABEoHTQZnYAZY8bruW0zAM19zeGRefqDEFEcCrcMhg1uMRNBq+rbV1ypSpBw4cSExMDAwMjI+P37x5c2JioslkUoUU1GTpvn37kpOT/fz8fDpz+LsIh8Q3OQjvkUVC+uour/rlb4qCQi1uweiR9KKso5T10ikvInpBkRIEFQihR5SNpoArN2+mFxb12+xvvfuveXl5EydPSkxL5XhO9mnF6n1F2q9puNwbwFCH7u8Nu5w7d+7s2bPPPfdccHCwKsurppja2toOHjz46KOPhoaGqjvxa2trn3vuucrKSoZhCgsLBwcHLjdc7uy809PTPTwyZB/pulhVGhOmC/HDsruPgT52CBTvBWUEAEsQAhAiihAjU44gP4eocwj6pLxJgksBGAOIqQJ0Wo3Nbrt06dKMGTOqqqpCQkL8/f3VOd+qqqrMzEye59VBEUJITEyM2+2uqKgICwszmUyEEFVk69/3zd63/z8Zoc9UGoEFASi0/MOPTq5bP8YSEC5Ifg6XnyD4y7KfInGCm/W4WVnSs1xYUHB3R6fd6U4fOw4ijBiWAMBwHIbQ7XCv+NcVt9tuz5w5MykpKT09XdVXgxByHHfvDKgapORL6+/vBwBotdqBgYHf//73L7/8cmJi4r2FLRqNZvv27VardcKECZTSAwcOCIIwfvz4s2fPJiYmWq1W9UegioCBq6ul7uyJz6Y9EK9TerVk2ADdLHUjIDFE5KiEiYiBDKkkKS6X2+7nH9jVM9DW3neirDw0LKa/f2hMXl5gYHDDlauTJ005V3PO7XEnJyUPjwwrihwSEpKSmrJ+w/rc3FytRoMQ2r9/nyiJix5a5DvesqKQ2rpaCPC0adMhRKs+WjNzxmxFUQxmzcnjh1MTYwP16OCOdWmRxhDebmLtQB4G8ijPCAyWGYYiRIkiYkg1WsggyGENRfz+oxXTFixlsXnLlm0dHXeGh4eTk5KXLFlyvvZ8YGBgYmLSgQMH8gvyIQIMZhFCGRkZW7ZsMRqN6gLeqqqqmpqaF198Ud10oeobqJN2M2bMOHnypNVqnTF90t7dW7Fsu1B5kDjbx2WFmVk7lAegMqJjZA2SWCqzVOEg4CFiFMCxnEjEqNiYY2VnioqncMawNWs2NjQ0Z+eMGejv/cGrrxw4cOCBByZgjKqqqsbk5+mNJm9EjWB8XFz9pfrevr7ExESIkeDx/Pqf/unFl16yWq0ejwdBKCvKrVstI6MjU6ZOPlJ2XKs3jSsYY+SY8mP7Gs+doI62aUWRnNwLhT4tdmqhCylOBsgIyQR6MKswUOExhiKIiIxraL7tgXxMUq5bQBreKEmE5ZjBgaGUlOS9e/dkZGRGRERs3rx5ypQpZrNZq9WWlpYWFxffe4uioqKMRuPKlSuLiooMBgOl1OFwfI0m/q+Bxm+GQ6JKsoF/mxMEothRUX3laFkcx/kJklGSdTLhgYy9r5XBl/rdFFEKKcPxgOOBwbinrCwgLn7hE0+kZ2VijrE77N7nT5HtDrsoim6nS01l2Gw2t888Pqurq+vs7Ozp6ent7e3q6qqsrPz5z3/u5+fX399/8eLFysrKM2fOXLhwQV1qI0mSw+EoLy+vra196623kpKSrl69evLkyWvXrrW0tPT19RqNRo/gFkXvyzB03b5eGRnCBhoBEYZY4MbeYJkC6EVERAGmCBHvz6EATgF6CRiH3TxviIxJLsJYRyCjRv0UwLb2tjt3OsaNGxcXF7dp06aCggIIocFguHHjRnNzc0ZGxr0I1OPxREdHazSagwcPRkRE+Pv7q7RYdYj3ceh/GjX0wqGkeOrrP//DnyIEMZpAs9NpEgWdIvNE5KnCei/CEKrhtI4Rm5+f/9naC+OnTufDI6BeJwjuvuGhzZ9uqao4++D8BcXji8Mjwg0Gg9rzpWKhOoZ/b5uumjBQDWNsMpnq6+vff//9119/3Wq1qgoVvrlAVF1dffPmzWXLlqkuac+ePU8++aQgCJ9++uny5cuZLw0zGIgjo93X68/tLcwMxWKPVnFqZIUhMqKEoTJDKCY+yUWfIg2BQFIYgLQ3mrsWP/psyayHy09XMph7+JHHrzc2Miy3ePHizZs3T50y3UsQsfc2DQZDRHjEli1bJkwoOXXqZHNz84svvKjSGlWtpvJM5bPPLlMx/kx5Rcn4kvrLl6ZNLykoyEZEPLB7S2Nd2fzJ2Yy7nQejGLkQ9GAoIkBUeUTfxJwvvKaARbzDg4Y9jIKMG7d8kZqeN2vWTFEU+vsH09PTJVnq6+svKiq8cOGCTqcPDgnGmFG7SQsKClatWpWfn8/z/Oeff/7YY49FRESokwOSJDU3N6v9nxzHrV27dsaMGa23W6KsQblpMdjVJw61jEkNhlIfkIY56OGIzBGFAQqmCkMBQyFDMARQIIRC3uYGN1sHDhw8k5CYt/TxZUODtvr6C9nZWdHRMefP10yeOr319q2uru6ExCTfADPQ8Jrw8PCqs/8fe+8BHdWVpY2ee26qW7lKoVTKOZdyQAKBRA4mJ4MDYOzGOU7PdNvTtnvanu6xO9kNBkzOUSYqIEAIIYESEqAslHMqpcp101tVV6bd7jAz673X80//PqsWq8xCctW95+5v77O//X13pVKpRCL5+OOPtm9/MTg0BMMwkhIhACFIct/Xe99+9x2GZzo6O900Hs31Dd7uytTY0KVzkx7dy0mP8UDMvRg7JSVZhDaigMe+VT4BgIOAR3mUAGKCUPToTYByDQ5PNdshx6GUSOrcbyhB4AbjVH/fQFJSUnNzMwDAxcXFz8+vvr7ebDb7+fkJtCOGYbRabXBw8AcffJCYmCiXy4Wt+BdH4P63r7/axhfo3k9mgAECGbNVhkCc5VCeQXgOARwPnF03x5tvZwqdjBuM43irlaGZyIhwsVhSU1NzvahwZGJMLJdBEcEiwG63q2Rys8H455pVJElGRUUBACYnJz09PfPz8+vq6vLy8tzc3PR6PUVRFotFpVJBCPPy8jiO++CDD4Qo1traajQaX3vttba2NpqmN2zYoFQqEYR3CmSIAYCtbQ20qdNmszAM6XSksQPITfPmnXxAyAOEwwAPEZ6DEMM4zBmgcAbwAEMR2tns+VZAKWvevN7+niNHjmzdulWpVNbW1iYkJBAE8dJLL+3atevmzZtPhHIEBxmdTjc1NfWb3/zm9ddfDw4OFmKc8OdfJjf+UDj+/Rk0T645x5VeyaPGjV4sqrBaSNpOOmopR5xmIOK0PUEIFrAmu1YkHjLScZ4B+3+/8939X3f11VW3NF29fv3557fMSZ3JWu2AQJ442z3BQo7jxGKxsPOF3OjJJxGLxe3t7fv37//FL37h1OMGQotLyBqrq6u3bdsGIZRKpYcOHYqJiZFIJMXFxfPmzWNZVtBCcjzVvFXf1TIx3INyFoQ2owyLsxBlRIBDUdTybcLLo0IKiwCC5xnerqAkkJugLcbJgQF/H3+7nS8pKh4dHauurnaAn7f37j271q1dB1HolGFDSJLUarX/+rP3cQxftmzZ8PCw0WgUvDguXbpEEMTg4CDDMNevX4+IiOgfGqh+UMOgppTECHcp4b5w3vn+ezbDmJy348COcAyAjHOixSmnP01a4DCeRXjMbBgL8Ip81D+y/+uvf/yvuzy8wvv6+pOTU9paO3bu3Ll+44YHDx709PSkpqaePnPax8fHYpkmKInF4qeeeurjjz/2dy4cxxsbG+VyucFgAAA8ePCgt7eXpunm5mYXFxeTyXTq+Ml5c5KsBoPWxU3FahCrGTIWCHkCQXGeRVnHZ3NuF0HtBWI8pCBmtCHB3sHnCyrf+OlOQhZsMJgGh4ejY3Q3btycMSP1wYMHM2fO8vT0vH+/OjAwgMBFdtpOO+f//Pz9sr/JHh4aTktP89BoBnr7jCYTQeAoihUVFSUkJPT0dDW2Nedev/ZP7/2sICenerRr7ZJklDWKoQ2zmQFtx6BA1wCYAwQd+xc6dykCMMBBFCFMBrunm/eIjZmcnMTEcsFn32g0UyLKaDQuW7r83XffXbhwYUJCws2bN5OSksbGxl5++eWPP/44ICBAsJJlGMfPBgcH79ix44svvnjjjTd8fHzMZrNwGPYPFgf+Khzy32PWYIRCoQI85tgFPPjuZP6T9865DMdG4TmEIkjWbHJTKYOCgtyio1TensCpq25naBYCHOLYt04i37umgoMoQRA0TdfV1eE4fvjwYYFQJ5PJCIIQZn4bGhpqamoELDQajRiGnT59eseOHSRJtre3AwCUSqXFYpFKxSiKtra2trU/rqqsigiWm0wWs1nCIzKWI3locaahHAJYwKPTgkaOnBkCHgcAQzhR7aOm8CRdTVGxb2iyzN1TMO+AAOAoEhsX19XeYbVat23b9tFHHyUkJDidXNiXXnrpyy+/DAoK8vb2Fr6jUAWmpqZardYzZ86sWbMmIiJCODr7v2fE9f/MNe1ahjh3NT8t8A440PmwAZ2yKkQizmDCUQ7lOQQROKMohwAc8DiHMTTN2RiFynVQP95rtTeXl9/rehw2I2H/nq+d/A2ASgjA8ShEWJZ9MsL1ZLLQYDAInoWCbaew2tradu3atWXLlo6Ojs7OTgzDLBYLSZJisfhXv/rVggULGhsbBWHJ1tZWuVxeW1t7/vz5H/3oR3fu3BEUTQEAOG/G2MGBtloOsARBsN97sKctWxyZKwc5Z/TkGKvF2yOMt/fm5+aovUckYkl+QXFTc1u0LvLGzRv9A/1qlTo/P59lHL8QJ3AUOqrYwaHBM6fPpKSkRERE3LlzB8MwuVxedb+qpbll+/bthw8f1mq1ly5dSoxLvHbtOgR8bm4eDq0SYCPtoxzDTo5PyMQ873j6WMDxEDr9UxHOeU4jaG8iPIAojiOkSOvlo9FLW1tb79ytpZwqphcvXQoNCamoqCgqKiouLl64cKHRYPzxP/94xfJVLMuOjY0xDCORSOrr6x8+fPjGG2/k5eWxLOvi4qLX62maLioqWrt2bWFhYXZ2dmRkZEVFhV4/XlXxIMyH6qm9uzBVy9IGjGNJHKIch/B/vnEYCDgcYgjDuipdPNw8ujr7u0d6J01QqXStqmxrbWkWkpif//zn8+fPGxwc+Prrr2NjEziO7e3tpSixp6e2qrKqsqoqLT2toKDAYDSgKIbjeHNTU0NDw/wFC+ob6x8211ES6a7dX40ODNgnB8tKS1BTa0iAD8PbEIRHUMhzDApRwDIAQKd0DwqdZns8AmiOttEWH5+IuoouvV7v7xLK0rgwfMLxHEVRBuNkampqUVHR/PnzOzo6rl69umTJEgDA66+//rvf/e7NN9/UaDSOgtUZctPS0qRS6ZUrV+bPnx8aGir4PD9RCvtHgcO/+EWQP1H35jgGsoBBiAkzDWVyq2VKiuA2wKLTaMpxQGhEQB6BHMCsHDphYViAtHa0m29c99SPKNQq/5CgoMhwAsMnTAYGZyWESBjI+17d/WTo6sKFC0NDQ2+99ZaQINtsNpPJxLKskJUcPHjw5ZdfFopIkUh06dKliIgIsVjc29v7+PHjJUuWoCgqkUhKS+92dHQYTVMuapc33nzjzvUzHI0+qGwKck9TUxqbxS6mEMY84gBnJxaykHHUf7gU5SjagAJcXFvbE52m7OkdrGm8IlFp5i9dKpESNpqbMhsS4+Jrqu6Xl5dnZmbOnTv3m2++WbVqlSCvunTp0oMHD3766ad25xLgEEXRzMzMmJiY3/3ud88++2xUVJTw98Kp6fdIzD9Uin+Pc1FHHuQIbJjApOZ4ACDKoaBvlLQjHEIAHiKQAE6fE+jUz+QRp0K9U4IQcgiBExabmcRI3GK7fPzMqvdebZscOfvNWZlEjtMIwnEAxxAU0jSD49M+tKxze4ud3UEnWZTCMFQYVyguvtPd3bVy5SoUoHUP66VSidVqtdvt7u7ut27dkogkHM11tXcRBJGbl+ft7a1x1ezbuz9GFzPQOxgVHcU5YZVlWZkU8XCPKIMD9bVXrQgKIbBDFsdolGecX4FBIO2AIAgYAGiIsDwgULFxzJIQlzh79atAEWacRJpaOtJmZq7fuP7o4QOzZ8/28/f38fbs7Oh4YevzmHOC1m63N9TXnjpxrLT0Xnxs3IZ16wF05HYDfYOf/tu/y5UKAMDNguvPbX5mzdq1f/hy57KnltbWVq9as2Ky59Gju/mjw0aMVNBwHEEclwgiAEU46Khv7AiPYTwGeIzhMBpSJpS0WK19epva1SMwKGT5qlSAYqzdbjSaZTJZbHz8vHnzm5oaly1fkTVv3i8++cXatWuf3OXrN64999wzXl5eNpvt6ae3Pwlrly9ffPOt12dnzLbZbDiBCiSAtOR/Kcy/8vw7O+6csvW0FUWH+JiGRwkO5WmeRzkGAQgCv1Wa5ABvdVxuiMskHu2dwzyHenn7z148B8UkHAAUiYQGB65cuVIkEh06dHDJkqVr1m3Yt3fP8uXLlWqVY6dBJC8n59lnn121ehWBE2vWr2NsdowkAADnzpx99tlnI6KjAOD/44vP33jr3RMnsxdkZU4MPl61KJ4dqz+25/3IUG9MTHKI1VFDO4/mHD/JYzzAGYRjoZ0FVrEUoU20wTzBAl4ikQjTJgSOW8wWiVTiiJBiyfLly5w2CfPDw0Nv3LyRkTGToii5Qrp4ycLdu3d99NFHFovFSeBHURQPCQkKDg7+7LPP1q9fHxkZKZQiUqn0HyZeoR9/9Bd6hzzyJ4elNGtHOSAys6VXrqo5u5h1PEp2zkYCVDA7ZAFvRwHryE5QGuJAoQIuqm7LlF0h905MTMrKtNrtDx8+rLxfxbBMcEAgiWJOBQ6WJKb5dU+upsAX/e1vf9ve3v76668LXHOe5wmCEIvFFouF5/mjR4/GxcWlpKSYzWaCICwWS0FBgTDI9eDBA0EboqGh4dy5cxMTE2q1eu3aNSEhIb/57a8lBBQDpqayRuPm6uOlRVHOZjFQFGanaQgoHmAcRGhImFmKRtQ0q95z5BqQBhgZSVLKnLCo+IbmlqaWltb2drVapfVw5QFvMhi7u7tjY2MDAwMvXrw4Y8YMp78M4+rq2tra2tTUlJCQYDabhapROBmTSCSRkZEnT550c3Nzd3cX5kwEfg36f70b9d8bEZ1wKKR+wmwEoHlgs4PR8Ye5BXR/nwuJE4wdAzQEHMohCOAQyEEg1C48AyENMSuGGiDea7IteXaT1F87brewzpacTCTBUIzhOQQizrv8J4K9IhEVERkRER6uVqtDQ8N8fHyKim6Nj4/94pNPIiIiQkPDYmJiInWRkRGRUdHREEHMFssHH7wfERGh08W4urnqR/U7duwICgpqb2/fsmVLXGKcXCpXqVQuLq5qtepxa8O9kuuMZYKx6uMi/FjTMM5bMGBFEdqZ6rIcyjHQ2fl3XAGc56Us79rcNn7tdrWVpcLiMw0Gq9Fs5Xm+vb01KSmp5M4dP19frVZbU1MjkUgosZjnuAMHD0aEhyclJSUkJB47dszDw0Muk1zLv6ZUKuLi44eHhiRS6fVrBXHxcXY7faf4tlQmS01PuXUjt7z09oR+cKS/OzLUmyLMKGpBUM4p9CGIbCIoD53OoxgHRDQUM6TcwMrybteNGTGtV+i5cxeCA4MoitJoPM6dO2cymxctWXru7JmoyAg3d3cI4e3bxdHR0SiKHj9+vK+3d8eOHb6+vsXFxd093ZERkZOTEwOD/fl5+Vu3vEAz9vPZ5+02e0JC/N69eyMiwqViMQWs+77+jZeHxEcjRzgzxrE8R7OOj+dIlnhHUYY4ncN5GqIslALctbC8rfR+R0B4+o3iSpW7h0KpvHn9elhoSFnZvZSUlN7ePrvdrlLKGxoa6usbYnU6gCB3bhc3NTXPnTs3JSWlrOxefV19fGKiyWAoLrrd3NyUMSuDkogbGuq7+rpjExPu19QODfbNSk/CEesffvvp2GhnSlLI5EQ/QSC03YICDuU5dNrdAuUgz6AsC9EpI0dItA9aRnpGbP16mqDU/r6hKEqQpIihGR5wGIZDCAxGI4ZjUVGRzc0tY+NjoaGhOIb7+fm1d7Q3NjbGx8XTNO08tKMRBKEosbe39+nTpxmGCQwMfOK4948hQvmX4RBxwiHypHfoPFPBKen44+bOhxUqCe74e5aBqNPhwhEXnDuEBxxErBhk5JKm8aGWydExDHjFxz963BoRGZGaNoPj+frGhpy8XIPRGBEWxgNHrjUxMfFdoViLxXLhwgWe599++20cx1mWlUqlLMsKpaRYLC4sLOzp6XnmmWcECBGJRCdOnPD29o6KijKbzaWlpbGxsX/4wx8GBgbi4uKysrJiYmIePXp4+fLlyKgoxma9X1629dlnC65fx0lc4+FqMBs4wIsoKccQPC+yQ8oGFCMWESL2u1JY5x02o2vEHj8j63ZxFc3B5158TqlwoxnbjRsF9bWPIiLCQ0NCL1686Onp6e7ubrFY7t27l5CQQNM0SZIJCQkFBQUcx4WEhAhyzE+ioUqlcnNzO3DggFQq9fPzE07Mvker+UHj9O8Dh9NDtpxj9yIQATYasBywWe9dumQbHnAXoQRnw3g7zgkcCg4BEOF5yAMegQzEbChuRfEJFOthWMxXO0SbF6xcHhERGRkW6Rvo7+vtExgeHBgUGBwSHBgcGBgUGBgcGBwSFBwS5OPrI5PISJJUKlWUVFR442ZPb++bb77p7uGGIk4bCohyDIsSaGvL41OnTq9du0apVkIIpyanLl686KHxiEuIrb5fbbfbPbRaBCAiEcXz3O3bt8+cOcvYzPFREdX37vS31/u6yynUSvBmDFohoBEeRwAmNEAduMOTCC9hgUquDikqf6wNjotOnrP/8OmAkIgYXcyRI0fDQsMSExL2HziQnpam0WpZli0tLZ2TOf/4sSNKlWrVmg0ESRGkyMfb++DBA66urrcKi1auWCkiSblSUXK7uH9gYN68uUePHs1In5mXnzM0PGKxWhYvnKsfHrxy6dKKpXMobIKANggBAjmchygPII8hvONWsAjKAcKOiDGJ+8gU3Huo3GTh1qzb7OHpd+TIEQihxt2jsqoyPCJcKpFMTExYrTYfXx+NRnPtWkF0dHR9fX1VVdVzzz0rkylYlgkPD8/+JltMUcHBoR999OGbb70pEpEYijU1NoWFhdns9qnJqcePW9paW1DAKOUka5tUyQkJibIsjUDAoyyPQkc29J0XjYgnzaRIHXbqQilPar2CE2Li07MvXh7sG9i4Yf3d0pLu7p4lS5YMDg729vbGx8dHRkZdvHgpIyNDPzp65MiRV15+WavV0rQ9NXXGhQsXent64hPiCwsLHTlQjM5qthw9dvyZZ5+pqXno4aEdH9PfLro2PNAVHx3GWPRygpZRCI7yjNlAocCpH4IijoqfZhHWuUlJ2iJx94iqa5nYua8yYWaqxY5kn7/k7qZVyJUiioAQMqzdYDAqFcqjR44uWLBILpc9ePDARe1CURQP+MiIyPKycgihu7s7hmOOeMuxdjut0WgCAwOzs7MVCoWnp6dQI343hv+jwSH4NkwIbULowD0WIKgScGU3cgmecR5FSlmG5RGecTocsihiR6EZw404bpCLK/u617zyUo/N0tA3tHj16vKqSjtDz8zI0EXrAgICunq6L12+PD4+HhYSSlHUk24KAKCgoEAkEm3atEmomXAcF9DCbDbjON7X11dWVrZo0SKhNSgWi7u6uiYnJxcuXIggSGtr6yeffBIUFDR79uyEhITY2FiCIDo7O3fv+WrHjh0sy5aV3osIjVyxet2MGTPOnc+20na/4GAeE5ksPEDkLJBaEIUVquyk17ncivCUxSuffqV/jO4bmIpLmjllsFXfr5s1O93X1ztGF0WJyaOHjwhTFiKRyNfX18PD4/79+yRJqlQqg8EgEolCQkIOHToUGxurUCiE/tATQytPT0+dTnf16lUMw7y8vJ7MlvwAh3/P5TR4ni4NHe8ZjrZaURwDCFJ89px9ZEgjJimOgbQN5ziMc6pIA+hERMADzI7iVgyzYOQYhtVOjFkVVPpTC68VFZ08cdLP19/d3R2wPMtwgEfsdhoCyHPAEVEclQZEnGNEDlBFkcuXrjQ3t7z44nZXNxeACA5zEIGAphmr2XLo0KFEx0qamjTgGDYxMZGXn7/9he04iR09emzpkiW+/r44Rty8eePLL79Uq9WrVq2MjdGV3LwpI9Hq8ntuSrHWTYYCO4A04vjcOA8wFkVYgLGAYHmSAVKaV03aFFX1gy5ekVmL14VEJl3Oyd+//4BMJgsKDiJJkYdG09HRER4R6ePrNzoy/P5P/0Wn061du9ZkMpAiMUvbFAo5RYk///zXmzZvDggMhBCiGHbrVqFGo4mKivomO3toaKC1rW3txg1PLVteVFx453ZhY10L4PVRkZ4IZoGO/EKQWQUIjyEAZVCMQUgayOyITG9Gbtxp6BqatAPp4LBh5aq1sbGxg4ODu3fv9vH20Xh4jI3pV69enZub5+6hUSqVJCk6evQowzCbN2/28NCwLM1xvFQqi4qMzM3NrampDg4OnpGayjJsbm7ulGFq6dJlx48fV6vVly5cXL9+49y5sxUy8tzp4yFB3gqF1M7QKA6cBgCAn7YOn35xvISGHtUNwzdLe7tHrVo/XWxi2qIFC5uaGm9cv97b07148WKnqHpia2urSCRyc3P19fHbt2/fnZKS1157VevtxTIMQZA8z4eEhFTfv19bVzs0OLR+/XoUQtpuv5JzdfXqNY9bWq7fKGxqqp+RlrxkQZa/j3b/VztFKJ0Uq6OtVsdvQJxtKh7jEYSFCAMhA0mWV8pkgb0D/MHTRYNTwN3HNyQiNilxRknJvas5OR4eWldXF9puF+brGxoavH28vL282zva9WP6kJAQFEVFpJiiRIWFhf7+/mqVWvCdJgiSpmm5XB4TE3PixAlhjuV7s+P/sHCICNYqgHekzDwv9/MOkFJ3bhWhuIimGTElASjBItDKAVYiHkehRSbtA+zdvh7fGanP7tzZ0NzcNzXFQrh127ai27dbHrfoYmLcNe4RYeEhoaGTExP7vv66s7NTKLoJgvjFL35BEMS6devGxsaeCDkKECIwEU6dOhUYGBgfHy9oeeA4fv78eZlMJpFIjhw5snv37q+//josLMzf318ikdA03dDQcPz48fd/+kFL8+P6ujoUI5KTZ3r6BpAu7ilJKYMj43k37xjtUKrwtVjFZk4+xclLH/UWVXYtWvfynLUvIjJvH5/g89lXSUoxO3Nua1vHnTvFifHRMpnY29M7Pj7e09Pz9u3bly5dmj9/vlgsRlG0paUlOjpa8EYRiURKpfLGjRuCjI7QHRQMVDmOk0qlqampR48elclkXl5ewmmq0Hr8G93pH6Dx/zMsnJ40FGj9Ar0foDgBUBSguLG1taexQQEAxthIwGMsR3AQc/xLxx8ogCx01IVmFDORYqNE0mQ1aON1qFo+c27W5k2bz505m3s1HwFA7epOSUkMc6IfhkwHVQBoO4MRqN1OHzlyZGR4+PXXX5NIpFaL1QGWTpNau91O4MSdO8UGg2HduvUcz0nkYpZmz2dnp82YERQa2Pa4XT866ufnNzqi//zzz1xdXbdt2xYTE6tyUe3fuzciNOx+RaXG3a2rs01E4hqtBsVRO8cjOGGmaSvgoEhiZqGFI1mo1JvIvNutDR2mvgkeStx18ekx8clqtbr2UW1TY3NERGR6evrp06djY2IosaSqskI/NvbWW2+RlBiFiNlkYFlOsNgtKSl1Ubsmp6bQdrqrs6unu3/+vPll98puFt5kGfrpTZvmzM48eurEwGA/SRE1D8rTZ8YP65spGZS7qGyMjWU5BOIoFAGMMnCQxhUM4iJWB5TWtJuB4ult7+38+vyixUtqHjzS6XSpaWlhoWEVFRU5uTmurm6paTMb6mtdXd08PDQ0zZ46dWrWrFk6nc5utxEEabFaMBQSBOHn5/f555//6KUfyRUKgY6O47i3t/fnn3+u1WpxknjppR91dXSUFN8anxjt7ekMDAoQSYixsREXmQSyLOAgBBiK4BzNQwSngdwGvc7n3l+1+ZWSyseUzLOlrXNGWqouRhfg71tzv2ZiYqKnpydz7vz6utrh4ZHomDgcwz/++c+ffeaZxKQkp9LJdJRTqJRaD49dO3dt2LgxODiYY9m8vGurVqzSD+tzr+Y2tjTNmj1r88Z1Y3r913t2x8fqigtvBfh6q9SutPMcl2MRnsdtLDRzwMpTHKa2MnJSFJRT+GjW4s0hcUkP6h/THHR19Vi6ZHliQtL1guvXCvLd3FwlUola7SqVSq5cvZIxK8Pf3/+bb76Ji4sTiUQ07cjam5qbujq7oqKjnJrjvJMH7YhREolk1qxZZ8+eNRqNQUFBgkmfAJn/e2PCX4FD8G14+JZpwzl1uBGeVQUHcSZjW0/f+JSJRTEWRTkRRYtFIwhrkFCPTaZBHPPPmPX2vr2AosISEwpuFYdERNY8fLh9+/b+wYGcnJy09HS73a5UqYIDA+fMmcOy7IkTJ/r6+j788MPw8PCXXnpJmF5/0lR7Erz27NkjEolWr14teL8Jxvd5eXnj4+MjIyNbt27V6/Vr1qwRZkVZlu3o6Ni7d6/gcVFQUIDjhEKpmj1nAY5TAEBCpgxJSJkzb/H4FH3/YdvgsL1/jBuzkIvWbFvx3FteATEAlfFARDOoh9Z3ZGRicGT0xZe2mYzG28XXvbw0MrmKwHB3jWb+/PmC805/f396enp3d7fBYIiIiDCbzRKJxMfHp6Gh4fHjxzqdTlAufaLOLETjjIyM3bt3m0ymqKgoFEWFLfWDV+Lf67QUTNNF+T9lXfKcCsfLi4pIjsVYlkAggWCQRwCHMijKoAgNoQWHtFQyRYnGSbx6sF+hCx8BjKu/T3lVNYET69as1+liHj56mJ93zWQ0QwjFlBgjMJ5z1Hw0bafEFEDA7l1fAQB27NiBi3CLyYxiqEhEQgw6Z8nRRw8f5uTk/PjHP56cmiJJ0max1tbWVldXP7f1OcCDg/sPcBxXXFzc0dHxzjvvxsTESGSS0ZHRD97/YOmypX09vWazOSo6etHipVdyrvIQ8fD2winZ2JQVkyh4QjppRSDlRin89QasrnWqpKqvbxxmLlrX2NrHQiIsJCo4MIjjuYKC6yjEvL29VWq1Xq8fHOivq6uTSKUURXlptU4FRGi12iBEz507+/zzzw8NDQ8ODoaFhdVUV3d2dQ0PD3/yySeHDxwYHBx4buu2vBsFU0aT1tPj+InjUVER//rhj/OuX7RzNClRuLpoOZZAeBHLimkgAjINIvaYtIhLazoHJ7nXf/a5WO3b+LjTZKIDAoKHh4fc3dw9NB5SmayktARFUZ7jkpOTL1y6GBcfX1JSajQa/f39fX19IURwHBcI3gRBXLt2TSqTDg4NxsfFDw0NnTt3LsA/4N9/+e9Llizx8fWZmT5TIpZdvPiNWu0yOTFx+3Y5RtBSuTg4ONhipmk7amVIHpVDXIXgSpFU87jLePlWw5YdH6YueHrPvjNyF6+o6NiS0jvx8bEuanXajLRDhw61tbV6aj1UKrXFYpaIxQcOHNywfn3/wEBSSjL4TsprtVj6+/pvFha6uKhDQkLFMukHP/0gPDTsl7/4JDw8PCNzDkGiuujoz/7jl08tfqrgWkFXRwcPEIISKVUqBEMZDlppYGEhqdJyhJpU+g2MwrKqHqWH7qlXf8ICUXvPgJ9fMIaRuTl5cfFxczJnR0aFFxUV5VzNUamVggF7cHCw4yqRRFVlVWJC8ujoiEQiiY+Pz8/P51guICCAYRmntf70wnE8JCTkzJkzY2NjQUFBgoj039Dg/V8Mh9/WiPwTejbr5BpDigjImB0QGNynHxsxWwdNplb9SKfR2A/YKblUoYtKWrXq6V27gUjMiijKTVNWXvnw0aO0tLTK6qrNm58ZHR25WVgYFhaGOY+kJsbHw8LC5syZk52dLRKJkpOTe3p6LBaLRqOhKOq7BPTa2tre3t5nnnmGoigURbu6um7fvn39+vWgoKB33313xowZx48fF7SsJBIJwzBXrlwpKir6/PPPCYI4ceJEYGAggqGent4hoUEsQDkAIE4BFgVQ6hedkZyxNH7W0rjM5brZT0mUfjQQQ1KJIFIWQSVipdVO9w0MS8XShw8frVqzYnS479KlS34+fiq1C8MyKIqGhYX19vZu2rTp8uXLNTU1fX19SUlJCmf6aTKZgoKCKioqKIpSKBQYhglEUwELBcybOXPm4cOHzWZzSEiIMD32N7QBkSeV+w/r/wUKfv898t3zU8eLCvSfHOyvKCmVUhSGC04TIjuKGnHORAALjkyRUC/CjGp57eRo8vpVm95947f790pcXTY8vbms5F53d3dKcmpMvG52xuzW1pbbRUXt7e12q12tVollFG2jDVOGA/sOQBR99fVXIAYF6hpBEYydMRpNBEZyLHv4yJHtL75IicVypcxmsUrkkqNHjr3z9tvtre05V3NaWlq0Wu0//+SfU5JThNnEpqbmPbt3/+iVVyUS6aWrV6VyxbIVazxCIyLCIvMKCgdHJ6wsJpZ7YKSKQRUWTj48idXUjz5oGHf3Tnnvp79/1DSUW1j2rz//5c1bdxiWCfQLaK6vy5o3r7un9+TJk55a7blz50iRaN68eRHh4RUVFYGBgVK5GoVAJBJfu5bPstyy5U/FJSRcy7/W3t5WWFjY093z2muvUwQpl0uHR4Y8PbXXbtwICw8f1Y/dKCx8/Y1Xo+NjU9Nn3qt49Ki2bWoKAUCKY25KuR9KaXsNbEVD773qHhOreP0nP0dk7pRCW1XXdKfo7jObnzMaTc3Nzckz0gb7+zOzMnGcuHAxm6Ht9Q31HMu7urrs2PGjvLxcd3c3lUr1BA71ev3Vq1dffeVVo9HY0NDQ3dV19erVlStXKpSKmTNn3rxVmDFr1vETJyMiIt3cNb/85S+fe2aN2k3R29/e3tVjYcQqjwilV+QULbFjbq395vsNA/Udk2s2vekfP5fl5KhIVXi7LDElNSjQ79z5MzPTZmI4/rilef36Db/85a+ioqLKysrq6+qWLnsqISGhoaEBg1Cj0XyHvc/t2b37Dzt3WiyWsnv3Kisrmxqbw0JD161aw3McJKC/v1/B9fzI8EiOBnW1DQGBIWs2bCoovDU8NspDDOKkTKXBJG4mVjIwBuvbJuofj3v6Ji1/5Z/NdjQgOP5eRVlrW0dMdHxISNg32Rf8/f1lMmlqSlpcXGz2+Wyapnu6ezq7OmNiYwL8A06eOunj4+2idhH8DkNCQk6dOuXt461UKJ0WZNOLpmmFQhEbG3vmzBmz2Sxoj/xXEfGvjWYg025qf/ZC/qfhcNrq5ltWukCZwSDEMZmPb8KyZSFhYWp/f0Lr4RYVHp6VmbF+w5K33ghctATYWSCRWgDgAHRxdenr7tVoNUaTyTA1tWz58tHR0cuXL4dHhMvlcolYrNfrDx48uHDhwu3bt7u4uJSWlo6OjnZ0dJjN5u9ulwMHDgiaxe3t7YWFhYKLk81m+8lPfgIhNJlMd+/enTt3rlgsxjDs8uXLvb29r732GkEQ+/bt02q1AICOts6NGzZarTTibNyzPM/wPEZKODsLOALBpACVAyi12SBBaRFAOkf0OQAwN1fvxqYmDMfVKuX9ynsrN6z19/LZ9dUef/8Adw+N3W43mUyVlZXp6enz5s0LDAy8cuXK8PDwyMhIWFiYQIgVRDGio6OFylVAQcEMXXCfyczMzM3NZRgmJCSEpmlBBPxvweGfIyI/baHATY9O/oCY/50W4rcXTcBCBOEBbQtLjB/s7CwtuyeRySEpYjGCIckJyJkIdIrExkXkAIpUDfb5zZ617df/IQ8JKb5barTRSpV6XtbcurqGhoaGmNg4lqHDo8JnZszs73XUVc0tLfqRUZVKXVFRIRaLt2x73maxYzgKeAARlLHTLMtJZGKGpo8dOxYdrYuNj7GaLSzDiWXi/JxrrY8fT05OjY+PHTt2bMmSJVu3bx0bHUNRjKCIpsbm/Lz8devXsSy3/8DBrMy5BottZvocu9mm1HrNmpPZOzg6brD2DU81to+29hiGJ6CFURlpdVzyU/NWvQCl3reLy6VKTUdv/wvbt58/ey7Q3wfwyKh+nMDx119/fWR09NChQxBFt7/4kpuba3l5uUQicXFRAZ4fGhq6devWnDmzlQrl5PjEwODAL//9l1oP7d69+yorK1xdXcViCsexk6dPrVy1emBgoKKqgrZZd7z0IwLDSVKekJTBcNTIqNVggOMGpHfE0qW3dozZzECh1kS++M5HCK4cN3Jisc+Eydrb3TfYN/DUU089ftwyPDictWDhg5rqpqamTZuednV1PXjo0J07xT/9yfsUJYEoUn2/WqfTPYHDM2fOhoWHxcfHj46O/vrXv86/ln/v7j2NRlNZUZmclNze0aEfG/P28tZqtFcuX7XarKtWr1rx/JYAH9+HdZ241Lely1DbPNivZ/vH2KEphCfcnn3xxy7x84CdgFKtUqG9nFugdlHrYiJFIqL2UW1MbEzr41a5XObj47N+/bpPP/20vb1txYpVbu7uFEXl5eXNnDnzyR7MyclxdXPT6XT9/X2nTp7as2dPWXlZYEBgSfGd5NREmmPv3ClGIcyYlbF71x7Ao17egSs3b0lLm93ZO2KxgeExS0un47a29FktvNoMVFmLNqYuecY0xYtUXmNma3BQiMVkray4/9RTT7m7ux8/diwhIQEgvEKuSE+f5evj87j1cX9f/6OHjyRSSeaczPz8/PT0NIPBQJKkWq3WarVnz57Nysq025kn1aFYLLZarRRFLV68uKqqqrW1NTQ09M/12/6bDyP/N5/S/3E45J4M2fMoAnmEh0IXhMAkgf5eM2dEL1+mW/FUcGamS1QEEEsdnxvDWU4IK8DP2+dqTs74xPibb7+VfeEbhUKRmpoqEonOnzundnp///rXv549e3ZqaqrBYFCpVLGxsV5eXpOTk729vXl5eVKpVKlUHj58eNasWSRJHj161GQySSSSefPm9fT0LFu2zM3NjWGYM2fOpKWleXh4EASxa9cus9n8xhtvYBhWVlY2MDCQlZV1/fr11WtWubiqUQCd0iIchCyEDA/sCMY520Uk4EkAKBSXCkJsThI+b7M7vr+vr39HR3toSHBFZYWri9LH1ycoKKTgRgGGEy4uLgiC+Pv7f/HFF5mZmW5ubgsWLPjDH/7g6+tbWVlZXFwcGhoq4Pr9+/eTkpKekEgFr9cn0iRpaWm5ubmDg4PCAyz0Eb9rMyb0cP8Ih9x3kixu2oCLg38cHphu+/6Ain+ZQvPkNQ2A00kHdL5BACAggFzczDSNVltRW9s9OmoEgKaoKYBYxNIhgDYYTI1mS/qGdS/89J9RT0/AQ1dvv0e1dRQptpjNW7e+UFp6r6K8PG1W2uTYlN1mj4qMSk1NRVH4+PHjf/3Zz4xG44aNG+UyOUQgPy0QjKAEarPaeB6Ul5ebTKYVK5fbrHYEIJRU1N/T/8EHH4SGhUVFRiYlJalUqtTUVMHtnRSTNwtuZmdnv/LqKx4aj692frX9hRdy8/PffeddDMdRzDlUS5BhsUm61NkmGyFR+ys1UR6+CQmpy1PTVvjGZAIgAyg1Om7IK8hPSExgWS48LPTKxUsrV62ur6/v7u729PR83Nqalp7W0NAwNjpqNpsXLJh/9NixpKREiKL37pV5enqmzcwounWz5E6pXC7XeGhwDI+Ni7t540Z0VGRTU9Ot4qKNG9drNJrysntSsQTw/Py5CxRSFQKkEFMEhiTFpy9ydfdXegahKi9e6h4UM3PB6q261PUGo5UQu+OEmgWYr2dAWWm5r49ff3/fSy+9lJNzFeHZyalJD63H2Ph4Z2dnSkoqiqJ19bWNTfWrVq6+fOWi1sPTxUUtEkmamhpHRkZ8fH3Onz+PYmhycnJFecWMGTNa21pFlIgkyBvXr7u5ui5atLi+saGnt2d8fPzpZ7aIMblUE5KUtsLHN97GqyCp8Q5MDApLTZyxJGHeKlTpz0/xCK4EkBKJ5ZX3qyGGAp5JSIyrffRQJpMGBQSWl5f7+wcUFhZmZWXp9frW1rahoaG5WVlTU1O1tbWRumiL2YQAcPjw4Q3r1x84cGBiYsLHx9vL29PX15sSUQXX8hcumv+rz35FicnXX3tl586dCxctysm99uL2Nzy9wnieipqxKCIxCyM8eELr4pfgHzk7KmXRzMUb1b4JAEpRyp3jpCQmVTkVG5KSko8ePbZ+/TpXN5fdu79ycVFrPT3NZpNCrkpOSimvKOvq7vLx8SktKdXr9RKpNCw0DMdJk9nornHneO7u3XvJySmCEOATfWmhtHVzc+vs7Lx//77gssfzvMAN/JN5xL8WjIRQNa0w98fF/Ult+PeoFP8LcMhPIzYPeOcUqqOo4jDIo5AnUASDAEMBijhFZzAOhTxEnUM50/FlbHxcoZR3Os3YVq9enZeXl5qa6ufnJwyvHD9+/F/+5V/i4uIYhhGLxQaDgXKu4ODgwMBAkiQNBsOnn37a2Njo7+/f29sbHh6emJgYHx9fVlZWV1e3bt06q9UqEolKS0ujo6NJkty9e7e/v/+zzz5rNpuHh4fPnj27ffv2R48e2Wy2BQsWmKYMOIEhgiob4pzARqYFoRAEBTwKEEL46M4oyQKA0BzPsEAmldU11FsspszMzJMnTiYnp3r6+oeGBO/6ajeKoiEhISRJ9vb2+vj4CNI5JpNJp9N5eXkJaaDw3Zubm1tbW8PDw6d1lr+jXS6skJCQ4uLiu3fvJiYm4jhusVgEBa9pOPxupcj/SVkDvtUJYpy6Hsi3rGDkh2PV/3p1+O3chbDtGScdEeGBT3JKQny80tu7aWigx2S0SCQ9VqsoKDh97dq1r7+R9erLqEbj+EmJ0kPrlZubGxsTOzKsHx4e2vj0JoZhruVfc+xMgmQYBicwVxfXixcvLlm8eMGCBW1tbXm5eZ6eXkoXBcuwKAanJg1SibStrTUnJ2fHjh0ohmLOvsA35y/8/ve/f37LlmefeSY4JLimukav12dkZpgMJpFEdO7M+ebmls2bN/v6+/z6818nJiaMjY3HJyZ4uGtsdiuE0KkwgfIIjuBin6CEwIiUwIgU7+AksdoP4irA4BzAEbHU19untqFOp4spu3d3+wsvGKYMbe1tdrt97ty5X3z5ZXx8/KqVq8b0em8fn8nJyftV9ymxWC6TMzRdVlaenJzy759+4ufnl5iYlO6UFF+4aNE331ygxOKUpKSPf/7x/AXzlyxbcf78OYqiSu7c2bxpc2hoKMugGCSdE+QEAKRM7an2DNIG6vxCE920oTRHMiwvEqs5jgCAAhxKEtRQf79er0cgYrValy1blpubazQZE5OSysrKLFbrtu0v+Pj4TE1NRUZGnj59Kjw8vLyiQqeLQRBw48aNixcvKBTK0NDQpUuWXsu/tmXrlrq6usLCwoULF94tvdvb2/vOO+/cu1dWVVUVGhZMs3zGnLk4IcNQGUDEAJX5R8aHxszwCohQeUUSEpXNzE5NWgixggEYhCRBids7ujnATk6Ocyy9cf2GL774IjQkdHRU7+Pjc+jQ4bffflskEhE4GRgUlHP1KsMwJrPZx9tboVAeP3G8rbVtVD8aGxu3du266uqq1NTU6uqayvsVySlJjY2N1wuvf/nlF+0d7b29ve0dHZERunVPP223AgSnGAZhWVyl8Q/RpfqFp2j9osQyLcuSTmE+MY+IEI5AAMJxtLe39/nz55cvX5Gdnb1xw9MKpeJqzlW5TBEUGOx0rGSUSpWHh0d4eLhEImlvbz986PDy5csF5j9EYUhwWP61PLvN8XsghILP+ZNnSJDxa29vv3btWnp6uqC19L1B6r8Oh/x/mrX+fSrF/wYcCknztIQMNx3KHXkt8uTl/JcIN03CcZYzBIG7u7uWlNzx8vL09fXr6+t78OBBYmIiQRAlJSVSqdTNzS0oKMhkMpHORdO03W7neV6YXjAYDNnZ2aGhoY2NjSaTac2aNS4uLgzDHDp06L333mNZFsOwo0eP+vv7h4aGfv7554mJiUuXLtXr9TKZbO/evcuWLfPy8rpy5cqLL77o+F+IRBCFAIHTQMELlxbCb2m031YL3zpsOLuMElxC07aI8LBz587NSJ1hs9srq6rj4+JsNvuczMyTJ0/29vYmJSV5eXkVFRXFxcUBAKKjo3//+99v3rw5PDw8ICAAx/Fdu3bhOP7o0SNht3EcJzBrvitBIJPJUlJSKisry8vL4+LiCIKYmJjAMGyaVjO9L6Z7hwjy/Y4XDwALBRt25/CAsFfhDxXif7le/HbLIwBBIY4iKIKRgOcpXx+/1MS0pQuTVj6VsXFd2rrVaWtWhM+br9LFABvHswiHoCzDQQRhGS7nas66tetuFd7yD/BLSEzo6uouKbkTEOCvdlNZzbbPPvssMipq46YNLmoXlVrt7q6pqak5dvQ4QZL+/v44RtAMvWvXrnXrHIXU/ar7e/bsEVrRGIatWrmSJEVGo+nevbsxMTHurhqAgK/3fq0f1b/44oseHh4FBddZll21ctXZc6ee3rgew1Gb3UyICM6xwSAPMJbBnK7tIgBwR7LHIogjeYUIitjMFolS1dvdffbMmRe3by+4VrBhw4YHNQ8ePaqrqakZGRl97tnn3NzdLBZLb2/vpqefZli2paXlyOHDNE2PjuofP25duHBhevpMVxfXnNxcLy/PrHnziotuT01OeXl7jk9MvP3ee48eVLc+fhwRHnrp0pWtW7YqnV09DoHO7BkFEAcoBRARw6I0jTIshqESCEmWRSHAhcDD85zZaL5y9dILL7xw9+7defPmIghsamnp6uq6X1UxY0ZKbHysfnS0r69/3dqnXVxVtY9qT506OWvWzIaG+gsXv9m2bXtGRkZ0dHRvb++NmzdeenEHjmNlZWUxMTE3b95888037XZ7dfX92NiYffv2v/zyy37+/sITB3ECJUgbbbPbbY7nlWNYnockIZZIIIYjjoQVhSiOY0RObm5qWgpDM24a16VLln72H58Jg9RZWVlz5y8I8PdvaGhcvW6tu5vb+Pj4oYMHAwMDp6amPvrwo/fff39WRkZYaGhrW2t3d/f8+fMjIiI+++w/li5bcr/6/uJFi3QxCTu/+GLT5meKbt0Oi4qI0cWMGcZkchmKkxaWwUQyFJU4kgYghZBCeZTnIQug49Y6hRcgBBKpmCTJiYlxmUxeWlqyauUq/wD/06fOmC3m8LAImqbd3N3OnDkTGhYaFxcXHh4ul8t/8pOfTEyOBwYFikgRikIvb69LFy/Hx8cLGPndyg9FUbFYrNPpHj9+fPny5fT09D8X4EQQ5K/g23eAT0Ccv9AMgn8W9f5H4XB6wekKxVHcOKdvID89nohME/Wc8t6Q4yDHI4DhWYZjtVptaWnJ8PDIyy+/nJ2dbbPZrl69+sorr6xevbqgoKCioiI9PZ3neYZhBPqMcFj64YcfHnKuTZs2LV++PDw8fP/+/aWlpfX19eHh4bGxsYIcaFdXF0EQOTk5zz//fFJSknDoeuDAARcXl0WLFp05c8bV1TU2NtZK2x0gREDn52QQhEZ52ul3SANgA4gFACtA7ADQznYuM61kyfMQ4lPGKRRFCRyvrqnZ+PSm0pI7o6OjkZERpIiaMWPG7du3jUaj0Nd0d3cXi8U4jlMUVVlZGRISolQqvby8Zs6cqdVqi4qKLly4sHTpUty5EAT5Ll1IUH9ITk7u7u5+8OCBTqcTi8XfS7KEDItDnIfXzpfTnsr5NaDjm7Dfnjugwn1CIJjWVPhh/bdqRWeahGMsQBgO8DiGKhRSXx9CqaA8vXEXN4ARHMPzKA5FIsSZe0CIkCKyvLxC7aJOm5F28eJFnU6XkJxI2+ijR4+mJKWeP38uNTV1wYKFY6N6i9Xq7u7mrnUPCw1LT0+vrq4+cfKkm6trXm5eaFhobFzsxx9/zLLsylWrMudkfnPhgi46OigoWCQhu7u66+vrly9fMT4+tnfvXl9f3y1btlBiqq6u7saNG9u3b9+/f++yZUs9PD15juUByzACS1kYJ4E0yxM4hSCYxWbFScrxHVGEdySIPIoRdpttdHRkxoy06urqqKiolJTU/Py82tq6999//9GjR9HRUYDnHz58mJKS4hcQ6O7mev/+/a927964cdP27S8Eh4YDnsVJ0cEDB3bseJmlGZblcnPzPvn0k5/97GcIQIqKisPDwx89eqCLiU1OSZZKpM6dzD2JIizHcxzC8yiC4BDgPIfyPIJCDCKY0wmOQxBETJEGg+HBg5qUlNTCwsIVa9ZYLeZ/+/nP/7DzywcPHoSFhavUquGhkabmhtkZc/z8/Pz8/T788MP8/Pxf/epXs2ZlSKVyq9Vy5eqVtWvWKhSykZGR8oryy5cu63S6efPmVVVVjYyMBAYGNjU3zZ4z20PjyXI0QBAUxSy0lXVcT+fBNkQQFDrnDTDEyQOGCMrzmErtUllV6e3jBRC+o70tNSVVIVO8+uprb731ZkZGRn9fn4+ff2VFhWHKEB8fHxEdRWD4rp07d3/11Z49e2bOzpBIpSzDXLp0WavVxMYnUiKyrKzsyz986ebq+vY775w4fszb2/v27dsIRBIS4929NIhTjYZFWBwXc4AHvONCTd9o6Ey1kT+GZUfuDXGxhLp9+/bGjU+Xl5dbrda42LiIyMiqqqqOjo6YmDjAcyzL9vf1yxVyrYcWx3GDwbBy5cqDhw6WlJTI5XJfX1+NxuP48eNpaWkWi+W7o/cCB5AgiISEBAhhfn6+Tqf7Gx52zqHbP1oI/rVOxvfrQ+R/uHcohF9+WoYHIqyjHEQYjiVwEWs2IjQD7YzjT5EI8hx07BVHsKYd98nx3yKM5BEOQ7Hi4uLAQP/JyYnUlBlbt259//33AwICGIaJiopqamoqKSkRSsa+vr6urq6DBw+2tLQgCPLmm2+Gh4cLoxcymSw+Pt7b2/vAgQNWq1VwhBBk/u/du7dp0yZfX1+apiUSyb179yYmxhYvXjI5OXn69Nn33nsXACAiSJLAUIhDyEHeapsawkiamewd7Kw16zvsE5363nrDcPv4cKfSVersMNqcGoyOatdZ+zOhwWGHDx5OSU4ODAy+cuVKaGioXKEUiUSzZs1qaGioqKjw8vIaHh4OCAiAEAYEBGRnZyclJXGc4zG22WxeXl7Lly+XSCTbt293c3Oz2+2urq6CWStN0xiGMU6jDZFIFB0dPTY2JlgkKhQKQeZNmB5BMSct1ol/41aAYGCCBs3dk90jptb+8e4xw5SNYVAMJVAMARY7D503ULAdFhYHfiDa/K1JRDD9mr5G0OnAjiAQAgxheafMr1B+YwDBEAg551EJimMIishkMgyDR48e3bhxA8vSLS2Po3U6X39fwHHLVyxfv2591rwsi9ksk8klYgnHshzDCf6dkZGRCxcvyM7+5v33f8qybHlZ+T/903sZmRlqlaqpsbGrq2vFihViGQV4cOP6zdjYGBRFnTO4QavXrYIItNnsR48dW7hwIUPTPT3dmXMyIcI7Qw3v1OKCCASTkxNSuQRAwHJ2lmMIknAekrCOHB/h7FYaAcDdXdPfP5idfX7r1q2HDh2WSiVTU1MMw8ydO+/SpcsZs2bKZLKhoaHyigqZTFpcXHz9xo3FixePjIxwHGc2mbx9/ZrqG0ZHR+Pj440Gw917d+Vy6d3S0tWrVgGeb29vy8rK+vrrvVlzs2Ji4hGEoxnnpBpE7LSN5zkURWjHsvPAsW85jsUdUZzgOUboB7Asp3Rxq6992NjY9MIL20pKSl3V6r7+/sHBQS8vT6lUKpFK/X39J6emOjs6NB6a4tu3W9vavLy8GhoaPDw8RCJKo3HnOO7cuXNZWVliMVVRUXmn+I5wLuXn53c15+pTy57at2/frJmzYmNjRSKhhQ94nmY4FoE8hgkbg0VR4GQDc9+6UWE8DwkRChB0776969eva2pqRCHs6+nXarUajYfAjwsM8A8Pizh9+rSvr+/toqIx/Zigw0WKRBp3dzElHp8Yb25uSkiId1GrHz16+PDhQzttE4sl6enpJXfuZGbNuXfvLs3SL73wEoewYpyycXbWkVDTCM9xHMOxtLMYZJydIJZ39uScEcAp6+CAbpS2M7dvFW3f9sL+ffuio6K8vHyCAgLuV1XVVFdHRUaFhYUdOXR4dkYGJaLcXF3tNltXZ+ebb70THRl57uzZirLyiMiokZGR4eHh2NhYm80mBDehiSigI8/zAQEBLMueOnUqIiJCsLlGpvci/yfcQMRRANAMjSAo44hskHZKd3KOaw4tFhtOYAABfzqAzf//Omz2n8LhE54i/2T0grXbgZXGHJ+ZQEYmwagRMDxgAUBxgOOQF8IGz0KeR4DNbiNxnOeAQiZvrG9oaGyoq6ufN29eR0eHgH9WqzUtLW1wcPDUqVMsy5aVlT148ODf/u3fIIQqlUpg0JhMJgjhxMSETCa7dOnStm3bli1blp+fPzU1tWvXruvXrx84cECwHSEIYmxs7OrVq1lzM/38/D//7Ddbnt/i7u4GpstZHuHMgDMBdgojrOUFp29dO3Hm2G8ba25W3blcU1ZQUnS5u6N2oLNZRkK5xp0xW1FcyiOoIzxyjuw6NSVl185dy1etlEnF586ejXOaOlmt1ie20RMTE4I1KwDAzc3t5MmTWVlZNptNaC+jKOrr60tRVG9vr9lsbmtrGx0d9fDwECYpOY6jKEqQNQ8ODm5tbb1w4UJ8fLxCoaBpWoBDiEEeQUwssEFgRUFRde+vdh49eO7KvhMXD5755lzOtbyiO4+aW4cnzAo3H7UcMxksEhH+xFVjOsX5AQ7/s+W0LeMFsxye/WNi6MRL3nmeKii7TYt/A8EHE7AmkxFBYGNj45o1ay9e/EapULEMe/LEifUb1g8ODA0ODEVGRgwPDwkGTyzHIQDgIry3p+/mjZt5ubnPP//8osWLbVZrfX29fkSPANje3h4QEBAcEszYGcOU8fLlyzNnpu/cuWv27IxF/w97/wEc1X2uj+Of8zl9+660u+p9VRFqIFQQHdPBgMEmYAPGdhyb69wUO3acxL3cOE5cYsAYDKbadJCQqBICVFCXkFDvvW8vp/5nd7Hj7/3em0n+c3/zm/zmHp/BDLMzklZ7Ps/7vO/7PM/KZQ6rEyexo98cIXB8wcKF3373XUZGZmBgEAIekgMIIYYTELqxxuW0CKKNIjEUCi6HURRZgWMR95MKCErKcxyG4RUeqJs5c+bU1NSFCxefeeaZoKDgw4cPhYSEqNWqoJCIqory69eucTw/MT7+4osvZmVlMS52xoyEs2fPyKSSk99+9/rvfofhWEN9/bvvvvvzn/88Ojrm2vXr/X19L764+8qVfJ2/PiY2JsDfz2v6xXMMCnmLZVImIex2o0yCUQTEcB5ADnGTc+hiHPD72gS6SSLo6en28/Pr6+tdvHjJxo0b1z267oUXX/zDG7+Pjo4eHRtLmpmKovDK1as1NTWJM2du2rQp/3L+0iVL165de+TI0ZHRkcKbhevXrw8LC3O5XO++9+6qVatmp8/u6uzyBozzAn/5cl5i4oykpGQcx0Sed9MqKOEFMwIYUWAhYBmnXULgCACsy45C6M17ch97KGJzuNraWpISZ0SGh7388suz0mbt2LHjyJFvzGZTcHBQdGyc0+k6euxYW3u7j8Zn8+Obu7u7JyYnntm1686dO8NDQxWVlbGxsbPS5/Ac88EHH6jV6hd3v9jS3FxQULB58+bhoUGVSml3OGbNSgVAhCjCs06Bc4qC+6ZIgKPQXXg7TYLggJi7EgIIj4ie90/wQiIQBKGrqyswKEihUNy4cSMrex4todNmpY8MDxUVFYWFhtpsVpZlQ8MjzCYjhqFtbW06rVav12VnZ0dGRh44+DVN07dv36Zp2rsz4Z1t/bg1iiBIcHCwKIrHjx+PiopSq9UMw/wnNilCRBBFDnharigUIcJwvN3p4IHIiSIvigzHCwByAEFRhBF4COHfJkX/r8Khp8T8/sFHGIYz2yhCDjoHCvcearpc2HH9zlBJZVP+9f7yKpnVKfXzB9BNTRDRXflCHpAYiUEUiqCmpqa3r3fVqtVbt24tKyubmJjwMr/x8XHv5svnn3/+05/+9IknnmhoaCgsLFy5cqWPjw/DMBRFYRjmdVzr6OiIi4vT6/Vz5syprKxsaGh47rnnJiYmWltbDQYDAODcuXMRERGZmVlVVVXT08bs7GyKJr+ffQqAtwPGCAjHpcN/qi274CuzblydFh8pX5AePSc1fGFOoq+abG6svt9QhbicIdEJCCphAYYiKBBEnCBpmm5vbwciiIqKEgS+rr4hOjoawzCn0xkWFubj4/PVV1+FhoYaDAan0+nr61tbWyuTyfR6vXd9xm63SyQSX1/fsrKyp556CsOwtra2hoaGycnJqKgoLyKKouhV4s+cOZOiqHPnziUkJMjlcs/7QEAE2HnOKaKTdnDmWtXvP9rTa2JkgTG6yHi/6CRlYAiQKgbGp2/cKrtXc1+rDU6I1Ds929LeHHZPtuTDZvf/ivr/GyD0ylU44K7y3OW/6CaFoqfpJAiQ91ZVIiJCQYTeZV5EcL+1QBQQUSKVWqzWstISvV63c/vO99//YGCgf8P6DY88siw5JfXChfNGo2nW7FmTk1NypQxF0ObmltKSstramr379r3zzjtr166NiAyfPWs2x3GTk1O3bxdfvXptzZrVvjpfiMGSO3fbOzp6e3oXL16UMz9neHBY7asuuV3S3d39/PPPF+TnSySSZcuXQQQFPAQC6p0pc6ydZ6yklCRICMGIw9HPMlMSAqI4RFEMQhxxUwdc5HgUR+0Op8bH53J+vs1iUWuUqWmpQYEB586dBUDs6OwcGXKXcVNTU/NycoaGhzdu3CiVShvvN2Znz12+fPmxY8f7+wcIHDMYoi/n5aWkpOj1eqVK6T6C27sCgwMuXc5dvHRxRFQE4UYaARF4AuNZxopCliRFkhAY14jdOQSA1VP1cU6nlcBRQeARxBvOCBFRiJ+ReKUgv729HULE5XKlZ2REGQxVlZUT4xNdPd0kTTQ/aG5uaZk/b/6K5atPnf7Oz99vRuKMysrKX/z7L4eGhr7++muJRJKRkVl8u3hqcmr37t21NbUrVq44evSoVqednJyMT0jQqDQxsfFAcB/MPMtBxIFDJwR2IDhE1iGV0QA4eafJ5bQRhASIqJsdeuDQ6nDRJF5XX3uvvJxxMU/vfFqj8XE4HFVV1RiG19fVdnf3yuVyjUbz9NNPf/fdd8EhwdnZc7u6unbs3NnU1FRUWAgQJD4uZmpqqry8bNeuXR3tbckpKSUldzIz5pSVlJuM5vVr1/oHhvAOG4qInMsu8jYZJVAEDwST2dwPgI2iRff5CxyCm6N420OodzMTooRUKrHZHHdu39nyky0NDQ39fX1RkZGMyxUbG9PT0331ypWfvfCzgwcPZmdlcRzn56fv6uoaH5+IS5hhNpm0Wu3SRx6JiIjo7e0tKioymUy+nus/CQ0RBPFmnms0mtOnTxsMBqlU6vWyebgR/32bivc8aYIomi0WiUyGEiRG4CiOcQChKEKAkAWI1cWQBA6Rv21BfL+28j/c5XLj8j8Bhx7LRcRmx+xs8d79x977sKng+kR9g/FB40hDff/9mv7a2s66mo7SuzOjwoFWg0L3SUETMpHnUYhWVlYVFhUuX7YcRTGO4x555JFr165NTEyUlJTU19dDCLdv375w4cKKioqurq579+6tWbMmKirKZrNJJBKTyWSz2WQy2Z49ewwGgzd6/ujRo96iacuWLf39/TabrampKTc3l+f5p556CgBw6NChtWvW6f30nsLCUyghTsCZAWI+u/8Dy2jzY2vS9QoXLo7jwrRgHqVEm9MyRiFMYpwBity1/Fx/X61vYCiGUR7swBERuFyu+Li4jz/+eP2GjXqdrrqmxmazRUdHe1dj/P3909PTDx48qNfrvS1TuVx+6dKlBQsWsCzr8T1ivRbevr6+J0+eXLduXVpaGoIgk5OTt27dGhkZCQ8PJwgCQRCvMU1YWJhWqz19+nRERIRMJhMA4mRZHpKTTrD32MUP9h4LiE1XBBqMLGYVcKOLM3OQRShCovYLNUyYHEVFRT4KWVxslCgKxA8DSC879DKf/4XD/1ofLHrgEECAAgGBHAcFAREYhGchz7tvgYfeNHnx4UYqJ7gJoogCuVRZU1+TPXfuvbJyvVZbU1dP05L1GzbYbTaJTJKVkVVdXX337t358+Z3dnTm5ea2traoVCqj0bhy5cpFSxeOjYxhKM7zfGR0pCHKcO/evdTUFKfTeaXgCgKQTz75JDQ0dPWaNWnpaTzL8zzf09WTl5f361//uq+vr7GxMSMjA4U4LaGgCESeA6gAgQsIJlzCWEdbvz3yUUX5xdYHJc31ZRUlN9rrq0W7Se+rAqQUuCwQR2x2a3RM7OGjR4rvlDy+abMogtaW5nkLFvb19TbU1+fm5W3bunXVqlWRkZH79+9/9tlntVotJZHzHPf555+vWLW6sqIiOTlFFMU/ffSnltbWt95+u6GhAcfwzo6O1avWXLl6Reuvt9nNC+bmOFgbRAQUMCI/jdM8ASwXTh+4deNES0NxS2NxfU1RU93d2vLbqTNiMZpGOc5zBGECgAzLQADq6mpNJlNXV9fOnTuvX7+ekZHhdNjtDsex48eioqIWLFy0bu26quoqnV5bUFCwY/v24JCQoqIimpbgOJ6SmkIS5OX8yydPntyxc4fFYpHL5cXFxdu3by8vL29r7YiJjM7OnkNLZKx1DCM43jE51F1z8Mt3GmputNSXNFQVlxfltjXcI6EzICrC0zpAvIu7DAe1PorRsYnjx45hKPbmW2/8+U9/WbdunVKpKi6+dfHiRa1W+8QTW5YsXlxfXy+TyVpbW3NycqKjo48c+WbFqpUalWpkZCQ5Oflm4c1f//pXH330J5qmb94sghCJj481Tk0zdpfNbF6/dj1C4Kx9GocOgZ1A+cmzJ764ev5A9Z2LlonO24W5JXfzrab+sGAdhmGeFgH2PRwKnnkXDA0Na2p6MD4+tv7RjSdPnvTz8/Px8WUYJiYmRuPj8+WX+wRB0Ov1gYGBGEEGBvifPn06MiJcp9PxPIdiuFcnbbfbc3NzFQpFocdW5cdyQzfUCYLZbI6KigoKCjp16tTMmTN/aFCJ37dYBARhRZT1bK1hNH3+2t1vLxZcu11x9U7Vxesld2qbRo32kOgQDENd3gg2NxAhKETA/xm1i/w/yw69vVoo/G0z1l34cozTgjIu0D906/Mv7n71tXxkLEkjD6fEEBoE00iMRq5DeW5iZLDtwVBfd8KMGKAkIUkJDI8S0oLLl2trajLSM0OCQ0xmM4Zh4ZGR586fO3/uXHZ29vLly72CPLVaTdP0n//858TExFWrVnmTKr1CdZlMdu/ePZIkly5dSlHUu+++6+Pjg2HYk08+iSBIdHS0wWDo6Oiorq7W6/W1tbV1dTVhYeFpabMEXnA47SguoBDhhTGIGYtyD00N1mWmBAJrHyEaMcFOAk6CCDjLELyL4Bnz5KhaSUXHRORdOps9Kw3I1RDQKCZBEIgROEGSFC29VVw0Oz09Jibmm2++iY+P12g0CILYbLbAwMCmpqbDhw+npaXpdDqtVjsxMdHX1xcbG+sV4nihTqPR3L9/f3h4ODY2NiAgIDY2Vq/XDw0NnT59ur6+3mvK6v3xtVqtXq8/cOBASkoKRUuNNjfd/ub8va/OXNcZZtsQmZnBWIRgRMQp4i6BdIm0g8OtTgSVKBiB7+zqSElL9lXS7l+nZ/lX9AYc/3g+/b+g+J9H+SICMDe4OQTAIMBqBYwDDPaC3m6+vRtOTgOHCzhZgJFAIQEECnhBADxKYHaWYQGbMjP1VvGtjta2xvuNL7744uTERGVVZebcbOPUtEQmTUxMKCy8+ZtXX5FI6BmJM7KyMkPDQuvqanfs2mEzWxQKpSCItIRiXWxzc/PQ0NBPn/+pQqGgacm+ffsqKirXrl23dNkSAADP8hiO7923Z+3aNQEB/uX3yhx2+9y583AcwzxDF4GxCMAsilO4xHH0i99VFn7rKzFRcFKCmRWEU4JazRO9dtNQwZnjhkC1RE0zLgctlzIi+O702cz0bKVMvXr56sYH97u6OosKC1esWJGSmqrVamPj4srLyvr6+9dv2EDRNMs4NRp1R2eHw251uVyrVq3UaNT793/Z1dUZHh4uimJRYdH6DevnpGf8x398SEmo7HnZ/sFaBOVRlMeAFcLpruqr+z9/S4pNqgizkjIq8Ck5nOLMvSrouHD0mEwQ/CPDEIoGkHJxCIWjKEGODA5UVlZIJNJnnn+xu6tjbHS0o7NjcHDgpZ//3Ggyrly+mqLIuvrab745vHXrNp1OJ5UoARAGhwZaW1oSE2csXrzkrbfeEIGgUionpyaGh4domkrPnFNWWtba0uXr67swJx2wY6gwwZg7jux/c6CrSEWPSeG4VsqE6nHGMijYhtoa7vbcvxcbEYQIPJCoEChzOBgRQcvK7tntttiYGPcDS5K9vX2XLl1iGNfPfvZCX1/fo+sehSiqVCref//97KysWXPSBZ6PjIj4cu8+iMLw8PCMzMyC/ILm5harwxEcEtLa1goRsOuZZ0pL7t68eiMne35i8myAsAg3yfPD1/IO3Mz9Uk9PSdi+CAUTpoEoP2k39pvGO8uKrxqCgmip3OlEUIJCgCenU3CTRZ4TBJ5vbmqOiohMS5t98sS3WVnZBE7yghAcHEpRdFlpWdOD5mXLlk1OTGo0vgIvtrd3REfHEgQFEIR1MRzLpaalibxgMk4nJsw4e+ZsbXVNVGSUTC5zk36AoBgmkUg4F+Or0/r7+7/yyiuJiYk6T/wW43KRBMEBTgQoDxGbAG7Vjvzinc9u1jTfbuhq7LLWd5pbh63NA8YHfaMnLxSExsXpfOQ2FrAswHE3LgreQbJn4xH+Nx424j/jbfO3eMH/lh16JdwPlW0Q8AyKocA4VXLwcN5nXyTJ1RE4IbWbJIyNdtkJpwWxmAmW0RCkWi7v6O1qaKyflZkBSBIBVN7lgubm5t3/9m9ps9NvXL+BQOTgwYNXrl559bXXEuLju7u7FyxYwPO8yWSSSqV2u91oNPr5+ZWXl8+ePZvnee+aidVqvX79emhoaGRk5IcffhgTE5Oent7T0zN//nwURTmOQxAkNzf3pZdemjNnDs/zp8+cQhCo9dX5+fnRNIVCwWwfgaJZdAx/e/gvmQkBoRoIncOUYMGAixBYQuBxgcdFBgEcTqAQRXGakqs0p06cy1r+KEDVAFCAffh+CqJ4/fq12NhYX19fnU53+fLlOXPmiKLoSXOlRkZGvMrIqamp2NhYgiAqKyvj4+NFURQEwdv4xTAsMTGxpKREcH8Eg0VRVCgUkZGRERERCILs379/cHDQW1J587sDAwPfeeedGUmzfPWqpm7nJ9+cYmhfhlC7EAmHYCKCuzkMQFmRFADOcohUpnA4XSqlrLWpTkoh6WnxUBBwz06cBxP/Fw7/PkP0jAanzYhDAJOmwcrKb//4wfEP3iv79lR7UfHlrw8Vnj1fV1KGuVyBUdHAZgdARCkSQVEcw5ysk8aovILL0+MTZpPpqV27DBGRpWVlLqczPDx8cHDg0KFDer0uLTW1s7Nj+bLlfv7+v/rlL19//bcQQTAcQyGOExiAgGP5s2fPPv74EzKFVKaQNd5vvHHj5sGDB+QKxb49e4eHRpKTkj/7/LOIiLCcnHkT4+M3btzYvn27RCZ1YyEvAIRBBDNGu3h28N3f7RLtfWkxvvFhsmA/XKcCGimvU6BBWqleSSkJND/3nMNhMaQlAyg7feYUilNms4PCqNmzUo+fOPrgQdOWLVsEQcjMytr1zDNz0tNNJlNzc3NWVpZC6eNy2gmCCA4KevOtt5avWG4wRL/77nuPP/746tWreV749NPPYmNjNz66oaWpmRfEgdEBjc4nKTFBEByUuzKcvn3+yzNHPl6QGRcdIjcE0UEaRCNhlLgjWCsJ1Mj81drqslKbcTI0JNzi4uUyHwTCtgeNeXm5GIY///zzvd2dBEm+8847L72022q1Prp+/Z69e2praxYuXMDxXF9f36JFi3VavdNl12q1J0+cdLlcGx/b+NWB/fPmz6Np+oknnjhw4EB1dfULL74QFhJZWHhzRvyMnu6WlavnIYRzpLPs849fiQ2TSNGJlDhliBb116AKzBXhLw/RSf1VZH93c1tba0JyCkAwlhNpqaruflNlRWlGxpyO9tbgoGAEIG+99eaTTz4ZHBy8cOGic+fO1dXVL1qypKe752bhzRd3v0hTNIqiWj99fn5+dXX1888//8WePRRNr1ixYv7CBZ9//nl3d9dPnngcEcSBvn6OYeurqx7d+BjAGMgOHNn/nnWiZeHsEIMejfCBAXJEAV0+KirIT6VVkzQUyoqK/Xz0mqBIiJKIyAPEE5MPoMvFhEVGVlVWUjQVZYj21fp+882R+YsWQgSBKBYcHJw4Y8aVggI/P/+AgAAUQkNszFdf7o+KivLV60RPlgOEECJQo1aX37u3cMGCrOxsX1/fw4cPtzY3R0ZGIhBiOG63WjmOIzwJP9HR0R988EFERISfnx+O4zaHg4MiDnEzAN9dbvjtB58bRQmi0mpCEhTaGG1wgkQXwlNyo4sbMRov5xcwIpqUEK0gH8bNP+Ro38vOkP9/9sb/cXb4cLX1/9yC5RjgcjVfvbHvd7/PCTPoWUTqcOIcQ/ICIQiUiNAixETIs8DJCSqdvuZBc/fIyKzlK0vu3LPY2V3P/dRmtTEMs3//lw6nMzs7OyAoaP68+aEhIV1dXW1tbUlJSRBCq9X65ptvvvvuu1FRUeXl5V1dXcnJyd6wwPv37w8ODs6ZM+ejjz567LHHFngEf4899pg3AYqm6U8++SQjI8PrlF1SUhIXF7tt25Nnzpytra2VyiRWu1GhoGicyz25V085k6J8RcsgyZlI0YYhDkxkPduEAgIEAQKAES5BBJSUA5L2jrHsuasA7Qcg7YnmEQEC5UoFyzLNzc3JyclKpdJqtZaVlcXHx3tbpgkJCefOnVuxYkVdXV1NTU1WVtb09PTQ0FBcXByO4959H6/7kV6vP3nypBf2rFarVCpVq9U6nS4rK0upVO7Zs6e9vd3f39/lcoWEhISHhx8/8V186tySusYjZ/M0QZFOSLEQFxBEhFDweNcIwH3GUBTptJp9VHLIOaSIC2Ptc5JnygmcfKi3hF55j3dh+H/h8L8eILrsiIsB/cM3vzx46i+f2B60hPNA72DIiSk9ROWi6BgdvX3j2lDT/dT0WUBGAkSwGo2kVIJheMHN63abzWG1bX9q+8VzF7MXzFPI5adPnbp+40Z7W/vOp59OS0ublZ6u1+qOHT/+p48+evPNN/0DAxGAQAxDvrdWKC66NW00Lly8AIjgxLETNwsLFy9evGLlCrVKlZOTgyDwpZdekkjozZs2URR15+7d4KAgg8FgNpspmgaCC3B2l3MMwy0H9rzNmrs2rc6kBKPT3EsCE8obCWDGRTtkzbx9KiJIq/NR3Lx7O9JgqK6p6e4b2r37l6UlJWHBfi+//Kuf//tLcoVi0aJFBQUFOfPmQQTZu3dvUlLSKy+//OWXX86enUZLFCiKEDheVFgYGxeXl5e/ZMni27dvP/XUU2Oj41euXvHV+vR291ZXVa9es4aWySQysqe3JdFgAIKx8ub5q6c+3frovIQIX84+yltHRfsYZx5zWCYoEkFEISI4TOenv99Ub7JbQyKiMUrT0tTw9deHf/vb3w4ODuA48Yc//GHpI0sDAwN9fDStrW2xcXEB/gGXL1+OjIxsbWnNy8tbsWKlj0bndNklNH2/sdFbWNvt9vCwcL2fPiY6Ou/yZY1GMzU1dfbsaYMhylerSE0xXLlwKCFc+vH7v4wMlqTEB0QEkNDZj7ETjHWMtY5JMV5wTAf6SiIjgkcmJu5V1YVGGiQ+/qOjI+fOn3ly+xP3Ku5SJHXt2nWn3b5+/Xqe56VSaU9Pd0hISOP9JglFMyzb2NgUGREZFBTkrpI9JW9tTY1SpTKbTCq1Oiw0dE5mRnFxkUQiYRjXubNnFi1cZJycTJqRUF1enDwz9NSBt1lj26NLU0XbEOocowUrwVo5l9VinlDISIoU1XKJFKXvFJdotf5KfYDnMEeBiAEAWZbHUSIyKuLM6TPpGZl6nc5oMlVWVCQmJgoc73Q51Wp1XFzcT597Lj4uLjQ0FIVoUFDgtWvXU5KTgShiOA5RlGNZWiKJjY35+OOPly1fHhAYmD5rFkESR48du3//vk6rxTFMqVEDALzL9snJyefOnQsKCvK6yE7xqB1FbtWM/fx3H/pHJ5O+gWYBTtt4hpdMWF1WAaFVPgJEaZmSlsmuXi5IiU+NDlG7uSAPMIj8IP6D/3Nw+Hdnh4go/EiODjhWHJ8489lfieGRYB7QJgtld9KiSAg8IYiYKOICQAUEAgyihI3jjQzLE0RLc0dAVPyM9PSe7u7Ll/NLSkt37tzJC8KSJUvulpTEJ8TLpNLQ0NCbN296903eeeedJ554IjQ0FEKYnZ199uzZrq6u1NRUiqKKi4s1Gk1hYeHcuXMzMzMbGxuvXbu2efNmp9Mpl8tPnDhB0/TatWshhK2trbW1tatXrdLp9JlZGbFxcbW1NRcvnoUoL8GZ0mvfJUZoSWZap0QR+wQhOlCRgV5fM0REAC8goovnTXaWx2kWkATpNzzqDI3PcLncBREvCABxs3WSJJqbm+Vyub+/f1hYWGlpqdlsTkhIsFgsBEH09fXpdLr169fX19eXlJSsXbu2trY2NDSUoijvgqiX9ul0OpIkS0tLvcpW7whaIpFQFOXn5+d1dbp9+/bExARFUbGxsfMW5Lz2zoe1rZ12hGJJhQtSDILznkUO74BX8AQ2I0CU0STntFEor6GQxsq78+ekRQXrccB59kFQ4XtB0v8gHP7fJjv/ymjIA4cT9PYffeOdynMXouWyYAT487yGYXUYDFIp1DgBnS6tXN75oLG3sSFlXg6gKEIqBTh2u7i4vr7h2V27piemIsLDS0vLBJa7V3HPK2j79csvy+RyURBQHNPr9S3NzeMTEynJyf5+/h5Pd/fvh2VYRIQetcNOjuW+3PdlUFCw1WLZum2rVC4RRYBjGM/zDoc9NTXtytWC5ubmqqrKbduedH9yaFrgecZlwygRA5Z7xWfbG4s2LE9lTD04O0kBOwVthGjBRJv7FpwKGrVNj/n56RkRXMy9gpLydeu3jI4Zz5650Pzg/to1K5ctWz41NV1VVTU8MuJ9vk6cPBkXG5s1d25z8wMfH1+phEIAqKqqIkly35dfrlm9Jisrq6CgYO3adfv27lOr1H/d+4XZbLly5RonCmpf9bp1q08eO6iUggANdfDTNzYujtcQVvN4DymYUc4kQTk5LshI1GKaUMqlpgmjr4+PQiO7XVaemDSH5YRDXx9fveZRl8vV1dWVm5u7fv36qGhDcnJyfkF+YuKMnr7euLi4/v7+uro6qVS6bdu2gYHB8IhQkiA7Oztpms7NzW1paXn2mWcv51/e/tTTDffrC2/e/P3vf792zYbf/e63hqiI4cGunc/umhqpe/WX//b4upTUeB1jHnBM9mLMqAxnKQhEl12CI1ICtZsmcQz66vxqGppETBYYFJpbcC3cEBkWFlhaWtbR1slz4ptvvCGVSh88eDAxMREUFDR3bo7FbMm7nDc0OLht29b7jffTZs92OpwERR355huGYcpKS9/94P3KiorIqEipXPKrX/3q/PkzAf7+Vwuuj4+OKWSSp597GgjWL//ye3aqceX8GNNwCyFMaygW48w4YGkalUspBOHMxjGVTKZVaifHTQ0POlLnZAFCCgABREwUUIEXjUaTj14/NjrS19MXExer02pvFxf7+vjSEgmOExBBaInE/XZdumS1WZNTU6S0pKOjA0LE11eLkwQCEcbFCAKv1viwDHP69On5CxYQFOmj8Vkwf354WNjRI0fGxsc9sIV4LSrVanVAQMC3336rVCp9/fycKDLoAC+9+kdVgMEiSqwCBmiFXcQYgRQx2ilCo83pEgWI4wRB6XXa2zeubNqwHPXkq+EPFUTI/ywc/r28Q+H7r/fwS/Ocra374DvvJCmkGptdw/AyTiAFARMEzBMOjnp28FCACgC1crxKp+8YGmJx0pCemVtUWFdfv2nz5iWPLPXz8ysrL+dFYdbs2RcvXMjKzPQqVxoaGq5fvx4TE7Ns2TKvtzUAICcnp6en58qVK0NDQ5cuXQoICNiyZUtcXByKoqdPn961a5dSqSRJsq+vr729fevWrd5MwZqampCQkOTkJK9EhCSJ6JjouTkZwyN9LfWlvU2l0cFKH4pzTQ9IURciOgFgECCIEHrYEs8DXkBRSNAMggtQRkn8h8a5uJQF02aGJEiBd7MrQRS0Ot/R0dGmpqb4+Hie5xMSEg4dOhQcHBwUFDQ1NRUXF3fkyJHY2NjMzMzp6emGhobR0VGZTKZQKDAMm56eJkmSoiie58PCwvr6+qqqqlJSUrySfO+P710xjYiISE9Pn5ycvHPnTm9v77TFuXDF6r8ePi7RBZl4lCOkD9mhN5RIBKIHDt2fQp5BAQ85J8U7jYN965YtiA7WYp6VcPFhnoYnzNb7N1H8RzR5AICBgYG8vLzY2FivVvIH93qvXdP/B+DQ6wWBsjyw2Ms+33M/L2+GSq2wWVSMU8GwMpHDBJZz2BGHnRYRiYj4yZV9ra2DrW0JixYDpfraxYul5fd++ctfSWiZ3Wbbt3dvUGjwd6e/+/Wvf/XE1i0V5RUOpzM0JMQNhxh2v6GhoeH+S//2b6dOn3bY7dFxsQLHMwxH0MTRI8fmL1iAY9ibb745a9asefPmjY2NxcfHQwAFQXQ6nX/605+ys7OXLl+aMy/nSn6BRq1pb283Tk8TBEFRFCkhAWuZHG57UHtNK7VpKatEnJZABwUdpOjAgQsDPCYKBORQ3kWjiIthYhJTyivuK5XBKFSeu3Bt9eoNKrU0Kjq6vb1r6dJH8vPz09LS7pWXt7a1paSkLFq4MDf30ob1G06ePJmenm40Grs6OxsbGzUazaxZ6aOjY5GRkWq1pq29bc3aNcEhodeuFjy9Y+fhI4c1vlqH1ZI5O6mi+GpT5Y0AOWPQ8xSYkKAMCZwUdOGiE+ddKOAkFA54ngDQ6bD5+PqoNPoTJ/PGJh2BwdEYTh05cnTWrFk4ji9dujQ3L3fhokUup4Pn+eaWluTk5LGxMZ7n+/v7N2/elJ9fYDAYSIrs6ekpKCjwJDnIFy1e1NjYOGfO7MrKSqVKNW/evKJbNx955JH+vm7j+IhGypnHm0P9mJlRCpIdl2MMyZnVFCQEjgBQilEYj0BOoDxWRHYXZ4ifeerc5cFRo0Ljx4nItRtX58zJMk1bNz66sajo1qIlj5hNxtraWrVaExAQcOduiUKuYBgmOyub4ziHzR4UEjI9NVlZWckyTGpamsDzo6Nj6bPTC65cDQoOXLJkUXn53fDQCLPJNDTULyEFUTQPdVdkxqv8JA6Mm5ThDkK0EqLLXdMLDACMKLooEhU4fnJsOi4ueWB4yu4EgbGpAEiAgCEiRERIkxKRZWOjY48cO5rqQbuwsNCTJ07OTExU+WgQQaAommMYh91uiDKc+e7UokWLYgyGo98cWbzMY3WJ4SzL4Bju8R0jRkZGJiYmogwGDEWdLqdSpVywYCGGYUVFRa1tbU6nEwCgUqm8nOfw4cOoTK0KCfwuv6amuRdKfBhCyeK0CyMESImQ5FGCw0hAkBhBeA5bgAEe5RnG6pidYhBZQKAPURDxmIz8cw+4J4ijtra2vr7e398fRVGbzcayLEEQEMK/B4eC54shDyeQSP/d8rIzZ6MluOdo4ChO8Ajuxe/9c7zyFpQXUReEolRi5nlVeFhQcsqC1atWrF6t8vXBCByBMCkp6fadO/Pmz793754hMkqhUISHhzc2Nubm5v7xj3+cnp6emJiwWCyiKBqNxqSkpPHx8VdffTUhISEiIsJms7W0tLS2tubm5oaGhjY3N3d1dX366acSiWRiYqKjo6OsrOzSpUsxMTGtbS1tre1trV1tbR2tbc0dnS0AYZMTwupKryRE6LUySEMXKtgRwACE9xAlTwsR4QREcH/aEYyFOIdIrFaSQzSG2UtQXEYSJERRjICejRgQHR1dX18vkUgCAwMpioqOjr558+bs2bO99K6zs9MbNxoVFTU9Pd3b21tdXT1//nyapmUymTfsVxAEnudDQ0Pz8vK8L/4h/vfHKBUZGZment7b29ve29c2MNwxOOYiZHaEdKI052WHHhGcp4HwEA5RwKOAx0VGgYoT/Z3L52dGh/sLjF0QWE7kecH9n+DxEOf/sUsURYZhCgsLt2zZ0t3dHeS5UBT1Siq9cPjjjMZ/xYvnea/BOmK2sNXVe19/XW23R0hp2mGVcoyU5QiBg4DDRI7kASYggBNdjNPH3+92TfXM2RkF+QV9w8Mvv/V2b0/nt99+iwCxvuH+o4+u8/X1BQCEhUfGxsaeOX1a46Px8/fv6uw8dOjQxg0bwyMicnJySsvKWpubExLiXU5mdHSssqIyLCy0sLBw1qxZq9auOnH8hL+/f2xsnMvl4nn+4NcHw8MjHl2/zmyy2CyWgcHBf/v5SynJyS3NLf0D/dXV1RDwel+VyExW3DqzMD0Ksw/SogkXnYSnEYKKPEQ8Nn7uW3AfoyLu5AkRUTQ0jfgHJex66S2lUtnS+kCj8els746KjIrzrM80NTVZrdbYmJjg4OCOzs7uri6H0zk3O3tiYuLTTz8NDAravn37kSPHamtrn356Z1HRrc7Oju07d46NjFRUVMTGx05PTz/22ObbtwoZy7hWgd4q+HbLukyc6SXBFAoYz81iIouKPOox9HBX1iICRSBAZGzcWl3XOzxq9w+NGZs0//a3r0XHxdtttoGBAUpCSyWStFmpR745YjSbNm/a1t7RMjAw8Mgjjxw5eiQmJlYhV2h12ry8vGvXrr399tsDAwOnTp3atGkTgiCnT59esmRJZETUZ59/lpGRYZycemb79sGepuJrJ0L0SKQ/gTompKKLEhlMsGOeVfnvZYaipwpFnJzACHjPoCn3SklCcsbYtH3z41sS4meWl1bGxSa0tLTExUZ7tRZnzpxesGBhW1v7+Pj49h07rl+/PjA4KAIQYzC8/vrr7e0dP9m6lcDxd999d+eOHcHBwe998P4rL78sArazo0Ot0hE4tnjxvMHhztr6Wy5r9+wouQxME9CGQyeGMBBwiNeB2XOLCI8AqJLrRUj3jBptPB4TPxtgMgBJkf/BAtn9P0pC371zNzFxhkQikcvkV69cTYxPYFmOoCiB58bGx1evXj06OpKXl7dw4UKLxVJTW5M6a5bJaMRxwvvIK1XKkJCQSxcvBQUFaXx9OJZDUXRyclKtVs9bsEClUtXV1XV3dz948CA5OVmn00VFRZ26mDfsIA6cOO8fHGNyIhykGEiwCOAhChAcIFCEmAAfFtcQCLjAQ5fNNjm2eP5cwk0QBYRnRIEXeUEQhX/qEgWR5/n9+/e/9tprvb29/v7+ERERXhKCouh/C4e8BwR/oKIIx/ffLmsrLAyjEQXrkDGA4MXvXcZ/cBx3H8csQF0kIcplkzwrDQ6mw8Mbe3tqa2uamx+U3C2prqzq7e87+e134+PjCIIc+OoruVyen59/48YNrVZbX18PABgeHh4bGxvxXE6ns6DAXd8hCKJQKIKCguRy+YULF5YvX07TtEKhyM/P9/p6exWKlZWVmZmZYWFhOI5RFE3RFEWTBIFrtWoXa715/eLEYFt0qFYlQ1HgQHgHinAeJPcSLB4BvADcvxUOQd1wCGROp+R+y9jwpKumob2upqGmpr6+4UFNXf298rLKyoq2trZbt26NjY2Vl5dPT0+XlZWdP3+eIIiKigqLxXL8+HGTyUTTtE6nIwji66+/NpvNPj4+k5OT3p4qTdPefPzs7OzTp0+npKT8oGZFf3R5P3bR0dHR8TOGjebyhmYnKnFhUtcPs0OAoN4QDoghnoDtH+DQh0KNQ73bNq2O9FOSGMQxz8IHihEo5jVNRVEU+wcu7yu9P1RNTc21a9empqYMBoOPj48XRX4IrvqX1RoCFEKHw+F0OkmInv3kL9MtzbNDgky9XRoUoXmO5AAhiFD0OF4L7pKDQwkbhg0ydk6lLKqpX75+Y+a87H17/upgWBRH56TPyczIrKquWbJ4SVHRrZkzEuVKZUxMzP79X81ISLhw4UJ29tyMzEyb1SqVy1LTUotvFVdXV8+dO/fC+fM6ne7KlSuzZ89evHhxV2d3f39/XFycr6+WoPDGxqaW5pbnn//p9PS02kf15z9/vHTpUplUguNERESEv7+/3WYfHxupqa64U3h5sr8ua0YgdA5Top0AghtdPGY6nhLwh5YAIQCJiyEJ0l+mjF628RmASaWUwuFyYCiuUqkZFxsTE1NXV3fj5s09X3xhs9v7+/uf2r7jdnExTVFms3l4ePjOnTt79+711eqACIzT01nZWXv37pszZ05CfHxeXq6H3Y6EhIQkp6RkZmU7jSMT/c0uY3dMKE3CcQyxQMABxIMxHpB2nzwiQEXUkwaA2x0cRvkQZIhKa1iyamP2vEUAIxmHXalUlJSUJCUlDQwMxMTFRYSH3bl7189Pe6voVmBgwGOPPYYT+OTEVF9fb2hI6O9///ujR44GBgSmp8/58MMPf/PKb8+dP1tVVfXiiy8OeDJW58yZ09Rwf/6CxWGhfpy5U7D1GfylvHnEjSEoD1C7CAUAeY/k1H27ibqbJWKUTC/gPqTMf9Wj2xc/8qhEqoGAio2N7+numTUrrbq6eubMmf7+/t9+++0jjywbHBzEMGz9xg00SfX29QkCHxIaeuDAgRdeeGHJkiUEQQyPjMzNmVtf39Dc0vLUU0/19XdPTxqTZqbarJashQviEiNR1Pig5sa8mUHQNYETAkRcCGBFKEIAgafnGoKVMwAAgABJREFUI0CRh1AAhMOB8FDhQORjVjEoKoWifRCM5Fysu1r+Hg5Dw0KvXbs+Y0aiVCoNCQ9vbmoym82xiQlWo8nX16e3t7e1tXX9hg0Wq+XosaPLVywvv1eelZlFEATHcQRBCDyPQEShUklourCwMDgoSKVSIQhCkSSCIA673c/fLzU11d/f32az5eXllZWVLVu2bFZ2TnFl7ZWiUkrmQ0rUTgHhIcq7zzEv7RO/33EQMJHHRJ4QGcRllWDCmqVzfSVAAhHPeeT5A/6TN4riON7X13fx4sXKysqbN2+Oj49nZmZKJBKWZbG/czoIAKA/NMpcLhyiKoUSER0QIALgvTZKAvjPkRze1z+sslEYHBycGBM9OT2FkYTd6RSAiJHEK6+8fPibb3bv3g1F0NLSYrFYVq9enZmZ+d57723bts1bTU9MTOj1+k8//bS9vf3MmTO9vb1Hjx6NiIhYuHDh3bt3V65cKZfLvc5427dv99rlsSzrlbf/3427o8cO2hyTmRnz9xefnzIzRjnKAU6OQoEXMQSDIucGHRHxZj176C6GCCQARElFY10Ho4lZlLNomcvqMWrGcFHkp6eGdTrfFStWfPHFFyiKZmdn4ziempp6+PDh4eHh1NRUFEUHBwcVCkVLSwtFUSRJvvzyy3v27NHpdCEhId7loKGhIbVabTKZWJY1Go0vvPDC3LlzvYztxw1Ml8ul0Whomh6YnBaUvrSEauntkwZJUcTjDgsJ0U0NvfonwdMQ8MwT3c+F4HTazRbjBx98cEQuylEWAo5DCTe8CvB791nwjzRLvbS1q6uLZVm5XN7X1/fee++dOHHipZde+vd//3ez2eyNZf6XZocuz4cchQCYrf0tHWqCpnhBKlMQrAsXBMx9QAved9hdcAjA7jLJZf4KnDOJoKe3v7WyuqW3KzszOzja4O8uORGz2Tg+Pq7T6fz0+tt3bi9fvkLv7/eTLVv+8pe/RBmiFi5exLkYmUzqcjghgvzsZ8/fuHHz17/6dUlp6coVK5597rmI8AiIIyPDw6Ioxs2Ic9ewLu7kiRMfffwRQIBKpbpddHvGjMSIiAiCwN1cXxQ1vr6LFi/mnLbe9vttYLJtrNxksig8kwBEFDzewhCIQPD4k3gTPAREAKJgNU/5BcWfuVLa2POGJjRV6uNfU1/Z09utUqgdTmbBggV1dXVjo6MHDx7s6e2V0LTJZBobG6upqRkYGAgIDIyLi7tw/nx7e/vExFRpaSlBkvn5lz3bhodOnTqVnZ3Z3Na8ZcvWmqpq1mpKNERK2aHmCpZzMYD0NqE8TRmP0YHHYtN9EnqREUEEWkI5OJThmbaOFmVZ2eDEDa+XodVqbWlp6R8csDsc9xsbPPLwnt27d8tk0oSEGZ988olOr8vLyxsaHDp77hwK0bzLeTiGQRQdHhn++M9//PLLL2NjY8+fP3/mzJng4ODGxsYgve5BbS1v6xkfGYsLDeEZO+QRnES9R6GAgO81b4Jnyd/9aZdJ6IHJsUBdzKWbd0pLSnvPF0tUPqKAyijp5Uu5qalp58+fM5lMSqVSoVA8+eSTSqWaZRidXmcymmxW6+nTp8+cOWu32bq7uvbt3etwOu/cvu1w2OvrG3x12gMHvurobJkYG797tzI2OqqtqWp0rLlvoNUQF87zTgmOQMiLoiB4BIWc14QI8XbrPGUOTvEYqvFRd0xZbFa7wkdAARAEHkL8B+UeQuBbt/7kiy++eOPdt00Tk08++eRnn30ql8vnzJkDcDQ2Nq6kpGR6anrl2jVBgUH5l/NVKvWX+/b99IWf4TwGMdRht3M8L6Hp2RlzHjQ/qG+oDwgOsprMFEXREgntYVZ2u12tVi9atCgqKqq7u/ujjz7C1LqZmUt1uiK7w0aSLs937TH99Thei562BXxo2w29nFwuV1pMA889/4tAOUazNo8EQPCav4v/zIhGQtE2m+3BgwcY5mYO3d3dH3/88Xfffff+++8/9thj/21sMfeDBPGhuEDUBviPT0/Lw/2Bg2Ehz2IIwjrhD2+rp2MKPR55godc2lkXxjF3Skuytb4xcbEITfIMIwKAkQTL81evXo02GAL9/J/zXKtXrwYAvPrqq8eOHXv11VdJklQqlWfPnr106dJnn31GEITBYHjppZfOnTv3s5/9bMeOHXK5vKampri4+A9/+INX2242m//6179u27bNbDaLoiiV0RhKtLa2X7x40eGwrVmzymozlxRfZHiiqa03PDReSskZzi6yKOBYkiQ8o1IeEYAgQl4gSUrtcskcLqqiaUDmlxYSYTj2zeGFi1fk5DxM7OTFSKfTIaXp3/zmN998801SUpL331955ZVDhw55N1+efPLJ8+fPv/7661bP5efnl5SUtHPnzrfffjsnJ2dqasobg/IDA9u3b58gCGvXrkUQhCAIs9kslUrNZrNXmE8QhF1EpkTMQSjvfXIgLJoQXRwCUQdAeUQUAAdRHgAOigAKnM04LVeTSpocaG+YNy9j3bykQBnKWaYQIPCAEhDoMZgV/nGhhXdMqFKpLl++7LWRIwjC398/JSWFYRhv7Mb/kW32rzJH/JEWySsl5p12dmzSD1e6nASGQVqUQI6DvLtQ4j2bVqK7DuR4EVGilNVqVpIYR1EWVGJQ+0UvXUDEG2xmo8NmdrG8SqVZu3Zt3uXLy5Yty83NdUOjn14ul1dUVvoHBFRVVLAsx3Mc4vWfQqBapaqqru7r7TWbzQ319RfOn2cYtqqqMjAw0Gtzdfv27cDAwM8++UylUo+NjdbV1SenJPb29BAEAVHodDjdhQuGqWiC4mwTfZ0YpFFSyTIkJhKoKCAiB3lPk1fgeE/XzxuBIiI8JcVdjCnS4J+5bKUuPJvDZLEJkTX1NVnpc69du2GIimppbn7jjTeqq6v/+B//cfDgweiYmEWLF1sslpy5c9dv2PC7118fHhmZN2/eW2+98+KLL7788iuvvfbapk2brl69umvXruS05A8/ek8mp8ZHRiDn7G43y2gpLVEqNXrRPIZAJwIciMhDhPPEkUIgEu4buAmPgCImh4vUKgWJZdA48FJ2BsDVoihwHE+S5Pnz5wiKEgRBoZRlZ2dHREWuW7eu4X7DsWPHVErlypWrVq1cs23rNpPJVJCf39ffr1Kqjp84/sUXX3z11VfLly9/fPPjSpUyKytr/aPrP/zww6TkZAdjBYwTYoTD7kKUtFoZwNuMdrON9iFF4BSQ73U4Igo9oiaXaJPJpVaHg+WcmZmZC9UGOwsYRvBRKhxWe1LSzPT02YODg0uXLs3IyFizZs37778PEeTevXtr166VymTdPd09Pe5CH6KQouhr165t27atvLzcbrcd2H+hpbm5u7Pz3Xc+2Lt3v8Vi6h/oJSlxaHTYF0WcgosQGVRkcM/I6qHEXvi+BS5iQMQEEXE6OBTDcYyEEKIEYZoYlUlVLOOiKAmAqMhzjM2h0fhERITfKLg6b948i9Wyes2aPXv2zJgxA0VhWFhYZWVld3e3J5p4Bo7j7//Hhxq1urO9I9IQJXA8QRC804lT7gdn+86d773zTmBA4MyU5IeHJMuiHvW99wr3XGlpabXtfd/k5rtcLEAduMgABPMkfAGPIbDHDRjAH8zc/vYXEc5MSkmNDKA4CwFY9/EFPdaZ8J/YB+QY1pvBXlFRgeM4y7IAAJ1OFxoaiiDI30vx/6FT6uZeFIkpJKKUNDIuAmIoKiIiR6EI5AH80SEoAIGHgoihHA4dCGcI9Fu/fdv5krL9hw4mp6YsXroUJwiVRo3i+K5du/708cebNz7GsqzX+M7lcoWGhnpdXTZv3vzxxx8HBQXt3r07NDRU8Mw/fX19d+zYUVxc3NHRERERceHChccee4ymaa+vxIMHD7wdRQDc9Uhba1tNTU1HR9eGDY8lJSXm5eXduHHDaRn+8KM9X//1NStL+On87FMmJaVBeKfVapRJpUBgPWNmguUlTitByfxLiu6v2bC9uKb/8uWCZ5/7+b2KuksXr/5k6zaJVKrRSLW+qomJCV9fX5lMdvny5RUrVnAc5y2sLl686OvrGxwcPD09bTa7ayUfHx/vFHDTpk1nzpxBUXTu3Lk/9EIFQeA4bsuWLV7XU0+9TyiVSgihRqOBEHoty4HddedelW1qIirIjzVO+mrCxhknKwKIoojIeSo+iIqAgKLaR6XAeZQ3Tk8M5WxZunXzI6zJpJPTnhRHAojewvufgEPva34wWwoPD3/55ZefeOIJiUTirkM94Wf/6sulHldbBBEEHJII60my4Nx//ogUCt/HYwqerGUBE1CKEygOQCfb2drSxEyxt2U2gXcB6GQ4HMc5F3P7zp221tbWtrbWtragoKDc3Nxf/+pXJaWlJXdLFi9Z4nK5LBaLTCblOX7fl/tiY2IOHzp08ODBoKCgDZs23Cu9h+PYs88+hyDIsePHnn766VVrV02OTfrofL7ad2Dr1p/MX5BDeKY4TqcTw3GKpsfHxlzGifslN5rqasOCeLXS1zLeIwJCAAwuPvydIwh0l+EigCLCI5gIMF7E+wdH+oan5hKoVK3gAT1jRvzY5Fh/f39qaurp06f/8Ic/YDje1NTkHWx789du3riB4fjAwADHcUGBgSMjI/Pnz8cwXKvV8jyn8/Pr7+/fsuWJ9s72HTu3Z6fnTI8b1Wqlc7itqjRPxGkHg8qBVGAsEEG8bX53XSfChyFxiButeQTyGDU6buzoHyJk8qMnThpiUhcuXChTKgGCJSentLS3ZWRk3Ll7W+/n39LWlj4nvb2tPWduTl9fn9ZXazSaLVYLSZCTU1NJM1MFgSVwIiYmZmR4xGQyZWZmnjr1XXx8vJ+/X2RkZGZ2Fg55HIT29RTff1CbGDLTMmUnXS6ZQiKIjr8VUAjrVSwAAK12B+lLPahvjzLEHT16PH3ehtiZaWFhAajArVy54vjx4xs3bqytrZXKldevX1erNRiKxsTGXrh4MSwyYmxktKO9w+VySaRSvb+f1WQODg62Wa3l5eV+fv4ymTQqKiokOAzHyJmJSYsWz8Vxp0wBZBru8F9+syQmnbONUyRtnp5Syd1sDz500vQE2Hl4lSggBEEOD49+ezL/88PX127eJZOqpBKVKAKH3eVysYgnT5XjOYfdceTo0YaGeoVCYbXaOjo6fvGLXyQkJNASur6u7saNG6llZd6JyaZNmz779NNP/vKXnU8/PTkxgeG4KAoe9qLS6/XPPPPsL37x76+//judTmezWhGI4CRpt9u9ExmWZb3WleEREdueNNyo+T1GUQzjBCTl8QeB7jLd/c17XGAQbzPGC/aAYZ0yHH3yJz+JC8JkAKAi8FoJi4j7lZ722D90efgm7O7uPnToEMMwcXFxr7766oYNG2QyGcuy//XsEPFUaChA0O+l/BAKNAST/V3jHc00FHAIEU4geBEX3AQcfegOgHAIYsehQ06PI1yHdRLR+7aMTqYvWPSTndvHRkYPHzk8NTWFEwQtlQTo/S5eujQ9ObVq1arBwUGNRqPVakmSjIyMLCwsPHDgwO7duzs7Ow0GQ0JCAoTQu8GYn58/Y8YMURTffffddevWLViwwGQyeQH70KFDr7322tTUVGlpaUVFxdVrV1avWf3Yxk1+fvobN27Y7XadThcS6DdvxdK0+Lg/f/wnf3+t1kdjd9kcTiclk/FuZog7EZrHVHZBAyXBDS2mUTP57C/eFqCso6O3f2B4+/anl694JD//yoVLFzQalQhEfz+9d//ziy++WLp0qdeIKDg4uLe3t6qqKicnhyTJgoKC9PR0r9zQC9g3b96EEFZVVcXHx3u78B4jf1an0zkcjgsXLiQnJ+M4jmGYl3i1t7fX19eXlZWdPH0mOXVWhCG6tLyirqLaLyT04TkIAYIwHi8VBBUFGYELLisJ2I6m6h0/WfPSjpWCi1dTBI56E8NQT9n9MAH+H7y8yzJtbW1Xr17dvXv3p59+umjRIq91zg9BoD/Gwn8lXET+lrCGsJzAcJDnqi5esg8P+BIQMjZMZHHPDAP1HDooAlCBcEMIwBmIMihmx3CbQpG28pHk5QszViydlTFnTva8zMzMuLi4xUuXhAaHYvj/j733AI7iTNdGv+/r7slBM0qjMJJGOeeEBAooAAKEyCYY2xgbpwVsYx+H9TqtM8429mIbTE4iI7IEkggKKOeMcg4jjSZ1ujU92Lvn3PPv3T117//X1t0u1ZSlMjDq6e993vC8z4O98fobTY2NBoPhiSeeSE1Ls7e1rW+oz1m2zOqbo1arCwryGxoan3/+hcDAoPDw8C+/+krloNJqtXIbm+DgoPz8/PGxsRUrVuCIEAqFY2PjZWVlKSmpdvZ2JEVBAIRc07Wlpfny5SsNtRVeTsrq0oKJ0a55scGQnCKAkQdIDLCAISzn1YI8VqVNAaAlJJAjkfvtqm65U1Bt++DUDMMXS2UyeUtTy+TElEwmb2xsnJ82XygUVlVV3SosXJad3T8wMDo6unv37pUrV3p4eORdvJieuejokcN+fv4lJfdWr15dU1Pr7eXV398/Z27CxYsXFixcgGEQ0LCpuurQob0YQXc9aPFyt1cQJKObYBijRERAhrYKHQPI0jhlxhkaIRMSYVK1EdjuOZxvoIUrVj12/35NXV2dWCh0dHTAMdTa1hYREXG/vEw3M1NdU7N58+ZXX3l1x44dlZWVulndZ5/tsrGxeenll/7j1VdXrVrR0tIKITx77uzLL798/dq1eUnzRkZHQ0NC8wvyI6MiXdUuOE/Y3t1YkH9eKcPUjkJomhRCAy4ELJiFiEXoN7MTS+aHaMhjhXZmwuHkhbLb9x889+I7fcPaS5euKGwUTipHpa393Tt30tPTe3p6HnR1arXarKxFhw4dCQgIaGlpcVOrr129Oj09vXHjxn379qWnpT948KCjvR0A4Onlpdfrvbw8b90qzMjMbG1tn56eiY6L4/FAX397eeW93va6OH83YJhiKKNMJkQMibG/MY+4yM0iCFiecRYXy5xaeybbe6eqmqdUzupHHllnq1Quzl4em5A4Jz4hOioqMXHenPg5yRnznRwc3dzclixZmpiStH79xuGhQW9v7zUb1i1eurSzvX35ihXpaWn+/gEQQ+vXr7906ZLVlNFoNKpd1RDB7gcP7nO2GE5Ozu+99x6CsL2j48GDrq4HD5qbmzs7O7u6urq7uysrKzs6OqoaWgyYpLSuRSBVQJ7YDHlmKKARwQDcOjnkGEGWehACGgMknzHpRrpsBeC5TfONeiAlwEPrOog4qsQ/EcisWs35+fnt7e3r1q3bt2+f1azYaizzv9w7tJRJ7MM4gTDE0iYoFbsppFdOnxILeBhG0GYGQYRYyALEAIyEyIyhWYLQ8okJATFCAOSsQvaOPjGx96qqDXp92qIFCxctwiC8c+/u8PDwpHYq/8YNiViyYcMGqxhVcHDwzMxMb29vZWWlWCymadrHx8c6k7NkMiRJ03ReXl5UVBS3mmrGMIxhGKuMS15enkwmm5iYqKmpaWxsjIiIeHLzFltbJcOw33///fDwcFJSUnt7+8IF6RIhwRcQarXL1avXeXy+rb0DJhDPGlgDiZmBhOYpaZ49w3c5e7WiZwTueO0TzEatsHOZ1M54+/pdunJVIBQvWZIxPzW9sqqCE8DtNhqNnp6eHh4ehYWFVumZmZmZ2NjY4uJiPp8fHBxcVVUVFBRknTBbmYF8Pl+pVIpEotzc3ISEBAih1WLGup0zPj7e1tYWGRlpMpkqKioaGhqam5sbGhrmzZv35GObquvqyu/fLy4qioiJNZnNU1NTBGQEPBZjzRgkOWEdykHMZ2Ym+lrrFs+P37JuqZ0EyXGEWJZAvz1A8D9h4T/UZOB0f0iSTE9P37x5s1KptBa1Vsz+W636f104BCzLmClAM4hm7p05bRgcsOPjuNlAsDSP5QxVrYb5lsqAoABuRoQJww04muYRnYZZzznRfaSu8UFHz8CARuOFIMIRwnB8amJqdGwkOCTk+rVr9Q31W595BjCMyskJx7FTp06npKRgGLZv374L5y9kL1uWtXQxZSYlMsniJVk/7v6hoODmf7z6ak9Pz1nOyMXWwdZsJnEMv3T5klKpiE+M105pxVLJ2OhY4c2bZWVllVVVW7ZscVDKSwqvT473hQZ4AdagkBEYoDBAI+tYznJkAY0gDXk0EDBARAKFjnWobdfqWfn2Nz8uqWgor6gdGR5JTk7p6enLPXWKJMkVy1cgCM1m8/fff/8fr7565cqVa1evzp03NydnuVgs/vqbb1JTklpaWu7evbdmzZr29o7AwMCfftqzdOlSiVRa31CXmpLyoKv7VsHNluamjY+unRgfOnjkCKmfiA/yNugmGZaSSCUUTVpwGiAaQT0BzBhuhiITlBmAXXuvuaZ1ZEzLQCj+w7YXbW1tCwoKdDMzoRERoyMjnV1dXl6ak7m5zzz7DJ/HP5l70snJydXV9ZNPPlm9ek1gQODCBYvyLuVNT083NDSMT4y7uroqlUq+QHDk8JGIyIiw8LC9v+x99NFHEcY7feXCraKCAF91Z3ONh0om4wOpALLULIWRDCfZTll5g5aSWkhBMRS73m8YejDM6Fl59+Ds/Iwlc+YkHD9xfHxsXOVgr1QqOjs7o6Kiv/rqq1WrVs1JnPent94SCATr1q376KOPAAAhISGPPvbYd99919HenpCQ8PNPP4VHhHMfMfagu7unpztnxfLqqhpXVxeFjfRm/vXr16+6a9Q4Y9QP90SGBNMMhSAEFMVRcBE3HSYYyKMhjwIimdytq09X2za+47UPp81AJLNHCPX09BbdKuQTuKO9I45jJjPJ6a6ZcBxvbml2dXE1zuqFIpG7m/vJ3JMCgqd2d58YG8cwZGtrJ5JLHRwchQKBxtPz5MmTDEOvWrNaoVQ6qlS+/n5R0VHxcfHx8fEybht746ZHQ4NDomKig4ODIyMjo6KiPDw8UlJS4uPjw2MieiaMY9OztfWNEpkNCXkMxFlowULEUlYPOo4CTRHATACjgNFP9DZtWZcT4ucm4Eo1wDIUsKROLGtV2fpfW+3/31pANE0LhcINGzZs3rxZIpH8znRhGObvSHizgP3dPpLjO7NmgUTk4+Z2/cZNkoUyWweTmSYBTkLCTPCMQv4UDx/n4WMCXtnwUOrGDWu2b79RWd0zPpm9alVRUbF+dtbLy8vB0TEsPMxNrf7mm2/GxscnxsadnJyCgoJ6e3u9vLwaGhpKSko2bdrk7+//2WefZWRkWC0MrazFsrIyW1vb2dnZioqK119/XavVXr58WaPR8Pn8F1980SqIFxcXt2jRIg8PD667iP/4448CgWDjxo179uzJzs52dnZkKRMSiRydXVVO6jslFUMTutaufsC3kSo0NG7XPjBzs6yloXvGxjl48/NvE0qvWT2rVKoomu3rGwgKDrl48aKtrZ2bq8rP19fH23NoaKinp6ewsFAulzc3N1t1Z6RSKUmS/v7+hw8fjoyMnJ2draysjIiImJmZsbo2KhQKq1nx1NTU8ePHU1JSrPZPBoOBZdno6OiSkpLGxsb+/v7BwcHJycnFixdnZWU5OjqeOJXb3dnZ2dFqY2Pz5Re7NG7uXe3NAz1d5pkJxOjtxHwBYoyjg4NtDU5SfN3i1FefzVLLkYBrxuMIYJxjM+Be/kG4+i8WZfb29l5eXr9TZqxo+t8yaP5Fq0PEAkDRkGLYkdHhtlbCaCAoUsYjCAYQNOS6eIiGOAUJEyIMBM8sEmoxNALZabEgfEGKa2Rw7+TEwMDwwMBgaWmZv18AwSfsFLZdD7pKS0qEIqHRaIqKisQwzGg0+vj6tTY319bWlJeXCYVCjadnWlqaVCzH+RhLA71u1s7Ovn+gX6fT1dbWzp8/38/P32wy84W8jvaOknv31qxdS2A8ANizZ840NjRMTEwEc0q/586du3enWCLCl6/IXpi1MDf3uNpZJRIKDPoZPp+AiAEEyxCAwnAK4mbIN1IEX665fqf3SlGrV1D8zaL7Tz/3okSquFlwSyIUnzl7Nm3+/LWPPHIpL8/Dw0MsFg8ND4+MjFy7dm3lypU9vb0LFyxACFEUdTEvb2pqysfbNyYmprW1NSYm5sKF81u2PHX2zJm5CYlXr13t7OyQSmWbnng079K52yV3hieGfD09hCzl4e5CQ5ZF0EiaCbEAI0RGhIx8wYQJ6mmRWOl7t6KvpnV81+5jd8oaAeLX1dZnZGQkJycXFRU96OoqLSvzDwhQu7oeO37sic2b+QK+yWQaHx+/dPlSZGRkR0dnQmKCrZ0tTdM3b96kKbq1rdVqpr98+fKLFy+EhYd7uLvTNNPX13fu4gVcwN+8+XGZWHiv+CZOm329NTqdlgSUGXCNc0vhgptpAhE2AJPPmIQTlE1h+YOtL31w7kpJQFhCx4N+H1+vnJxlFRWVJfdKdDpdW1ubl5dXcfHtnJxlBI5PTU1pp7R3794dGRnJWrzY6rOoUjneLLjZ1NQkEArnzZ1bU1OzbNmyosLC8PBwlmFNJpOjo9PVq9f0xtk1j6xWOTn8/OP3wGhyclKxCMNwnCJplgI0iQDLMzCEkeEBvlSqdGOgXWFJq9wlOGrFJndnn3ulVRKZTWRUlLevb1VVTUtLe0Njc3hUBMIxs8no4ORUXFhkMpmCQ0MBy4pkEj9v39zcXDdXdWxc3BdffJGYmMjnyDE0Rbm6qQcHBsfHxrq7Hvj5+hI8Hmk0mU1mZMkB8ZCQ0AsXLmAQunl4jE+MS6VSiqIMBoONjQ1FUefPny++V8ESPBdX9cW8ywSPDxEh4AtMZtIwOy0VYIbpSbGA4CFaSDACZBJDo370QYi78qWt6xyEQIxZSjXLQeXKQvRPBhoELPHK1dXVzs7uoaQ4F+Ksr38XDv/WgxjSEGMBH7dRudgrHO+Ulk/OGMRSBYXz9QjXYUgnERptpD0sWz40tPTZrclr12OxcQwA7f0DFMOsWbfuzJkzY+NjQSHBU1NTOp1ueGTkvfffFwoEt27d4vF4p0+f7ujoEIlEsbGxHh4ebW1tLS0tsbGxCoXCqjvDMExDQ8Po6Ghvb+/GjRtFIpG9vT2E8P333z9w4MD69euTk5MzMzOVSiVFUWazmc/nv/nmm/b29lu2bDl48GAEd5lJI4uTLGXGBFJbO1X83HSIixV2bt392v5hcmCcpHCZnTo4IT0nOXsjEqpMDCGS2tMMUrt71tXVC8WCrEVZtwpvTUxM+Pr4iEQiPz8/Ly+vmZkZrVZbU1Nz48aN5cuXWx2aRCKRQqE4fvx4SEhIT0+Pr6+vtVlKEIREIpmammptbV2zZo1IJPrss888PT2tiuQ6nW7//v2jo6MXL16MiYlZuHBhZGSkXC4HAOzdu9dsMtjIJA+6OtPT5keEBWvcbJISE23lEpWtXCGGUoKV85C7nSwnY96qzKQnlgYLIeBDQPw2XodWk5SHlhb/c7j6x2eN/zKA+NDul9vdYgFgaBcnl/KiQsP4uINchhgWUgDRnCsKQhRCJMLNBI+SiGd4xDSOWidHWUdbpLJvGO5btXFDcGi4mWRoki4pLS2+WRgaGmow6k+cOLFt23ZPjaayqioiIsLqvgkg3LlzZ0Z6urOz87RWGxcXxxPwLP8MBvQ6w759ez/48INvvv5Gp9M9/uTjLM3SFE2R9N27d6Ojo2RS6aFDB2trq5UKhb+//+LspWq1uqy0tL2jIy4+ZnB0aMnGjVAql+G8EyeO+/v5CMRCFjJmmoE8Honx9RQyQwmLK+QOPqcuVTR1A6VLuBmJfILCiu/dX7okJyE+sa+37/DRw64uLgsyMw8cOLBkyRKcIMbHxr759tv09PTi4uKsRYtcXFwUCgVFUeX379+5ffvDDz82m82Tk5MqldP169c2bNhw7NjR+vr60PDQOXMS4uJjDx0+CCA7MjHq5ee/7fnnL+aexDGkcnUdmhznSUQGijaSwIh4ExQ0Ipncxqe3n7pd3rPusZec/WMwTFxcXDJ/ftr9+xUajWZuSipDmXt6e8vLypqaG9WuaqWtrbvam8/Hv/76a2urZnZWv3bNGh6PL5PJGhoaioqKUpJTFmQuuHL1StK8eSUlpX7+ftXV1aWlpXK5PDAwIC1zQXtb+7W8y75e3qeOn2LMRme1K8bjGRnA4HyWECNCZmZEJkrIQBu+THO1uNEvfH5YfJZY7n7uUn5s3Nxr1664uTqnpaTKZLLe3r6jR49KpVKOqMULCAoBDJtfkF9ZWZmRmdHaYokABEF4enrduX372vXrvj4+m554vLmxyd/fv7Ora2JywsXZ+b333pfJbIKDg7OWLDWb9D/s3r0ka9HF8+e1M7N2Tk42ChuDXg9ZnEBCFhNhEttpCptlCRMruVPeoSWlOZu245jCziMQAVhX39De1ubj45uVvcw4a5yYmCwrKa2rqY2JizPp9a6uriUlJU4qlcxWMTY4zBXQ/MKiwrj4eIoiZ2amnRxUiKMOUGazi7OzyWQSiUR5eZeiIiNxDEcQ0gzDckZy0dHRh48ckUok7h4eVm4BAODo0aMlJSUCgcA/wF+tdi+6fZshTc1l5SoPD75AwMMQHwGMmsWBiUAMpPXQPA2NU+bpQUcx/I/nHvNXS2gzI8QggORvRhMQ/ZOBDHEtLpPJZDAYBALBP6lZCn+TSrXWsBADAhvH4MjY0CgjhUpr6idN9CTLTEDYotfWTo27xMY9/d77IWsfASonwOKuPn6tbZ0mM8kT8JcuW3bv3r375eWhYWHffvtt1uLFale1RCy+ffv2ihUrLnGXv79/UFAQhPDq1aubNm3Ky8uzs7PTaDQmk2lgYOD+/ft9fX0JCQlBQUE9PT3nz583GAxBQUHV1dU5OTnx8fGzs7M4jhMEMTs7e/DgQbVavWnTprt37/b19a1du1ZvNPKFGANmaUjRFMD5CsBTOKp9XT0Cvbwj3DwjvX1jI+JSfeKXKlTeJMSMLCESOBkokqGhXq8PCgo6dfp0gL9fQID/6TOnH3R1BocEkWbKktdrNMHBwZ6eni0tLXv27ElMTJRIJAAAlUql1+sbGhq8vb1ZllWpVNaNBZ1O5+Hhce3aNalUGhMTw+fz79y5Q9N0bm5uS0tLREREenp6UlLSnTt30jjy3uzs7OHDh9Uuzv5+frdv3wz091+Qma6Uy2kWCPkgKcg9MjI4bW5MQrh/SlzksvmxiSHqMHcpqzMp+ThgzZZUhntoOA7WXz06/w2H/512k9UJx3JnlQpZ0Y18k0EvkQgZACgKUghSGKQx3Izz9DjPKBIN0aaGscH1O16YBBDZK+MXpO/6frfKURUTHefr66uU2wj4/Hv37p0+e7q9vX3VypVqN7djx46lpqbw+IK7d+4U3Ly5bdu2+/fvcyrSz0vlMgCAXqcn+MS9uyUqlWpiYgIniOjo6J/2/BwdFSUQ8Lu6Ok+fOQMBvFV4KyoqKjQsNCwsTOXoiHDsu2+/nZ6efvqpp7778Yen//AHBCCigMrLx8neLvd0rlgusbGzpSGuM8FZhgB8u1laaoJ2Px+8CniaF1/7Tqz0unyrcP3jTzY0t83q9b6+AcW3ChMSE9vbO/Lzb6Skpj7o6goODSsqvCXg81NTU48dO/byzp02CluWoTEMO3jwYGhISENDk15vCAoKbGpqsrOze//99xUKxZYnt4SHRdja2t0qLBgaHhRLJXdLyra/vNPVwy/E1/vcuQt1bc0xiXNoDAME3wQwPctDUldc5FZY1HKruO2ZF971DphDARGDBK3NrRqNl4uLS3FxcURYqMrVPTFxTkFBweUrlx977LE7d+/MnZt4+3ZxV1cXpwmw/6WXdlqHWwK+4Pad21OTU44qR4ZmnJydDAaDVqudmJj4/PPPt2/fnrNslbubR3tr85kTuUmJSXeL78ZFxXj5+l+6ft0rIJQQ21BQZGL5BkpgBjIKKVu7tJfya6Ln5cxdsZkBsoDQ+KMnLgQGhSQnJ16+dCkkKMTJySUyMsLR0fGDD/68du1aDMPlMqlEKj1x4uQTTzxxv+K+nZ3dwkWLCB4PQTg6MvKg+0FGRsaVy1eioqJmdToMx+rq6k+cPP7iiztWrlytVruMjo598823ixct+PmXX0IjYhcuydl/5LBYIhaLJARPwCMkZsAbNwE7N9/RWebCtVKJwvuRJ1/FnUOAwEE/q/cPDG5qbJyfllZeXkGTVGxiYkhYiFwio2n6wvlzAwMDcxIShoeGxsZGvb19+HyetUHa3d09OTGRsWjhT3/Zk5aeTpIkwzBms1mhUJw5e3ZuYqKnl9eFCxcDAgI4GgQpEAghhhCEIpGwsKgoITGxurr6119/bWtr8/b29vT0zMjIGOjvv3L5/IP2ZpNet3XbCyUl90YGhyQSAaQNQswkwknaqEXkDCJnhh40Kgnyjy8/kxDiiDMAo2cFuHWpjHnoCG3llf7jB50FVla8UCj8hyW8gVWkjeWknllo9WiELIQYaaIxFvGdXXxDw9KWLE1YtDAkOdl7Xnzc8uzsp7fErlsnDg0FOI8ViaFEwiAkEIlGx0eqa2tDQ0LSMtKbGps++vijp556Kjoqalo3YyOTsyz7ww8/bNu2LSsrq6+vb3p6+tNPP+WGukt8fX2PHj3q5+dnY2PT2tr6008/LV26NCQk5Ndffy0sLIyOjk5OTm5sbFy0aFF7e/vY2JiPjw+O4+3t7bt27YqPj8/OzrZaCr/88sucIAHHGrTk+QiyfJrCGBLQFIYwAc/GWWSjFkocWELEMoCCGIGUDIYzAIcIQYAwhIRCcUxszAecLUtcXFxVZWVPd3d4eOTvZtD29va2trZWg98vvvgCIWSVpBkaGrp+/bqrq6t1zGntU1vfJ+QE/SYnJ8+dO3f16tXAwMDVq1er1WqlUmlnZzc8PFxQUBAWFvbhhx8mJiYG+Pt9++230dExDE0nJ6WaSTNiMEhCAgciHNji0F4scJQQNjwgAIDVm+V8SFMmTsUIAogeVj/WApH93d3933Bo1WB6eEsefsOJvyr9fIQsW1h0E+PzMYHAiICBhRSPrydwHSGYEhDNs5ONU2NBGUkL3n83Njbm+4MHVL5eazduPHjgsIAnUDu72NgrPTw0/X19JtLo4+t7YP9+g8GQmZl56OAhNze3CxcurF+3LiQsdN8ve/l8fvaybG6FDJnNZgLn7du3NzY2du/efTtf3ukb4Oto73DixAmRSPz9999RJLkoKytpXpKfn6+tgx1gGELAv5yXN9Dfv/nJzZ9++umatY+4eXoKCInRRBJ8kZ1CGR4Z1dTeeeFqwei0CUlsp0xEaV13ReNwXctESvr6Fet34M6hOCY1kFR+YfHWZ567eO7C5Mhoa1vrc8+/0NralpQ0L/fkycamJje1q3VnfGx8/OqVKznLlkmlEgyhvr6+02fO/PGPf7S3t8/Lu5ienvHJJ5+EhYVWVVVlZmZmZGZiGFZxv/TkqZMbN66vravr6Ore+OhjkGZEMoeoqFgzi47lnm970MeX2Qmk9p0D0+VNowV3mtXu0U8995aDTzTg2+pNmKPKlQHw+NFjmzZt0ul0NTU1fj6WRDM/Pz88LNRkMl2xHKKAM2fOLFi4QKfTNTU1ubt72DvYc9FZeuzYEU9Pz9dee23nKztTklOuX7/e29s7MzOTlJS0etUqAFmGoQ79un9+6nwI0MVzF7c++3xISppCYXvy3OXGjl4dRegZEYkrHwyZrhdWT5Oihcs3h6SvAiIPyIjMtADjSy5fvhIdEw4YprWlzdfXlyCI/fv3BwcH+fj4vPTSiwsWLDxy+Iijo+OqlSs//uTj6Ojo2NhYK13u4KFDOIa99PLLn+/aFRcfX1RcfPfuHRdnl+6e7nfffR+wkGHYn37+KTw8FLCgqqp2YVb23LQFc+Ln1De23blbNqkjaUyMSR0fjJtyr9we1NJLVz8Vl7QCqvxnZjC+yN5sNvMIQiwSHTx48D/+47Vvvv52ZHA4NCJCqVC6OLlERUfQNPX555+r1a4XLlyMj4uTSKU0RQuk4tDQsL2//Oyt8YQA8AgeCy1wIubmQfFxcfv27Vuzdi0EYO8vvyiUCneNhqYohGFGg1EmkzY2Nu36fBdBECtWrIiNjfX19XV2dj537lx5WZlcKhESPDc318c2rF62ZCEfMrdvXtOPDShF0FEq0E8NQ4PWMNG7ZvH8t3c+G+EpFwNAsKSYwHCr4fZfJbz/uUAG/25owt55509cIfg3X8Dq/W1d6oaIY+Nwho2IAQjj8VgcAgxCmRCq7JCHqyDQWxYRIg3yI9zUQC4HfB4r4NE4RgKGRcDVzfXwseNx8bGXr17x9/enaKqwsNAqbOZgbw8AOHXqFE3TW7du9fLyKioqSkhI6O7u9vPz27t3L47jbm5uly5dmjdv3p/+9KfJyUmNRlNZWZmVlbVkyRIfH5+ampqhoaHly5cHBQXdunVrbGxMpVL9+uuvoaGhS5YsYVn2jTfe2LFjh9WMEGKI09/GACAQ4CGAIYhBhEGAszRGs4hBPBYTspDPAj5t+ZVxLkZiCEIcYSxL8wgBhqP86zeS56XMiU+4cSO/uro6JibGOto0mUxqtXp4eNhkMr300kvV1dW5ubk0Tbu4uFjHhx4eHhKJhGEYHo83PDys0WjOnDmze/dujUbzpz/9KT4+vre3FwDg7e1tMBh4PJ6fn9+5c+du3bq1c+dOb2/v3T/sXrY8p6a29qmnnzUYzGKhEGegAAGcATwGQIbGGI6qzECMBjiGWVf0GYRzO9cPSVFW23bI/g1/5O8+H39Lt/mnqDf/MnAIwe8Wn+B37yseRiEWMaQ6LFjtoS6vqx7Vz04xtA5hUwwcZ7FBhPpxMChA2Tueznn7dSAVQjv7ntGRhrZWlmK3Pr31L7v/guO4h6dmYnT84sWLTzy+OSt7cU1ljUwiKy0pPXjgUH1t/Ssvv+Kkcjbo9IMDQziGK2yUTo7OkIAsyVRXVwkFwmtXru7Yvt3O0W5iZNxsMrU0N7+4fXt0dPSuz3a5urtKpGJEQ9JEEgL+nt1/mZqY2r59x4ljJxztVfHxsXyMxzI0D8MAwwBCwLdx9Aufl5K9zoAED0b1WkboF56amrUhLesx9+iFQKQ2TJmV7l4N9fVdnV2enp7z58//4xt/fOSRRzTePh6uLiV3S994482aqpqPPvzolZd3GvSGqsrqmWkdjuGJifMgA/IuXDIbzeFh4RFR4e+883ZZWWlMTPT2HdsZhr59+25GRrreMPPVV199+MGfmxqai2/fXrNqjZeHL58vAwwPl9prgmPSlq0P9IsaHDW1d43zpO6xqaszsjfHzV/BV2oAELNQhBMSAPC2tnaRRFTPqd8VFBQAABqbmhQKhUAoSE1NiYuPz8rKeuqpp3g8XkNDg1gs7unuXZq9VCAQNjTWj4+PC4SC8PDwwcHBzz77TCAUfPbZZy4uLkcOH/Hz93N0cPrxx7+4uKg93N0u5V2MjIpMSJrHsKy9q0/ywpzQ+OQJE9E7TpuQXUBUenr2hqSVj9tqwgF0BLQEIAlAIrFIeq/0npOTw+pVy/PyLtMsTVP0wMCgr6+fg4NjUtK8lStXPrJ2nUKhGB0dbW5uMRqNYZwlzsz09ImTJ1JT58fGxtTV1n311VcIwQ8++DA8IuLChYsqR0cPD499+/Zp3NwXZGZ+/e038xLnLc9ZCQAUypQhMXOj41OVbn6jJqx5QOcRlpyy6NHU7E0KVRCUuwEgI/hKhrUk9RhOSKRimVx25Oixd999r7CoaGJsQqPxwAjEEwrFEsmS7KXa6emS0tLa+lo/f3+SpsQSCWBZL2/v/fv3L1m69NCRI5mZmVy1xNAcjW5iYqK6unrBwoUajSb/xg2xSGRnazcwMFBcXHT0yNHo6GgBnz8nPt7L00skEgMIdn/3/dj4WFZWVmNjU21d3Xtv/0klIgBjTo3xf2x5Vta8aD5tlBNsQqjfhmWZrzy3aUFisLsY4wMgBKwA0BjLWCoKFrHcqyW5/ycdD/8Ldv4X3in2zjtv/90dZc4r4eEcEXGMGkuxxBI4TWA0jgEezvJwiGMMjrMYonHEIEhBZKkoubjLMmxScsrhQwfXr1//yy+/MAyzY8cOmUx24sQJOzu7goICd3d3JycnvV7v4uKC4/i33367bNmy7Ozs5OTkiYmJ2travLy81tbWS5curVu37oUXXggLC1OpVAghrVZ78+bN0NBQ67cJCQnHjx//4osvVq1atWTJEoqidu/eHRMTExYW9lB7BQLLPYS/baoC69YBgizGQMxSOUIEIM6t5GGcfzT2kMvLGYUBABHCVE4uvT29fX19AQEBQUFBpaWl9+/fj4yMNBqNVkuK6enp8fFxlUplLV4rKysrKioAACdOnIiKivL09JyamiorK7tz505NTY3BYFi6dOnKlSutnFI3N7cjR4709PRERUVRFFVVVdXT00MQhK+v7759+9LS0tvbOzw1XhqNl6VoBRjiJsrckhHDyVxZNRU5ryfI7ahyHe+Hqg0cS9ySDjBcaoX+v12K+Ndqlv5OpfltUgAxgqcnDYRU4uDrMzdprokgzBKRQcinbWyQixPh6cb38Xj1m12eK7KBkAA2tgDHnVycGxqaRUIxYMDq1WsOHzw0NT7e1z8QFBjo7u6OWNjf3+/r6yuRSq3mz3Z2dgSOf//dd09v3booO+vbr77RaDQKG6XZbDpy+LBuZiYpOdnV1bXk7r2urq6CgoIN69dDhAQCgV6v93TXUGYKQECR5IcffCgUCp/d9tztwuKurq709DQ7lQPkJDvYh1vjiAE8GggZJHD3DQ6NzgiNTnf1ChUr3TGREwA2AAgJqR1tMiKE+QcE/rp3r5+fX2dHJ47h7q4uDi6uF86fc7C3v3T5sqOjo0ql+uLLL729vR/btOmDDz/c/PgTk5OThUWFmx7bdPbcuZO5Jz00mubm5p2vvIIgHB0dtbd36O7uPpl7cs2aNQCwVVVVff0DcXEJalc1QwEW8bkBtwDQuFDqoAmODYlP9w2MUzgECGWuECgAEDFQwFj3QwDwD/Cvq6sZHhoKCQlNT0//+eefO7s6X37l9eKim64urk0tzXqD3sfHp76+fnBw8MUXX9y16/OUlBS5XJ6fn+/v5y+3kefm5jY1NfF5/IzMjISEhNbWVk8vz8nJycamJt2MbtNjm+pr62uqa+IT4l017gDhLMZnMD7J4L5BsVGxC4LCEu2dfARSJwBEgBUBIAWMmAV8FkCTmZJIxVVV9/sH+55/9vnc3NyTx0/u+uKr3p7ukZFhHCdMJrOtrd3E5ERBwc3Pd+06fPiwo6NjeHj4ocOHwsLCk5OTn33mGT9//8bGxszMzEWLsm7duhUSEjI1NfWg64HZbEpNSTly/EhwcNjQ8FB0XDwXoHAIeIRIqVR5aQKjQ2LnO6qDRDJXAOQMJqGhiEEiyPIAgDghJM0GlmWcnZ2Hh0Z6e/s2Pf7EtWvXKysroyIjAQACoRAi6GjvsHL16pPHT5SWlhIErp2cspHLFQoFwzA38vOlUqm9nZ2dvb2JU/cmzWYvL8/ckyfnzJnj5OKsn53ds2dP8e3bdXW1IcEhm5980svLy0Yuv3Tpsq+Pj0QiOXnixOTk5KObNl2+fBlAkJqcFBDgP2vQ8yArJQgxwQgwkJEUk54YOSfMT+NsKyOgBQIBIABNsCTOyShxcpoIstCKbPCfFPH++6Xk/wMc/u7/a/3i8NDy9RBIIKI5GwhLyQGtujS/YQd4yEslKYaHYxOTU9qZ6SuXLsfHx1vunZPTzMzM9u3b7ezstm7d2traqtVqrby18+fPr1ixwsHBgeAuKw/z448/Tk9Pf/bZZ9va2jQajZUI1NHRUVdXt2LFCmv7sby83KoSa3VPbG9vLyoq2rBhg1QqtTpFcIo+FqxgkBUlEAIIs3xjlSujIKAhtPp4cAoEEOdesd8cJiHibC0DA4JOnz4jkYjt7OwSExMHBgbu3buXmJhopYZqNJqmpiaj0WhVYgsJCZk7d65EIuno6KioqJicnGxvb9fr9XFxcdnZ2enp6ceOHXN2dpZIJNa9kQULFpSVlVmF686fP79t2zYnJ6c333wzIyPD39evsqxi/ZpHcD6OAQxQZk4EgWQQyWA0BRkaMdwuLsNAGkBLuQs4MV9LNsOBOno4QeScrBD4Nxz+N3D48LwBmmT4IrHlZwIeUtp4pyZHZGfF5SyKWb0scv2KiPWrotauRGI+IAggEAHSbDYa5TYK0kxOTUwND434eHstyF7y/tvv1NTWbdu2DbKAoemo+Ji1q9bI5fK33npLLpcjCBsbGxsaGgwGg25at2DBgoKCAhcnJ4Zlz5w50/3gwZz4+NLS0pqamqSkpOVrVuRdyFMoFMuXLz9z5ozRaAwMCdJOTh06dMjPz2/9unWD/YPXr1/PzMz0CvAx602c1hyXESOWATQNLXk1QjwA+WYSUgxCmAQCMQNwluWzLAERbtDp3dSu+/buW5y16NNPPvn11/0IoePHjyfEx2m12iNHj65bt87Pz2/58uW3iy24u279+vLy8jkJc+rr6gry80NDQysrK2/euvnN11/LZLKOjo7q6mpPT8+Vq9ds2rQhIz09e9mykpLS2tq6pKTk0LAwDOMRAhHNIAZiDESIEEFMBEgcUHxAKCGSQ5Zr1TAEy3CLzVzvCiOIirKy5OTkgwcPJiYmzs7O3i25FxkZPich/r333hNLJI8++iiCyNnZ+cyZMyqVyt8/4EHXAxcXlz179oSFh3V3d+/Zs+e1116jGdrb2/vUqVMCgWDdI+vOnjt7/37FJ598VldfW3izMDYmWqGQu7q5Isw63cAITEyTGGB5CLMBDA4YHsvwACMALAFYnEujoVwpGhsdHxkdFIslAgGfYZiBvgFnJyd3d/cjR45oNB5BQYEB/oEuLi4ff/RRdnb27OwswjBvb++vv/46aV5Sb1/fvl9/jQgP37JlS3NLy8jISGdHx9PPPlNTXXPy5PE//vFNnX62vr4eYtjc5CSFrdJy3wAOIB9iEgDFAEgAkEIgBVAEAQEgj4UEYDHLwccwTnWBRggKhEKJWFpw85aHm0d6Zvq9O/fa2tvDIyMABNNTWpFEzDLM3MTEzs7OwMCgW4WF0zPTnZ2dSclJWq22r69vaGgoKiYacHvGlr9KIvXz8/3hhx84nk5dbGxsX29f2vy0lLT5JqORJM3Orq5joyPtbe3l5eXT09MvvPDCTz//HB0d3dTclJWVxePzWQAEAgEOIYYwPp+HELKKhGAQsKQRMhQCJA654P1bDPtbTAL/O+HwP3EM2P/8U+6sWbc+IAAECywVFmCRtZZED/93y31DUKPR7NmzJzEhwWAwKJXKioqK2trarVu3Wn3LsrOz8zga97Vr13x8fMrKyiIiIk6ePNnc3Dw1NWXVo3F3dx8aGpqZmamoqJiamnJ3d79w4UJOTg6Px8MwrKqqyrqhkZmZ6eTkdOjQoebm5hdffNHW1tZoNP61OkQsYykCGWQ5YRTO0AiQEJghMEI4g6ABccrXXAn8UBLXgh8IBwgxDIsh3GgwCAR8jYfn/v2/xsbGikSiwMDAzs7OvLy84OBgqVQ6Njbm4eGRm5sbEBBgZZRptdra2lp/f//y8vLi4mIHB4c5c+ZERkZCCLVarVQqvXv3blhYGI7j1hIzOjp627ZtVVVVe/bskUgknZ2d+fn5y5Ytyz1xat3atXyMwAU8Wm9CAh4NGRJjacSSEJkQRkKchohGiIac/CpXF7Lg99nhb3D4u1HYv+Hwv4VDa+pjgRNgNJlxvhDwcABZlsCgSAikYiDkARxjWZoiCDMLcILHQESZKR5fKBGK+3r75TY2lZVV2okJkUgcEhp6+vTpmKhoFoCf/rJHLBZveeoppUJhNptbW1tJkly/YQOOYZZHXavNv3FDKpOVlpZ++umnm594oq+/f/HixUuXZctlssmxiRs3bmzYsMFRpUpLT7tx7VpdbR1HMY1OX5TBUMyRI0c8PT1jYmIwApuemhYKBQCwXIeGYYElDtLcijAAfIh4ABEA4ozlWbDETcBiLM0gzIJQGIJXr14mCCI4OMTf339qaqqvt7e5pWV4aGjHK68MDQzs3bs3KirKKiOlm9FdzLtYcq9Eq9X6BwRsenRT+f2yrq6uP73zjpNKtevzzxcvXtzS3CQQCCIiIvR6fWVFRWBQEEWSEWGREOEMCxgIufQUURRLkwwEPMSTAiQCLI+mISfy8beyV4A06iMjI/fv35+SknL27FmSNK9bvz7v4sWpqckjh4/8sm+vVqstLy9XKBQ9PT2cSpQsNzd3fGL8/PnzsbGxkZGRzc3Ner1+/vz5WYsWffrpp1GRUTKZrK+vz2Q0R8dEVdyvmNHpEAJZS5dwwr/WbBiHnC04hDzOFBVjGYyjbHNzI4Bz0RsyNJjVGwkePqWd7Ovtraqq2vTopryLeTYKm4sXLyxatChz4cI/v/dnvkCA4xhJkmKxuLy8vLSs7Ny5c87OzpEREeHh4T/+5cesrKyNj268cOGiwWAICgwsyM8PCwtzcXHdvXt3XGzc/cqK7JzlEOfUZyAGEQ+zlNc8Lm/AASAQJDhfCOw3hz5LQkSaSR6Pj+F80mywUShomr569UpwUEhyckpvT48lLtnb21hSNESRpEQu6+zo9PPzy85ZZjIYux50VVVVIYT6+/q7u7vjY+PEEomlWOHzjh4+0tbWZqn2AHj66a3hkRGZmQuuXLnS1NjE6aUwBr3Bz8/v7bffHh8f+/Of/7xv3z6Np6a9vd0/MCAqPMJImvl8PsPQZpJkWIBhOKBZPmaJHWaDTioQ8jCIWMtzgB6OaeB/9Sz8PwGHHNWAy84MRj3GvTVAUwjDgNnM0jQ1M0swEJooJBQhFlp+K8ACHOPW9C3p1eDgYP7164EBgYsXL9793fdGvX7Z8pzw8HCFQlFUVKTT6WQyWVNTE03TOTk5P/zwQ0tLS3h4eHx8vJOT0/bt2w8cOODq6qrValetWoUQmpmZ2b9//507d5YuXWpra3v48OHy8vKNGze6uLhYRYDq6+uvX78eFxenVNqZTGahUIDjuG5mhi/gsZDEEAVIHY81YfQMwI2AMOu6KieHGw3aXoIxYAIc0kYkENJmPcIsBSHgakZgbRNDyNJAJpVSZnNZaWk4x5gPDQ21FnOenp5SqRTDMJqmtVothPDXX39tbm4mCEKlUmVnZ/f19c2bN8/KFO3q6oqLi7O6H6vVarlcbhUf+OGHHxISEjIzMw8dOiSVSvPy8v7whz+cPXtWbiNfuHAhjnB21ozEAjPNsgSug8AEeKMmksWFNMBogJkBJoS4HmKYJT3EAbQ6pTyEQ+sR+R/AIfwnr38tebbfWqTcO/9t68ISBQni4dABYhBy7jMsAhYIwSFEACcYHDcjwEAkQDyI8SVKZUtdvVgilUolP/+8743X3wgJCubhxNlzZ6sqq9IzMpbl5Hz88ceLFmc5OTtdOH+hv79/89Ynvb18YuPjRELh8PDwzz//XFxc/MwzzzyxeXNq+nyZQqafmRVIhZ9/9nlqaqqvj+/s7CxPxHOwc/jxhx91s7rnt73Amuni27dbWlo2P/GEJbmmWYFAYM0AuU/aAoeW4IXzSYpECKMoM2ttiXAtdAgJHAkQp6Nl1uuFQuEHH3z07rvv/bRnT3pGRlBg4AcffigQCJycnCLCwmzkNteuXfP28vL3909NSXX3cP/kk090s7qvvvo6OTlZq9XeKi50cHBInZ82MmxJXnt6esYnJna+/PKuXbu6e3oCAgNndbqMjAwej48TPDNJETwLKHI0DYzHIyBDsxQJfxM5ggj727UwwLmOYAhV3L8fGxNz5uzZ6OiY+ekZ/f39P/30l+U5y6VymYuLS3Nzc11dXVRU5IoVKwMCAi9funT8+PE33njjySefdHF2bWtrvX79+nvvvWc2m4VC4Z27d7oedC1btgxBLC8vj2XZuXPnGg36gMAgijKYSROwfLwQIh6CLEXSDBeaLfXWw04d5B4G3BqrHZ1sK6urY2OjTuXmzp8/PzkpGcOxnTt3rlq12sXFRe2mtnopb316q0gkylmeU1hYdOjgwXffe+/VV15Re7hfuXR5akq7fPlyO3v7xoYG7dRURWXluvXrDQbDyRMn0tLSJqemgkNCnJydeTwCcZJm1nPNAJaiSIZmHoq10yTFUMASfTFuWAKtitWcsjE+PTPl5x/Q1NyinZ7x8fX19fdrbGioqqrUeGpEIiGG4wxNSSTSy5cvRUdFOTk7h0dGcDuFaHh4+Je9e8PCQn19fX788ceSu3clUklAQEBsbNzs7Oy8pCTKbEY4FhMbW1VRWVhYmJSU9KCr68iRIznLlmm100ODgyRFeXHswvSMDJzAIYZYliUQztnaYYBhrO8WAcDDcYalGIqCEBA4YaXEQ9YqR/PXOMP+k4TA/1fg8Lf0jKV5gIFmE2BpiGFgVo9m9RgLCQYCrYGTYUWAogBN0YA10ZSZoRHCjAbjRx9++NKLL+pmdDfz82tra+Pj4+fNnTul1To7OyckJJw5c8bPz++7776TSCR9fX2LFi0aHBzctGmTRCL58ssvlUrl+vXrbW1tq6qq2traFi5cqFard+/e/dprrxUUFBw9etRkMm3atMnd3V2r1UokEquo6TvvvPPjjz/ayBXePp7c+tGsXC6nKBOO05AxYIwBx/SG0Y7jez69evjb0b6qiaG6vq6aqvLim1fPGWa0DgqJQCpCLAsxidFsoihawBMyFP37PfEL8L9z+3Zff7+fn9/4+Li/vz9N03v37g0MDHR2dh4bG3vrrbcQQvHx8XPnzrWuYdjb2587d25oaOjpp5+2s7NjWfbAgQMDAwOrV6/es2dPenr68PDw+++/7+fnt3btWo1GAyF84403VqxYMW/evNLS0vr6+rTkZDPXYMHEPCOEYyTN4Pj5opIvfzn06/n8X05fPXru2rnrhbcramISEyxh2hK/MQxY4dCqZvg/hMP/v13M74u3kHmoZG/ttrO/zZ4hpCGkIEZbp8s0SxmMGMu6azQV9ytu3So0GU1paWk2jraAZk+fPq3VaucmzbO3t9fP6imSZGi6o6MDQygkKEQkET3o7LJaeM7MzDQ1NS1YsKCqqkrIF6gcVTjCqu5XWv743Lk8Hk8gFt4pvH3o0KGPP/k4JCQk92SuRCo9ePDgm2+++bfaQA8bIpB92CXDEE2bDQadSAh5OCIQDQGJW9M7CpJmzsaZgRiB7f3ll/DwcDs7O6VSaTQae3p6Heztx8bGbJW2CCG/4KDTJ096e3sLBYKWluaS0tKWlpZZnS4wMECj8SwqKpzRzSCE5qel9/f11tfXNzc3h0dERETGKJWKu3fuZGRk9Pb2zkmcZzTpDQYDwjABQRj1Rsqk52EspGchn4EEC3BSr9MygGQgDf9zmwrHEElSXhrPkydOmsxmV1cXewf76qoqR5Wjk5OqorJy4YKl129c7ejo2L59+8GDB+/cvjs2Pm42mz08PLy8vIaGhxq5a8uWLW2tbU1NTdPT081NzTk5OeHhER9+9GFKSsrtO0WPrF0tFInMZoPRpIOIJXCp0TDGsBRPgDACgxjF0CaGNXO5Ezfb4ibyiGd5TGiGOXb8qG5mhiCIoMDgsrLygICA/v5+qVTi4e4+NDg8q9NFREScOXNmcmqyqLBwaHg4IMDf3t5hZGj4Rn6+h7u7RqNxcXU9e/Zsd0/P5OTkhg0b/P38uOW0rIqKykfWPcIX8BiGBKwFBBnaSFKzDGPgEyyOsxCRNGWgyFmGJRkIMUQggFmSnocympZHmaJJANiwsIi9e/cp5XJHB8fwyAiaos+dO+9gb2/v6MBQtJ2DQ19P772SkrCw0KmJSW9vbx9fX1vu+vjjT0ru3Zs7d+78tLTYmFhnFxc7O7sebh/DQ6OhOVHsiOgoDMJ33n23qakpJycnLj5eJBS+/sYb33zzTWFRkUql8g/w/6ugjOW/GIpiGIb9GxltjnjCsJgF9C0lGPv7ifybePV/AA6tKv7QSkI3zwLTLJicYPv6Sk+f+fb1PxYeOFSw73BF3s2pli5fe0cgEgGOi0nhkAasCBe8/uZr2/+w3cfH5/SpU7U1NXt++PHSxTych/t4+zAso9PprLsE169ff+aZZzZs2ODp6dnT0zMyMlJRUXH//v3nnnvOqkEeHBxcUFAgEAguX768cuXK+Pj4ysrKmZmZwMDAs2fPIoS8vb3b2touXbq0c+dOW1vbiIiI/QcOjI2Oh4QG/7begCjDOM7qcEZ7Lz9373dvB7oLYkPtHW1MYnzKRkzZiKBYgLo7W65cPu+nUUucXHu7ezCBVCgQUmYKPSzMOTTBkYeHx438GyqVysPDA8dxzmSR+PLLLy9duuTg4LBq1aqKiopHH31UJBJZPZtIkly8ePFbb701MjKydu1aT0/PsLAwo9G4f/9+iqLq6uoaGhqysrJiY2NZljWZTL29vVbJgnv37kVGRq5du/bc+XMJ85IQjlM4mqRAr9a8491Pj12+hdu4dIyQNN+WBMIxrbmtq+/gsTODY9OhoaFyAiKWti5a/BsO/3Eg5DxdKBbQ1i2jv3ZorF7X3B2zdvm4HjzLUDRpJnEeIZBKL1nKvoG33333hx9/sFPanbtwftu2bdGxMd9//31kZKRarT548KCtrS3DMM4uLi0tLWdOn6mvr39qy5b6+vre3t4dO3aMjY2tWL58cGjopz17WADK79+Pioz0CwjACKz4VtHJkydfeeUVB2dHO4Utj89/4oknXn75ZS9/b0D/tavICcpxAA7Z6alJjkXNQmjACZOJ7NcbhiiTlsBZyLCIwVga0CYS4/Ov5uUxEC7NXnb8xMlH1q7Z/f1uvUGfmpoaGRl5Mvfk6Oiot8az/H55cHDwqVOnR0dHlLa2CQkJhUVFixYuLC0tzS8ooBha7ebm5+Nz/fr1ioqKXZ9/XlZWJpWKC/JvisWS6rqa7JxltkolSZIMSxMIM+qNgDLxcZrAjRDOAMMAMA0CoCWEiCVomjHTDMnVAxhgMY7njZOkSeHg8OPu75/csqW9q+v4sWPpmZmZCzNv3rpVVFSUlp4yODjo4eFx+vTpouKi1JRUoUjU09Pj4eFBkuQnH3/MMuzzzz//4MEDuVz+5w/+/Prrr0dHR1dVV2mnphFCrS3NkRGRkVERVl19DOO2rDDLfaPoGaN52kxqGXqWRUaATAxLIsCHgA8AxukFA72RUbuoDhzYZ1WFvnLpio+Pz7oNG8ZGR7788quEhDl375bwBYKRkZGuzk6EYampqdXV1Y4ODt7eXp9//gVgWbFEYsslIgcPHly7du3SrKVnTp3RTk3SNN3c1Ojn7xsaFjYyNMAncEibAKPHoZ7ADQjOmMxDJDmGoBEnWJwgCJwrExmIAb4FY34/45DFcMStohuT5iXv27svPDyMoRiNpyePIHJzc12cnR0cHQEAChubhoYGH29vpb3d1ORkbXVNXl6ev7+/o0o1MjrKMkxnR0dQcDCEUCyRmEzGhsZGtVotlkgQhtEUOTk5effeXalMtojzpt29e/eK5cvfffddB0fHnJwcZLUuAKzlMybNNMNgOEIYj2sJAMTtUnBQaFUmty7BI05rF/42uXvIgvjfBIdWX6+HpFLAuTbRFCAw0Npy8YcfP9m2o6XglhpgNrNmvnbWHvGby8t+3f3NYFtjoL8X39GeJyBwjPhhz49hwSGxsfG//PTzyOBQeEiYyWx+bNOm/QcOOLu4DA0Pf/311zU1NVKp9PHHH798+fK8efNkMpm7u/srr7wSHh4OAFiwYIFcLicIQiAQODo67tu3r6Wl5cknn9y/f7+1nAoKCkpOTm5raztx4sTly5dTU1O9vLxI0iSTyePi4otvF1dU3Pfz8xEK+TQ5RUA9QrryGycqb59ZMNfXy4WPyBExPquQ0AQwSQiospM52clUdtIfvvkiwFPj7h1IEHwcF0JI/MbUg1YdV4lUolAo2tranJ2dOzs7y8vLm5ub1Wo1SZKenOBWfX29UqmUyWRW43scx/l8/sTEhFgsHhwcDA4OFovFHh4emZmZExMTr732WnBw8Pz58wUCAY7jZWVlNTU177zzjlgsPnHiRGBgYHx8fG1d3cDQkG+A7xQANd3Tjzy3c9QsYMSOemAjVHiQyAYQMoGNvdzOgcaFdyurW9o6MtPicUsCa8FDBB+6eMOHlOF/w+F/I0rH/u5pBxjs4YScBjQNKNqCjxaI5OpFxuqm+3A+S1EmDEd8obCytGxqetpkMqWnZ3R2du7Zs+fLL76Q29g4qBwXLc5679337O3tTSZTbW1tdHR0fX39uXPnPv744wVZC3UzujfeeGPu3LmPbXn8dmExn89PzZyflp529/bdI4cPh4WFK2xs7t65W15e/uePPpCKJPpZPU/ML75ZFBEZUV1d7eLoZBWSfWgCYK1ZWQYAs0AqwLBZaqp7bLCuqe56cf6JytJrw30txtlJRJkkYiH2f7H33sFR3dm66G//duyk7pa6lXMOKCKUCEIgsjDJxkN0AMZgsI0DOOF0xjkBNgYzBBtMzjkjhBIKIBAKIIFyjq1Wp533q+5mfPzmzdwzc+v9c869v+rq6ipBVYe911rfWuv7PoKAHMfYbL/tPzB9xozAwOCW5mZXV+3N/Jtenl6Tp8/QuGo99PotP24JDg7q6Ow8d/78suXLrFbrQH+/Wq3W693VavXiJYt379rt4+s9KTt727ZtD+vqnn766dT0jLS01LfeeissLHzSpElnzp1ZsWLFoKFfJqPkchmQWBmFkAqI0h0t9SUdjSXFeUdLC8+2NlRIwGqz9pNQUFAEhhCIhEIJc6IdRBAqKyqGDEMKpYLhuHv3K1evXkOSRHp6+p07d+rq6oxGY0VFRXpGenp6+oPauueef66np6exsXHdunVNzc2Xr1yePHny8WPHGYbRu+uffvppb2/vW7duHT167N133r167croMelBgUE0baIICcdlGDrc117b3lzxoDa/pPBSfu5p1toLxWFXFYqIHCQop4WBCCBtE+QKND8/v7Ly7siRIxsbGivvVa57+52hwcH4+PjGxqaqqvuuWtfS0tKBgYFFixZdz72OYXhERITZbJ4zZy4A4Nz582vWrGlqajp69GhAQMDrb7zp6ePV09mz5act23/e/sPmTc88/YybVsvzNIFxCBhGwBAqDrY0lj1+UFBafKb4xqnetkecdUClhJLI4ijhcCODCMQcoevJVY0ggHQ0q2WU3MPd8/jx42NGj2E5LjAk2MvTc9++fTqdTqfXuajVba2tt0pKWJrevPkHrVa7YsWK8PDw0NCQqvv3n5o1a1Ry8ubNm6vu3/f09PTz82ttbRFFyT8wQOC5SxcvnTt/bsvWre46vR2jFxctXfpc8qjkGzduRMfEjBo1ShA5ATgIIASlJEgGJ3qG2db+4bZeW+cg1zlIdw+acUouk0ERQRmOxzHU2ZmRRAlKqISgTpD2749FkL+73/8Y/f5pOhSB6DAyQUQAMICwtAUTGMDYQEvbiU8+LT9yZJTWLQInPFlWy4k6IOlEwQ1hvShpqL3h2qUzidERsrDwkvybLS3tkyZPPbT/ACKBd95az7NsW2sbhuNW2vb1118TJPnBBx+YTCYEQZYvX97U1HT8+PGIiAiTyXTr1q2+vr7MzMzIyEgcx50uITqd7urVq3Fxcf39/Varde3atYLjUBQVHh7e09NDkmR3d/fDhw+d4wZ3vXt6empVVVX5neLIKH85xQJkqPrmiYJLe2ZNiFbAPpzrIyGDIwwUWQJKFJAwgVaRrJIS/bz1169cTEtNhRiBYCqOhwInERRhGh4mZCSC2CG+U9G4oKBgeHg4MjJy3rx5o0aNCg8Pd77555577ttvv50yZQpN06IoyuVyq9Xq7e1948YNp3Ssl5cXgiBlZWUFBQUrVqxoaGjo6Ojo7OxsbGwsKyt75513AACFhYUymWxoaKirq+vZhQu//vGvXjEp9f3gpfe/4VwCSPcwIPfqN6Mi1HNAyUDSBlAjy4sEKdO6tXf31dY0ZIxNwhDAcwyFShBhnaTz3+fS/zcd/n5j/N4PkRCJlXiIQN5mQx39L9DTZa6411daRj96PFT7AOnpJUUE6HRw2GgTWVJGIThC4PhAf9+pU6emTZ8xblzm+x98qHPXe3l7SQCEBoewLCuJ0tTp044cPlL38OHJU6ciIyOXLl0aHh5e97AuPDRs06ZNKpVq1qxZXnrPjPGjf9vzG0VQvgG+uddyV69Zk5iYuGrVqkuXLv3pT3/iWc7NU4cTRN7V3HuV915Z88qIESO2bduGQBgcEYIgEOIQQsRishJyCggmwHY9vnWi4OLWiyc30/21kX6KYC+5ebD5flleccElwWrwd9dAN/2RPXviE5KS08dZbTaNq/bF558fmzFaqVLpXLUUTgSEhA7093380Ufr1q9PTU1FUfTAgQNLly5tb2/PmTmzID+/rLSsp6f7zXVvXbt69ciRI1OnTVv24osDA/0KpUvprRKzzerh4fnoUT3HM5HRkRBFeEQUeRPO9XY8yM279tu1K7sfPbwW4IOH+Ck4S0fN3dxbN870d7TKcMLNy8/UN0RRGggxgaFRhXLL5k1vvfXW+xve9/X1TUlNffioPi42RhQlvV6/ZMmy6OiIv3z6F4vZcvny5djYuN7e3hnTZ1y/dp0giYMHD7715ptt7e1lZWW1tbU7d+6kbTSESEdHR2t7Gykj71Xec3PTJsbFQsEGCYnuvl+ef/z4/m8fV18EtqZAPRroTrU8LL125kB1Wa5Wjur17kAmB6icp1mUJCWAXLt25bklS/fv29/V2TlnzhyzyeTl5UXKZGGhIV999VVXV/dHH32kclHV1NSQBBkcHDwyKam1rfXixUttba2TJ0/28/X96aefTCbTvgMHaLMVI/GBnr7qqvsYimi1LpX37k6cOIHARZyyoaD/QdW1w/u+vnZhO22o8dVy4T7ywZYHNXcLc/MusqzNXauXu7g6bJUxh6yKY/fRIdYoiKKjGwm8vHza2zpqHzxISEoUOE7v7p6cnLx//36WYQSBt9lse/fuDQoOeuP1N8LDw2mGQVHUTa+/eOFCUVHRc88/P2nKZA93jwP79xsMg7SNfvToUcqoURcvXMzLy/vmu+/6enqDgoIq7927mX9z/PjxNhtdcqvE09NT4+qid3MHqGSRgAVBuwWw60Tu/iv5n2757afdR45fubXzyNmz1wvu1dbTHObn54NCDEoigWL2mMVLEsAlgPDQDi6Rf1Ne6/d0+Hee584Y+E/ToQQkESCCAx3i9ozI2aFhU9Nv72youXgpzdtXZTK7cayS5WS8IGMFaDERrE0JBSUJJUnMKyp0VasbWjomTJqSl18oI8lly5YBBLqqNR99/FFPb29gUKC3j4+3j7e3t3dubu6UKVO0Wm18fHxxcXFNTU1eXt6GDRu2bds2f/58Pz8/mqad3kklJSUmkykvL6+rq+uDDz5weikIgoCi6LVr1yorK999992xY8dqtdry8rLOzq7HjxuMxuGZM3MoGbrt541hQXoNwWz8+PV5U0ZqcTPJ9VOSBZN4VOIQhMMkweHjwwrcEEUAlVJJ0/yjh01hSWMFXobLNQLDi7ygcFFCCG/evFldXd3S0hIQENDX17d8+fKwsDCaplmW9fDwSEtLKy8vLy0t1ev1HR0dI0aMcNr8OpN3S0tLcnLy0aNHU1JSKioqiouL161b5+bmZjAYlixZYjAYvv7669TU1NbWVqe7xSuvvJKcnFxRUXHrduVrb6//asve3Iq6B50mUh88xMmsPI5QrhJQCADnIMYBhAeSiACIogqZrLH+cYC3f2iAToYiDtcLCXlyUaD/Sjr8Ownv/0OSIiJJOATAYsZNViCB2uPHT/+0LXf3nuu/7bt56tT148eq8os6amvFri7P4ABC7wohFDgLJ7KXLpz39PaJT0i6W3H3yuUrr7zyysTs7N27dnl5eup0uqr798vLyrVa7bfffTdv7ty3336bVFJe7p6HDh2qr68XRTEgIGD6tOmCKEAEhoWGHT50qK+7D0XRKTOmHti339PTc926dffu3WtpaRno679/r7KiouKdd96BJAoEKTk5+eDBgxaTJSQ4GOKoZdiiVCsAOwwsPTeO78y7+Eugl7Bo7rgAHUkBEyoYPTVUTJhv0oiI8uK8WwWFlr4BkpKnZIwlSBIjqNOnz/As99mnf7l3v1KSpCHj0JlTpyoqKpqamqZOnTp1ypSft2/nOU4QxYjwCK1Wy3JsaVnpqJSUBYsWmYaNhYWFCIQ+Pj6hISG7du4OCwvzDwzY+P3Gzz779Pbt8siIUAhFhrHIUWtV8emzh36EUse0rNiRIzxVFE1IZr0aCw90S4wJbW58XJh3E7JI2Mg0OzbgRIijB/b8GhkZqdK4lN2+HZsQHxwW2t/fTxJEQUHB9dzrjx49zMrKSk9LLy4uvnPntlLp0tbWlpqW6uHpce7sOYvFsn79+qSkpIsXLnR1dwcFBQWHBLMse/369ZdXr/7007/MnvOURqkcGujyD9ANNVcc2Ptt66Ob07OiRif6+OtwCrEC20CIt3ZCeqKHC15WlN/e0hbo5Ye66BgrTclVlfdqaKspITF+y5Ytr722Njk5effuXWPHjr1+7dqVK1cuXDg/dmzmsmXL+vr6v/7qq/j4eJVSOWrUqLa2Njed7tix47t27dRqtVevXW1qauYZPjU11Wq23MzLe+GF51etWrlw0bNGwwCQuIBgvWRpuXnlwOUzOxJjdJPSw6MDlJ4KiRRMXlp5WJBvbFx4SVFh7d0qf3cvldaNZXgUczKqhd998B3NZ4iISGho6KFDh1yUKh8fX4iht8vKcIL4/vvvW1taFy1e7OPrK/BCYGAgJZNRMhnPcUCU/Pz8Ghsbq6qrMzIy1GqXjIzRoiiazOYrjuPurl//9jsDfX1yhfxBba2jsn/3523bTp06tXf/vr7e3nPnzieMSsQJhRVBu4el9X/Z/OvJK0O8zM0vyjMk3sUzwNU3WOnq3TNoOnrsVFtbV2BAoEatQFHAc7SjXYqJDg6D6HAhRP7/QIf/dTp0sLUR1Kn+DCRgNN07f+nC1p1pAUGgf0BBs2oRIUU7cMUlyNlsGJBIh2SoTKk2mM23bt+Njk+oqKlNyciYPHVKeXHJ6ZMnH9Q9jIqOxkli8eLFycnJN27m3bhxIzw8fMyYMWaz2bl9brPZUBRtb2/38/Mzm80BAQEymczZb9y2bVt7e/uqVatYltVoNDqdjud5SZKsVuvRo0dXrVoll8uNjg2dpKSRarWqt6e/t6+3qKhQrVYljYzLv36+tuByYpiHpxpqUAbljLjE4qJjJQJhEYRDgf21iHAYQbA8olR7XsotH581G2oDeRYhSJK20adPnyopLTGbzRRFTZgwISkpKSoqaufOnfaL26Fd5DR5cKJAJ66NiopCUdT5jTvJlD09PePHj1+3bh3ucEKmKArHcYdWxUOO42bNmhUYGFhXV3fy5EmVSjVmzBin22rp7bsd/TZ3/8jNW/fEZUyyiKSJBqyEkpRKdLhkSlBEEAlFBMzB0SWBIJgMkm04OT5OK8MQgcOg020cPlmK+5+qQfq/t1/6u7unJCA2C7TZQO/gkTfXX96x01pdE4aT4WoXDwILVrvIaLqz7mFVeUltSXFKSCigUMDTd+5UDBgM855+Zvv2nQMGw4cbPvz666/nzJsd7Bf4888/d3d1Wa02FIXNLS3r1q1zd3f/+uuvx40Zp5ArHjx8cPny5eXLlyMAhEaE0zYbbaN1XnoI4BdffPHGG2/s/OvOwcHBdW+v1+q1iYlJ4WFhQwbDvv37KYqyWiwhQSGUSiZXKCZkT7xdVl5UWJiSkoJCHgIrkEw3z+2/fuHXxc9ODPCW9XfUuWC8EhOgZKGHByTGxlqGx6Ymizy/b/+xjLFZIQmJCKa4dOlqV1dP/IjYx48e/2npkg/ef89gMCSPTO4f6J80aVJRUZFGqz1z+syUKVPLyspef/11uUJuMZsPHzkybdo0AMTcGzdkFKXRaOy3c11de1fnij+v8PH1vXHjRmRYhEbtUl9bPSI6XOIths6HZ379ZnpmZOao8OH+R4Kl2wXjFLgEBRtnG6JpU1hYiJteX1VVraYoNw8vgBF97Z0VdyvHjRu37+DBGTNnlpaVLV685OixY5evXvYP8FcqFCkpKbdu3VIo5H39fRqN1majx40bl5aaNjAwsHPXzsiIyLFjx+7cudPL0ys0NLSluUUUxaPHjr344ou+3t4F+QUB/n4YIg72NoV4yw7v+1ajGMrODFORQ7b+Rsk6ADmrHPLs8JDEmD3UsrCQkNoHjVW1DZGhUYTMxWIWjp04lTJq1L79+xctWnDx4oXJkye3tLRu3749Pj5ucNAQH5+g1+lLSksVCoXZbA4ODqZttuwpk1mGefjwYVNT07Rp086ePTs4aFCr1WqNpvbBg8LiovCwsJT0dJvFVH2/csni+efOHh07MbXq5vGb5399ccFUD7mA2npwxoAxJhkiiLQVxyQgsrFR4TaDsbryrreHl1zpghCyJ1sniDMBOMRGJCjwPCWTJSYkXLx4sbOzs7LynsVqRSF8edUqk9nU2Ng075mnD+4/4Ovn5+7uTttsJElCFHVxUfX29j569MhmtQQHh1gtFh9f34CAgJ6e7osXLkyfPqOosDAqKspG00eOHl26dGlIWFhTU9Ow0Wiz2mbNmd3a3v2wqcsnLKK9V1jz1kdlla2xyVmUi8+ASTTaJDOP0hLBIbhcpfUPicgvKisoKpw1ZwaCcDKCBFBCHJNaCREQIP7bmqX/n9nhv5oO/0aqB5hjNiK1tF/ascfNxugYXs2zLqIo43lCkhAJAlEkIMQRBEq8wIsWmhEAZjDTco3r4pfXCDi26bvvDUOG9PS0xJFJ4yZkld++jeKYt6+PSqXaunXr888/79RRU6lUt27d6u7u3rhx40svvTR+/PjBwUHnTiaKoqcc5913301NTXVxcdm/f39CQoLTKXDz5s3h4eGjRo1iGAbHcVEULRaTQqmIiYnx8fFVKOTG4cGW1seWwc7qW5czRgQEe8oxbhBhh3GJdli/8RLkACJAR69dJicBggyZaICpcJmPhVN4RY7p7OzZt3dfW1ubUqnwC/CfPn16ZGQkz/M0TXt5eclkspMnT2ZkZJAkyfM8hmEURWVlZRmNxgMHDqhUqqioKMGh9S6TyXiev3TpUkdHR21t7eLFi/38/CwWC8MwkZGRp06dAgBMnTrV39/fx8enra1t4sSJP//8c0tLS0ZGRsLIlLqW7h37TrCkBlG4mkRCwCiAUiKA0Lkb4/Brdlo3YwgkgeRKYS0Pa9KTYgI9tZgkQkmE9t8TOjbiwP9Nh/9oi1qCogQ4G+joPv7xp+UnTsdptYl6d6y/j7JY5CKPs6wKAp1S4ap2aWtqzL1yMWtMBg+QE2fOzJn79Lbtf/UNCHr6mWdVcmVUROSeX/Y0t7S0tbXhOD7v6XmJiYlXr15d9Pxibw+v23fu3MjNpWSyyspKFxeX9ra2F1YsG+wfEARBrdUAEQwODjY8flxRUTE6I2PZS8uBCHiGs1ltMpmssbFR5+Y2ceJEmVyen59/5dIVDMV8fH1joqM7OjsvnT+TlhqLkEJ9yaV9u7966fnpLrjJZmyRSWZKYnDBggKawkUIOBcKMxn6fby9aR4CiIUlj6qrqjlx8uy777yvVWsPHjjwoKba188vKjIqJiamqbEpMzNzoH+grLwsIyNj0DB4/vz5l1e9rFS7nDh+XBRFq8Va/6hu/jPPsCybk5Pj7e1def9+YWGRn59fSUnJSytfKi0p7evp4WwmvavSw0f746dvZES7hvuQfR01rnKBEE2YYIO8DeEsUOIIHDK0lSBwOaW6cOFKVFCUQuPx2579GWPHX7l2bURc7MTJU/oH+r79/rvU1BSz2bRy5crysrLZc2ZzHMcy7PDwMM/z16/nLlmyxE3nNjQ0VFJSEhUd1dDQMDpjdHl5+curX8ZwzGKxXLt6FSBIY0PDxIlZGhfVwwd3Qvy1Wze/H+yDpsR5GLorldCE2gZJiaEgTyC8gkBJKImMyWK2+AWH3iqtUGk9fPzD7t1/1N0z0NvX6+XlOX36tIqKO5cvX3Zs8KGzZs0eHBycMmWKYcgoo6hffvnllTVrnK2spKQkuVz+1Vdfvv762kOHDk+YMCEgMHDixIkhoWHunh4/bd3q6enZ3Ng0OiMjMS7q3NnjWeOTj+78pqeuYM6kJJzrpw3NBGcgOBPJM5jAkThKkVAUzAJt8de5Dw0MtXX2RI4eh0iEiGDOFRT7ve8MEg5KYndX9759e5ubm/v6+1NTU7OzJ0bHxCgVirCwsAsXLvZ0d82YkVNYWBgUGOiiUTt95wmKam1tzUhPz8vL8/LyDAwOvnvnzratWxctXjxu7Ng7d+6EhYYWFxdv3bp1Zk7OyJRRPd3dRYWFH3/88enTp9vb2pcuXfTroUsaj6hfD50pr2oMiE4ZtCIWUYbJdQzAUYWmz2jjAc4KkEcwrc6d5bg7d4pnzxjvVF127HVKEmJHuv++Zul/kQ4/+Z129YfHE/3uvzkhIIAXhu5U/fIfn0XKlSraquIYJc/L7NBQcqo8OooNEZMEBABWBASl7OkbGDV2fN79exW1D3JmzkxNTQ2NjlSolFaajhoR89u+39LS0hseP25sbKQoKiYmRhTF+vr64uLi8ePHd3V1jR07dnh4uLW1tbu7OyMjo6Gh4eLFi6tWrRoxYgSKou7u7jKZ7OzZsxkZGZs2bfL19Z0/f77TWQl1WJAQBO7oowKKovz8fENCA3ECJkUHdT4o8dEipDQImAECMUGJBoBHAAegiAARl1AUIKLEiQDihAuCaSXC/crN+/UNPTcKb8+YPj0uLi5mRIyXj7fTnf93ZXRfX9+Ojo6HDx+Gh4c7zXKdW+9BQUGdnZ2HDx+eOnWqi4uL02TSYDCcPXtWpVJ9/vnnmzZtCgoK8vf3l8vljY2NJ06ciImJCQsLMxqNn3/++SeffOLr6xsdHY2i6K5duypr6ybNnH0mt4h09TRJGIPKeZQUUFxCEFSC4EkfxH6lQ1GCAgJ5To1Lg11N07LGhvtoMQTFAXTWLf8lR/Dv+F6iKJpMJp7nnV4tLMs+4f38oQX/3zplPhmmSpIgiijLAgQe+fgvlWcuxWrctCxNGg0uAieXOIdXoIhLAhB5UWRxEjVajI+bGh80tIzPnnb45InYkSNnzXqGwPGayuqff/r5YV19zsyZCxb8qbS0NDAwcPv27QsXLNC6aEiFzNA/IFcoDh48+MILL3h4eFy9du3peU9TJGmxWuVyhcDz77zzTkhIyODg4ORJk9y9PMxGE8dxSpXqdnn5jby8559/3j8wwMfX10XlotPp7ldWnjx5UqFQTJo+GQf8oX1bU6M98y7viwxW6ORmwLbLgJFCrBTPoRKNAhoFHIEJiMTgiMiwXEhw+IO6xyLN375zf94zi13U+hPHz7S3d4RHhK9Yvmz79u0FhQXvv/e+xWq5f/++RqNpaGgwmUzBwcEjRozQqtW379xRKpQMwwj270986qmnnCZlWVlZWROzCgsLDh4++OILzyfFjWyqryu4cXVUfHhzTcmjytyxcXpoa6WgEXIGAthwiUEFHpckDOEQiUOAACRERikUlEtDfYda4cqKRFlFZXxC/MQpU44ePXLu/Dmtm+vql1cP9g+cPX02e+IkH29fnheMQ8b8gsKsrAkWs6W3rzdz3Lie3l7nzOXatWtz5s5hGCYuLq64uLi1tfW555/38fFZt379jGnTUkcltTc9uHXzpK9OHBXjSgo9GtJGCAY5YCiEwwHvmKdwmMhigEdRRIJQpXbLL7oTnzTm/OV8D69AgRcXLlp45PCRhobH3d3dn3zyiaen52uvvTZ16pT4+ISbeTfddDpRFKwWa29fb1xc/MhRyShEjx49lpExurS0NDQ0RK3WjBkz5pvvviEoYs68uWGR4Rve+zA8NDRzylRKHL5derWt/lbGCL23iiXEQZwdVGOsAnAEkDCRFxBGEGxQtCIig4miQq5q6OgFgPQIGcFyPIIAEpdDiHGshGNkednd0ydPDQ72JyYmTJo8ubu7OyAgwMfPj6FpAIDSxSUpMfHO7duGoaGamprEpCSVUiXwPEbgHG2v3ffu3Ttn9uxz585r1OrTZ86sWLEiJDzM3d29uKho2Z9XlJSUyGSUJIEzp0/fvn174aJFnl5eY0aPrqquPn0xb86S1V/8sLugrNY/KsksyXjchUYUNhFjIUlLGCJTSrhMwihWAhyCETJisK9T7eISGOwjAY5EcIg4lSkRBzr8m535v/CACKyoqFCpVA7/DR5FUY7jnADGqVn68T/rG/1N1dMht2C1td8sqb14LUguU7O0nOco+1XLQ8kp0uZcZ5NQyf4sAgTi5JCF8QoLH//MM0njxwXERMhwguV5k81iB+METlHUnl9/7enuefvtt69du9bb2xsSEvL999+vXr0aQZC//vWvCQkJOTk5g4ODu3fvDggIePXVV93c3FJTU6urq4eGhhobG81mc01Nze7du51huqqqqqSkpPT3U1ZSWlZacqusrKws98b1irvlNGN+XH3b0F4Z7E25ugioaMShBQIGIIKDRebQhZUw55aJJKESkPPAxWAlKut7F734elxSukatJgiCE3iWY2ia+f2YTCaz2ezt7X3p0iWdTufj4+N0rjCbzU5WL8dx1dXVUVFRJEkODAxs27bNzc3N398/NTU1ISHhwIEDmZmZVVVVx44d++yzz0pLS729vYeGhpRKZVxcnM1m0+v1vr6+sbGxnr5+n37/Q1n1Q4WnD43KaEhwkBAd8qso4uCYIY46RgL2dChCXBR0CrSzoTYzPTk0wFNiGInnBd7+BFEH28dx/n618g/HYQQiOeuMd955Z8OGDdHR0U51WQihE+/+j0KQznTICT35hfn7j3iwkheASppW2us/hhJETJLswVpEoIRwLIdAxE2vr66vdw8IGbKyk57KCYmKLrt/f+eOXyRWXLposY+PT3VtzfhJ40dEj9i4caO/v//EiRN7e3vllL2K+v7771988cXLly+XlZW98MIL7e3tgaFBtJWWUbIvvviiurr6z3/+87hx40pLS329fbXuriiARqPx1KlTM3NyfIP9eYYTBVEukwWEBMXHxfv4+Dyqf/Tz1m1BAV4RQa4fvv1nrcI6MSNMYtpkYJAAJkJicElEJBGBLIJwDo1FwUnlYgVotvDHTl+Y96cl/UPsZ19+N3vWMwnxiQMD/XEjkyiCrKysnD1vnk6vv5mX5+3tvWL5im+++UZwMHFHpafdvHFj1+5d33///dCwMT8/f/GiRQFBQefPnwcAPDVr1q2SW4uWLPxtz29aF9cRkRG8eSj/2pkH1cXPzkyVi10U6EcRO2DFERbak43DpxpIAAgIIiAAVcg0JqPU/LhPpfS+kl8SGhkblxD/+aefent7rVjxZwLHaYaZMmnyhg0bFi9Z7OHucafizr3Kys2bN2/9aeuZM2cCAwNzcmY1Nja89tpr8+bNcyqdvvbqa15efpWVd/Py8t579wOGpT08PBobGpob6mZOHdv6qERNWYI9MAUYogQTIdgwwKKOcRV0lpsOu3bJnq4Rpdb9VsWDjh6TCF1oFsydN/+7jRsD/f0WLlw4MDAQFRVJEMS9e3fDw8NDwsIH+vqPnzjx7bffXrx40TA0JJfLI8LC2trazp0/L5fJlixZ8sXnX4wZPTo4LBRF0cLi4pdfWtnR0xUWEj400H/z0qmnZmRZTe21FVemZoSTfD8qDjtqCBpKgv2tQEcItv+4NCaJmITjCu39x50GBsYmp1toXilTDQ0bzSbbvbvVmzduQyExe9ZTUVGRgUH+WjfXsNCQPXv2+nh76XQ6IAEUw4AkpWWkX796zWq1njlzOmdGjh1CYfa0i+F4c3PzyKQkgee/+ebbL7/8wrkyTRB4aGjYiy+8GBs74sUXl8U7JEquX79mNBq9vLwggiSPHNnWO1TV3F/T1GsRUUSmYaGMhnIWIVmI8xDyEBUAFBBUhPaS3gHLJCWJtTbWTZ82hqVpHAVA4CXRXniJguSQE/9XHxCBK1as2L1799ixY93c3BziE3ZgA6EdIWD/ZXyAznmjIIrDFrkESEFEJRETRfhEqkYUEdHB+JUcCgEOLSNRJEVJgUDaMDTY198+2Aerq1lEghRhslkGh4YGjUMKSvb999/PmTX77NmzBEHs379/06ZNM2fOvHbtWnNzc3V19a1bt2prawMDA1NSUubOnZuVlTVnzhyLxeLr68swDEmSqIO188MPP7zwwguTJ082m80KheIPyEZwtngdgzxkYLCrs7v5gbHRxFgk3A2ToY59QREiIhCBI6GTAGBAxByjUgkCDALMocuKDZuGTp0+qXIL4TiBYRheYgGUBFGSxCfR32azKZVK5+Lorl27FixYwHGc0Wh05oyEhIS5c+fOmzevsLDwjTfe2Lx589KlS2NjY3/55ZejR49OnDjRx8fns88+I0kyKCjIarWGhIQcPnz43r17W7ZsGRgYUKlUNpvNuS4UEhL88V8+pL/5qaShS9SQIpSJkBGhAEQRCKSTHv43/TzR/gAYhJLNxurc9DIM4ChFSP+pavSvrMlA+J/8RAzDqqqqcnJyli1btmLFiqioqP+xHVQRlF0qELvNLjxB8CzFA4q3F0eo/S/Qca9CEoUIjuIs2tbcE+nnl3/2yns/z5FYfteuXSZOemH5cl+1XuD4xMTExpam27fKExMTBUHo6+sTRdHLxxsgwGwyyWSy9PR0FxeXPb/+WlNTYzQaU0aNcvVwG+wZuHDhwoXz53GCkKsVdXV1586de+HPL2IUfvvG7cDAwJi4WCACnuMouRyT4fYgRWGREZGREZHPLJpfknexorwkLi64v7dC4nxxZAiXjLgdEYoAUE5rGhERRMfNKwIWSKwMpUnUHBbsefrYQd+o8Vu3bZF4GYqTtytKy4qLnZ7mt0tLAwMCiwoLV65apdfrgoKCbuTeSExM6GxrO3HiRHR0NIRwzOjRZaWlEMM729vqHj4cnZEBITY4MBgZHZWUmLxzyw43hWxEeOi1c7t1GivgQ1GEAZB3pBVBlJ40+xEJoqJz44MXEZYeNvjrQ2qZ5h83bh41bX5HZ8eli5fe3/C+i1YLUJRl2Z6e7pqamvDw8DNnzqxcubK0tNRsNpMkmZKaUlZe1tjYWPugev+B/SEhITo33Yzp07/44gsEQWjG3NLSEhoaCoB06tSpBQsWeOi198oLD+/fw1qNerVESgIuICSPY5CUUMZp/mq/tUQHY0GCAOFZWz/EXLLGJG3dfzxy5NzUsYkHDx56Zc1rJAFkCvmsWbP27t07b97T/f0D9kKUpe/evWu1WkiSjI2L3bN3b09Pz5o1a37ds0etViuUyqSkpPiEBAQiHM1cuXjJaDKKADS1NCNQWvnampZ7JR+8u37GtDi9TqmQo8DCiyKDQQQFqCPaQSABAYoCdAj6Q5okJRtvc/XUCnLCZDFaWby5pq2urrnsVmVKSubnX36JObqOgmQv7UWrTat1zZkx48yZM2tfW4tTpMBxOI5ZzeZXX3vt+LFj5X+9ffny5YnZ2fjfIsbChQtm5sxMT0+fM3v2sWPHV7z0Z6c5MABgyGAICQ5BEIQgCJuDp4Fh6ObNP3h7e2WOy0xOGdVokv9l277opNEmAeUg5CDkESjY3zdwkGHtiYkDQJTscZgBhNEKSYBZBOAtU2L2uCZC8L/lUCfa41hRUVFycvLatWtfeukld3d3Z0Z0Nks//idMZMkZWxFnAGV5uuZx2eXLvgqFnBdkkogJAiohIoIIEOUhlCTUabYuAcggUJTJ+22MW1RUwqyZ0E2LkoTCReWq0/kG+McnJozOGB3hWBkICgxcuXJlZmYmiqIPHjzYvHlzcnKyp6fnrVu3lixZ8qc//clisbAs6+/v39ra+vrrrwcFBbm6uvr6+rq7uwcEBNy9e1cQBEmSnM3G38GNKPFPXgh2sHTzZl5ZWWlJSTGJsz0tlZGheldXnOeHIEoDhLe/bXugw4CEPiFZQ4yHBI1SNKI+X3CvqZuZnLMwNCJ28oxpIxOSUjOSU1JHp6akpKWlp6WlpaSkjBkzJi0tLSkpKTs7u6GhoaSkJC0tzak7Q1FUUVHR48eP/fz8rl69umPHjhkzZnAc1+o4XV1dHR0darX6yy+/bG9vT0tLKy4uViqV33zzjbe3t0KhGBoaqqysHBwcbG5ubmpq6jUOtRkG7tTWdg2ZlK7utAg5AB26TCgm4ojk+L0QCYp2lIhKAJcYNcEYuhp8XBW02dJUX9fc+Li5uaWxsaHZcVpaWn5//oenqanJ+aKuru7mzZu1tbUoihYXF1+9erW3t9fLy0vvcOn6n4AOnTp8kgREEbJC4e797XfvRmvc0OFhucRRAk9KPP5E3N0xPnBWmxJQqFQmlu+x0goPz6aBnpXr1o1MS3d30yMSQsopuUrOMWxbW2t7W1tqaqpcLu9obw8NDzMOGO5VVs6dM6e1re306dM7d+5qd2z/y2QyjdJlYnb2pk2b3HQ6QRBYKx0aFrZv3z7aYhvoG9i9a/eCBQvq6+o62jtMJlNLc7N52Nza2GwYMLS1tfb29XW1d0KESRsVrndDmhtKYyJ1kO8ngIUQOfjEqU107ItJDqq+KCGIBKDJIoZGJV+7WTF/yctjp81nbYjFykAMf/ig2jBoGDIOvfnGm8eOHQMI0Ovdx2WOO3To0IYNG3x9fa9cudLY2Ojm5rbh/Q29fb3tHe00wyjl8tra2vHjxyuUyjOnTmZmjY+NioUYzBw/QaeQPaqpEOhB1tI9fkw05LowZBiBjP1dOW4/p3ozAnjEyZ+UcIYhFApvFHpezbvbaeZGT5z0p4ULHGN7m81mhSjaP9B/7ty5L7/88s6dO84ydNq0aY8ePfLw8Hj22Werq6vLy8tbWlpOnDjxuOFxfX19cHBw7QP7leyud09OTs4vuKnVahMSEggC9/bRJ8UFlxScDvCQ6+QiKVhkQCIQSbB/Yw44aK+goZPOJyIQoJAHFJR5XrlZjcncPTyDFy9dZrFaKQo3Dg0ODAxUVlbiODFu3NihIUNt7QOVyiUhIaGhoVGhkL+9fv2+/fsIAi8qKtry448ohpWWlbW1tvr5+dthjyjkzHoqt6jAaDRmj5ugVik1em32pIwrp/f4e5LRAWqJ7pdEM0VIkuRQoLInRIlHeRGKTg0GgSNpXoZo/Csetlo49G5VXU11bVrKmKWLlkXHRKIQ4ARAcQRDMYfZD8QwzMfPt+FxA03Tfv5+9tyGQAzDJUmKiR0RHBR04ODBUaNGqdUaiKLDRuPp06cq7t799rvvdDpdWVkphmJ+fn48x23fvn36jOlV1dVZEycc2H/AZDIlJye7urpOmjw5NDhk586dAybaAhV5pXc5nOAwnCMoDuIsRB09F/EJuR6RHEIXHAZYXGI58zAJOcE2bDT1dbY0tjU3tjS1Nje3NDc3Nf87p6er59SpUx0dHaIoFhYWHjhwAMMwb29vtVqNPLH0+0cDR8axmkH9TZsN4Jjcw2MISDxOibxov5lQVJAYEQEcggl2LAUdnF8eIFCmVDAYZhI5GyLcrroXOiEzwCMMUDhttVFymY1lMASuf/Ott9etv3nzZnl5eWBgYFNT07Jly44cOfLUU0/V19e/8cYbfX3Cv7+ZAACAAElEQVR9v/76a11d3csvv1xfX+80OZo6dWpYWBjLshRF5efnt7a2fvHFZydPnTx79vTChQt5gYUIxAkcRSCKEr293fn5hZKEtLe3Llm6oKX1UUN14fScRS3N+SoVgfGIu1IGgCDZC1MIn9yJAkAQGkoWKPIUOsDS3YwlOC6h7G5ZqAWWlNgL83ETRmG4AADOMIxzCZYgiN9R1CuvvLJ582ae52NjY0VR5Hk+PT0dAJCXl3fu3LkPP/zQYrGkpaWFhISwLLt9+/Znnnmmt7d37dq1KIqmpaUFBAQ0NDSsWrWqvb09MzNzYGBAo9FotVoct1+U9xsbLSwbHhFc+ahNgfBmgeZFVIIQgaQIIApRe/lvr/h5GQ7NBqOMoPt6W709VZX3yu4XXVQAHkcEiKG/d8OdCeyPEFAUxX+YLEiSvHv3LkEQzmWlpqamrVu3ZmdnR0VF/TfNheIf+h+/f3iJ51GIgaF+zmxxI5SApeWIhAuiw/sT4wHvICAJAAgogDIEEwVJsplcKHmAxi0+Mjpk1qSO9jaEVFrNzKPqh1CQbCwjiVJdXV1ubu7Kl1ZGR0d98sl/dHR2VlZWurm5eXl57d27F0JYWlbq6+srCMKVK1d2796dkpIy0D9QVloqSpIgCMPDw9kTJ164eLGvr2/KlCn3799HIWqxWpzfuSiKDk1wzmK1CIKgc3PTquGZsxcfVp8P8NWYRVqB8LwdBKBQEkWEtUcZUcSczGIIBIwREJxQKLr6Br39Qx43tvZaC2ys0kqLBE75+Phs3PhdWFhYbu7VgcG+HTu2r1+/bteuHbm5uV6e7jExUS0tjZWVd99+++3evq7f9v7W3NLy5ptvbnjvPV8f39fWrt25c2dRUVFMTExeQR7PcpBFFFCKjIyor7wBEdw4aHIjnUnP6bgGRUdgRiQRBQwCJFSUIwBREqjaRTk01GummbfWrJbpfY4dO4bhuLePb9/goM5df7v0Tnt7+6mTp1RK1erVq7f/vONuReWOHTtefe3VlFEpLi6aLT9ufeaZeY/qG8rKbldXVS9YsODq1av5+YUzc2Z2dfecPHEyKyvrZl4Bx5qUckG0tCAoKgCJ53mnWgqQcERSApEWIS859Bd+56GhkCAJGcZjCAIyM8eGR0VdOHdGrnSRybCBwT6dTkfT9LvvvvvVV1/SNP3BBx++994GNzfXn376KTgo2NvLOykpae3atXPnzmtuaamvr/v11z1Tp0ypr6/b/vPPL7/8cndX94b3P5g5IycpasT9sgI/N9VgR60MpShIDBsHMMGCEwgHOQRlRChBB6JCEcGp1A4kDMfkRquo0Spbm28V3Nv67JLVsePGPXr0uKGuA0PlFCWHEJEAK4qsc5cASgBC1NNTv2HDuxs2fBAYGKBWqwEAZrNFFIX4+NiXX165Zs2avXv3qlTKQ4cOqtWa48eOHTp8ePmKFcuWLTt86HBCQvzFCxdTUkZlZU04eeLE0cNHcBybPm2aWqtxpBHRzV3/2eefD/HI6k9+cnVVUVrZoMByKCsgrGMZ0H4FCFAS7eBbxBEOk1gCoQnEhsmx/q6ew4dq0kb40H2dpMAjEgacgzxE/Nfvenc3j0ePHv2+NtHd3f3555/Hx8cHBAQA59Lo/6JN+p/kDAxFXF10QSE2INkEBmVFQeQp+//HJICJjnLZaSTOosAkCYMiz8hJTkH1m4yPr1wWEZA9ebKXvy9HMxgKiwoK0lPT/P39MzIyfv7555CQkIULF/r5+W3atGnHjh04jr/22mtr1qzBMOy7777buHGj08XJKczd2dmZnZ3d3t5+9uzZV155xWw258zI2bhxY21tbWJigsViJUnCbLYcPfrroGEwMCB4/PjxOp3r/gO/SRI3f/azFN/37urDAQHRgb7htKUJ2NMIEBxQEnX0aXgEowFhBSRCKfOLKifOmJcyZuHJU7cTExNbWzoHBvoOHjrg5+eXmjoOwyhnz/bvMsGUKVP27dvn5+cndxyGYfbs2cOy7Pr162tqarKysn799decnJz09HSVSuX80+rVq9va2nbt2vXyyy8fP348KyvLZrOVl5fPmDHD2RkGADAMExAQUGczXS+/09PWqNb7k6Kak3AMofgnOtMiIvFQ4iWBtlhprUaO0iba0j97/OjVz/1JJtAaCnG01Zx1JPyHqO7vRom/H5Zl33jjjb179zqniStXrnzxxRcTEhL+2b//7wcNAeA5DqPIJ7oziAgB73CR5O35w7FR57Azs4dv6JzQAhGBEDqa5izDNDY2dd64YVXJBEyGAFyGURzPS6Lk7uFuNpna29t5ge/q7l68ePHX33w9ZcqUrKys3t5ehUKhUqksFotCoUiIj99/4IBcLv/qyy8dwleMXCZDMUzgeVc3t67u7tvl5S+tXsnZWJwk7L+jPcsJCI5yNGuvbXFccniZ7di+MSY64XHdzWGzUaFyEwe6RUBI9o/AA4SxfwJHAEFFhyOmBEQEs7HALCC19a0zF6a6uI8YGBYhSgmCKJcrUBSGhYWqNer29nadHbCKOI7Hx8eRJNnV1eXQBOdxHNdqXV3d3Ly8vRmGkcnkbjpdf3+/RqPR63W8IMgIgrYwMgeTmmGYnNlzTh/rJUiVCAggEY7G2JMfwnFlig6c7mwAYoKEDFss9U0NFpY5cerUrAVLp02fBiHa2d3j4+/vqnerqampr38AUchybEJCQkVFRWxcbEhICE3TZovZ6aqt1qhVKlVmZubgwKBcLk9ISHDazphMJqPRaHJIjEKElJOA42U2s804JHrGhJrbByGGAY52aJ5jQOKdIqriE+0+yAiIJMK79x/UPQL3K6u07rFPzcrp6ulDIQgFwRqNpr+/Pzf3hkwmq6+3o1UMQw2DBr1ePzJ5pMVq5TieIimVSqnVaChKFhcXm5qWdr+y0myxqFSqYYs1OjJGQcksJqNGrbJYaJlCJVNoqioLEoOjAIoLwAoEHncMWkXIO7gAEvqEOktYLQyJU209vU0NHRZMVX2/Skl5BPmHdXYMCjwviqxD0t3hUCBI9usHwx2+YPjSpUu3bPlx4cKFCoXS6TjB80JNTQ3PCyzLPvXUzKjIKJ1Ol5rmdeDggRMnTpIk6e7u3tHR8dZb61AIExITzeazRqNx9+7do8eMUSlVjU2Ner0eQtQxXCRIN+/FixcWf/iV0TwkqdwEKAqI+Lf5jmM9yaFF6hi98QhgIOBZy7Bep/nuo/eTAzWAt+G84JhtOW5MSXAI1f9LgUij0ty9e7egoIB3aKS+9957ixYtio6OfjIP+meJkHS+cIZZiAAUaEMC0p6advWnjZPCg4cEoxuJQ1qQBNGx7SqKKM9BXoDAimHdwNYjiTY3NeuinPPs/Addnf2DAydOHLdabTlPzYwaEXP96rVX1qzBcTwiIsJgMDgtnIxG47Jly5YvXz579uw9e/ZIkrRgwYKqqiqlUjly5Mj29naZTDZhwoTLly8LgnDnzp1nnnnGz8/PbBlGILLizys+/cun8QnxKpXq62++xjE8IjIiMTFx5MhRfX19H3z4QVRUxMyZT1EqBdNuWLTk9X17/7JwfrqackNRAhFZiHIodExDJUwAFOniRXP4wyZTSwe34vU5Eu624NkFP23Zm5Yxbu6zz1RXl/b19W37eVt62tjk5GQcx1mW/f2rEwQhMjJyxowZmzZt+uSTTxiG+etf/8px3JIlS3Q6XX19PYZha9eu/eWXX1Qq1QsvvDB27NgffvhB7TjZ2dkfffTRnDlzIiIi5HL5W2+9lZ2djSCI2WxWKpVVVVXnc6/7jhiRM2mi2SJeuFEekZSFsaKRHpYQXiQkiFIIEDGEx0iE4VhEgAJj8tNpc6ZNdlOjCqAgJYDaA6HTCQ/5h7PDf5beKIqSyWRO2dVXX301Kyvrj5jyf8YQ0RELgETTCIkKUORQh4UkIkqQFyGP2C91iXc08pwNBQZCFoU0htEoNHNi5uSJRGxIv8jzEi5I0MfLU2AlFCBNTc1ZEyZ4+/iMSk4OjQrvbu+Kj4vz8fEZkzm2v6evvb398ePHE6ZMrKt+6Ofn/9577337zTcffPjhwWOH7JcTzaMUJtD8jh07NBrNK6+++tbaN7/97juJFziaJ+QkgthzIU4QQJS6u7rOnDnT2dExOXvMw+q8IP8I2mjDgYYRVXYIKfEioFFghz1ObCwhqNM9WgJyrVtg4Y2GhJGjT566nJ3jEToiBXACIBQVZcXLly9vb+/QaLSJiYmRkRHt7e3z58/fvv3nidnZX331lbe3l1KpQBAkLjZ2VHKyjaZjY0f4+HgHBwdnZKTTNN3Y0pyVlQUQe9mIAQgItOVO/vFDp/LL7uZMHamACiCpEAmFgIaAR0WAihhAWB7FHA1JgpMIQuZS9fgRoVGNmTC6trG+rbOj7UzH4ueeD3d1EziW4Ti9Xh8YFDR3zpyNGzd9++23BQVFM3Oeunjh4pzZc4pvFavV6oSEuCHDEE3TEydM3Ltnb3Z29tatW9esWQMhDI8IDwsLy8nJGTlylL3gYQwAT+yuK+usv8nRAkXJBXEIBRwmOUatjnmEIIoAgVDCBEjaGFKmcq1vfhyb4PqwoTk6oe/gvv2LX3gBQJFnWZ63V9rr1r2F47ivr++OHTvOnj3/5htvNDY2ZmSMZhgGABAcHCyTyXmBX7RoYWtLS4RjNR0A4OXrMy4sbP/Bw+PHZU7IzgacDeA4YPqBIfL9kpOQcGFMnQLHeboqJFZEJRYVn9jYiQgiAhxIGERkSoWmsfLRcwvntpgIGy+3msy93d3Tpz6FYjhts2Eoase+v9/CDmFjSeABAH5+fqdPn/7uu++Gh4cRBOF5gec5nhdeeunPH3/0cf9A/7Tp08JCQzVq9Yrly8+ePfvmW2+mpaXt3Llzzty5I2JiUAzlOW5gcFCj0YSFh9E2uqOjUxQEkiRZju2seczrw4eMw0q1DmKEaMeEjnV4p53uk1rdsRFoT0EoAKLAmuUyPMBHY2Z4d1KGY/Y4Bp9Usv8GOmRZ1tm0mz9//qpVqzIzM51Iwwk50I8/+vgfZ0Tkb7kQER0cNQkQlE5O3SkqGOjqkMvx39ttEkAdG1c8h0o2DA6TaBsQuzHcqtXrYuPutzbHJCbEJMR5uXtERETW1FSvW/dWbGxsekYGhmFnzpxBECQ2NpaiKHd3d5IkS0tL79+/H+iYKV65cuXEiRNvvPGGVqvV6/WPHj0aHh6eNWvWRx99JEnSihUrEAQhCQpChCSJiMjIta+tffjwYVJSUmZm5qjkVG9vH5qmN2zYEB4etmjxQoVcCQDESIW7b4BgM12+cjlmRBwAmABIEaE4hOTtzwoaUfcZsQdNwxW1fS+9+h9qzxiLCaVIbUramI2bfqCtlsysyV5ebnp3r472rp07d7o7zh/TYX9/f1RUVGdnZ09Pz+nTpwMDA+fPn6/VanmeDw8P/+GHH6ZPn+6UHd+4caOPj8+ECROcPEWnSWlISEiiwzcqKCioqKgoIiLi3Llz+/btYxhm6owZAaFBZWV3IMR7u/s723vklEyrUuo0Wo6lUcCREo0Dm6sCVRGSoasFsfW9vWbpxDgvFNgjDIk6PF4cJTgvCOAPm6XSf3Wc8845c+Z8/PHHUVFRDMM4dcmdU+j/julQ+n/TDe31KIYCVrAMDxMkVXLshLWz05MkCJ4hRI4QBce6o3OJGhERyCMYCzEaw6wYNBFEjcFg07g0GnqTxmYqFCqF0sWx/Y1YrbabeTf7+npXrFixc+dOlUK19aefPvr447q6OqNhqPL+/fT09LDQ0E8+/JiiqMmTJ7e3tZnM5oSEhJs3bgb5Bzo8sInSW7eam5uXL1vm6e/9oOZBV2dn1IgYm9VGoATAESgClmF/3PJjbW3tpEmTxo4de6e8dGigd+WKpUP97bX3b/vo3Zy7Fn+ocCUJQQQEFxCchRSDuA7Tbneqe09duPXc8jeralvOn7s6ZkwGELjLV67Fxsa1tbWdO3funXfe8fPzq62tbWpqKikpuXEjd+rUaQ50NRQcHNzZ1fWwrq6u7mFZWfmXX34lCMIvv/zi5+fn4+f7+PHj+PgkjmWNBsOOHzcPDRsMhv771ZUqFQzx02CAdWBxgDqGcs5YyGECC0lBcuGAC09om3s5gfSYt2TV2csF2VOme3v7fPbZp57uHjq9/vKlS7wozJyZ89a6dROzJyYnp/T19n3xxedeXl4lpSW0je7q7PLz8/P391epVAcPHgwICLh48eJ0B2kqNze3srJy2vRpN3Jv6PRuep2Hqa//yK6/WocGIGuhUNbbU2s2D0qAgU59MCg4BX8le74hBKC0IdrWPqmhg1259pP9By9GxiTGx8Zt3fKjXqfz8vZ58KA2Nzd37ty569e/PWvWU8kpqUODhvz8/Oqa6uLiYpZlQ0NDaYYJCQlpa2utr39UU1tzq6Rk5MikxUsWv/3OOyaTxc/HTxIF2mJ0d3WFALl0/NjpM0flciBDOT9PvY22MjYbhWOo/XvDAMBEBAoIKQCKAypC5mOkqZqWwfTsOdPmLL5yvURGqWNHJG396eeKiooRI6JIimAYmuc5QRBYlqFtNMcykiRBh0NtX1+fwWCIiY0HkoRhqKvO3ThkOHH8xBTH6evrkysU6Rnpfv7+AEE8PDwf1NYuWbq0q6srMioyNj7eYDCo1eoAf/+IiIjQiHA3V9fAwCAvhxlydFyCd4h7t0nqNhgknOAcbrlQwqAEHUiVdzDBeAh4xy40Q4o2FbCNjArIHh0PeY5EBMkOb4EoiLjTaetfJlpgKFZRUfH8889/+OGHYWFhDMP8Th77X6XDP3gcOpmIKJCgPWXh6J2yMk7kIYYJoiOE4HIUl7Esj8oVotalfni4etgWPXXauzt2PezpjUhM+GHLD3ExI/z8/LXuOhRBev4f9v4Duqkz3RfG313VJctykXvvveFKM70X0zGEACGEhISWZBLSJhBCTSN0EgiBYIMxpphiDG6427jhio17b2pW2+2/JBlO5pwz8585937fWvd+s6PlpaXYeMva+/09z/v8Sv8Ai8V++vRpSXHx89rav/71r9XV1SMjI97e3ufPn8/KygoMDGSz2ZMnTy4vL6dpOj4+3iQlNDMza25u7u7uNjc3d3d3v3Tp0tSpU5VKOUmRKSk3kpKSPDw8IAh64403hEIhBMFy+eiRI0enTp26YsVyGIYAQ0MUYLQkBCHuQSF8Fve3367SCB/CzbUMV02zCchMpecMyNCCZ119MjRxy+c2jmEAtWSxJTDMQWBsavyU23dvqdVyb59ANoft6uoaEhKamZmZm5srEonMzc1Ne6c8Ho+maZFIlJCQsHz58mXLlplomQiCsFgskUj06NGjSZMm1dbW1tXVLV++/Pnz54GBgSwWy5SBbNxr4lhbW2s0mjNnzuTm5kZERCxZsiQuLo4G9LXr1y0klhqVdunCRSiEVJWW82Ckp71VLOIghBKj5HxIPdLZiOnlQDv41YfvzIq0RQBgMwCDGZjWMzRNwcaG38gsNgV9/DnOEP7T8WdtIoIgERERoaGhpikm8ur4P1do8Z/h8BWbxnBvUAzo72+tqBRQpBhFGZ0OpWg2jBrluKaQOYyGER2CqACjQuBOrYays9l96FuOtdWBI0ca6hsl5pYEgAQ8TndHT2VFxdvvboUxeLB/8OjRo0ePHbOQWISEhV68cKGmpmbJkiWNTU03btw4fOhwenq6Uqn8/IsvMjIy1qxZ89tvv9lIpQiMJCUnL1y40JQz4O/rl5uba29nJxKJNBoNoMHVP/4oLSuLjY2dO3eulY319WvX5XLZu++8jfC5hEpeUVHm6elEUqSeJAEGkRCjIwmSoRgMUxIkzBVrGB7P3OtpWc+wUuDlP6nyeefihPVeXn4nfvqpoa6OocHsObM7OztramoWLJjP5fGflZc/f/7cxsYmKipKo9HY2tqam5vb2toChmlrb2cYEBERHhEd42hne+nSJSsrq/Vvvpl05Yq7h2tVZVXS1Wvb3n2vq7vj96u/f3v0YFlpHgaPWUi4coWMhmg2GzOgDs0QDKVFETXD1hIChGPTr4Kflrds3XPAzD1Yr6XTbt+bNGXy/Pnzk5KS1aqxUdmop4eHf0Dwj9/9sHPnLhiGOWxeefkzBEEJgpw1a6ZKpdLqtO4e7p6enpmPMsMjwpVK5cRJE52dXWueVzc0NLy95e3mlmYLiYVsaOjowSMxkZGT42IuX7rAYSEurs4arYqk9TBM0BBBQzRJUySD0jBOAQ7Ot6FZDqkPni1euT0keraV1OPhwywXF6e1a1f/fvlK+bNnVZVVO3ftIkmiuLgkLCzc1sbaxcXt8y++mDx5cndXl7u7+8DgYGBAQFNj46KFi1JvpkZETFAqFfFT480l5jbW0s/2fn723KnqmpqGhnp3D/cfjh73CwqYEBd25eqFvs62oOAgLk9A0cagchqGDF01G6BsPcRVA4EOkjCotKyujyVxjV6UCEPCSRPnPHmUhyPctavXWltZXUv+o6ery9rG2txCguFsmqJ4PJ5JSYyiCIyitja2t26lWUokNvb2NEUVFxVeuHDhk08+NVJ5+xctWnz40CEel+ft4zM0NPTdsWPz58+PjIm2kJgfP37cxlp6/969vXv3FhUVjgyP+Pj5ojDC5fNQGGGx2T39Qw+elHR092Q/zbO0sZHJlWyMxegpFgRjCGD0Wkqv5WAMTIxhtJoHE8RoDzo2ePjz3eZsGNHpRRy24QQNyw8MAeafvt9Nm8jQnDlzwsLCEGQ8SvPPBf3fgUPIlGZhrCjHIy5NPvmMlbe3rUj0OD9vSKHQUgyNcfQwS4dgtFDYTegqB/vHzESxq1et/uYAEAjN7e0zMjPfee/dc2fPslgsW6lNQX6+vaPjho1v+vv5pqTcEJuLh4aG3NzcsrKyAABJSUnbtm1LTEysqalpa2tDECQrK2vZsmUIgpAkyefzm5ubjx49unfv3piYGB6Pd/bsWZIkbt++7enhuX379sDAwNq6WgzF7Owcuro6zpw9M3v2nClTpjAMDcZRHdKo9ZiZOdCTdj6BcZFxWgIvKWsYVlBDcqahbaSpZaRrgJoxb/2CxF18K58xJYqzJYAxmtZDAOVyJk2ecu1aslIh9/MPYIwZKBERE4KCgh4+fFhRUWFmZmYM4BYMDg6aNJS1tbWBgYEwDJtQxNSHPX36VKfTDQ4O7t+/Pzc395dffjFJlEpLS1evXq1Sqc6ePatQKEpLS+3t7UUi0fLly/l8fndvz6EjhyfGTqSMSeSJi6aFRwSFB04oyc+zEPK16mEBi+ACFSnvZ1PKyRE+Z7//wNOOz4IADgAOGMy4z2dU6aP/oSiFoH/VfeYfxPz+Hw+HpqxchgE0ZW8uqSwq1o+O0lotC4FoiuRweGOEFqAoadxb16GoGsN0HLYMhQYRYBkcPMZluwb5L1q+ViQUXk2+VlFVjbM5edm5ocHBtjY2MAoXFxR1dHQkJibCxqgapVLZ1tZGU7RMJluydGnm40ytVjt37lyhuRCBkBcvXixYsCA9Pf3q1aszpk+PiowcHh4GDOCZ8S3EkjNnzjg4ONRUV1++cmXa9OlzF8yzsbUBDDhz6rRUKl2XmEjqCQRmLD1dVKP99+6nBYT6I2xYTegAzKYg42oOs2jMfIziQXynmkZF1wCydfvX/TK6Z2Csq3tk+qw5U2fOuPr7b8WlpdOmz0hKSpJKpUFBwVyhCAbMZ599FhkZCcNwRkYGl8tdsWJFbm7u4OCgRqPp7u7i8XjRkZEMw7x48WJoaDAsJLSjo+PsubP+/gFbtm3Lf5pfWlbm5ee9cu3qwCCvG0kXxeZCJzdXrU6LIyzAwIBGKYilZGAaN8cwu94hqri6bcbCREuXYMA2hxkcRdmFxUV+fn5Lli1vqKs99t13W7du/eH771ycnTk8rpenj0wmy8jI6O7u5vF4dXW1fv5+y5ctHxgYuHP7jp+f388//8zQzNrEtSiKVFZVFuQXLF+xHIGRjz/+mGHAF198aWlhff16ikat7u/vYbFxT28vtU5DERoGAgDl4ByxlsQ1BBvDrQZkyJPiVs/g6dGTF6MCB5HQurOjV6/XcLnslatXCwTCn0+cCA0Nqa+vb2lpiYmJMXQTLHZqyo3CoqItW7a8fPmypaVl/fr1er1eq9W2vHxZXFyM4/iEyAlisblGo6lvqJ89e97Q8FD+07yCwpLt7+/y8vW6cOV83MSY/t7+UbncysZGIBTqdTqIwSAGpxhcA6FamKvHLWi2tLZF8bJPN2/FFraFs16LEBQaEz2lrKxCo9GER0fGxEQrFKPJ16+1tbaJhEJj8A5N0wyGoQiCksawfj5fkJWd5e3lVVdXm5WVvWfPHi6X5+HhcSstDcOw93d8cPfOHZqmB/r7R2WyFStWaDVaC4nEwdFh586d297dZmdn5+XplZOT4+XlxeFw2lvbenp7r1+/XlBUGBUb6+rhNiQbLisqsrF3YONs1fAwl4WxAAPRepjRo7ROgFMijOLBGt1wx4qZMXMn+vNggMMwhkAwwxiH9wz0P807fF39/3kp++/gcDxHm3iVrWj0ejZFThn3aS1Dg4PDQvrUSorHVSGIEkI7dXqlubnCSuI4KXbBe+9GJK4FAiHgiARWkoH+/prqmnVvvPHLhV97enq5fP60+Hicxbr8++UZM2asW79+aGjoxYsXWVlZp06deuutt5YvXw4ACAoK2rp1q4+Pz7Jly+rq6jw9PRmGGRoaamhoYLFYCxYsKCgoQFG0urr6xYum9z94PyQkTCYbFYslLi7ON27coCjy7LmzhmolMuJv1z0I5/GAVgsgFJAwLrBy8AiKmjI/NHiytZ2vf3D8tOkroha9YWHrB4CQ0vFxrhUEOACgJqoWAJBGMxYTHVtcXNL0otnDw4MBjFozhsBoWFhYQEBAUlJSQ0PD48ePU1NTv/32W3d3dw6H8/jx45iYGAAAQRAMw3A4HB6Pt3fv3m+++cY41QgeHh5uamoaHBzs6+tDEKS3t1cmk0EQtHPnzsDAwObmZi6X++LFi8u/X3r//Q9kstH8vLzdOz9Qa4GAA+yk/BWLp/l6+AV5Ofq4WIV42E+L9P/L9o1LJ/mjFEAJPQs1VEEoIBCjVNTQ78PIuITmfwSH/9cYuf1dODSKKACLg8AgP+sxh4WJxGY6ilLpCQ1NUxxMh0JaFFVh8CgGqXisPoias2l9L8NIvT2ziosEQoGLi/v06TMCgoIvXvwtPzdv8qTJMvlobfVzuVy+dMmSW7duRcROGB0aqa2tvX379vDI8Mcff2xlZXXo0KG4uLjIuCitQu3q6X7598vTp08XiUSZmZle3t5W1tYWNpYYG6e0ZEdHR09Pz5EjR9asWbNyxQprWxsAgdGhkaNHjwYGBs5dNI/QEzQEEByBEMbNz72ppbrg2VMao0VW1jyBg47k0yiPLXKgMCsFIXlS0P6yF8xbvMkqIJbPtqpv6uYIzds7OiVCLoLB8+ct+GzvXidn53nz5paXlfsFBty8caO1tXXdunVPnjyZPXt2d3f30uXLs588KSjInzZtmk6nz8jIeHvbtuqqKhaLpVAoysrKNBoNAoN3399VWlRcUVVJ0sy0GdNtnWx5fI6nl8fDjCcjCrVYLJWIrSCYC0N8gPIlTh4yFVxc2lHTMDh19kqf6QkAtwQUW+rompWVExoamp//1NHecXBoKCg4uLKy6unTp8uWLbt9586MGdPq6xuvXr06f/58JycngtT39vQuX76yf6DvxMkTa9euBQzo7u6ePGny6OgozdAogiYnJctkMoqmvvjySy1J3UhLk8uUM2bOTly3Lq+g8Hl9o1AoklrZsHAhgwjVJI8vdgGIdU8vnVvcaubov3TNO4BlBWMWbFykJ6m+ns4XL144OTk1vXixLnFdenr6H39cXbVqVW1traOjI0XSH3744aaNG8fUY329vd4+Po6Ojg4ODt9++62/v39ISEhRYZF/gL+7m/uZM2c2bdz48Ud/sZRIGpoaN7/1treP5/c/HWcL8IGRob37Dz+vqa+ur1eOqexs7FGMhWI8gPNwsRXJFr8cJgqqOmUaQcK6D8QOviTNRjERgHAWR+jh5lFR8ay+9rmdndTNzTUuLm5gYPDWrdtKpQLDMEtLSwRjjamUJEkCAEml1v39/efPnycIYseOD7h8PoqgEATZ29un373raO8wa/bsI4cPZ+fkREZGKuTygIAABEVHh0eKS0rcXN08fbxxNqutra229vnw0NCDhw+Hh4cWLFg4Z/bs0sKnT/OyPbzcVGp1f2+PTq32dHZiA1o3JmMjFBuhWZDOSoB2NFayScXM2MDdb6/EGZJNM7ROx8Iwk+TdCIfgdVD3/8yk7W8TLf57OIRexaC+cvA2/lKaoQ3dLEUIPNwiFsyPXrTYzNLK1j/AJTrGZkLEtPXrQjZvEjq7AIGQJmgGQiEG9QrwLswvUGu1Gzdu3Lljh0qlWrB4UWpqqlwmS1i+bGhoyNfX10TfT01NnTBhQkdHh1wuNxLYqI6OjuXLl6ekpJj2S7OzsxEEwTDs9u3bKpUKRVEjZHpfvnxZwOfb2dkxgObz+QKBYOWqlVve2jJnzjwYRiBjOOvrt0aTBAwjAIa1WgLlmgEaBSQKuJZ8C0eelRtgiYEGBnx7QGIwz5ymYQiGX9UHjJENwMAw7ObmnpOdXVtfGxQYRBCEQCAcHBw0MzMLNtyZlbdu3Zo9e3ZHR4eVlZWPj091dbWpA9br9RRF0TSdkpLi4uLi6ekpFApRFI2Li/vqq68yMjJCQ0MhCIqPj1+0aJEpuCAsLEylUl26dKm9vX3r1rdZbNaFXy7s/+YbjUYj5OKwUQKDo8DZhuPjahnm5RDm5eTlaifFgFwhE+AQzJAIDBnN84DRjhUyjqlR8NqO799w+Pp6f0UlGv+fYoGtkyMHhfOL8oflI1InZx2ACRimMNO8EJexWC1qdTtFTlq9ImrnjtCo6OR76RMmTnqQkWFvYy+xsuKw8PLyijcSE8dUqtu3b129ejUsLGxqfHxVVZWnm0dtbe2JEye+++47jUZjEg6VlpauX78eBrDRKAP18fE5dvQoA8DSpUt7e3uHh4clYklmRubjzMzevr7g4GCp8bBztid1hFwmP3LkiIe7+9KVCWOKMTaPS5IGOCRJPUXrJ8TF6Ummf1TW+GKgqVmu0rH7R4my553tg0xHPwNzXRPf/NDWNxqoIJG9p2xEaWtrL5PLHz95aCExj4qKNhTRCNzU1HTv/v1Af/9HjzJOnz5TU1PzrLzcOGRyDQ6b0NrSnJ+f7+zsvHnz5ra2NqmVZWtr271794KCgkqKi7/e9zWAmLLi4ue1dZ4enhYWktDwEBoyrCcWEmsrqUNDc2d7++DL9qHefvWQjG7r1zytbmnrp0bGuDPmr/eZMh9oUMC2pBiU0tFWVtaZmZkxMTGXL1/RajRvv/tudVWVp6eXWq15VvnMw8Pz7t30DRs2uLq63rx5UygUqFSq2bNn6fX60dHR+/fum8ROj58YitTdu3avWr3KNBadP3/+8eMnGl408QVCW3sHWxtbSxubwJDw9p7Btp6BquctXYPqfiXcr4Cf1fbVNst6hhknn5iFq7cCsTMMiWiGheIciiAJnUZqIy0tK6+sqlq0eBFBkPb2dmZmZklJSaGhocnJ1xMTExcvXnzhwkUYhiXm5lPjp0qlNocPHZLaSGfMmCG1sWmob3B0crpz9y4Mw8NDw7NmzZo0ZVJDQ2NuTiGXy4Ex4O8XwGPxwiZE4WxeRVVd/5CyvWe0rUvR0qssqussb+zvU7F5Es8FCVsknhMBzocwAQThCMpmSBrn8FxcnOvqa3Nzc4JDgvUE4e3lHRMTOzoqq6mpbml5qVGr7OzsODweRZLt7R3Nzc1dXd0bNrwhEAgQFCP1hFantbaR9nR16/V6kUhUVFQUHRNdU/Pc0dHRxcVFp9GcOnXqq6++Ki0pIfREb3c3i8U6d/asvb39W2+9FRUTLRSJfv7xx+GB/olxsb29Pd9+/ZGZUKQY7K19Vtzf2WJnJuCjNEwqFT2t/S21dmI8YdaU3ZsXsxlaCCMMReAwYhwXmqjdr+Htfw8cQiZL1r/zo6+jQODxTSQIMizAxrhTQJOGFw2vw+NB669D1scd3oyvs2BCp//14gUaAiSpd3Bw6O3thSBo/fr1arWax+PV1NSUlpay2WwYhsvKymbPng0A+P33393c3MLDw9VqNQRB7u7uEolk9+7dHh4ea9euPX36tGmqr9VqBQJBZ2f777//HhUVFRsbq1Qp026mmYIjli9fbrTM5pmYuNRrNoGJT0DTEA29MqOj/2NiOm5dblRaG/W2r1R6CIDHvx9igEwhT05K4vB5ixcvZrFYer2exWL98ssvJElu3rwZgqCUlBSZTMZms0NDQ2tqakyVPo/H+/HHH93c3BwdHcvKylavXp2RkVFcXNzR0TE6OrpgwYJ33nkHADA8PIxh2MmTJ6Ojo7Va7Xfffff1119HRkZ++Mlf1qxf4+3jiwJUS+pQ1KQLB5DxDTIMCTH/5eMzfjoIQ8OGTw81OsEjRqkAbVQpQf8ftOr++zJ8ZvwrzFCEDiE0gGEqLl95lv6w4mGmHc52EpnjelKt1fdrNf0UIfJxn7U+ccKKpYDPAwJBZm5Oa3vbihWrv/j0q1UrV3P5wgePMj7+y27ZsPxOWhqG4xw2WzU21tra2tLS4uLiEhUVNXPOLMCAT//yCY5hQqGQZpg9n3yoGlWy2WwEhmfMnPnG+vXrNr4BCOajjz9qqK9fuWqVvb19TEwMDMMN9fVXk5I+3LNHZCn+7uDRwKCgafHxRg0AbHRzoVGEBowGhtQKZbfIXETouh89uA+RDEORACJhGBYIxCKBtX/0LEBggGYBBqcglAHo51988dnevW+/tWnjpjflcrlQKIyfOrW3r+/Zs2fvvffetm3bPvr089RrV+/fv19bW5ueni62tMx98iR+2szHmQ8nT5uuHB2ZOXNGTExsQEDAggULfvzxx7Vr17q4uMyZM+fnn0/W1dVJbW1iJ8aq1DIEIihCyedhOtVITXnRcF+nMW2NpgEYJXQW1g6Tpy8AKBeQCAA4A3AaoDCEQBjnzImfw8LCrl1LoUjq/Z0fPHqUuXnL26Rem/nkyUcff+Ts5JqWljY2NrZ8+XKGoT786MOpU6b09PTOnTfXxDng8/hb3t5iZ2vHMMyWt7doNdrS0pKFC5fs37/f23g0NzWsWbuc0igQnAEIIe9pKchJh4AeQHqjUzGLzRK4uvpJfUMBAdEMlwJ8mmHTFMzhYkmXf4+ICHuc9aS2tnbHjl2//vrrvm8OaNXqZ8+eJScn3b51t7WjvbO948SJE48ePdq9a9eadYkUQcTGxmEomleQDxjw2aef5hcUrFq5MjYuTiQSnThx4uDhQ7t27JZYWK1es/LMqR8PHTnI6JUQpAXA8HiQlkxoFWqlUqfXSKylBAWc3XyCJ0wCMA8wOIBYgDF8rMbGxrAakKQOgqDHTzIb6uu3bNlC0zQMYxwOh6LIysqqjo727u4eX1+foKCg69ev29vbR0RM+O67Y3v2fGhpLaVJijYW9QCA8+fPd3Z2miRDN1JSTp85/cMPP+p0OkKv9/f3P3vu3M2bqW+9tcXd3R3H8fr6+sT167o6Oi+c/8XZ2SkyKirjcdbSNaspBOGYCZtedmbnF3T3DA0OE+oxHYfDtbWxcLS1njY5ztcW71cQEiGGAJqhCBRGEGAyBTXt5CDgX7Gn+cfx+f8QDsezUP+0TBjdPF85RdOE4adNVmUmFIQRk0UKPU47ZSBaplSIxGK1TrN61er3P3hv4sSJq1evtre3379/P5vNrqmpSU5O3rNnT0pKyqxZswoKCubMmdPV1ZWcnDxnzpyysrKkpKSzZ8+eO3eOJEknJ6eFCxe6ubkNDg6ePn169+7dppR8AEB3T+e15GssFkun061YucLO1u7rfV/PnTM3PDyCoozt4N/C4Xi/aDp15vXT16xaE+gZP3OINl1DMAObPO0g2ki2ZggIgjMyHykUihUrVgAAvvjiC09Pz4SEBJ1OxzYeL1++bG9vf/78eUFBgZeX11/+8pfCwsLW1tbExMTBwcG3337b3Nz8ww8/bG1tzcnJcXFxCQ8Pr6ysjI+Pt7e31+v1CoVi7ty5pn+2vLy8rqF+zrx5k6ZM1BF6CIJwFDeu4ZTpsxjXSPxJTfhaMwO9Zi4DIxzC0L/h8O+wx0yR4QwEMXpCizAkSpMAZ1M1dc9z8xqLS8a6BtS9Q1KprZ23N8/JwTMmiuXhBriYHkdVWp25hdXxH49ZS6WR4dGZj548zsr+4Ycfzc1FDx8+1Gm0S1ckAAi0NDRrNZoFCxdyudxr1655eHhgOP7w/v19+/fn5eZeTUpydXWNmhgNALhy8bJWq+VyuWFhYSdPnpw8ebJAIKioqHj33Xe5Ap5aOcbl81pbXl67do3P40VGRYVHRzA66jUcGgfVJnUcibBgtaKfZgi+iA8AYShkIdJYreIGmNEjEGAxDPK6+Hv58uWNG6lcNt7d3S2RSHbs+ECvJwRiyY/Hjjx8+DA+Pt7b27urq6unp6e8vPzAgQNBwcF//eqrgwcPXrhwYcqUKbdu3Tp58mRQUNCvv/6Kslgjxjm6mZlZV1dXUFCITqdbtWaNmbl4TCnncDEYgWWyAQYQYjMzoFcbpZQmkh8GEFSrISEIQ1HOeM3NwFqtFkFgNof7/vbtbm4elpaWt+/eOXjwoJOT8+joSH1j42effebh4eXt7W1K2L5+PTluYtwXn3+Zm5czderUxYsW/Xbp0rVr1woLCysrK3/95Vd/f3+CJH768SdbW/vS0lJzc3OpVBoaGhwWFi4b7cVwCMdRDEMYWgMB0gCHDMEwDISwAMAYGiVpmGbYBtRhcBTBaILSk6prSVcrqiodHR1ra+u//PJLMzOxSCSqqqrcuHFTeFiEh4dHTGzMzdSb/QMDS5cuWZKQUFJYlJiYOG36tJ07d9bW1l6+fLmoqCg3N8/J0REA8ODBg9KystKSki1btzU1NGx9520WG0Fh2ljvkghmoj3qCL1GT5I4xsYwDgCYcXcPBRBqwEIIfl0ZAwBksmGx2BzAcG7244aGhs2bN9M0QBAUQhCGojQadW1tbV7e02vXrq1fv37be+9SBFFQUFBWVr5z9x5Cq8PYrDGFkicUbNywAcfw0+fOykdlAoHgypUr7W1ttbW1ccb0hZkzZxYWFrLZ7ISEpWJzyeGDB719fPLzny5dtCQsLOyvf/3rosWLQsPDx3QaAmIwDltHkRSDyRWMTktxcEwsQtgoIPSGZRhDIAQDr3oRGhnfr/uPbu9/Fxz+A2bpf0JFI/fC2Fy8fmWcewqNgwrMmLSTDAOZkoQYBqLZXBZBETqdNjcvB0aRF80vJk6aGBUdlXL9+tjYWFFR0e7du/v7+1UqVWRkZEBAwK5duwQCQXx8fGRkpI2Nja2t7Y4dO0pLS+Pj43fu3GllZYXjOJ/Pr6ysFIvFDg4OAACtVm0utiApYu/evbZ2tvPnzUdR3MPT/cKFC4GBgTweD4KNp8mY3gZsPGF6HEtgkkJ0NEwwiI4xEalhkjaapdPjb3c8Ltf4xORaZ3imJ/QIgjg5Ow8MDFy6dKmiomLmzJnx8fE4jiMIQtO0VquVSqUuLi5+fn5OTk6dnZ2ZmZn19fWzZs0yXDft7f7+/mw2e/78+Q8fPvzoo48gCJLJZAEBAcePHze51p06dWr+/PktLS2LFi1KTU0VCLgJS5ZwWRxAUhAF2BjOGNnpAEIogNAQRgGUNnR+iLG9hV9loYx/eK/69deIZ4oi+Tcc/u32qVEdATEQimIwAJSJaSs2k4YE+E2M9YqLCZ41I2juLPupU6yjIlAXFwN2Cs1oCIZRDIaZ4ODg+3fue7h7arW6nNw8Jycn2chwWWnZpo0bAcUAiiFJ8vfLl6OjoyEA2BxOamoqh83Oyc1duHBhVVWVr69vdXV1SHhoQ019fn5+QEDADz/8QJLk22+/HRkb5ermxuNwb9+6ZWdrZy4Wd3V0mkskBw4csLa2XrpkKUPR4yRhUzopY/LvN7r1UQBBuCjKpxmUIGGCokka0Ayq1lA4JlRrYJwjpMbdPQxlr6W19PeLv65atUqtVhcWFi5cuJAvEqUkJ5lk9X5+fiKR8ODBQ7NmzcrKyhKJRI4ODhkZGXPmzPnjjz8UCsXEiRNHR0flctnAwGDkhAkcgSg/L1elUm3Y8MahQ4c2bdro7OZqNP6kEQwjGQblcBCcRZFGMZ9h2UMAjFIUAqM8zRiB43yIwY0KaUN/w8JxCEa0GrVcLhtTaSZOnHju/PnZs2dLbe07O9qTr12zs7MTCITr16//7LPPYmJiKisrOjs6ExISUlJSaJq2s7dPu5m2etVqHpebm5PL4/HMJeZSa+nI6Mjp02fef//9zIwMV2eXOXPnjGlkOAtHUBjHWIThj8NiIJyBUACx9CSCIiIAOCoNAcMsI+vecG46tY4gSYFIUF1dpVaPhUdEpN64OXHiRGdn5ydPntTW1olEQicn5xUrVhw+fEQoEPCM4VyzZ81OTk42lAudXXl5T6OjooUika+Pb2pqakhICI/HgyHol19//e6777KePEZRJDoulqBICGXREGw0igMUYCgGogGCYhwU5ZI0TNEIhBhO2GhxADOm1FpTFBIEuDw+AyC9Xu/m7qGQK0+fPj1rzjzA0Br1GE3TGIaRJJmenv75559bW1v9+MMPFhaWUVHR5eXlXZ0d/oFBOo2Ww+ddvXzFzdWNy+V6eXpyOFwYhng8/ldffimXyzdu2jRzxgxnF+eomOic7ByKpFzd3WSjo59+8snJUye9PDzOnTsXEhISHRUNITCbzaZhiAPjeprhYhiPiwgFqBkP5iFAKVNyMEjAQTHU0IAYIwpMSxT8OnkJ/l+L//17zjP/BCD+l4GlqRHEKGM7CIzVCkTSRs0yDdEUoGgIDI2MsNnso0ePfv/99719fXfvps+fOy9qQmRfX9+hQ4cSExNZLNazZ894PB6GYTiOz5079/Hjx05OTkVFRenp6RAEHTx40NzcPC8v79KlSzU1NSMjI1qtdufOndevX2cYRqtVYxj6/Hl15qPMgoKC2JjY77//XqGQ2drYLVm65OJvF/9rC4AwJMKQMKSFIDUEKxBIgUAyDCgwwxMVArSGMtDw+E84AZtkha/l6sYkMzQwMHBkZKSystLX1xdFUVNoCIfDEQgESqVSr9fz+fzY2NjNmzc/e/bswoULn3/++dSpU+fOnbthwwaBQHDs2DFLS0sul8vhcFpaWvz9/RMTE/ft27dx48Z33303MTHR09PzwIEDPj4+pE4PA0DotCwWi8PhGP6+xqadAoCAIAIAEoIoYAJ9GEC0oSb5VwSq/z7+fFA6gmKQMT2lB9AYhGggRMMXcP38eDFxICgEODgAgUij0UB8gR7QtFFCo9fq2RzB2rVrUlNvFOTnJycn19fXHz58eOvWrQRJqjWajs7O77//ftasWU6OjhvefHNkZGT/vv1pt24VFhYiCNLf35+dnS0SiarLqz799NPm5mYcx7/4/HMAgKWFJaABodUHR4TMX7Dg4sWLDY2NZmLx9u3bf/75Z3t7+8qqSoyF/7c3OAwhAMJICgUQB4Z4KMaFEcMDMrRYZjSDYrhArwd/zr/UjSmVSuXx48fNzc2XLlmSmnoj/fbt589rNm7cqFAorKysGhubjh07ZnJ7qaioqKys7OrqamtrlUjMQ0NDAwL8ZaOjK1eucnZ2/uPKld7OdhiGuVyuRqN1dXX19vZSyWR6jRZDUa2eJCgGABSBORCGwxgHIByAGh4IiwMAIuCboSgHhjAD3phiJGCMIikul9PX19/S0pKbm3v06JHc3NzmpsZLly6tW7eur78vLi6uqqpq48aNfD4fw7G6uronWU/q6utmzZqFoRiGYTY2NvX1DZ988omTk9Pt27c7OjpeNL0IDg4mSZLN5khtbIx2xzSbxaFpWqVRGm8oDoB4APAYwEFxIQkQAgAU5xow6dXfDTOmygEAlErVy5cvi4qKfv31l5ycnNra2qqq6kmTJnp4eNRU10jMJX5+fouXLHman5+dld3c3Jz/9KmlpaVCoQgNDY2JiXFydKyrq/v888+OH/+JYejntbV8Ph8AUF9f7+TsjKIoMFS9MA1gEqCEoa1HGRiHUS4McxiAMRBKMZChZqYMKzI9njMEv946MjLTdSwWi2HA1GnTp06d+v5724xyexjD0JcvX16+fPnQoYOh4WF+fn6ffPJJRUXFjh0fhIQE19bWjgwOsTjsB/fut7W3L01ImD179sGDBxsbGg4dOnwvPd3e3n7Tpk2XL1/mCwQwjMhGRnfu3lVYWHj+7Lna2tq3t27t7+tPT7+nGlPNmDlz/GIj9IZTAjSgaCNpE+BGrNHrCQEHwWGSJrU0qYUZ+tVIC/6f4Nc/acTxT3WHxt6UZmiSJGAUhlCIJHQMRSIAgjEcRiBIp0PZHI1eTdEUh8XR63UQBNE0pVQqLMzFjQ31qjGVSCRsbm7x9fOVy+XPKipIgtixY8fly5cpijKlG5rkeqdOnWpvbx8YGOjv709ISPD29r5y5cqqVauamppWrVrV0NCQnZ2tUCgoitLpdAMDA97eXlVVVenp6du3bzczM/Py8mpr63j0KDMwMNDdzaO3r6exqdHXx58k9SiC0gxh6PoYwtBQ6WUG8INUMDWkGunUjPYqB7shvQ6lAYvNpXQUC8VhE6vWSOdFAAzBCEPTEIC1Oh0DKAxnNbc079+/35RKeP78eT8/P7FYrNfrCYLAMAyCoIGBgaGhoXv37u3Zs2ft2rWRkZHz5s27deuWSTciEokOHz68a9cuiUQiFos7OzvlcrlGo+nv76coysPDw9LS0tra+ocffli1apVQIJCNjLq4upAECSOongF6ChAIMOknTOiNQ4YHBkEYxNCEGhnnBsN/7g7HNxmg/xhA/98W0vS/QAUaD3E0Vj8MBME4zgAINVz0GAthQxQCdKasFMO1D3BcB9M6o0sbTZEsFKH0erFYXFFR1dXVvTQhISPjkaO9XWtra0TEhOrq6mvJyZ/u3dvV1UXTdGxsbG1trVAkbGlp+eqrr4RCYW5ubn19/ejIyImTJ7dt2/bpl3ttrKRuPh5atbb8Wbmfjy8DgGZMw+VyQ0NDL168ePny5Y8+/NA3yM/exu70qVNBQUFcLtdw3zEMzEYNldGrXFMYgVAMMTxBYRiCaKAHgMZQTK8jGGM+DQCGt6fXa2mGoRmmuLDI09PTFFn8xoYN169fT05Ovnj5alrqjZkzZ1ZWVr58+fLNN99sbGzctWtXWlpaSUmJo6Pjt98eNBebX7uW3N8/MG/evLGxscjIyKamph07dly8eNHW1nb79vdmzZpVV1cXHh5uvBiNDqVGvw8GmDY6jBR208O0EQUhwJRxAV4R4hGYJPRKpaK0tNTPz//Bgwd7PtyjVCo3b9505MgRsbl5R0dHSEjooUOHNm7cODIy8sYb67U67ckTJxsaGn46/pNAKGhsaDQzM0NQxMPTQ0/o/fz8liUs+/jjjxMT1+3evdvBzg5GkOCQIAhiSIqAIAZGIIYGOCKgaD1F64EB/hgMsBCAMsYm13BuxihdQkfweOzGhnqaJtkcNqHXJyxf5erivHLlqsTEtRKJRX9//9w5c0+dOjVt2jQIhqytrX18fK4mXR0dlR345ptFixdXV1Wl3rwZERFh7+BgZWnl4eGxYeNGL2/vg4cOJSxbNmvGzJHhYf/AAJFQRDG0ieFgJDiSDENjMIoCnKB1GMxCYYw2yhBgCPlzE2O6uU2pRq/UBbSHp7eAz0tOTgoNDc3Kyrp9+84777xjZmbGGDtFNpsdPiEyckJEVlZWQ0NDTm5eaHBwcVFRXGysXCFvbGq8c+eutVT63vbtmY8evbFhQ3dPz9w5c369cMHR0dHW3q6ns0upVN5KSzt0+HBAQMChQ4fcXF1Wr179ajpBU6bxDUPDKEoZtROGTgNiEJhGIMY4txq3g2HGpQ6mON5Xr/6JLvHPiC7gv416/U/HP7lZanR0pI3OxRgAeg1swEXUsLZ2do00No60d6AEwefxcZ4QkCSGIoyegBFIIDTTaXV79372ztZ3bqSmvrd9u6WFxfbt73t7+2zetMnKyio8PPzNN9/08/ObPXv28PDwjRs36urq3NzcLCws3n33XZFI9NFHH23evDk+Pv7p06c9PT0ffPDBRGPacnV19eDgYF1dHYLCz549e3PjmzgLl8lkJElGRkaxWKyLFy/6+vr6+HrfS79HEDp7e3uC1NEkieEwIMcAoocYOSFvL8m5U1WcWVOU8aI8r7OpqrWhklQrO1qanLw9IUJH6jQIghhWEZPHI4wABNbr9BweG8Px/Kd5KTdubNu2zdbW1sXFRSKRnD9/3sfHRyKRYBjW1dWVmZnZ1NRUXFxcWFi4YcOGNWvW6HS6lpaWvXv3jo2N5eTk3L59W6PRhIWFSaVSHMeVSuX+/fudnJw2btw4ffr0CxcumJubV1VVmZubt7a2Ll608Oy589ExUVo9QUIIC0fHIKCHQPcoyCt/UdnQ3dDe39LR+7KzZ3B4xNVGSkIQTVEQjEKvA6NNcAj9Gw7/mY1TY/gRZBqbIxADIcbbcxwIIYiGGRKmaRhQMM0AhoezSJLAcVZ7e6dKqZZIJJd+vzwtftry5ctUY2N//etfaZretGkTl8s9efLk1q1bcRynKWrf/v2rV6/2C/ZXypUiobCntzctLc3W1nbypEkcFkdsZQ4YMKZUPX/+3MHR0UxkRhAEj89va23t7u4eHR21lko9vTxxFLO3t793715IcAjKxWEUJjUEPJ7jRZuWPMCQEEwxQDc2NgwjJIJQNK1naIrNYmMYy8gdZxAUxjAMxTinz5ycMmlSXt5Td3d3iqJkMpmzs/OYUlFVVbUqMfFJZubo6OjcuXPu3r2DIKhery8pKf74449HR0c6OjudnZ0qK6veff99hVyekZFBUaStrZ29vT0AoKamZsqUKRRJSqVSDo87Pt00Ji4DQMA0icKA0qlpQgMx9NiYGkYhGDYRa8D4rgfE0BSBokjqzdSoqMi7d9Pj4uJYHE5PTw+XyxseHi4qKU5cmzg8PFJTU7N69eqbN29qdRorS6vk5OT33nuPYZimxqZ58+ft/2b/p598KpfLq6qq7Gzt+vr7nByd7O0d8vPzfX18xWZmKpXS1s6GMXUkhl/NULQORRkY1lGEFkdYJDWmJTSmmYThixEOYQRFETgj4yGXx1GrxwoKCmKiY0pLS0mScHFxycrKjoqKCgkJ+fLLr/Yd+Ka+rr67u8vSwvLcuXNvbthgYWmpVCgGBgcH+vvd3N0XLlx49OgROzs7lXrM19dXKBS+fPkyLDSUomkzsRmLheE4arL0RA1FBUkRWoJQM5Ae0LROryFIAgIARmBjQ2W02n0VI/9q7vXq7mdoktA7O7uIRMKEhGX29vaffvoJi8X+G1t/ioRhxMfHd/ny5cPDI+9u28bn80dlhv/CIyKWLVtWXFw0plLpdLrFS5ZUVVWGhoZFhIf/fPw4l82prauDYTghIeHc+fNhYWG3bqV5eXgFhoXQJDVO9X/FZmAg02Y9TBtVfQygoHFKv6k0MrEg0Fcbdcxr97R/CQ7/8ff8s92hkWNAwxQJYRBQDgOZrPLevaIrV8tup1fdzax/nNuUV/T8UQ7UP2gtEgOcjcAQgkIAwa5cuhgVOeFJVrant6eDo8PVpKshwSE6vT4yYoLJjdPJyamtra2qqmp0dPSHH364fv36ggULCgsLbW1tS0tLWSxWfHy8TqeLiYmpq6sz6SjCw8Ojo6Otra2vX7/+3XfH5s6Z6+zkzOPxzMzMGYZGENTa6N/x6NEjqdR6YtzE6ynX3D1ceTwuh4MBQKjknThQVuU/fPoguaepzBzTTPCWOohITzuOlQCtKHlSV1X6vDA7LMQXYSE0wBgINxZZhutdo9Fy2GwIAn/8frmqqnrd+vVOTk6mmFw2mx0YGJiRkdHZ2VlnPMbGxmbOnBkQEMAwzEzj5oCnp+eDBw/q6uqWLFkiFotbW1tnzpz5xx9/WFtb83i8zMxMDMMmTpzo5OTE5XLj4+PXr1+vVCoPHDjw4sWL+obGGTOn33/0IDpukpqhYQRVQeD3Wzm/XU/741ZG0r28+7llj/JKMnMLcwrLqlraeSKJpY0dAo1LLP4Nh/8Sqca44U8YnSgYiAEIbYriMwYswwwFMzRMG4fNpHFVohlAAZpGMfadO3dcnF2cnZ1vpN5ctGihva1tSUmJQqHAcTw8PLy7u7u/vz8mOkav0xEkmfXkSXBISNWzytLSUr1eP3XqVDMzs5ycHKFQKJFI8rJzhwaGoqKjKZLs7++XWEgEImFZaenJkyffeustk6Nv0h9J0+fMEPAEvT29ra0vvf18GB1jKIEZA2QDiKYZHQNpAKNiGBUMq3EWhCIEDHQIDDCUpnVqvUYDGBoBEEUyMMZqaqjT68mKyqpv9u/v6+vbt2/f3r17Z8+de+Ln497e3sFBQW1tbVqttrCwaGBg0MbGJjMzk8ViR0dHt7W1P3z4EMcxBEFnzJrLUERyUvKs2bMnT56clpbW1zcQFRVdUlrm5OIyptY4uzgDQKEITJBqQBMQrYcpAmH0MA7DGA4hAIMBSesBYBAMHzdZNa6WMI6RhD47O1ur1cXHT3N0cty5a+f06dO3bN3aUF9//UbK21vflo3Kc3Jy2Gx2W1sbSRF1tXUqlSomJoakyPr6erlM3tHRMWnSJDd3t7LSMiP/c0duTm5VVXV0dPTQ4DCfw1EqFf6BQRSlNy3XKERhCAGoMRhoUJQCQEVqVTSlQxEYhiGj+T9MA4TDxgaHRmWykYxH98MjInbv2bNhw5uOjk6ffrq3rq4uKytr0aJF/X0DfX29lRWVJSUlzs4ucrm8orJiwYKFWq02Ly+vsrJCYi6ZP2+e2EKSm50zMjKyY+fOFy9eXLt2bdWqVflPCwJ8fXOzsidPjEEhEgEkwhCA1mMIjaM4C8NRmEIRDMdwDKH0Wi3L0AJSxirCFFxnYhIwr5RjpiIDghFMpVSkpaWFhYVrtRqRSGRr78jQ1J+8fFGMxUYRqKKisrOzs6KiUqPVstkcLy/PoMAgCysrhUJxLz190aJFFhKJk7Pz+XPnpk6dKhAIVq5cOW/evISEBBsbG5ls9MCBAzNnzqIp0tbahsPh/BkOx61WoXHbUtrkXGoql4zXsuGuA7ABCI2DUCN/g/l/Fw6hcTqJqSyDaAqmtIBSg9bW1JOnsq9eq36YSbZ3s4dGoMGh0ZaX/U2Nz5/m1hTme9hJufY2AAZyhay2tl4ul1lKLGfPnnPy1MnQsNC1q9YODw/nP82PjIwsKSk5fPjwtGnTsrOz29vbv/nmG6lUaooT+uWXX1AU3bBhA4vF0mg0FhYWfX19SUlJCxYsoGkaRdGWlhYnJydHRwdTX5Wens7lcpycXCAIGhsb8/b2lkqlN9NShUKhn5/vzdTUuIkxBKFEaAWLz9QXPXh895KtSL9waogFV6+XtbGoIVQvY0PqYB93T2dpV2vjwzspMdPjYQhhIASCMAjClVoNiiAwQE789DPNUOvXrbe2kZIkabKbwYzx0JmZmb/88ktwcPCMGTPi4+O1Wu2ZM2c2btwoFospilKr1TNmzLh9+7alpWVOTk5sbOz8+fNxHP/xxx/Pnz8fEBAwc+bM4eFhT09PiqL6+vpGRkYcHR1NZNT8/HyMxVJo1WyJGW5u9XJE99V3v15Je6iG2AIbZ76Ni7m9u6W9s4Wd8xjB5BSVPcor4orEvj6uRh4QY7ryTSISZnyfhPk3HP73YAgxNCABIAxQxzAsylAIApIAFAnRBEQRME0ggEQZkoFNNt9AT+g4LG5hQUF7W4e3l/fNmzd37d6Tcj2luLRIp9V9/vUXCIRcunSpuLh49+7dOI+FoljazbQ7d+9CEGRpabl82bLAoKCMjIxp06ZptVqxWJywdOnwyIhCocjKyqIpuqa6OjQ0tLOjMzk5ecuWLe4+HjCAPT09ZTLZg7v3oqKj3d3d09LSxEIzsZm5niAwDDaAOiAYSAMzKgiMwswwoIeLcu7mPbpZmHe3ub6YBWktJDyUxwZqBYxiaqUa53IuXLgAYMTF1cXO3jbp6hVra2lcXCwCw3fvpmu1WnOxuLa2trys7Pr16wcOHJBKpSUlJd7e3kVFRZ9++qlIKDxz9mx3d/fkiTHNzS0FBQUzZ81yd3fPzs5OT7+3/+Chzs6u+/cfeHl5isUCDp8FQTpKp0SpMZRRobSiqvRJ3sOU4ke32uqfyWR9FiIuW8SjNCMwYmQ3mVIOECz7yRNTvvz6DW/29fam3kxbujTB1s5eKODn5uUyDKPV6Kqqqs6dO7dixYrt77334OEDa6l1cVHxd8e+MxOZnf/lvEqpgiAowD/gyJEj8+bPi4mOs7CQvPfe9l0f7BBweM/Ky9xcnQZ7O5xsJShQo0AOM4qhzvqSvLt5j9PqKvJkA21cnBZbmSHwONufARgDUAxFml60ZtxP9/TyiI2JqaqqysnJnTt3jouLs1qtycnJDQ0NTbuZxmKxvzt2bNKkSdu3b//qq69Wr17zxx9XDhw44ODgkJubW1BQ4OTs7OLskpKS4u3rExsbi6Lor7/+OmXSpMlxk9Jv3xWLzT09XDkcGII0EDQGQypFb2P+kxslT1K7mqvKCzM5iM5cwsNxCAIUZAx9oGBTe/WKd/LnrwxDEvr9+/eHh4evWpMIGPrmzZt2tjYSieRPPHzm7p07mZmZtbW11dU1x44e4/G4U6fGj4yMlpeXFxcVKeTyzs7O1atXszkcnoBfXV0ll8uzs7P3frb3RXNzV2enr79fcWFRbW3d1q1be7p7Wltbff39DL0tAigYJhBUD6M6CCaM8THjDwM6IiSEAggd9/gGr1zGx/tFE3PzP/Dt/0k4NHG0jRRMxJhVBaEkgGhZft4Pe/5Se/u+E4O6CTh2CGQNKDEgzFmQq6VQwGi7X9S+aK7noZBVQOCTJ09IHYlh7PDw8P3f7F+wcHFs7ESaYby8vKqqq/64+se99HsLFixYvHhxdHR0UlISjuMTJkxAEEQgEJw8eXLRokUmWQWCIARB2NnZJSUljYyMBAcH37hxo7KycuXKlTTNiMXms2bN1un0vb19JoW+s7Mzi8UyMzPzcHd/9OhRX1+vRCKub6gPCwkCxJCqu+bUsQ9nx7i4WQNK1QZRMhas4UAanBlDyTFibBimdUF+ngrl6ON76RFTJ8FsHgTzIQhnYBhBsYu/nufxuKvWrOHwuEbJDozj+Llz53JzcxEEWbRo0YIFC16+fOnt7c0wzE8//bRw4UIXFxcYhgmCMIUjisXiEydOuLm5TZw4kcViqVSqBw8efPLJJ46Ojnfv3m1tbQ0JCVGr1d9///3HH38cFBRUUFDQ39+/YsWKE2dO+YUE55ZVuQSG//XHS6mPy6zcgxCBxdAYoYdZOppWE5RCT5nZOFg5exAccVZBiUAoDPZw1AMSgSmEQce5WYxxnAj9N4kW/4bDVxN+LYagEE3gDANIPVDJ1c/KO7MfDxeX9BTkIwODXJEQCHgoQkMYqiC0EIBVqrH8nKdOjk51tfXx8fGeXl63b9+pr6879v0xlUzp6uk2plQ9fPhwxowZLAT/9sCBtra2XTt3Dg8NLV6yxMLWKuVailAojIuLi4yM3Ldv37z584PDQnx8fDUajdjM7PHjx5WVlR0dHdu2bXN0cwJ6hqIoFMN8A30JHfHz8eMzZswMjwhPSkoSCgXWVlYoigCI1hBKNgeBUPVIV9m9az/cS/pJN9ImRBRSMxIHo011T/Oz0vTyDkd7S0BiJAn19w929vY1NTetXLMy7UaKjdTK3cW1t6fPNyAg4+HDN998c8+e3QRBbtiwwcbGJiFh6V8+/tjDw2Pz5s1HjhyZMWNGaFjo/fv3t27dum/fPktLK39/fy6X6+Lqmv+0IG7S5OLCktiYiSRJtna0SiyFIgmLJmRsDozguvQrx6/9/r1W3izha+0sEErdL+tufnI3pfV5cVCgl6FVNNSbApVcyeIIH96/V1NTs2XLW0ODw6mpqbt276qpqZZaW927d2/ZiuU3b97Mzy/Yt29fX1/fkiVL7t2739fbv2f3hy9eNHd39yxZsvTkyVNbt77z+PGT1ta2uXPnqdUab2/vmzfTEpYsKSwsiouNQwG4m5o6KTJI4iAC+o7WstTrv3zdWZdPyzvFbLUZWz/YVf80O70yP8vTyYYtFsIoHzAwC+f3DsiaGptqayqnTIpjc3hpN9Pef//9zEeZcRPjSktLQkNDy8ufpd5I3bR5U0BgYEhISMWzZ1nZ2T///HNxcUllZeWaxLXNL16Eh4e/bGm5cOHClq3vlJaXT54S39DY6GBvX1JUHBIc2tnRhSOsxob6kKhAQA7Rmo7jh3Y/L7jJjDZKoBFY2QnrBtsaSx+nJ2sVvc7uLoAiKRamoRgEIAgEjYuqYeN2Bk3ptbrenp59X+9LWLp00tR45ciIu7ePl5v7pd9+Mxeb2zo4alSq68nXC57mi4RCK2MF/+P3P0itpYAB+U/z3npri7ODo2ZsLO1m2oumJkcHB08fbwBAZ2v7tWvJe3bt9vPx9fLxKigsfJr3FIbh7e+9d+3atTlz53R2dVpKrcVisYLRqVFUASEjJLh6r+rwyZRrNx+n3MlNvpufcje3vn3AxdNXxIZUBAwQQ2vIgQBJAcRkDGPKB/4XmaXwP2Tf/P+BQ8rYkaIAAIoAhAa0t578ZG9vaXmohdQGggUEIdDruXoNjyDYNMWMKYWAshQJh4eGmprbFCrNqErb0NQ8d9785OTkFStWRkRMUCgUNMNkPnlcU10zOipzc3X96KOP+Hz+rVu31q1bR9P0nTt34uLi7ty5w2azKYoSCARWVlYYhhEEIZFI+vv7TUwtS0vLdevWmaDl8ePHUqk0IiLCxsbGx8enq6vr0qVLL1++dHJysrAwDw4Jamys6+vvVShkHIy0dRJ/vefN6CAbF2uIC4ZwSI5AGpTR4IwGZXQY0MKAgCBKT2rMLM0HhodHBoadfcIAwVFpGQAjX375pb+v7/IVyzEM02g0Y2NjV65cMdnQREdHh4SEmDJd7e3tb968mZ6eHhkZOXXqVFOmromMCsOwpaXlkydP5HL5vHnz7t69W1VVtWHDhu7u7jlz5vj6+ra0tJw+fbq4uHjnzp1isZjFYkVGRqakpBjqr3XrT//2m1tg+P+Pvf+OrqrO18fx9+779JOcJCflpPdeIYE0AqF3sICiIKKjjnrVGRXLoN6ZUUfwKoKFEQkivYcgoZeQRkIKaaSTetLbqbu/fyvnoDO/z7oznzvfPz5r3bvu5izIHyTrnJ33fj2v51We593PvrvXPRKSONuGySwCAJRKBIQISQFgECFMrGDjUEgqlUp1fXVldGyUt06LQBEDOAqRvzXV/xcO/3FzQOTtpCRMR5CRsdbzF75+7Y3bR490l5dP1DV0VVTdvXL9ypGjE52dEQlxmFJGoiiGEM33m/u6e2WUzM6wi5cv/v3v3nr00UdnzkzJP5ufMTsdAeiZ06cfeeSRbdu23Sq6RdP03Jyc3AULoqKi9uzZQ+HkvXv3nnv+eQzDZAr5/Nz53//1r3Pm5PAcFxQa7Ovvx3P8gZ9+kslko6OjFE6q1CqKpACBQFb08vTy9vH+cueXsbGxTnmH+LgYDAUcayJJEcVNTVUX/rrr3bhgeVSAMtRTbdCRXi6Ypw531xA6DdlYU1JbXZ2UlEm6eh45eLisouLNrW/39HTV36vZsnlzTExsRUXF1NQUwzAXLly4d69u06ZNc+fO/fbbbzs6OrOzs319faOiIgcHBxnGfvLkqYCAgNmzZ1+5coVl2ampKb1eX15WNmNm6tIVK2ur680mi8Hgc+3qxZSUmABfDww1jzaV7dr2qgKfmpUS4K4V9FrooUG83Ui9BvNwIe32kWOHD6QkJpEqHRBxBCFraqpaW9q8vb3j4uI+//w/nn/++bDwcOe+YHV19f3m5sbGRkmCL7744o0bN+rr61UqFc/za9asmZiYOHbsmM1m0+v13t7ejY2NXV1dcrlccFyTk5Nr16xVKZU3rlyPjYrqe9BKo/ZgF/Hi4S/Lbx3OSgny05G+boS3G+Hhiuk0mE6F69TUgf37BEEIiYhEMdougPEJy3d79sxITsjMyNj51c5nntkcFRPH8+zp06cxDGtoaDh9+nRgYNDb72y9U1529my+v79/Qny8r68hJDjk4qVLrlqX/LNnn9749NTU1MTEhNVmlyB0cXUpLytb//gTBh/D8WPHF8ybd/rESS9PTXJKYPHVI9/t/ENajGe0QR6qJ0LcKW8tZtAraII3+Ciryotqi8uSMzIxSklhasTZ43TMoTA2myRJGC0bNBq379j+xhuvR8XF83YbTVMIhqtdXPQe7kcOH6mprqquqpoxY8asWbMTU5LPnjnz1ptvueo9RF7w9vFua20bHDDGJSY2NTYEBQU/u+XZDz74YGRo6HLhxYGBwajIyAUL5qMoQslkOp3u22+/CQ8Ln50+m+P4nu5uCUe7Bwc9AgMtCDBD5Ep5/Rv/vrO+a7xvnDXbJBMLJ1hkkoW9IxOF12/aIRkW5StBgCGAAoD81ZzFMVvz/w4OnVOIzokvIPHAZKk+k3/jp0NJXj4aq6BkeIoXZIIg5yVSECgIgMVGCYJGpsBRamLK0nC/zWRhk9Mzzl2+/MqrrwVHhre2tFy/ceP4iRPhERHrHl/X1tZqmjLNnz+/tLS0t7c3OTl55syZKpVq8+bNbm5uW7duvXLlilarDQoKkiTJ4U6Ja7Xac+fOdXd3b9261TG6bffw8DAajRaLJTQ0VKFQqNVqh9HabAhhXl5eY2OjwdcnJiZmcmKiuOS2UgFaqq5QcCwpyh0VRmSYBUNsCMKjkMUQDoE8gggQkQQUmllW7qKm1a7nLhbPW7gOKLynppgdO7985JFHsjMybBZLd0/P/v37r127tnDhwjVr1ri7u2s0GlEUMQwbGxtTq9UjIyP79u178803VSoViqIcxxEE4aS5d+7cmZyczMrK2rZtW3Bw8GOPPaZWq2trazmOi4uLCwwM3LNnT3R0dH9/P4IgzhWU7Ozstra2+pbmlLlzPv7mr0arQLh4mhFKpOQCTljsPAQyBJFhiAwihMCjLA95FiAStI6OihZLUnykmqIwCUF/LRn8Lxz+s0EakUABwjCgx/jNb18v3P29NwvkUxYdK7kKiFZClSKCM9yD5tYrp04lhYYr3T1JgJ86cdZmsaI4sXbN2m3vb0tMTFowf35gUMCQcbCmtsZFq/3mm29sNtuWLVvuVlZCCF986SWUwuS0/EFn508//bRjxw7GbicdzoW0jD546JDVYkmYkSiywqEDP/X29T311FM8xz3zzDPHjh2rqKgQJVEhUyi0SpzCvXy83HXux48fz8zMvH//Ps8yvr56u22cVkq3Lh/8ae8fl8yJ9HHjtKSdYMykYEMkMyqaAW/10MjCAn37HvQVFVXOmDGrvKJCpVV7enufLyh47+23UQTBaE1lRfnOnV/5+vo+8cQTAQH+Wq32s88+mz9//v37zXa7feHChXofA00SBw8ejI6OjomJ+etf9zzyyKM6nW7RokWHDh2qb2p89tnnKFrm6eFTfbfKZJoID/MvuX15dnqsdaT98w9eWrUgPshXholDWhmDsCOibQTyYygyqVSJer1SISd/PHA8MSZNrvZFEVlZaXnB+YJXXnklLy9vy7NbvLy9KbmCIsk//vGP/f39T2/cCADYuHHTO++88/TTT+/fv98J2CEhIQzDDAwM9PT0PPfccwcOHJg9e3ZAQMBzzz1XXl6+a9eup59+2sdg8DEYGKu9uqIsMy12z+4/3bt7yVePp6eGylCLHLHQYAoFJkSYJBC7Wo6oZdiMlMSqew1TJpvBNxTF6Pv3O2pr6xfMn3/8xNGMjMzUWbMAgEqF8quvvnrw4MHbb78tk8nm5sz96ccDPM8HBgZW3LmTk5MTHx/v5+9fVlZWUFDw1ltv7f3hBz9fX4PBkDMv537L/UMHD/r7B8ybO0fvpecZ7m7FnXnzMu5VXy+/dsA0UD0/PSLCV0XxI5RkRpgJHFglcUpO8wqZlBATYR2fbKyuD46Ix2RqRCIdy5HTF07TAMLqu5WHDx/+4IMPKIqGAk8ShChJUxMTzY2NV65cFgShv79/1uzZ2Tk5NEXt+uqr2NjY2MQkIEKeYzEMi4mOOXT4sIyiKyvvvvjyy3oPD5vVeuL4CYqi09PT1Wr16dOns3Pnsgz7zTffvPH6GxzPF14oXL9+fUNjAw9Ay8BgYGy8QCl+PP3zX77ZT+p8R2zQzRCMUUpMqcOUOlzpwgAE4uS5CxfsDMhMieCFh7QWc8qHOcaE/p/BoQR/mUQCkkP9yzj83fsfaE2mYErmIaKU1U5BkRIFmSBSEiBFhIYILoiM1cJyIkRI4/BEUHQML5M9vmmT2WIuKy07//PPgcFBr77yisFgsFqtFZWV83Lm3rhxY3h42GAwxMTEQAhpmi4uLvb09IyJiZk1a9Z3332XmppqsVgUCgXP84WFhWazedmyZS0tLTExMQzDKBSKiIiI/Px8xyiN1skjAQABAQGzZs0KCQk+euxIZWVFalqKSqXY9R9/bmssffrxHBqOKQkrCU0EsDsMlwXcoXPmFBSAGCpTq4ZMExKmsPFKivIGQHv+0o3FjrZlXXX1hZ8vVNdUb9q0ac2aNXq9niRJhyvK9GW1WtVqdXd3d0lJyR/+8Iddu3bJZDJvb2+nqxaCIBzHHThwYPHixVevXmVZdsuWLQrHRRBEUVFRWlpaeXl5fX397t27s7Ky8vLynCKudrs9IyPDxHJHCwtRjVvXqNUtMMICCQ4QAkQBRuOIEgAKIChECATBUZzCMBIDgBDZyRFjVlqKp5ZG4ENJN8dUDfxPIfB/4fChyg/HiK3tu179nb2xfaart6uF8QCYN0W7QpSyM7QgainaRSa3Tkz+fPZMSlS0jYWlFXcJiszOyfnx0KEVK1cunL+AsdlZljGbzUePHn3nnXd27ty5aeNGd3ePAcfF83xoUAhGYT8X/Mzz/OLFi6ePrgRxksBo3MvDc9u2bemps+5WVY2Njz//3HNhkeH3au8FBQUtXLQoLCyssaHx9KlTSrlyYmxCq9QYgnyTE5I++eST1NTUstLbrjqlIcTL2Fp+eN9nubOCgw24faxVgdl1FCWDLBBNImeWERLg7ZDnwoLDh0ese777oaO7+7H164+fOPnWm1tVKpXAcWdOnZyaMpWX3/nss8+Kim7Nm5c7c8bM+oaGurp6FxcXhmHWrFnDs8z4+PjU1KTZbLFYLBRFPf300w0NDcuXL6urq+/r62NZFkhEWFiwt5dPy/36kaGu2qqS8BCvy/n7Q92E2GAlIg4DZkhD85CbICVWQUKOHZETIs9Oubm6eBuC9/94LDtn2eCoadfur2enp3d2dmZmZsUlJhE4UVdX++BB16VLF7dufUeukHd1d61d+4jRaMzPz09MTKypqXn22WedkaGzs7Ovr8/b27uuru7jjz8eHBxUKpVarfbOnTtWqxVBED+DISAwsLerpfbuNRyOUWA4e1aIh4tkHXugwe2kZAaSGQpmibfICQAFhmHsodExBw4e9/QOMviHvfnWHyIiY8ymqQA//6VLFwMo1dfVVVZWNjQ05uTkqNUaNzf3BYsWAQiPHDnq6uJiNpuz58zx8fW1mi1lZWVqlYphmM6Ojk2bNg0MDMTExWbnzPnyi88TkxInxs1KWhEXF/Wgs3V8tLe+6vJkf8XqedE+roh5pMVdCWXASgAWlWw4ylAkDxALlJhQv5CW1p6m9r7otBwgkn8ze0fR8/n5d+5UvPDCC1p3d4qmoCR1dHa2t7UdPXYMQcCW3/xm9qzZCxbMP/jTQZVKee/ePVEUly9bjuEYFEUAEFxGYSQRGxXz1NNPbXhyQ3BYSFN9g9HYbzZbdu7ciWHYuXP5w8MjEWFhZ8+ejY+LS0hMjI6NkQTxxIkTm555pqqxyYzg3WPmjoHJj3Z86xc9w44oeEIzxUisRLKQskOCAQiHYAqtVqXWlJSWEKgsLT5IEgCOAtwxvOZsA6L/oqPF/2c4/NsEIooAIEhTd2pOf7Uryc1DY7OrbLxSknCRJ6FASSIhSRiEOJQwIJEYBhGCVKgFnMK1rhlrVvWMj5WWlgUEBT7z3Jbg4GAbY6do+sbVa65al9zc3P3794+Njb366quSJEEIv/jiiw0bNgQFBf3lL3/x9fUNDw8vKirKyMiwWq1//OMfIyIicnNzBUHo7u42Go1paWnTrB/DPDw8GhoaYmNjHYqCJEVRKIKRFKlWq9Jnz87ImH3r1g0IJR8v9dRAQ1KYXq+FKDdGASsOWAxK6MO+7EM7aEBidkEANIXRLkqX8IILd+7UdCCkWgKwqKhIqVRs2bLFKZr167LaxMQEAEAQBIVCMTQ0lJeXt2nTJqfuWn5+viRJTqtJu93e1NTU1tY2PDyclZUVGhp69erV9PR0lmVdXFycpWCTyfT8888XFBTExsbm5OQYDIbi4uKGhob29vaktDSFp9eZq0UC7SLRGhaV8YAQEcwhS0hNH3cEgU4NHgcBxIDkpiQ7mmvnZCQF++hwh8Cfw19VAv8AAv8RHJrNZhzHnePXHMdhGCaK4t9PY/9PWL13fCJJkoDFhKDg5Icfjd2tDwSEh5l15Xg1z9I2hmLstCjRoojxPCoIFIYiIt/c3HKjvFrjpk+eOSO/sDAjKysrMxMRQWlxcXVt9fDwsI+PD0VRS5cu1Wi1VdVVvb29H330UUlJyfDw8IP2ThzHU9PSzuXnZ2Zm4jjGMozA8l6eXs0tzYePHPH09NyyZQtJEAiBumhc/vznPy9fvpwkiIjIiLnz5rW2thYXFxsHjIPGQR8fn2VLlxbdvs2x1q6uppRY3/Ibp/mpjlW5sfaxNkKa0BKQYOyYZCNQjsQFFAoIEHEocbzk4x1YUVXjpte3dXS+/vt3tS7uxbeLL168DBB05oxUxzJlzeTk1OLFi602a0FBQXNzc0hIiEqlmpOTg1O0wHGNjY2FhYXx8fEuLi5Zc+YACM+ePQMhyMjKTE1NK7x8dcg4HOQfEBJoqKsuFWzD5bcLFcjYglQDLhhxOCXHGZSfpFFOhkBM5CkUQUWWhAIURZKQWTjBzIHhSUtJWVVISISXl/f8xUs6WlovXbrY2NS4YMF8mqZPnjzRbzS+9tprNC3r7+//9NNP169fX1tbu2bNGkmSFApFSUlJTU1NT0/PqlWraJpWKpWnTp1ydXXt6+t76aWXmpub6+7dM01N5GTPHDHWG7sqFuVEeKgZ1twthxY5whCAIVAGR3kCFaHIY0AEKEbQNErKbpdVu7r4XL1WGhAY4uXp/cijjzY13W9oqK+pqfX29tbrPaxWa21tbUZGupu7R5dD3FypUPj6+UVFRrq4uKAoStN0wblzLMsGBgUplIrFixf/sG9fR2e7WqtatmxZ5Z27XZ0PUCgtWDG/8V5Jx/0byzP9Z0V72Kc6EW6YgmZENOOAwRAeBQyULBC1Q4lDISJXaHsGzTqdQa3zFSQcpaZ54U8/7u/o6Hjn3XcVGs2I0VhddbempqakpATDsBdf/bfwsFDGbhclkSTJzMyMAz/9dL7g/AcffkAr5ADFEAzDMBwIIkDQvr7exoYGHx+D3WI9feb00qXLYmKir169tmjx9B+z2fz8c8976PWJiYk+Pj4oihoMPgqF8sCBH6OSUkwIffj8tWNnr/pHzbSIShZRcbhMQuUSIhcAzWIUj5AShtk5ToJAp9beLS1dMG+RRoHgUCRRiDk9+yD6r2bvIi86rRRQFLXb7SiKOr/+p36Hv3KIXwfyzVZLTVNNwYVAGeHC8kpeoCUBBQIuSbhD88Ch7QkxAEQEsCgikPSkIJFeesHdHdGo123e6B8QYDObKYqa5lIIOH7s2Isvvuh8N5OTk0FBQSqVqrCw0N/fPzs728vLKzAw8Nq1a5mZmfX19RqN5uDBg6GhoWvWrPHw8Ni5c+djjz127do1mqYxDDOZTDab7cMPP8QwrKOj48GD7rq6+o6OjtbWttbW1ta25sbGBm8fTwDg1HAPtBhTogw0sEjWISUh4JDHoEOrUXL6PEx/GIyS2QTHfhPt3tnLHDx6bfHKp4OCo0ha9vi6dXExMTarlaKovzfKcjYhZDIZx3E//fTT4sWL/f39nYpHKSkphYWFQ0NDISEhCoVi/fr1vr6+K1euTE5O9vHxaW5uHhkZCQ8Px3F8cnLyk08+efHFF+Pj40+fPj1r1iyapgmCSE9Pj42N7enp6ezta+zu65+0cqhcIlU8oCWEhmA6FUEdElbSNA5KksOoUpqGPV6GMxOD7csXZQZ6u+EIcGjPSchDfQfkvw6HEMKffvrpypUrznXvX6UGIIT/k5il3W5nGIaW4HjR7WsHD5JDoz4IqbbaZHaWElhaEkgo4kDEJTh9VCQBwxGMwAYnTZMC6hsRaRG437zyon9YyOkz+UVXb4ic4GPwWfnIaijC9rY2iqKCg4K++uqrN954AwFIalpaRUXFtm3b9uz9a6Cff1V1tUqp1Lm5oSjKsKxcJrty5YrZYomMiEhMTOQ5DgOoi4uLyWw2m0wB/gEYjUuCFBIWOiMlBUJoNBqbmpoam5qWLl3KcZaWtqrTx/d6qLglWTHiRDctmlxkGAEFUhJQyKOIABwSRsjDLS6CJDU2Rhg3Wd9670OIKQ4fO93b05+ZMWfx0hXHjh59/PHHT58+nZSUFJ+QUFlZef78+c2bN5eXl3Mct2zlKiBJDzo7//KXv6xZs5phmMDAwPGxMT8/v717f3juuecaGhtjouNzcxe3NreUl5Z46JRJsUHFty401ra8/cpKWuqj4TgObCjCYpDDJYmQHKJnUMChSEAeAVCu0LGQOnO5ZNwq3r3bsHDhsuXLl585dbKurkGj0Wx46qmSkhIPD4+AgMCu7u5Vq9agKLp9+/bc3Fwcx+/cubNs2TK9Xm+xWH788UeWZZ1DBhcvXszIyGhsbCRJMiQkRKlULlq0aHR0uLmp3jY18KC11FsnJETqMN5IwSk5xhASj0EBIhL6UJ0LcZAtZNJm8/UPqahuvnD5NidS8+YvW71q7YXCwvKyUqVS8dRTTwMAjEZjamrazZs3FixYqNFod2zfHhoaEhgY9PP582vXrtV7e+EE8d2335nMptWrVjs94AICAu9W3TVZppYsXXTp0qW333xXLpNduvjzUG9rQmLgndsnH1sYA5geiR9VyAQcYRDAYQ69tmmcQESA8RARMIQiaW3jgyE7VITEZaKAYmzWDz78ICgoaJNDReHalcuDAwMWq1Wv169fty46JhaIAs8LMpUagRKU4ODQUFdXV4B/QEdnR3RUFAolBKKs3Y5TFJCknTt3frVz5zvvvtvT0/PWm28ZfA2+vr5Hjx4LDwvXajWSBNvaWpcsWzoyMlJ5967VYvEPCNDrPURRvHKrJHJmZnFNi4WlaKU3B9QsIhcQQgSUBJylRsKxd+FYpQCQgJKaJAYfdM6bEy8ydjnh9CRwOCr8izEHx3Dn3lpCQsKvpcRfbcz/L3D4cOUQkYCFsVTW11+85CcjFAIrFyRcEuD0EyWhjvkeDgO8QwaIw4ANQ1laNiaJmLdXwpJF0WmzOtvax0ZGxifGb92+XVJaeuXq1d6eHlEUz507V1BQoFQqT5482dnZeeHChZCQkPv37zu7a21tbfn5+VNTU4cOHdJoNIGBgSUlJQ8ePKAoqqysLDk5+eTJkxRF9ff32+327OzsGzdupKamqlRqjUZDU7RcJpfLZXIZrVDKKYrgOLauugy1jcQEeerkUKfAEM5KSBICMQQSEJIAYA+XEEiZXYQcQiCEbnAM7elnvP1jCJkWJfHr12801jU0NTZVV9fU1NTW1Ez/wziuqakplmWPHDmCYVhycvL4+LizRIMgSGxs7IEDBywWS2lpaVRU1FtvveXu7u4Ekri4uKNHj0ZFRcnl8rGxsfHx8fDwcH9/fxzH7927FxkZSZKk3W5XqVQxMTF6H//O/qGapgcKV98pswhwlQQIdBoLHaQQFRFEgojo2IebfjZQxC7HLeNDrcsWzQ719CTANH1HHsqVI/8SHCIIsmvXrs8//7ykpMTT09M5N/t/EMT/lnAI/5YYIAiCISiKYRiKHvzog7G6+lBXHRifUIiCTBJliEQAHqLOYw9Eh0spiwqAwgSK6hgxR6emLlqzvLKx/tiZ0wY/vyCD75KVy/yDAqwmS3l5+ZKlS3t6en48cGDdunUGHwOloDmGLXKolV6+dHlWxmyapG7cvDlz5kyO45Quqh2f7UARJD09naSonu6e6LhYq8WKYZjO1fXQoUMJiQkERjjUG6dTW51OF5sURxPUxMTEyPDwyEj/yEh7ddlVH60UoCNlnEmFiigvkQBFIASSBDEwfVZQBAAMIhSEpFKhsbPQzCDVDe0N97uiYpPWPfkbLx8/nrHV1tYGBQW1t7cZjf258+bdunXLbre//vrrhYWFd+7cSUpIMPj6Hjt69ObNmy+88GJiYmJ9ff3Q0FBSUlJBwbm0tFSKICGCal3cEpKjw4JC6mrL+zob/TyVcmI02EemIS04sCKIY+QeQgwiCCQwiDiUFKcRCIWohUVlWv+WXvP+Q9fXP7kpKjrxxIkTnnr90mXLkpNTMJK6U14eERExPj5e39AwY2bK/fvNdXV1n3zySXd3d3t7O8dx6enpN2/evHDhQmJi4ubNm8+fP8+y7OrVq2/cuDE5Obl58+bi4mKDwRCfEDdzRnJjze2BnqogA6nX2mgwLsdshMSjEAPQGaMxCSEkQE/HbgSXUNHGC5TC89yFqsSUWfHJs06ePkcQ1KrVK1OSk0dGRlpbWzAMd3PTXbp0KTU11d3d452tW/fl5alUyn15+2Qy+exZs4aHhrZs2bJk8ZL5C+aPjY2VlZUmJiaUlZdDAOfkZA0OGBMTUrx9PFNTErq7G+sbiyHbmxGn50y9BMGiCIsiHEQkxLGrh0BKQhARF0REImklC6hJkaa1vu4eYVYGycvLy87O9vb23rt3r0IuV6nVOje3rMwsX19fhx6MhKIYTtMiy+C0zGaxXL12NSAgYP36dc4tixmzZvMMK0miJIqlpaWJCYnff783OytbrpB7eXm5u7kBACIiI44dOxYUFHzs2DGDwZCVlZWVnS2JotFozD93bmJicvHSJXpD4M+3Kq8X1xoMsSJQ85JSRGjJIbkMACY9lAoACCJigMchT0DONjo6NWJ8ZOl8GhUVOHDozjkd6v65KPd/Uiz993//92+//bampsbd3T08PFySJLujZ484LRr+4TeCX/SSeBYhcRZIdomTEAWcvv0i5tyCdCImnCaFIgIkCAQU8BjKYYDBJRSTLIy9tKx0ymyWqxRKtTowMCDBxeWH/XmbN28mSbKysvKdd95xdXWtrKz85JNP9uzZ4+7uzrKsTCYzm83JyclKpTI1NVUul7/xxhteXl7+/v5ardbLy+vVV19dsmSJWq0uKyt77733IIQURTlbiUlJSf8nQZZsZ/PPjIwM/dsrvzu8+22cpBl2iuBYOXToAjuF3iX8YW8WQQQeAEgCiRZEcnSCMTHCpHkyMyrMxonBIWG8neEY1ilO6JQCd4qr4Tg+MDBQWVm5atWq5ubmBw8eiKIIIRQEAcfxqKio999/HwDw1FNPffPNNxBCtVptt9slSbJYLH/4wx8MBsPNmzfnzJmzZ8+eqqoqAMC5c+dCQkIGBgZkMplGo+F5XsAVs1MyC4vv1/cYaXd/6y/ETPqlhC45V8IlkcQxgeNQRHAqlxKSNH3QphmjU7sc/Vfl/lAU1el0Mpns9u3bFRUVGzZseOONNyIjI/+eHf53vwSWw3AcgwCYLMzoBMkJkskiRzEcFQDqQBGH9KPjQRQQMB0gcQlHOEZOyoHd4ql2/fnsObfYkFWrV8RGxEC7AFge0MT9+/d5jouMi/L28tq1a9frr79OyWiAgoMHDwb4+y9esqSsrOz9d9579ZVXoqKiCgsLl61cvnPHlxEREcvXrCi6dstisfT09NytqEyZMQPgwDfYf9Xq1SXFxcuWL8cI3DFLgJEUBjgYFhoWFho2PjHe16vWu4uYvUMrtyM8SxGSwNgRhIekU7dNckwiPBwRcBojjI0M6N3d0c7JIH9D1tINcpdAAHjGYr98+XJycvLY2GhOzlyGsV+7dt1qtb399tsNDQ1r166dNWvWvn37oqKiJicnKisr9+7d+/LLLzunoAMDAzEMt1ptmVlZP/50yNsQIKc8VCrF8vXr+2qv1JQOuCpkfl5e0DzglBv5u/UxCTx0FnHYqkFUThFyrdbH3dPNpYsiyOHh4UceWRsSETV9hnlubGSI5zmWZdva2p7e+PTVK1d9ff2DgoKcLqr/9m//tn379meffbauru61116z2WyTk5MLFiz47rvvDh48aDKZsrOzRVEcHR1lGIZnWVRglj++WrJWonwbjqA0JlLSNCMUAXAumIqOkXvJ8Sad+4YyFPH3cg/0VbjpVHX1VbPTs2ckp2GoxLLs+PhYVVXVypUrm5tbXn/99Tt3Kjo6Hvzud7/jeb67q3vv3r1ffPFlb09v3v79e77bEx4R0djYmJiYuGPH9sTERC8vL+Ngv1ardtXp6upqkxISCQpbunbtz6f6uFEdAiUclUgcs1hsWiUOoHMjDv3F+mP6frKcnRNtQUExZU1dgZEj336/h+M4tVqtUqmys7NDQkK8vLyhJCIoJooChqIAwwCKQY7FSJIxm27cuI4gSG7ufIDjr7/++pHDhw/t3//44+tpmXx4aPD48eMIgixbtmz+/NyampqCggK95xYXnZu/n79O5/rWW2++vXUrhmJN95vCoyJjYmOjY6JDWkOampq2vf/+yiefjY1NUF+uxlCC5URI/hqOUOd8g+g8DNNJPSo61FkpGe3j7ooRAIXEwwVAh0zdw8Gaf+WiKAoAcOHChTt37syfP//DDz/08/NzNt3+IRw6fZ8ezluQOIBQFeY7ADheQTEiLyEsQBEaogBKjgUC8CtESyjJofi4yPVapmb4e8fOSLLTCpVWw3G8lbG5uLs1NTXNm5Mzc+bMioqKkJCQ1NRUhmGKi4sTExNxHPf39ydJ0tnIsVgsn3zySUFBwfXr10+cOPH99987q3YQwi1btpSXlzslEAsLC5cvX+7MAT/66KPY2FiGYZRKJcMwOI5fuHC+oaEhPWNWUlKKr78uYcbM9t47KeEyq4WjKNTxq3AgIopOQ8V07g+tdlbjETA5CllEUdX04IdDp4pKm/Lyvt+w6Tk/Xz/sFxbkMKEEnMBHR0eLotjR0VFRUfHll18qlcqJiYlZs2aNjo5KkqTT6To6OgoKCrRa7dq1a/V6/ZIlSyCEzg4chmE0TV+9enX37t379u1zdXU9cuQIRVGOGf2ZP/zww+bNm50OkSRJTpmnWNMgDWTWyQFaYxeV8ulHdPqeoIjjU2BQQKCAiFBOYVaBw0TO3V01AeSfbv3zQRWuxhxG7+jfgNz5Sf5ThufEOeeKiPP/1NfXO9MohmF+/PHHixcv7t69e8WKFf9j4JDjOTlBYhADNkEGaVGiFBCTOSrPIgpYiCFODSmHaCJEJEfwkHCAoTyvV6goXly8ZL5rfBTAiXGb2QWQIsvZGXtXV5darQYcPHzkSF5e3ueff/7Vzp3XrlwfGhx8Yv16hmGyc+ZQFHXu3DnM0Z3d8813Op3Ox9v7bllla0tLX1/fwoULv/rqq3Xr1k1OTo6MjIyOjvb09Dzo6qJpmmVZm9WqdXGRy+Vjo6Msy3r7+KDQ2vOg0jxmsol2D5dwaBkDCAcJUYA8CXmHiZLg2D3FRQQFEg+BCHCEpmRKrTIhMVHlGWwz2e1TQ2qNbnh42M/P//Lly6tWrZLL5b///e89PT2feuqpgoKCtLS0xYsXm0ymdevWLVy40M3Tm2Hszc3Nr732WkpKik7nunv37r17946MjDTVN4SFRndQlLtOKzKjonUyIiKs7d6VYWO/pwr7m/gB6pRQeahRgkASE3EJKDkWSDY7jqLZ6bMWLlzoZQjTaDTWqUmOE9Rq9d27VQEBgT09PenpGYnJSdeuXjt06Mg333yTn5/v6uqak5Pj6uo6d+7cFStWLFmypKioqLW1dcWKFSdOnNi+ffulS5cKCwv37t3LcVxlZaWCxBSUCJiewYGuKAOOQxGTAMpNR0MBZR1wCB3ZpDAdKxyi2DSiRoFMRSmUctncORleQTN1noHGIaNWqcCnMxXEZrOPj0+Ul5f/6U9/LCsr+/rrb27dKjL297e2tb3z3rtms+Uvn/3FbLZ89NFHpaWltbX35s6dFxsb9+6775ZXVBgH+r7++ms3N7czNafUclnPgwYMMd2/3+rrprdbGSVOIRKvUWoRaHO4KeAoRKcREeCiRGIQn/4lQ9zdw6+l8frb27JWP7Zp7ty5sTEx/gEBSo3GPDE5NTlB0zIHGgqQIASGoVUqq82mVCgaGhvvVFS8++67ZpNJ5aLFadlTzzxz5uTJ77///sXf/vbw4SNOrd2ZaWkAQ+Li4ru6ui8WXly/fj1wyNlbrbbYxASR5W7eLrpXXROflMgzbGxcXFx8/IDRWFrf/nNxg0wp6x3qkrn5ShgloUBASQfiSE67PafkqghwESEFFHfTqvqNXYuXPBLgRtOCiRIFhyyNAywR9J8KEaPToR1CURREUVIr1LW1tTiOy2Syqampw4cPX7p06ejRozk5ORDCfwiHTut0Z5YxHWpJCahlan/fLrMJIIhaRuGchAkiAlF0+umaBkXHccZZlIRyJUugCoNs0Gr+YvdXAfHJGekZru5uLu5ukiCeP39+wYIFJpPp4sWL27ZtAwDk5+ePj48fOHDgzTffxHE8KSmJ53mTyfTGG2988MEHQUFBsbGxJ0+efPvtt1999VWVSkXTdFRU1KeffpqTk/PYY4/t27fPz88vLi6OIIi5c+eeO3du7dq1IyMjDx48OH78+LJly5z0kWVZkTWlZOf+x4fHwgPioA2oSSUGmL9RK5RDEVSEqEqtHZ8QCcq7rm00IWmOhyF8zaOR2fMWHT5y+uDBw8uXrIiKilIo5BKKIcj0j4WixPP8hQsXVq5cqVAoUBRVq9UEQfj4+AAAGhsbL1y4QFHUjh07Zs6ceebMmSNHjjz//PNyudxisZAkOTk5WV1dvXLlyvb29gULFvzmN7/Ztm0bx3F+fn46nS4hISE8PNxqtbq7u1sYYByD87PY87eLPSPCx0QWQ0gAcEfugqK/kD4SxyTOLsOAu1LZ2VCVnZb27PL5HrQ0NdQLgCRgFHy4VvqLJdB/Vix1wuGv5A9F0S+++KK5udlpdKzRaLZs2ZKVlfU/RIbG8Tctl0+fBJYDDIcIDol9XkIEAXkoR/G3+qpjVMnhqwwwh5wUqpTLJShNTk01FV0f5ewTEyZr36i7xqV/dLS2vi48PLyisrK7q0sSRaVCkZWd7e/nl5CYuC8vz9mCFUWRYZiqqqqzZ84+s/mZ3Nxcq80GAIhPSOg3Gsvv3Hli/fpjx49/+cUXFEVhOJ6fn28ymTZu3MiyrCRJMpmMZVm5UjFNDDjR2C7tg+sAAIAASURBVNdy+sR9RqlEUd7GsjQCII5JKINCBk7zWumhCKhTrstBdCSIAYLq7h24dquIqhts6ZrUqN3NFmbQONDQ0KhUKp2iwffv33f6vtbW1g4PD5eWlubn5zc0NCQlJR0+sB8A8JdPP124aGFQUFBdXX1RUVFtba1Wq02ZkdJQdy8hPr7f2KtRojpXLWqzIRjx0HgI4uDXiIZIiCQ4uuDTdxUCWoI0JVNNsjwUJfOUua629l5Dh9VqGx0dpSiZWq2uuHsXADA1NRUeHlbXWF9cUtz1oKe+vv78+fPu7u5Go7G1tfXevXs4jms0GgRBTp06ZTQanXNtBQUF7e3tkiTl5ORcvnx545Pr5ARPSeLkQADDtkMJEySUc+i6SE4sfGgGLjpk7Zyy+RTH4+09nQCA8vJyqnloYJQhCblWqbCYJo1GI03Ldu36KjEx8eLFi/fu1Q0ODObn5xcVFZEk+cP3e0tKig8dOrxixYovvvhCFIXxsbEPP/zQYDAQOHH8+HGZjGpsvP/0kxs6m7sGBvo1GhXHMAnxiRWX9ueGhqA2UuSghAgUhji0GAHmgBJMAphESggOACGwgrG9e2x4IjQ4wGAwtLe3C7xQW3tvaGiQpmUkSfC8gGKoKIg4MY0FJpMpISFhZGSkqKho3ePrbty4oVKqEBQhCdJD77Fw4cJjR0+sXrkyIiJ8x44dnp6eHW1tNE3zPD87ffaBHw9cu34tPCy8rq5+zZrVP3z3140bN05NTXX39AQEBjq3BhiGUSiVabNnTSh9bn2+19XD1wp5iAgO4V8gAdQ51uAcgQcICiEuINOJvtVmo0T2mU2b4oM95dBOSAIKnaj5f4VDBENRyQGHkih5enh1dnYODg4634+Hh8fWrVuTk5Mfdhb/4U9xasb9EhsBhNoA/3mrV93cu0cml9NKld3MkJLg8Pv9hSMiKI/iDEYCrcvQ+AincXH3D0hcvGJSAl/u/io5KWlGaqpzpyIyMvLy5cuZmZkQwgcPHhiNxtWrVwMAtm/f/vrrrxsMBgzD8vLyXn/99aCgoKGhIb1eP3PmzBMnTuzYsePjjz/GcXxiYiIqKur8+fMrV66cM2dOQUGBq6urn59fWlrajh07XF1dKyoqgoKCduzY4YzpFouVpmmMcFG6B+Us31RefX71nJncRDsKLZhDCVeaTgIBBKQIyfFxQKq9jEa2rKx5+4+7AcCgBGiafuXl30KAnThxqrS0dPbs2V5enk6JOBInvv/++8DAwMjISJvNJggCRVE2m00mk126dKm2tnbTpk15eXl6vV4mkz366KPffffd9u3bt27d6py++fjjj1955RUURY8dO+bj4xMdHZ2amnr8+PEXX3wxJyensLBw2bJlLMs2NjY+6B1o6jTirj4GT2Vfc60uOAEFFAdIEZEkVHBUloTpFxCAyFAYmBobEDnL8oXz01LDcDtURIdNf0bMGWuczo3/Qt39559/PnfunE6nW7Zs2fbt2zUaDY7j/0O27p1j1tOpnSSKAkag01QAFRz5goBDiZAkfDpvkoD40GcNOrJOh1glLiDowOS4i4+Hh7eH3W4iMde5c3LVhAxgWPHVW/5BgWtWr9751Vdr16xJSksBAnjqyQ1zcuY8u/lZgDmGfZ1QK8C8/XkMw4yNjq1atQqjccHO4xQh8HxzS8uiRYvrGxpaWltnpqdaJy05OTmHDx9ua2sLDwvjOB6jcTmF93X1WiyWhoaGlqa7r7y0Adgyf/r2Q6sIADb93lHUGS4dBhEOq0zgdPV24DpCqjt6xwJCY1ate0ruFQ8FGkHlJbfLRJFvbm7OzMwMCwurr68/efJkYGBARER4ZGTkgiXLqytKa2trJycnGYZZvny5SrPhow8+yM2dX1xckpaWtnrt2oSEhJMnT657fOmVKzfnLJgLABS48fs1RfVV1RV1zfMzIyGgHJ58HAJw1Mm6wC9zYNP3loAAh4Cy2rhbt26ZgI/BYIiKn+XuZZi+a4JkNPa76HSSJIqi+Oijj9oYpu5enauLm1KpXLp0aXBwsE6n27lz54IFC9RqdVZWVlJSkt1unzdvnt1ud+ZzL7zwws6dO318fHQ6XYB/kJuHO0CmKm+fb2vrjfQNhxIGUQR3nA8M/tJpdgjGOfT70AmGw1xV9ztqRsemwiLD/SNmR4alOmKOKAnC119/vWLFioMHD/7ud79jGKa9vb26utbX13fBggXLly+fmpp0Vm5HRkbiYmPn5eZevXLFZDLhBFFfX7d69eqgoICImAjWao+MjKRpekZaApCmblw50dLeLogRjjOKkBiCQUAAdDqNgKjD5AJFpg8uLkDMVe127ea99Y8/GpaycseuH3Pn5eo99XGxsbRMDv728EIgiADHocOJqLq6+uTJk88++yyGorSMJnAcQdCBwYGW1haWZcvK7ty9W+kw078GJYhhqEajNZvNGI4pFPL333vP28cnKzNraHi4urrabDa7uricO3euvb3dYDCo1WpJFFEMMwFa4RWN4NjYxKTON3ScR52oNk0HncuEqJOiOHzXp48qyjN2nZxeuWpZgAJgABK/GPBJ/7emj8P2A50+eFCUJJHEKJqmAQB6vX7RokXvvPNOUFCQs+L4j0dp/n5gBwGsaMckCdG6+CqVpbduclarklZhEuL0z4YAEVCUxTAGx204YSLpPgm2Wqy//dMf4+fOOVpQ6Orh8cKLLw0ND90qKjp95jTDslFRUcXFxU888YTFYsnLy0tLSwsLC7NYLE77wL86ZA9zc3Ojo6PNZrNzjV2r1WIYdufOna6uLg8PD19fX09Pz1OnTqWmpoaGhvb393d1dTkLeqWlpUajcdu2bbGxsdOMUBSdHoQURbGcnQNSeFRE8c0bfZ3dPl7eCMQkhODR6YgmoLgIFTyilmtDOvrZa2Wt6575vXt4NgCEJEEZrZYAMFvMjl3jyOvXr/f09gwODuj1nvdqa7u6up588snJyUnnMr7Tn6ywsLChoeH99993okh6eroTKVNTU52twTlz5pw7d87Ly2v27NlarRbH8aKiosDAwKSkpCtXroSGhrq6uhYWFspkssrKytu3b/v6+619bM3d6kqCoiwWG4LgOIZjwKkiLOGQJyFLS3bITsmn80O2u7rkt5see2blDMACEkD8oe4t+rBD818YgfmVHVosluvXr1MU9dFHH7333nsKhcJZSv1vP0rjpMmO+zKNhDyPSBBFkTvnzjCDRjcSp6CISRIOISE97JQ78HM6aeUw3I7hVhKfoshBDA9MmzkBuISMdK2rqyiINEAnR8YvX7m6cePG8vJynufTZs3CUbwgPx8niGk+xzC+fn4iJ6AE2tvZvf/H/ZGRkS+//HJFZUVvb2/KjBSe4UVeMPj6OiUaHt+w7qsvv3Jz0Xl6eqpc1YN9xgednUHBwXKtQrDzVy5e7u2ZZkVJSUmPPL6GUiBAMHd0NEGEVSoIiLIA4TEgEaJz8AoRUUxCKRFQEqR4oEGVfmcu3e0eZkwMPTLGBoYmAQRvqm80Go1ubq6+vr5yuezDDz947rnnAwODvvzyy40bN44MDXz77bcrVqzw8vIaGBjo6upKSU6empo6cuTIpk0bKyrudHc9mLtgUcntIl9fv9qq6lmzZo1NjB069GNbR7Onh+vYyIBajvm4ylGJdYhQOr37nS4R6DTDmX5vahZVWqCib0ya5BQ5ix6vaehobuk0T02oFHKFWlN37153T7dOp1MqVWFh4cdPHHdxdXHRupaXlwcEBKSnp+/atctZB9Nqtc3NzXq9PjU19c9//nNycnJgYOBnn322Zs2akZGR8fFxT09Pnc5NRSqvnTszNtwro6GXXoUAu4SyEOWhJDpm56df0+ccEgDgAlBwuCuLutzvHo1KzmzrHp00822dnSq1i1aj5liupqYWx/HAwMCAoJDv//rX5ubmr3d/nZeXR8tksbGxeXl5CIKsXbtW4HlBEBAU9fH23peXFx0VNW/evM+/+I8lS5Y6PC5G1SoXkecD/XzKbt/s6Wz10JAeagyV7LSMoCgMgxCVoCOxwh1mvziPkAKQsSyOKw1VTWM+ITNjM5cuXrq6r6fnxo0bbe3tExMTAX6+AsuyjF3iBZZlgCja7XZKIT97+szy5ctnpKV5+fgY/Pw83N29vDzDoqITEhP6e3t7untyc+evW78Ow7BNz2yeOTstLjZuxqzUhLj41Iz0O6XlQcFBb/7+zYycbE8PPQKQJ558kuW4pKSkiIgIpzyvVqNx9/bXB+lvljVAFGchIiKUY0AJn2ZUQIKI9NBdHgq4xJOQo0UbaR8N9FA/viLDZuZkJAagKEBMnM5LRPhPr1+ecejImSQCI06fPu3p6bl79+6XX35Zq9U6A9c0m/uHBk/IrwYaDnh1yNIgokhoVDMiogvPXpianFQr1QROWqw2uyABlbLHOmVVyMxyhREDD3hhw9a3Yx9/XKb3zJgz9+q163V1dWvWrg0KDhoYGIiLj9+9e7efwZCalnbu3DmSJFeuXOnkUgCAhoaG48ePh4eHL1y40GkTgeO4JEkTExM4jjsll7q7uzUajaen5+joqJPwUhT1/fffNzc3JyUlPfbYYxaLhaZpd3d3Z4Ce5m+OVAjBcRJXT9qmcuYtaK2739zYYraL3oERQK7mcZlNpCilwSrpjp270z2GLnz0N9GpiwCunD76DrotAQknCQQDFE3PmjHL09Ozra29prbm6927//SnP5EkqVarx8bG5HI5iqJff/01x3Fbtmzp7++vqqrKzc1Vq9XOwoIgCCEhIRRF7d2712azbdiwwbnI7+ew/bTb7YGBgWlpac4N/ZaWlqGhoRkzZmzYsMHdw+3jTz8OCQ3+zZaN8THx169cHR00enm58XYzDhk1JiigHWOnwrxdBjvqRntafvPUo0+tmK+RIQQED105nHbvGPx1ReS/CGMkSRoMhpdffjkqKurXEuv/sXf43xEOHwKhozWPoQiOYRhGAAxT8fbW+lqMZUhJpBAUg8ApIg1RVHQ0BTgUNyGYjaKmMKSfF8xabWBqsgly5y4VTlotUdExGMDr6+okBNF7e924dTMsPCw0MvTWzaLyyoqtW7e6e+gvXrqoUqk8vb3q79WfyT87L3deWkaa1Wxd/diaA3k/ltwucXq5yGhZc3OzxWyJjo6Oiow8fOhQRkYmjmARUZGXL1/28/OrqrjrNISZPXt2alqab6AfEDmRtxIuaqvJdLv49ozUBKtliiZRCsUlgYCAEhGCRygzI8k1+nGTRLv4tfSLZfd6Y9Pmh8eldxtNjU2tg71DGpX2QVeHYzwt8cyZszRNT05ObNz4dHFxiUKhuH276LHHHr948eLmzZv1er1Go7l8+XJkZOT58wVvvvPexNjo8ePHFy1YEBwcfLeyKjw0/Ez+2Za2Nk9f78ys2TduXX/llRfOnjwSHRhomZyUKRWCKCIYBlEMILgEKEKmZkTZhI0gtIG8zONIwe3fvvWXmKSsuoaORYuXjY6O3rpVxNpZV1eXxvtNnp5eycnJFovl/M/nZXLZ7974/a1bt6amprq7uxMTE/v6+pxyGRDC8vLy6Ojo3bt3b926VavVXr9+PTAwcO7cuSdOnFixYsW+H/Y31jfiAFm6OPfK1Qujo/0h4QE2xkzRuMhzCBCdmRNB0byAyuRaBsopXcipS2WJ6Yse3fTbi9fKU2fPwTG6oqKSY9j7TY1ubm4lJaUbN26qu1dLEGRPT3dmRtbo2Njw8LDdbouPj+/t7Q0NDVEoFUFBQecLznt5e4+NjgaHhGRmZn7y6acGg2F2WkZDw30vD++psfGL5wuUMmrJktxbNy/W3Cmev3De6OQ4QeIETkARotBRatB42O1QwFWEQi9TehdXdw/Zlauf/C2Ga0URDQgIcDY4Hjx4UFpSMjE5ERUXj5Ok1WyiKIogiePHjkmitGzZcoChIsehGMYzLE5Rw0bj/n37xicmwsMjs7OzYmPjBowDRw4fDg4MwnHMYjLL5Yqjhw/PnDFTlMSxsVF/Xz+dTldaWqLSaEJCQo4ePbpo0SIfHx8PT727h8f4lOXQqSt6b5/6+gaNWmu1sSqVWpjGKhSRWNTRm0ChQECOnxzxUtOoeQRO9H/05qu+eiUuQTmBIch0zjQdgRDHzqDj63/wQn5t92AYBkUYFBT00ksvRUZG/v2m3MOy6j9ih3/zvp8mq6iEIhCRUIKg3N3mZWQ0NLc0trdp3d0lucxOYyMSjxk8jCLXxTEjBL721VdmPvUUIAigUAEMj4+Pa2xqvHH9usVmIUkqOSVlfHw8LCT00qWLFy9dev/99510Csfxa9eu3bx587nnnuvt7bXb7T4+PhiGOSczMQzz8vLq6+tTqVQzZsw4efKkXq8PCAj44YcfBgcHLRbLvHnzjEbj+vXrFQpFbW1te3v7jBkzMAz7/4vUCGCBiAGERNDo9Bw3mWrCyt+qqCmvb75zr7V70Hrv/kjvKGKISF/86PMBSdl2VE6gSofH0zTd/kVGfTpT4AXOVaOLjIo6ffr0imXLS0pKbt26FRoa6uHh0d/f/8UXX4SHh69atUqlUt29e9dp28TzvCRJTmx2roLevHlzZGQkKSlJo9EwDMOybGxsbFlZWU1Nzd27dwcGBtzc3KKiotzd3bOysurq6vL278+ZmzN3Xg4iIu4adXpaKstYLl8+z9knacipCYkSzMx4f33ptTAfl7de3vz06kwPJUKIgESAY+nQ6aIKkV9Izn8dxhiG8fHxcerM/ZMy/X9bLPzlvDt7BEB0M3iVXPoZtTOQYZUyBSJNP6TSdCYLIIo5mgI4qtONiHwfY52kqQ1vb20ZH/aLCI2Ije3u6a2qrKqprikuKX71d69VVVa1tLY+seEJY5/x5MkTL730W0mCOp2rXu95+/Ztq9V68ODBhQsXpqSkcAwvl8kQEfr7+e3Zs2d8fDxnwVye5WNjY0tKS5QKRVB4sMiLx44fy8rNBiioqrjr8B/wiY2NzV08X+OqJSkK8iIA0ykzb2Nc3dyraqo7OpojI0N5ywSJEZJAiYDkMJJHaEhozCzGIgrjGLha1vrb339sEeQ2jljz6LPj45arl64X3boVnxATExPt5uZ29uzZhQsX2e12FxdtVVVVY2PTxo0bzWaLn59ffFzcxYuFYWHhOIZ9/fXXvr5+S5YtR6BUWHhRp9PNypzzc/7pzs7Oi5cvb31/W0JS4p7vv133xON+wcGuKvr04cNLFizkJREhSIAhCIYjKAUxysZhDFRgKj8Gc79c2hSXsSwucwWCqn39gvfl7d+w4UmFQtnS0nqhsJBxPDWR0VHfffvNkqVLK+5UpKdnoCh65syZmJiYOXPmnDx58pFHHunr6xscHHz00Uc//fTThIQENze38PDwuro6o9EYHx9vNpsvXrxYVVn9yJq1i5ctvHu33NVF2dXdqlCQahe5JEIKk+EYjWByBFNQMnerDRMllUzrd7WimcFcHtn4ApB7evmEnjx9fvXqR100rr3d3V988eWMGTNcXLQxMTGnTp2Wy+X+/v4eHh411dVdXV3+/n5hoWEmkykqKio0JOSnAz9t3LRpx44dkxMTufNzXVxcevv6err7Fi9ZONA7evL4ieqqu9mZmctWLy0vvY5jUOuiLqu8k5CSZLVZHf5NKJBQDuISJCClHTZJUww1YoKlNT2Pv/CuNmgm/P+x9x7AUVz51vi9t8P0zEgajXLOOWcJISSBQCKKZIwBgQEHvPYa43U2jru2134OeI3BgcXkZESSACEQApQDICQhCeWMchhpYsd/zbSwve9733u733v1qv5b29WloqSpYrr79j2/dM7hceFRa8zV0ys0OAgiNDY2lnvhvExCevn5YQDU1tZ1dHSsW7+OpCiBYfSmqQiJhGxqajp54uTcuXOTU5LLyyoyV6/kWc43KIDWG779dndcXJy9vUNBQUFbW+uGDVnR0dEHDx5KSEgwt7JUT003t7QkJyc3NDRIKUphqTiTnV1aXPJwaNjVy0Or07c2P5hQqVxcXY0BJ8twrA6DtKk9weECg/TTLpZyKaslDSofe7OXNqcDDlAI4TOkB/iILvYPDLdjCHNxcRElP//dfvVf2v/yxr1hRrwUMRBySMBxhBxsw6Ijnfx9GgZ6a4d6bw8PdjLa+yMTpKtNwppVq373vP+iRQDhwMIKIEyv10jMZIGBgb19vXl5ec8+++y58+eTk5Pnps3b/c3uN9968/jx4zdu3IiOjm5oaLh///6KFSuCg4P9/PyOHDlibW1tZWUlCIJo38zzvLOz89mzZ+Pj42NjY7///vuRkZHe3l4PD48lS5Z4enra2dl9/vnnaWlpYWFhVVVVJEk6OTmJY0UQQh7yxnyZ0UOGJTAJUOsULp6ubr6uIRGugVH+kUlRCYsCwtMjEpeGpqyQ2YcMMxySKBCQINEszISFxkTe9AgIjOQFYe9334WGhGQuy7S3t0cI5eXlFRQU9PT0LFy4MDU1lSTJ3t7es2fPPvfccxqNhiRJgiDEAuP09PSPP/6YlZXl4ODw/fffx8XFmZmZMQxz/vz5xsbGsrKydevWLVy4sKioZMuWrXW19eVlFY1NTYsWL4mOitarDQLNWJpLLBVUXFz4nLTE0CAPGwlUQMZOhiJ8nHZuf2rtknkLo70pBHBOICHE4C+aO7+Os8NHNfG/B8ZEds7/uYb+fw2HwiNQ5B7BIfpFxw4TXBwdzh07aUHJcNPQMRQwADEOBywGDTimxYkxwI4TsHV6asMrL0c+ttIvOuJSwVVA4GvWrLVQKHp6eisrKxvqG7U63caNG2WU7ODBAwsXLvTx9xYLPPZOds0Pmj/66OPXX389cU4iggiXmIz3MWTnaI8JkGGYs9ln58+fjyBsbmkxMzNzdnPx8vEa7B84dODQxZyLaWlpNXfvrlu/3ifQl9HSjM7Ac7zJ/h4fHR03M1dKlfZx8bGXLl4Y6u3y93ZnaZ4FMgZKDZiERlIgtcTkNn2jdN7NO2s27vCKmuvhFXb5Wtn4uHbBgnnWlja3q6tb2x7ExsacPn06PT29ubk5OTm5puZuVWWVwWBYsWLlyZMnn3jiCYRher1uYmISx/ErV64sW7asv7fH29tbLpd1d/dcyM5mWXZiYnJ9VlZQaOi+/fu8vD3nJKSw/LSTkyOvMRw5ctTD15cyk2kZhhUALeAGgdADApPb90/gPxzPC09elvHE7wDuwAhypdLa3Mw8P//q/PnzbW3tbty4MfMQOW5qajo8Ilyj0SgUlrt3756enl6+fHldXV14eLirq6udnZ0o/X/16lWlUtnf3z979mylUnnz5s3Ozk6dTlddXb1t2zMECXt72ivKS7Y8+3RYiP8PP35naW2psLBGvLnAW7CCghUstXoziDlwgl3utbvTgmzr719FFnYAM7OwdLaxcblyJT9z6TInB+fx8fGjR4+6ubmp1er+/n53dzcAhMjIqO+++05CSry8vadUKpqmExISAAStbW2urq719fWiyr+7hwdBEjhGHD92uvF+Iwbx4KDAlJSk/p6Oy7nnXvjD74PDI2+Vld+tvxcdHa3T6The4AFB85hGkKg4AjN37RzUXy2qXfvUq66xS6a1AobJTebVpglqnVY1qfILCnZ3dVEqlT09PXkXL42NjzU2NC5ctNDOyRlwPDRGvjiG41XVVYXXry9ctCg8Jubg/p/WrVsvIUlcKhkfGgkODVVaKgsLb5ibm5WVlW7evAXDMI1G4+bm+uO+falzkt3d3UtKS3Acz8zMfPvtt+7fb/Dx8Y6Kjpo7N7Wp4f7I8OCWTVl9vT1trS32tjY0rZWSUOA0mEDjAiPhDRJeayfFtIPd5kD76XuvIoE3IzEScjgSuz7/L3CIADIYDBBCjuN+O/rwX9Lw+RmiNvxl40AChCwCLMdIHRwcoyMTkpPmrlmxaOPahRufWLFlw4ItW30WpJt5+rACQHIFQBiAEJdJaI2OIEmZTFZdffvYseMBgYGZmZlff7Vrw/r14RERXl5e/v7+33zzzeHDh9euXRsQECBWDkVHwJCQEIlEwjCMIAgi1c/R0fGnn37q7OwUBEGv13d3dy9YsMDX11cQBIVCIQjC2bNnU1NTAQCNjY1BQUHj4+NSqdSUEwmCyflLIqEghplKwASmtJZb2lg7eTp5BMssXSxdQyRyWx430wHIYASEEhxgmIBM9pOYSe1lhq4l8ML5cxcQxJZlZjIG2sbGJiAgYHJy8tatWyY5Ihe5XM6y7N27d4OCgry8vH6JRzjTcfHiRQcHh8TERJF0/80339TU1JSXl6elpS1atMjLy6uhoWHBggUsy3V0dPQ/7L9169abb70Z4O9L05zSQkZiEsADlmMFgfawswrzdk1NCJ+XELMgKW5BUpS3i7WTUq7WacwIAgEegwgDj2ywhV/czoRHGnx/F4yJ6uQmhjr6J4PDX/oD2C+m6xCwvMHK3TXc3/9K3jUe4hySQMqMpyg9gasxpCIlKgk5gED92OjG11+J2vY0DwWJg31gWPD5nBwDw8VHx+ddzV+7di0C2KlTJ729vfOvXmVYduWqFYyBkcgkOIk31DfyHDc5OZGYmGjvYM/SrEFPIx5wDIsRmKOdQ21d3bx586oqq1xcXGIT4vfu2RsaGNzU0HTz1q2WlpasrKy58+clzkq8cOFCbEIc4oHWNIyK47jJll1GyM0YA0uQZEpyknFl3izCSQWlcDYgmQFJaSQfmhJulTdX3un+w1tfuAYkcrwZLrUOCo05dy63t2ewt7srPi7ay8ezu7vr8OHD69evr6urnb9w4VdffBkbG7t169b9+/d7eLjHxcbp9XoPD4/a2tqzZ8/8+c+f5uTk3L9fv37jppo7d0+ePDk/LW3Llq0192rnJM9Zv2HD/PlpixYvBIgReB6HpJuju49vUEFRyYhKK5ErNCyuZzAtQzLQsrZ59ML1mswNv1uweivArBmBQkgCeN7N06vlwYPr16/7+PgODgxEREWFh4evWrVqw4asgaHB5DnJZWXlFy5cyM7OPnPmTFlZ2fbt28XRgampqY8++uiNN95gGObixYubN29uamq6fPkySZIbN25UKBRBIYHvf7BToVQ8tvZxC3MzCSVJmpN6u7a+orLByTlQw0nVnEzNmY9Mob5R5tL1u1Jrr6073kGWzgZGpqcJDspcnD0mJ6ZKiourKqvmzZs3NTW1du0Tr7766rJlS/v6+k0Or7erqirfeuvtlubm2rq6xYsX2djYMgzj7u7x0Z/+tGHDBhtr62PHj2dt2GDv6PDaa69PT2s+/uhjluciIyOuX7t65crlzz//M5CZIbl1YmKsTs/s+f6QvaOTRG5l4CgDMlNDyThNFN9u7x6iH9+4wzNmgYBZSUgHY5wklj9MG6ncUskZ9BiGOTo4BAQHO9jb79+/f2RkxM/Pz1wmxwkcCQIAwomTJ2pra7du3erh4/vzsaNWVsrIuDiEYyZSKK/X6XyDAiQ48f77H6Snp4fHROm1OnMLCzsnRwygwsLC6OgYrU63f//+qspKmqaffeaZhNmJ1jY2f/7k49GRoZd3vODoYJEYP+t2ZXndnQoLCgkGFYWxEkFP8TqK1yLN2GBbnbut2defvOPhgFnJMFzgJRgSe8zCo2Eb8HfDoUlkDYri0mKV699tWdgHH3zwK+z9Bv9m8kL4CyUfiqkFBhFBSiHEjLmGpRK3sZM4uUgcXQlHV2BuDUg5wAhEUqb5ac4YeRM4Arxao71x62ZkVJRUJu3r6xseHg4MCoqMjuI4TqFQ3Lp1a2xs7MUXX6yqqrp165aIXi4uLmNjYw8ePAgNDeU4jqKoqampnp6eioqKEydOLFiwYPv27YmJia2trVevXs3IyBD5cEFBQS0tLRMTE6mpqRcvXlQqlW5ubqIknQAF0XlZZPlyxmtCvBHqSIAoGpAcTvEA5xDBmmQ/CYCRABI8BgSeBwgiSECCA4BjOZ4D5RVVXd3dzz71DGG6sxiGHTlyZHR0dOfOnUuXLu3q6jp69GhnZ2dTU9OWLVt4np+enhY7cBiGVVRUqNXqVatWPXz4sLKysry8XGwoPv744yEhIRRFubu7X7p0iaIob2+vd999x9XVJWHWLDdXD4XCHEKMNyWoAgIIhySBMJM6rwxAcwLKSSh6w7GARwTOAtEYfcbj8DepoQBFb2zw98KhWHkXX6f/RLnm/29jNL8CISYGDGIvwbgooCAwCh/fufPSCivuTHICI5G3jU50TqsfCqAXcG0sTbs6b/ngnfCNa4FcCi0sjJEnKUlMTjl37nxxaamDo3NsbOz169f3/fBjW1v75bzL9nb2Ls4uEAISJ8tLy2tq7gUGBm7I2vDpp5+6urg5ODtAAbAcJ5FKDHpaYa1oa223tbO1trX96eABLy+v8YmJg4cOSmWy7S9tDwgKrKisjIyIVCgV92rr9Fqdm7e7IEAJJRHfVIQwnjU9EQgwUubqEzQnfVVt63BB6d2m9qGGzqH77WM8Zp+2cPOarW9JHcJYxoxFFgYO4Tg1f/6C3d9+3Xi/PjomeunixTeuF65cvTI7O3tkZIQiiZ6enrffesvG0fmLf/ts1apVbl5eOo1abmFRUlxsaWm5avXq8PDw/fv34wiePXvuk08+UU1OWimVnt6ex4+fUCotX331FQwiCCAmSBAgIW6mcHCPmbdkdEJf09DZ1jdZ3/qwpnl4TGvmG5b29O/f9QxLAkAq8IQgYJA3xugIw8PCwh40Nf75k0/nL1jg4+vb29u7YsXKhoaGnNyciIjI69cLX3nlFT8/v7a2NoqiYmJiKIpiWZam6Xv37mVkZCQmJpaUlNy4caOxsXH58uUSicTJySk5Ofnbb3dbKpUZGekBwcEC4CElI82tQ8PnuPlFn84rvNv28H7XWNcoPagGTn6RKzdvi52/HMg9ALTHCBuEKXFMbqB5Pz+f29XVV69dVakmtz37nF6n0+t1Xl5e+/b9NTIyoqam9tVXXzURUeq6u7s3bX5Sp9XJzOQ6re7smTNPbn5y1qzEkydPVFVVt7W2WllZv/jCC6UlpQvS51dVlB88eODLL79U2jtxGj3HaiCCvn5hmY9tuFvfVV7TfadpsG9K6BxVTdLEklVPLczcqvSMBdCO5xU8J5aHhF80lgHHiQ03huEBABfO59ja2L3+xhvZ2Wcu5OS4urpZKpTnzp2nafqZZ7YhDONoZt++/dtf2oGASWzFiKkkEAQcYYXXr5sM2KekEsrN29M0qwf1Wl1xSfHRI0dsrG0GBwbWrXsiNTW14Pr12JiYt3e+nZqa+tjja0zDGIKcQCsXpfo4WfU33daP9VgSAkmrCf0kSau0Iz0vbdv0/hsbnS0AJQCJieqNiS0NE7CJEt4YQOjvO3/r/fvbruGvEm7/2T7xtxI1wowKjWlCG0KR7cGbOi2QFzDeRBOakUYRZgYXeZ7VaDAShxi6f/9+ampqRESEk5PT008//eGHH4qTMtnZ2a2trTt27FAqlZGRkWNjY7t27QoLC3NwcEhISMjLy7t3715kZGRZWdnw8HBpaemTTz65fv36Dz74gOM4g8Hw3nvvffLJJ4cOHdq6datUKhUEITU19ezZsz4+Pr/73e92794dERHBsuyjnEYcLwcM4AE0qeYIHBJIXuA5cXZ65g4hca4aGZ8YZ7KJAAIvMIDW6HQyCTU4NFxVXb3uiSd4ABiG1qo1eXl5LMs+9dRTYgI+13Q89thjkZGRN2/edHNz8/LyUqvVAID+/v5Lly7Nmzfv1q1blZWVlpaW27Ztk8lkHR0db7/99s6dOyMiImia3rlz58cffyw6OAYHB7e1dYyNjTk7Of5NLCOwGPfI6ERAUBBZOABixqtl/yPhmRk6KQDCv4wrfrPYxRvF/UoIN4KIMbHCEBEW+s657Il79WcOHCUcbUiOxijS0sXB1ttt4bPPAhkB5BLAcYIxysLEu/rWq28+//L24aFR1kDHxMRMT6vr6+t2vLTDycnxwIGDAQH+E5OT9+vvf/rZpxIJOTmheufdd/d8u8ff349hGAiRRq3heF4iITMzM48dP7Zk8WI/P/9PPvmEZdnQsLANGzZMTE6GhoS0trQePXrUmCPOm/vXfX+dnTwbYUi0Qvtt518AOA+lHGYNpO4L1764cvMfAKBnXk8WAwYMEJa6KUYg5QinSII0EZbpZ5/eunFD1rRadb++HsOw9PR0iqLOnMl+4YUXnnnmWQNtgAwdFBR05kz27JS5Mpm8r7tbrVbrdLq62loAgIODQ27uxW+//fbmzRsebu7XCwtT5829ceP6m2+/86Dxgb+/DxBw03LFoUQCgBlgNclLn07O3ACQHvA6UzBNAUgBSAgCAQEBAIkZN0BBgIhnWcgLTz277cCBgxdzc49mZVVXV6WmpqanLxjeObJp0yaFQvniiy8aDIaJiYmHDx/SNC0IAs/z3d3doiqNaLtx/fr1vLy8vr4+a2vrCxcu2NjYDA2OKBSKhsbW6Og4PYORSI4hCpNZegY7vff5bAAMM+uFZQWegTgOkBywMp6jOJbgAU4SEoQDvV67ICO9tLS0/2G/s7PT559/8eyz2ziOfeKJtW+++aadnUNmZiZCyNvb+9LFi/fr6kPCQqcmVTU1NQpLRW7uxaTZszMyMg4cOPj88893dHQgBMzN5TStv5x/OXHOrLEJlQeDeCg1RvIQsYjFMfT4s+8CUV0Bsbx2CMkUAMgNKkhCKx7ITPKTIknvPzgIAi8uLhkZGXl951tjg8OvvvlGb0fnd99939fXJ5PL/vL1X3AcI2TUV5/926ZNmzAJyRnoX+VdzGTXLl9pbW354MM/1tXW5l7MnZ6etrW17e7uam5usVJaOTk6rVixYu3atbt27dq+ffv09PSePXtEZwKtQW8i1fAYYEkMLZ+f8NiipK7egcbO/q6+AQsLi4iICA9Xm0edGoABHpsJxOHfsAH/R/cxU3b4f90lxAwCPiKfmgBZEE+RDoLNFHAFiPEACqaJBMhzkOOQwJtOhCGa5err7yuVyoaGhrS0tJycnOeee66srEycER0aGtqwYYOVlZVWqyUIgqKotLQ0kiRv3LgxNTVlb2//wQcfWFpatre3+/j4ZGVl2dvbi7zD5ubmyMhIvV4fGxv7/vvvm3Ry4wmCUCqVcrn8woUL8+fPr6mpUavVohm92P0zdYZMIjo8xgGMN+IHZmoyI9MFYmDGJHMmGceh8Sk84p0ghOMcxx88cGhO0hx//0CeZTs7uy6cP09R1GOPPSb22MTj2rVrAQEBzzzzzN27d1taWlpbWxUKxfT09EcffeTu7t7W1mZpaZmVlRUVFaXRaORyuZWVlTiC5Wg6xsfHL1261NbW9vXXX+fn5wcFBTY1NoWEhCAciU8GAzwUGBxwBC/gPMR5DOMJjEeYgHDTaYybBIge5YACnFk6M6ki/DXw+Uezun+a7PBvlFsf3RWxqMSbZMwE02Q9D3mZt1vUymWznnwiYdPa+Kc3hGem+0SEMCRCcimPIGv8JOQxZGoogIfDQyzLMTT7w/ffv/bKqzdv3CQIYvGSxZSESp2XUlxUnH8lPyEhfkqlEgTg5OpIkZRWqy0oKEhKSWIMNEmSMplUp9WbJv1+zs4+Ex4RPjc1dXJyUnR3sbW15XkhIir8RmGh3qCPS4hVTaq6Orrc3dzEmJXnjXCIMAARj4xBKsvzHEQMjlGQlwFOBniTSC+U6hlEUEpCqkAYbgygTTeDo9mjR49ERoTq9fre/t558+fZOzp+/913VlbW/v4BFhbm3d09p06devHF30ulss62Vg8P95ycHBcX58nJyYsXLzo6OmRlZZ04ccLezo4XBE8vz7Hxsf37f1qxYsWUahICwdfHF4Jfp5wBRNPTOomFLcsjiOQAtwSYcprBWSQDhBxhMsEIiia1AwFhOGbQ6RCG8i5ftLO1IUhyZGTI2dklOjr64sW8hsam0NAwJyeniYkJkXr/zDPP7Nu3b86cOd3d3T09PZ6enidOnBgeHn7qqaempqbKy8tFP5zExMS9e7/3cPfu7xtwcnINCQ2naR4i3PjuA5znkYGFPKA4geI4EhHmEDPjBIqlMY7HBWMuTkCIQYjrtDozmfzGzesT4xMymWxocJjj2LS0tJKSkry8vNDQUFsbu4HBgRs3bjA0/YdXXjl16lRIcAhFURcv5mZtyPr++++Hh4a2bNkyMT5xraAgfcGChw/7o6Kj/vzpJ4GBfrNmJebl5aWlp+Fyc4hjyIi+EgBxlgMIJyA0pU+EhcDJpqeQnpVgMiULCX5GVlD4Rd3zt+/pyMjoocOHP/jwj7ROL5FI9FqdWq2hadrT08PP16++vn50bGyw/yGG4bOTZhM4yRjoX7a4xvr7V/KvfPinj4ywIPBtrW0FBQV37tzx9/fbsHlTwuxEuVR27tzZiIhwc3OzoqKi1rY2MzOzp55+empqCiNwU43AtMcSBIERDMsACAJ8vWeHB8f4e1krZAgAOQAkECXdTcoX4kz7I9AB4H8PDv+PZFH427lTQRw4EEysFzAzoIc4IwpCXkAcRAJv4uZLpbJvvtkdEBBAUdTY2JhcLk9LS4uNjX3qqae6urr++Mc/UhSlVqvNzMzEvpparXZyckpMTGxubv7iiy/c3NzOnj0rujsZDAaRkmFnZ3f+/Hk/Pz8AgGiFODAw0NLSEhERQZKktbX16Ohoe3t7VlbWrl27Fi5cKBb6xJqpWBaHxsyWM8nj8QjQpMAQAkOYJOF/Ef6DACLjQxOJUGBKrVbKLI4cO2ZjY5uenk4grLbOGBNFR0YtXLiQN0b0EtFcm+O4o0ePPv744waDISIiIioq6vDhw+fOndu7d69CoXjppZcyMzN9fX1FMXVxiIZhGDc3N09Pz7t37w4MDOTm5orm+N3d3T4+PiqVqrGpwcvb01JpKQicqWLAPaqCiukN8ah+AB8lwvA3Quzgl6XzLzj8LxqK0KRlLAAMIQwjBRxjTZGSgdYCgYGIZ2gdw9KCVAKkFIth7AzlCxl/mmQyjh476e7uMToyun7dE0eOHAGC8MKLL4yPjZspzE6d+BkA4f0P3rexsWlqetDX29fW0kpJpfFx8fX19+/eqYmfFY/h2NDg8KlTJ9vb2xUKi4AA/5TUVG9v79jY2P7+/itX8pevzDToDSRF2tnZFxcVe7i5BwcHFxYWRkREQAh43gh+GA5Na5YFgMNwnGVphmYoiYLnpQKUCAjnMZzhkABJ1bSeosw5njMx6oxrR6vR/PTTTz7e3g729sXFxU8/9wKA4It/+ywpaY6Fhfm2F14cHx05ffr0xMTksmXLysrLPT09z58/39XVHR0V1dvXt+OlHWbmxqOvv7+0tHT+/AXNzc3t7W2ffPLnTz/9c0pKsru7u8lElTO9laY9gqAAhgSM0kNCxxM6AYeEDMPkODDDgJThOAjEmj9CuIl5xXEHDhwgcDwjI2Pvd98tXbrMzs7u+LHjCkvLwMDATZs2xcTE7NmzZ3R01NfXVzTtunr16uHDh9esWdPc3PzOO++4uLiYm5s3NzePjIzY29vLZGY/7T+4ffuOzs4ea2tbDOEeHq4mQhJgOd6kj49TuBJHckYAJDLjASkIGAS4aX/AISCggIn+PDxk6+/XtTS3PPnkkzu2v7Rjxw4nF5cbhYXT02pzc7OXX34lJTX1Sl5eUXGxqAmAYejevXulpWUAQkdHx1kJCcHBwbY2th2dnQUFBRRFRcdE7979zfbt26urqiRSKiAwQC6TzShQmTAYwyQsACzLAUAiKIdISVKWEsqSBhhvugQABWTc5cD/CYdfffX1tmeflZlIbiRJFhUV3b5zOzwsPGPpkgA/PwsLi96enj179hq/2KxZAs8ZfgOHhw4devPNN5sfNOVfyXvQ9MDS0nL+/PnOLs6hIaEWSsvRgSF3H6/7tfUQof7+/q+//vr537/Q39/n5e1tYWEh1m0F8csgwLAMhpBSZs5ytKk8A4HA46aqLDSGpKzxU49YE/A3sPS/C4d/Ezw/KjciwOv1gt5gXAk0AxgO8BwQGA7QkACYhKBZLUkSAAKGYXCcKCou4nius7NrTkry7Tt3Hl+7FieID95/f9myZXFxcRUVFeLSZFmWIAhjoEUQNTU1hw4dsrOz27FjR3p6uqen50cffdTd3S2VSr29vUXjJAzDysvLY2NjxUajVqsV7QPNzMzs7e1N5ZpcVxd3eweH0tISUdf7Ec+EF2gt4LV69aiZFBAYJLgxjNAjZgpBBrFazqABPEtiBI5LAM8jjBAAmlarbRTWF/Jy+vsebt36FAlRUXFRZUXF2ieeCAwI0Ov14iVgGCaVSrOzs6Ojo4OCgiiKunbtWnZ2dkZGRllZWUJCwrp164qLi6VSqYODg2gsIl6OIAg6nc7a2rq6unrXrl0ZGRmLFy82MzPLycmJjo6ura318fXq7ukK8PeDphQEIpIHkAWIx0kW4SyCLAKcSWLH1BYFOC4q4c4Mz0D4a6vs74fD31Jz/h1N558PDsWrQwBCk3CfSenadKcRYlgWYjgmkRiDDYghnJjxiQYQhxgQEDKVTCBOqKanmx40YwiTy8zT5s0vKSpSWFq2t3ckJMZ/8vGnvMCv27AewzErK+vQsDBbezs9bai5d6+quip+VkJfX9/gw4HysvKi4mJ7e/uwsPAFCxbo9fp79+6FhYaSpCRlbvK5c+d7e/pmzUqkacbOwVar1ly6dDktPW1ibPLOnbsx8dEszcot5EAwAiGAJnsAZExyMJzAkFQQcABN2rUQcAABjCQpc44TKFLG8yyBkxCA8rLyrq7uxIR4O3u7gcFBqYQoLS52dnZesGBBX19fRHhYi0klx8xM3tnZVV9f//PPPwuCkJWVlZKS0t/fb2NjY23vNDz4cGJiQq/XnT171t/fPz09vba2Ljw8oq6u3vgBa2uWo3GSZHmOF5WSAOKQybwaSTAkQZA00DTDsxCJtGzT+hUQwknAsSrVdEVFpbu7p1QqBxAaDHR3d9eD5qZnnn3mwoXzq1atFosxUVFRbW1t3d3dBw8eBACsWbMmISEhNDQ0Pz8/ODh4YmJCrVYHBgbu27dvYGDwpZd2nDr589atT/3www+enh7+/j4mFjdn0pHFIEI84ATj8sBoluPEhWFcChgyBtimeAghksLvN9afOXNm6ZIl/f398+bOq62tFXj+ypUr77773sjIiKenl0atRhAuWrjwQXNzlxHzrufl5f3uuedmz57t4uJy79692Ph4S0vLutraOcnJu77+mmWYzOWZ09PTBElqNZrh4ZGwsHDhETXA9DILPG8yPAI4FHAITZmiQAiIMBW2RKEa009TRgBJiXFdkMRnn3wWFBwUnzSbNdASM9m5s2f7+/vXPbHO3cdLoBm1WmNvb6fXG8zM5D6+vtnZ2dPT035+fpS5nEBo37593d3dra0tBoMhKCg4NjY2Li7WxdPdztrm9OmfmxubZs2erVZNxc+a9fKOHSRJbtu2rai4eHbi7JqamqjoKBMWCgBBDCFB4MSwguVZ4zUgzPikTZMeJqovj0xaoNjMJvaoEWDCpn/U/ve/mjv9xzYM01C6Vo0MWmPaqtODyWkwMgHGpsCYCjMYt2eg1coghvEs4jgMCiRB5ObmEjjh7e2dk5Pz2GOrSZL85pu/ODo6rlmzJiUlRS6X79mzZ3JyUuy6lZWV7dq1a2BgYPXq1ZmZmXZ2dra2tosWLRIzrcHBwXfffff27dsQwpSUFCsrqwcPHkgkEmdn566ursTERJGh0djYaG1tvXXr1oOHDvr4+PT09PwS+ut104DV4xIBYyctFNx49+2/fvH8j59tP/jRswc+e+Hg5y9XFJwgSZ0EaCGvA7T6F9N4awurmoba5paWZ599Wq/Xnzl3tqKi4snNm52dnA0Gwy+zlwRBdHZ2Dg4OBgYG/uUvf3nrrbdGRkYee+yx8fHxzMzMDz/8MDExMSws7Pr1619//fXw8LBxRZusdEmSNDMzy83NZVn23Llz3d3dBQUFDg4Omzdvzs/PDwkJIQmqva3ToKMFAarVBhwBhGMMgXMI6hGYxkwnAmrMCIrTAlBxJtuFGcD7V4vwH0x/jfE0BgQc8JjAIRwROCIQCyGHIR7HOBzyOBJwxIv/QCwrsCyHQ/zq1asJCfEdnZ3h4WGnz2Q/vm7tjh07pqamVqxYZe9gv379eplUhhDS6XUMwzjYO6SkzFm9anXS7KSCawXXrl0zFUukT6xduy5rnYeHO03ToWFhPd09FRUVyDQP8dZbb+3fv//AwQM4hvGMkJiY6OnpcfzI8cTZiTqdtrmxWWYu4xiDyQpOdK7gjfkNDwUeYziWBwwPDDwwQMiRGE5iuMmrgxcAi2O4SVaevHTpsqurq529XWlp2XvvvXf69Onnn3/+ySc35efnp6enswzT1dXF81zmqsdDQ0OLTMfcuXPj4+IIqXzNmjU5OTkAAKXSys7OLjU1tb7+fnp6+qxZs+rq6hwdHSorK1UqFYbjOEHwJgkSHvEc4Die5lmGow0sqxFYLSYYZAQyJ0gSQhwhOFOymdGXPXXqlEqlSkmZW1JcbPL7pd54442oqCi1Rh0SEgIhbG5unp6ezsjIELkWXV1dgiCsWbPGwsLC09Ozra1Np9P5+Ph4eHg4OTlxHBcXFxOfEB0SGlR3/66NraWFQmYwGHiBRsZ3yHiiRycGWBLyEkwgcQwnCPgoPTGRkoFeR7e3t4+MjPj6+ra1ta1evTojIyM9PT0uLt4k36q0tbVlGKa4pDhuVsKihQs5nv/551OOjg4LFmY4mfwCLSwsykpLKZnU3sE+KChIKpXiBLFw4aKenm4Pd/f29vamxkZgcvoz5UoQchzieRIgYkYsQrxDRgjHTT0sUxtL7GTNHIxWzzDM2VOnXVxcMjIyBJphWfb73XvGRkezsrLMFQr9tBpCZKFUTkxMFlwvmDt33rz0BVu3bsVx4qOP/rT/+x+/3bPn/IULy5cvz8zMnDcvLSI62tbODmK4QDMEST755Ob29vbsn382s7D48YfvMzIyOI4NCQlRKBRd3d0TE+OTk5MI+xV6kChdCxCCGGYyGBAEXvgbVjQy+ccg8I9b8fxPZof8b5ryIrsHTIwAzTRASF11++QfP8n9+pvLu/ZWHD157adjdZevwbFJFytrIKOMuC3wCCdListHhkc4lsdwIj4hIdDf/4svv3B1c3ty0yYIoV6vDwkJcXZ23rVrV19f3/nz54eGhjZt2iSSCMUeuDjNGBkZaXqdHFeuXFlaWnrs2DFnZ2fRCiM5OVmn0/n7+x84cCArK8vJyen7778nSCw4OEQioc6fOz9/flpBQUFoaCjHMwQu6HXjBNRoxttO7/v09MF/iw+y93aE1tSUmyPpaCNrbrz3zWefuzo4Onr7AAMHJGYQEgaGGRgePHHq2IoVy+1sbX7ct29sdHzHjh0SCaXWqC0tFBRFid+WYZjdu3f39fX19/cvWLAgIyMjMjJyenr6/Pnza9assbS0hBC6ubmFh4fb2NhkZ2ffuHEjKCiIIAgcxw8fPlxdXf3qq69aWFgEBgaKZmyi3EZnZ2d3d7e1pXV5ScXsxDksInUIaBBoG9bvP3v5i78e+fLHI/tP5v50IufA8Zy8m3fcvEItrGXTGiCTiC6Oj8IpQWwHC/C/USz9Z80Of0vAMHnHoJlXkeZw416DICdAzpiuwJnSqEki0tSjI0kJx7Fqvaa/v//82Qvz583v6+8jCTwlOUVC4gMPB69evSpSaBBCHMsJgoBmrBUhgZMVFRVdXV3Lly+XSqUlxcXz58+HgvGvcgu5hJJAAJtbWoKDgzmWAwDIZTKe58vLyz09vSwtLb29vW8VFZEE6ebu3tPd7efvNzQ4YGEmRSKvFAoYwqZVGoZmZTKJAKYgUkOkRYBBgDP+mTd1EAAvcALHC2Njo9lnT0dGhN8ovPHKK6801NVzHNfe0REfH19fX79k+ar7dbVardbb26u0uKisrCw+Pl4ikTQ2NqqmVDiCnr6+1ZWVwYH+bm6uV69eq66+7e3tXVt7LzFxtoODw7XrN5ycXcYnJv38fWRyuQAFTqB5xCLEYoghESvBGSliJYglBAMOOcTRBrWaMKY7IiMUIpzkOO5ibo6tre3Q4HBISIiHl1djY8Pg4NDcuXOLS0oef/xxDMNbW1s9PT07OjqOHTtmUgdV2draHjlyxNXVVVRDFK2UOjo6vvrqqzSTiWNERER0dORf//rjnOSE87lnQoJ9ra3kCNIQMBDSkDdAgYa8Hgk0QizkDYDWcIweCoKJ1osBiGMEgjj21x9/sLe3HhoaTk9Pd3ZxL7xeMD09bWdnB4Dg6enp5ORy9OjRLZu3tDS3HDx40NPDY936dWfOnK2vq+NY1tfXd2BgQDWlCgwKslJa/elPf8xIyygrLXNzdVm2ZNmZc9keHu4PB/r9vL2trJTGzITTAZ4GPCNWxaHopsAyQG8QDAYoQBxgphEPkzWZMLO0MYqquXOnra3j8cfXUlLJ9PT0kSNHvb2916x5HMcxnucIHNdoNKSMupafLwggbcECg1YnKoLdv19/7dq1ouKiV/7wyty5cx1cnWVyM4FleJ43tRUFymSBnr5kcWd7x8s7dkRFRj355JMTE+P9/X2eXl7tbW0J8Qk9fb3unh7Co6kUUYl7RlIeIt646ZsQHIqqymIaKMrQ/Mp/ENVE/reKpb+ZP5yx0hM4wLPGXzU3H37n/cN//kw5rbHR0naMIFFNKzhuqr/nQXXljSuXIvx9pUolICVIQv2w5wf1tC4iKgoCkJiY+N6HH0RHRy9ZssSg14ua4iLvQvT4feONN1atWiWRSBBCom++Xq8XdT7FIuqdO3eCgoLmzJkTGxtbUFDQ0tIyMDDAssbQw8LC4vTp0yEhId7e3iEhIefPncMwPCUleXR0rK+v12DQkRLM2ckaIYYQ1CPdd4/s/VgKBlYvjnexEcwxjdKMNpdykNY4WCviI6NKCgvb79WEJCcBWg9IGUPrDx05Fp+Y4ODouPsv3/j6+m7dvIXneBInEEK4Kb1ra2sbHh5+7733tFrtp59+mpKSIlIhRZwTqzSi/4DIG7GysoqIiLC3tz958mR7e3txcfHo6OhHH32k0+koipLL5cHBwRUVFR0dHUuXLr1165aDvdPI6Hh/3+D8JekqGqghuFTevHnHG1UPuliZFU/ZAJkNoqyh1HpwTHPo1LnuEX1kTIhCaioy/DL19KvT7a/zh/+Cw/+YoyQI4kw5NNDGt5HngZ4FrABmki6T0jCEAmbKwjiO47nqyoqB/j5XV1eWYZoeNK9evRpD6NTP2aqJyb3ffVtRXnnt6rWwsDALhRlmXDXY4NBgTc29I0ePuLm5PfPM066urvPT09TT6m+++aa1tcXVzW1KNUXr6aDQoNM/n5ZSlLOTs0JpMTk+Oa1Wz05MPHMm22R7YmNrZ3vy1MnVq1YVFxebm8mdHBwwXBB4Fpka4MODD23tLKUUHB9sHR9s0Ex0qie61WP9PK3BeEZCyXCcRAJgaFpCUTdv3ejo6IiNjXN2cAgODt67Z094eHhQcPChQwdDQ0NjYqIOHTzY2to6PDwil8vXrl176dKlXbt2MQwjpaQNjY09XZ0hIaE5OTkJs2d/+MEHGRkZmzZtOn06WxCEuLjYjs4uQQDV1dURURE2tlbICId6CBkEtbig6e+o041260a7dKM96rEeGaKhhMCN1zBT8+MFgHB8eGhw/1//OicpaWh4eOPWrXv37DZ+w6Cg3Nzcqempxx5bff9+Y3V19cjISGNj4+uvv3758mVxBE+hUKhUqqqqqtDQ0DNnzixevPjKlSsSieS1116rrq6+evXq/Pnz5XLp1Wv5KtVESLC/m4sthAYINRCo+1vu6ca6NONd6vFuzVgvYlQEBZGMggJjip0wjocYhtfcqz954mhYeIilpTIxMfHs6eypqSnxP1KpVAsXLlJYKvd++625hfndu3d27nwn/+rVqKiop556amhoSCaTFRRc8/Xza2ps9PPxraisKL5VtOuLr7q7um5XV0dGRfY97KcoaWNzE0Wg0IggwGkApwaCeqL7PjPRw453MxO9E/3N0DBJSnAol0HIQXGMxiRa88hVEo4MDl/IyVm6ZJm9i0NPZ9df/vJ1RkZ60pxkAKFGraEoKW2gZTJZX09vY1PT6lWrR4aHOzo7srOzu7o6U1JSp6am/vzJJxqN+tSpU4DnCRyXSo3xmcFgwDAMp0hSSvV2dBYW3uA4LiQkOCA02D8gMP9KnoOTk9xMXlhYqLS0tLW1NZfLOQHwEOMgxiLEQEQbT8hAJJ4mYxMjDJpqNSan398Uun47D/H/Hvg+0mR+RMP/4P8m0saDGZlGkZ3ACVoVpGlwp37v9tcGyivj7OyUU1PWOoM1K1gjKEe0FSkoCJ7kDbk559ydna39AntaO6uqajge0DSzdevWP338UXxCwvJlmTTLGG+9VlNdVXX79u0HDx5s27btueee+/LLLwmCcHFxoSiK53mRMSqy72madnV11Wq1lZWVomzmrFmzoqKiRkdHL168KDaxg4KCLl++PGvWLAhhfHzc6dPZarV22dJl5RVl0+pxgHReHrZTA530RO/ZA59F+JgFe0gJfkgwTABeBXkNYLUUYCSAk2NCiK9nZWnRSFerX2wQAIaDPx13cPYIDA0+eOjQvJTktNR5ggAIXAIBGBwYuHPnzr17927evAkhtLS0fPzxx93c3Kanp41IiePnzp2TyWTLli0TmfgirovlDL1e7+rqGhIScuzYsb6+voiICHGgBiE0NTWFEAoICCguLq6srNy+ffupUydphtNzUM1iLmEeXxy89OWBk1InPzOnAEZiqwMWLKZkMSsOU5jZONm5e99ubKy8czcpNlEpAyQCHMNjphrLLykh+Ec0S+HfcfzzQOFMcQkCjgWCAHBM3/RgoLSyr6xi4Hb10L1a+mG/nOURywELC4bRAwonMUJAXFd7x+WLl2Kioqur72zZutna1vrzz7+USaUbs7I4lo+OiWxv72hva3dyclZNqcrLy4uKihiaeeH5F7y9vQUBYBg2NjKWEB8/ODRkKjPW379/32AwaNSaxYsWXc7LCwsLE3uZXZ1ds5OS9Hp9cUmJk5Ojl4+njZV1Tm5uUFDQyMiQrY1SJiUEjoGkhKX1CqW0v72mq+HWtXM/VNw42d1wq6rwbEd9cW/LvfGHvTgHFJZKw5RaYmkFobDjDy+7ubvX3L37+pvvfPnpZxmLFuIE4eDgYJIVZGkDfevWLQsLi23btkXFxZ3Nzg4PD/PyCxodHuzt69u2bVtXV1dubk5bW6vC3MLT04OSSNzd3SGE95vqeQATZ825evVa/0C/j5+nn6/PuHqQxKAEMfdv3yjKP1V44af7FZeayvPqKvJu38kf6m8xjAw72tsDAvHaaSSR8gJCAjh69GhNzV0MQy9tf+nUiRM0wyxcuOjevXtubq6TKpW5uXlpadmlS5e2bdu2evXq5uZmnU5nzLYhbGxsXLZsmZub26lTp6ampsTt28PDA8fx3t7e5OTknJycmJh4g57VTmk72lsS4yNIGdVYf7WuPPdu/snmyst3S8/fKc2tvX2tr6NONdhJ0lPmZlJOzyBSzgu4gRbu1tQ0NNQqzOWPrV7T291bX1+/bNmy8vKKpUuX1tTUhIaGXLtWUFdfn5SUtGHjxorycr1OlzRnDkVRFRUVS5Ys8fLyqiivKCouNtB0f09/kH+gt4+PlcKyt6+nq7tjw8b1V65dUWvVBsN0SmIUpEdVw40PqnPL8g9V5B9qKD5bcuVkw93LnR01I+ODCLJKZ3uDZpKXEDwyaYBgUp5lBAA/+/TfZiXOio6LLSq8dejgoY0bn4yIjQYcT9M0z/Msy0jNzQCGTp/6ube319zc7OTJkziOP/X003GxcadPn543b254TLSdtW1a2vw7d+42tzRPTakQwhxcnXGSoDW6ivJyUUHlpZdfvlFYeLf6dkxMTFhoyPlz540pDkXQOr2TlbWVvR2OEMNDNQsMGLjTPFzTPnivfaL0fm9JTfvgJM1wmJ0VZQ4hxzI8a2olIsTPGCzNcMb+n+HwP/Qt/0+KpYIo5DXTYOQZyDCg7+Gh19+ZrKkNtlQ4Y0immrKgGRnLyTiWAjQlsBTgCABwjMi5dDk1KbWk4va16zfdPb3Xbdiwd+9esXjIcNy0RlN4/XpnZ8foyOiqVavS0tLEmdKkpKRLly6J9mkYhv32G4uEKm9v746Ojq6urtDQUPE3MTExer2+qalJpVINDw9fuXJl/fr1EomE49mkpDnXCwpVU6q1ax/Pu5IzPNrr5+7g7O38w59eDvWWedoDiTBEgQkcaDGgh0iPA5oQaONPyEJAJyRE5V29GBro3/igo29Q5+Ufdu782czly0ODg3mOl5Lyto7269cKenp6BgYGbG1tN27cSNP08PDwokWLAAAMw2AYVl1d3dbWlpWV9YvUp5gd8rxx8YnSOSdPnpw9e/Zrr702PDxcXV3d29s7MDAQFBREkiTLsgkJCTdv3mxqalq9enVNXX3/yKQgU9Iyx0+/+4mw86Cl1jpkpmEljCBlkBkLZSygDDw0QMHO3WVgoK+5tmZeUgJj4EkSYmKtQfhFWeGfMav771dKja8aBzEE1JOANoCR4fOff35p34+5e7/vKi3rq7lblnOxKv9abWlpb2uLr4sT5WDD6bQYgVSTE9k//xwaElxXX58yNzU6MvrHv+5jGPbl7b/nWB5hCAIUHBxcWVX5xz/+sb+/39zcfP369dFR0X/LAyMwDPf08Dh48OBrb74WHRXd3NLS0tLK81xNTY1cbubl5WVtZ9XV2TU4OLRo6SKBE3Jzc83NzCOiI7o6uihKMjwybGdrrbRVGhMXjMT4ycY713NP7q0tOZMW5zE3xsvNGl8wK8jH0cLTQVlTXlx0/TpgGO/AUECS/X3dOZcvKq1ttm556sqFi/Z2dgvS55/6+ed58+adOXNGrzfs3r175cqVr731jl6r0arV2dnZTz/1tE6j9gsIqK6qmhgfX7JsWcbizO/2fHv06NEXXnihu7vL3t7+zp07L7z4++KiYjs7R3s7u7y8yxISzk6Jgqxmerjr2L4vi64cDXCm0hP8Yv3tY/wcIwKdgoIdx0d7b+Zf7WttDYsMgRaWtI7DJVKI8K++2mVvb+fn50dKqNvVt19/e+e1q1cCAwIbGhrMLMx3vrNTq9VduXLFysqK5/ljx45t3rwZQmhjY9PS0nLnzp3U1FSRypWZmbly5UrRvxPDMBcXFyulzYOmltjo2JsFV1nd5ILUyPLrx29ePSbnh1NDXaK8baLDncMDHIJ9nWnN6MhA952qcjcnZ3MXD4AoDJEIk9y9W3PvbvVja9ZISGlubu5bO99ta20ZGhp0cnKuNB1379ScPX/O3c1dq9YU3rgRGhLi5esj8IKlQnHq1KlVjz0WExtrbm6elbVhReaK8LCwopu35HK5h5e7o7PTpcu5yXOTmlsbW5tr58QHImFk9xdv9raVxofaZST6+zqbzY72iovz9vJxqrp7u6y8hGQ0HmGhLGNgASQxqcDoaZo+f+6cv3/AgvnpOedyr1zJ++rrr+1dHFSjY5RUiuE4SVEEJenv6rl2Jb+ioiIyKhLH8Kd/ty0kLGx6UnXixAlvb+/UBWmA5TEM43k+LCIiIiy8qqqqtbW1q6PDxdGpt7e3oKBg4cJF8UmJAMHwkNCioqKW5ubYxAQcoq7uLqWV1YVz55KSkmzt7KcMnAGh3kn+h+OX9v988Xhu4YUrZdUtD29W1+fm32pq7+7uHXV0cVMqKAI3TTP9IqUFH7Go4X9rlubvyw6NObbAQygSk40bOcuB0YnKY6fKj5+Kc3VGqlFSq5KzBinHSHiOMJ48IQgEL2A8tLK1Hx+frr5b39TSoWKYxStX1Tfcj4iOTEpK0up1J06eaO9ot7GyCg4OTklOFnXLpFIpQRASiWTWrFn19fU1NTXe3t6iLb6YSOE4znEcwzABAQH5+fmiuS6O42I61dDQkJKSIsrZ/Pjjj5aWln5+vgRBxMfHFReX3L5dnZqafCEn29qCsGSHux/cDPYyk8JRKZwggZoEBgQZCFkIWQwwEBpoTqNn1AZO7RMU+OGnexmkYJFVS1vvspXLgwL8CJyorCi/cvVaX28fhpC/v//SpUu9vLza2toKCwuXLl0ql8tFE/nJycns7OzNmzdTFPVbMXGe502TBERTU1NhYWF6evqcOXN0Op2fn19CQoIoxFpUVGQwGFxdXSmKioqK6ujo6O/vD4mILiy929A1kHOjRE+ayxw8dFCqFyQcknGIEiApAJJDOI8Qy3MGzmAmJ9tbaq2sFYEBHgaDniIxU98LzLAx/gWH/9HrYZLdYQA9DjEWNDUfevvt8mMnfBAeRFEuHOeB8AALCyeCBJOTD2ruNN+9qyRwuyB/QOJN92oKruQrLC09PDyTUlKOnTzu5e27aUOWWpSrNaUgx48fl8qk/v7+kxOTc+fOdXd3HZ+YEA3YZuBQggMBUhRlbW19/OjxOalz/Hz8g4ODm5qa5HL5zz+f8vX1cXByYGimr6/fw83d28fbytq6pKTEoDMsWrro5PFTTk5OTY11Qb6euBQC/UhT1dXvPn1lVqBy/cIoM2YQaPvNoZqbGqBYDa9RRQR5B/m6X8vPa2/vCYtPOHhg/4OWNg8PL2cn1+GBgSefeRpwnGpq6vz58zRNJyUlmYo0Ln4+3gqlcu+ePStXrnRwduY5FpdIZRRZWHgjIjxsePBhb29fSEiIIPAnT56MiokxV1hgCEtJmXcu+4xcJudoTW7O6a1bnqCA6ofP3iA0nRsyZ7kqODDdheuHMP2YYBgR4KSjnUVkSMj9+7X3au/6eHpLrewBKa+rqcvLyzMYDG+/vfPIkaOvv/46SRKVlVVTU6ri4hIfX5+kpKSmxgdz586VSCQlJSVWVlZi6CxKJ966dcvR0dHOzu7w4cOzZs0yEe9G9Hr9ihUrioqKVqxYWVf3QDU+EeDhUJBzbHqgXtV7b3aQbaSHEk0/BNohvWaIN0xyepW7k62/lxuJYZfyrrrYuygs7YBUMdA39KePPw4M8Hdxdmpubl28eDElIdVq9cDAYH5+vpeXt4ODPW1gQoKDldbW9fX1nZ0dK1ashAhp1BpXV5eBgQEJSSIEb1dXC4Lg5+t/725Nc2vrypUr6+rr5y+YNzw61NPXATC66X5pX1vF5ECtnZLNzIiR41O0eoiEOgi0HKfGMd7X18fH3e1m/sXxvu6A0FAckzA0h0ssy0pKurp71q5du3fvXp4XfvfcCwxDMwbGzEwOMRwAUHzr1s3CwoaGhiv5V7Zs3rJ4+TJ3F1fGQOMYXlJSrJpULVu2jDUYcIJAEgIBQBsMuFQSHBzi4uzMcdzhw4e++uqrnTt3enl5IQIXaEar1c7LWNDR2lZz+87CJUtGhoYGB4fcvT0v37rmExUqs1TW9I698NafLpfWmDv6kUpXmWOghYM3oXCycvaZUDNV9xqu3ihxdvNzdraQQhMrjmNNKiMzlHgM/M+Mlv5ncGiaHxVEvRMkwiHDcq2dP7z7gSvgZVMqC4GRMwaK5SQmKzjMZIVpYvLxPALTOpqQW3T2D9V1t81euGRoSrV0eWZMQsK33+6+kJsTFBzs7esTHxdvY2Wl0WhkMpk4U2owGER4i4mJaW1tLSsri42NFb8Px3EzYowmXPTz8zt9+rSfn5/I2BMN5YeGhpYuXerp6VlcXBwSEnLq1MmHDx+GhIRGhEe0tbU2tzT6BXjduHahp7F0XryvrTkjhZM4N0kIBtyI+7wo3YwDFpn0nFmeZhGrY1Bz92R3vz4mIePJZ563tLG6kHPh8sUcjuP9/PwjwqOS58xxdHSkaRrH8ZaWlpGRkeTk5OnpaRPDBP/888+zsrI8PDz+nc4nzxtjq/z8/JycnO3bt3t6etI0LWK5SBqJjo4mCKK3tzcvL0+pVDo5OQUEBPT397d19tq6BR4/ekYrVdh5B+lxcw1PcpicMrc20AIvkAIgeNMEs4HRS+QkhnGQVevVY3OS4qxlEhwKmCDMkHH/BYf/Fyw08dg5yOqZpgf7d/6xtaAozMrGlubw0REzrdYRxwidjqT1UgTMpdTY0MPy0luxgUGUo/N3X/9Fb6C9fXyTU+deLbjq6uaWPm+BgWbMZNT4+ER29pm29jZ3d/fExMTk5OTAgMCLuRdphgkKCvhl6G+mo8sLCCFHR4ehoaEbhTejo6NIKeHt5e3i6qqw+P+4e+/oqK5zfXjvfer0opFm1HvvgBBCAiSa6R0bgwH3hm9iO4md+MaOfR07iVNcru3EDVyotinGdAwIMEUCBALJQr2jrtFo6qn7W3OOwCQ3zk1+f3xr3Zw1a5YYBnHOPme/z1ufx/SHP/zhRveNsLCwmpoaAGB8YlxYWGhKcuqWLVt6b/QsXLTw2LHjgwO9yYkRFgvr7b2+c/MbufHaokw76W030l6J62eABwmjNAjQhIxxQMKBiZMKvzl1zmQ0f3uusq6h6aGHHy8/Uf4fjz9BEeSFCxe2bt1aX1///PPPp6WltbW1EQSSJMloMDQ2NpaWltIkQZKk1+2OjI2/fOkSy7KHDx9Zu3at3W63WCyTJhW98+c/i6LY3Nw8e848s9FUffkSAfhLFSenTs67eHqfr+fSvStLfCNNortDT3oYOMoAP4E8FM25Xf0R9rCc7Oym1paLV2oKpi+ESLd189aqquonn3xy48aNa9euczgciKK2bd36ySefrFmzeumyZR3tHZGRUefPny8rKysvL58wYYLaOxMIBBiGUSXYvvzyy4kTJy5ZsqS2tnbhwoWbNm2qq6urra1dvGhJampGxZlyZ09DV+M5ndSzbkmxHg8gb3eoVtaQPpbkCBggQIBCkndkKNQWYjSH7Dt0JCungNGb6+vb3n73Lw88cL/H483Ly8/MzKBp5u233/7mm2+ysjKf++ULFy9UZufknjt/bnJx8e5duwonFkbFRI+OuCRRZFlWq9Md2H+gs6sLEcSTTz3V29c/5447aJZ5/8MPBFGMiYubMq3kXEU5TXPXLh2TRrsmZdty08NG+q4z0E1ILh0LCOwnSQHKgZ7uLj1Dp8ZHf/vtKdZgDk9Kk0XKOeQ8dPjgyhV3vfXfb9vtkcuWrjBY9AQiGJaVZenM6dObN39ms4VERkTExsaQJLXsrpXu4RGe53QGY0P99WPfHHv44Yc5jlMn4mRBJFiFyTDAAYwNVnP58RMURd1///3lJ8urLl3KTMuAENE07fN48wrGN9U3HD50aPHiJZ3d3TUN9Q39XePLZroI7UNP/qeHMIbGZ7kExoM1HpHClN7DQ06CJK2ltUY/L5w+fTotOdkeblJkfEWSgLckef//gEOlWRfLNzlSJZ4nEOG8cGX/++8XRcfoA16W9xsRpESZxOogCJYUgW2JkEQEOJIEet0IL8s6gyYqYvm6tW63+9VXX8kbN272nDuKJxc77A6O4zDAGpa9ZYtVUFRzpOnp6Rjjd999NyMjQ6fT+f1+VQ0RY6x21lit1t///veFhYVarZbjuNzc3I8//jg9PT0qKgpjzPN8aek0XuDff++jqstVDzxwv9s9cubMqbb6Kz2NLZNzwy0awUDJkHcHsRwjgEkAGQQQgSFSOjFJitYazD6BhEykKTR15erHDxw5ufOrnWFhoTNKSyeOL0hJSjUZTerQPcMwTqfzvffee/LJJ1WyYITQn//8Z5WUzuv1qiOugUBAVbSgaXrv3r1Op3P9+vVms1ltMrx1dWoWIjIyMjExMSwsrKmpadu2bZGRkRMmTBj1S18dLg9JygpLSB6VCT/U8AQrIQ0vAIAJRTecDPpMBCIpKGIOS/4wi6b28vmi8flR9hAaYAKIY/pOCP+rcHiLrVRpxycEQfgh6r//o4cgCGoRGru9KCC/9+NfdJVXjguLMQRELccZCaQnMMEHSJFXGv9lv99ntVkQASurLsZGxH748eaMnKxJU6bs2L0rLz9/5ow7fD7fiHPkg/c/bGxszM7JnjNnTkJigioNbbWaMzIy33vvPZ8vkJKS7A/4g6EhTUiCdJPnAmRkZF69enVoeCg+Nq6nt9dsMmfnZLW2tubl5VMUefLkSY4LZGVlkwSp0Wtys3N6+/pGXa74+Hif11l58dTU6ROrjn0+2Fq5aFqGVuojhQGZ60OUlyQCNCEiJMtQFCEnkQEP542MSfriy68PHqtYumxZa3vPo48+EWIL/+bogZde+q877pidkpJaWlpaXV1NEMTatWv37dv32muv/eIXP2cYBmNlPhohLInjx4+7//4H1q9fn5U3vuZqdXNz84pVayrPn83Oyvp6/8HI8PCCggnOvhv9N9quX628fvU85LrvWTrB2X8V4oFQG8R4hCB8CHGQ4DF0aygY8Hh9Xk9aZualqprBPm9KfvHuL/Z4/JzP77/zrrvGFUyqqrq04fHHC4uKkhITy8rKzGbL9u3bf/rTnw0NDb300kv5+flTpkyBEHIcJwiCTqeLjIz89a9/HR0dvXz58o6OjiAELl4siqJPOTra2kpKJmUkRTXXnUL+jkfXlrFyjxE6tdCNxCEguiAeRdBHEgKWOQpCUeId4ZGDQ6MNLR1Z44v3fHW4vas3EOCzc3NLy6a3tba88sorTqdzxYoVmZmZDE25XK4Vd95lMpp+9MQTCfHxi5cuVZlENSzrdrsjIiJ279nd29O74YknNBrNpk0frV53jwxkjADHS9XVVWXTp2amRx88tF0LnJMzDCU5UZi7YdJwDHQziINyAOIAkHyyHNAwNJI5A01iiK81d0ZEJZpCE/74h//Ozx+/+bOt06fPmjVrts6iAxAM9vbv3bv3m2+OWCzm2bPvSEpKSkpOfu+9vzz00EO8nzMajaxW6xwe+sMf/rBu/Tp7ZARDMyyrgQATJBm88SRB0pTT6dyxbTtF0/fef3+UQkgZEmp77/336xsbU9NSaYYBspyVl1NTW3v06NFFixZd+q62bcR9rWPgky8O9HgwExLnxboAaRRJLUFQwR2ACICQEiQwOlYji/y5b4+vWDqbRkBDEBBzCGJligQgWfEf/1cF4L92ece8XoWfQa1eqXbsH8EhvplRowkCyPLA2YvfHTkeQ1Gs389IAiWJ1Jg4nDKQiBTxI4glBEWS8Muw3+MdX1o2Yd7ci/X11hDrqtWr88bnm0OsGCFO4GVRVGh3wBi/tjKioP7McRxN09HR0TExMV988YVOp4uNjeV5/hbhC03TDoeDYZhz587l5eUhhDweT2Zm5u7du4uKivr7++vq6ubPX2CzhUyeXGKxWN586w2L1VA0uaC3s8FI9RXmRLPII3MjNOQQkKA6zhLc0EG0QAAjggCIHBn1scZwgXAcOn7ZL+mSU7PvmDs3JyfHbrEzNAUAIctYPSWe57dt21ZQUJCenh4IBDQazcWLFwEA8+bNU28Ax3EIITWQxRhv3bp1ZGRk1apVJEmKNw9VtV/VRFSLi6qycXJyckpKytGjR0+dOjWppFREuh1fHw6LTfDIkCdYGTIYUljloFbUGIngbZWQ0h1O4wAj+rpb6hbMLMuKtCMgELKsJOAlDBH+F7tDFQYNYmBgoLu722g0qjyQ/059NARBqHaThWT1x9u/23skDmr1Hp9RlLWioJEFWhYoWVIGEpHSeYo1DIsB7uoZ+OLAUTbElpiV3tZzo2z27ILJk3q6bxw+fOTI4aNLly2dXDQ5MSlelr9fclEM3uLSaaVXq6vPnj2blZllMOokEYPbdi+iUEJ84smTJxmGiY+PV3Mk8fHxly5dXLp02cSJE/fs2fPJp5/Y7fYQi81iNScmJO7evZthGJoBZ88c4p3NAx1XCrPC9WgYiUNIdiEUIBBHQElpRQgiugwlGUkyJIym8GEX19R2wxoa+fBjT1KU5r/fesMeGpqYmOz3+8rKygiC2LJly2OPPUZp9M7BgQsXLy5YsNAaGiqJovLMs4iiv/z8C6PRGBUVFRcbHRkZWVtbY9RrMzIzBUHAAF65XHX18pVlC+e7h7o7mmo6W3vvX13iMHgIsYcivAzFQ9mLAI+AqBQvZAhFhYkXQURhzNZc6yoqLHvtjXcxoh988MHJJSXvvv3O4OBQWmaGxWIJsVoTEhJOnCyfOnVqZERUSEjIl19+WVRUlJSUpLZqq87c6dOnR0dHeZ4vLCyMjIzs6uqqra29++67z5w5s2jRouPHjh498FVaYpgUaNeRA/EOxIBBGo5S2IOADwLuJkelqHRsYgyRn+Oj4hIPHTubnjXhhZd+z2hMS5avKJhQuPHDDysqzs+cOWNgYCAmJnb69LLdu3c7HOHxCQkKgc6W2Li4iZMKvaNun8/HsqzOYGhpbj5y5Ghqakp8XLzFarWHO6qqqsLCwzCE8QlJvd03Thzbb7dpsjIiL53ds7Ak1Uy6SHmEIfwUDhCAQyC4YiB4bhIKescyF/Bbw6OqGrsFwnTpUsOw01d/vfEnT/8sOzsPIaqjpWvH1i+OHDly510ri4omZWRkGkMsQMZf7dnjcDjS09PGXHNJ+t1rv5s1c1ZeXh6BblV8gu67wPMQQPeo+8MPPqBo6t777+cCAUmSGIaJiIpKTkrW6XSffvJpb19fWFiY0WQalz/O6/V+8803qdn5VU03jlfUAMZmCo0LQAOPtDxSrJkyfSEq1JiIIJW5C4mAkmd4QPDxk8elCl4vSyIEoAwIDAEDwb/U4qcGHkjRerx48WJMTAxJkrcA8gfhMIj/N6ND5dIF58WrNUdPmHnJIMsagAlJRrKsnFYQFlVus7EmfkYjkgwPqaah4ZRpU+feuTI5LY0gCUwSvkDA6/erc5ay+s8V68/zvDqEEAgE1N5LjuOsVmtsbOyBAwesVqvD4VDrbbckAxMTE69evdrV1aUO3prN5paWFkEQJk2apOSR5Pj4RI2GjYgInzFjBkGAc+e+jQ43BlwNGSkWmvAQ0EMTgkJAohRkEQ8hFwyegARREFY4ASA2zCOZRwPaBcvuY7QWp3tU4Hmff9Q5PDQ66vX5/KIoQgj9fn9FRcWqVas8Ho9Op6uurj5w4MADDzyghlAURan6+AzDeDyet956C0L46KOPAgAYhqH++iBJklYOVd9R1Xo0Go0FBQU5OTnv/Pn9lq4BrTnEK0k8IgWCUhafUPmO0Jgyg0QANaXD0Thg1xAj7e3zS4vjIx0MkIhgGA/GpIwB/CEg/LvwpprjwcHBNWvWbNu2raSkxOFwqB/+2yCiKIrB8F2E5979yFfdEE+zugCvlTmNxGmD/p8kExAjAuLgiwAUAiQpkzKiBjhJYw8rnj2jaEaZ1mKqqKzY9/X+oomT7ll3jy3ExjAMF+BvX1iKJFmWZlkmLy+3prb2ctXl5KQUrY7F0vdw6HK6LCFmSZROHD+elp5uDjFzfk6j0dRdv97f35+dnUVR1LSpU90ez+FDh4aGhwmCmDt3bktra8DvHOxrrKo4lBypmZAR6RvpgJJbJDBEMq0qEgShkISK9rwyeUj6eYrRWtu6h6ZMX+DxwQMHjz3xxAZJknRavUJqYQ0NDWtpaZk8ucjncVcrE8DfffddUkKCwWhUvb1DBw50dXXdf//9GzduLC0tZfXGutqalpaWOfPm/+H3f1x+1yqaYu5ctuy1V1+aNim/q/U7Fg7MmZZrgIMscDOIJyWBATKBZUJGCnOsQhmHSYip0dEATZpMuqhz52t3HTi+ePldNpvt402b8vLyly1b2tPbW11dXThxYlRU9IcbP1q6ZClNM3v37k1LS2tqagIAxMbGjo6OGgyGzs7OTZs2rVixwufzcRxnt9shhD09PQkJCQ0NDSUlJX097b968dnyw1tPntiWEEM7wmQSulDQafaTgAvuGoX1SVZb7aGajwESpka8oKltaPe+MytX35uRlf3Rxo2ZGWkPP/zQd9/V6XR65WZlnz9/Pic7x2w011y75g8Ewh2O9ta2hMQEhmFphqmr/W7Hjh0vvfhidfXVUfdoenqGXq9/8+037lt3/+lz37qGPXqdZv7ssqbGSwcObBa9HXMmJGF3r5YWScARQR9CUh8sCUnyGFML4jieMto7/fD9LXtv9PgmTJj85JNPdXX2VF+59sknn4043UsWL124Yp7BZGBICiAEpKAp3rRp49q164wWC8SAZpjPd+xw2O0LFy8hGCpoKm9z6SBCXV1dr776ysoVK+ctXMD5A4q+LqJoGsuy0WiMiYstKy3zej379u3r7+0zmUz548bpdLr2nmG9I+3bi81WWxylD/NjSoCMFIz2gsgkQSQhQiZogJAgiTLGLEloCdDdVH/34pmkLDOEwpqpzBzKUvCk5X943F6rUukwKYoaHh7Oz89vbW1NT0+3Wq1q3PL34VAVzhirGqqfcAF/a8fJPbtNomgkCRpBWRApVepBGYiEQFJvggQRZliXIA5wgYwpU8LH53e4Rm709tQ2XG9oamppa21ta2tubm5raRkeGq6tqRkaGlKbRVtbW9Xp9Zqamr6+vv7+flUUKSIi4rXXXlOH3AcHB/v7+4eHh3t7e91ut8vl2rlzZ0hIiMvl6urqslgsb731VkpKSntHa3d3tySKN2709Pb0e30en8+bnJIERFdj9cnU+FAtIxm0JJR8CGNF3RdgheNMIeaCokyIkGZNYYNe2Nwn3hjBPlHT2NTd2NrW3XWjo6OlsbGxtuZ6T0+vx+Px+Xx//OMf09PT29vbR0ZG2tvb3377bZU69erVqxDC7u7uvr4+COG1a9c2bdrkcDgKCwtbWloGBwfVy+xTDvWH3t7e/v7+3t5elYK1qampt7e3paXF5XJBCBcvXhAZnfjlV3t1oaEjnChRWgnSSoIUjfGqKxVciDkyiHwCK3E6yc8N961aNC8xwkJhSABJQX9FF0UZa/0bH+qHgE0QBIZhVN9l69atFRUVaoybqDAQ/nsgIs/zKk0g4fZc+mQ719waTlI072NlgZFFBktIyQxiAAkZIYwQJLAMZRlIGo0TUeklxaFJse3DA0fLT4TZHY8/+kRwm0HkDwRUH1NNftzaUjwnKHKpvgnjJzQ0NHy97+vU1DS9Tvc9NksSx/FJKYldnd1Xq6+OHz+OYihCIQy7cPFCUmJSVlbmRx999Mgjj5ZMK6mrvX7w4MERlyshPr6t+XpstPH86fKcBENihDbg6mSQSCJEIoKU1bHnMYIPRecLSoDmJAowFucobmjpzxlffPc96zVaS0tL44hzJC4uLiEhYe/evU88+STAoKKiYmho8MEHHkQEcfz48fETJzIsW19XV19f/8jDD6tNQBcuXMjIygq3hzU1NWWkp/v8/uiYhKaGppLJRXcsnNNVdyXUTMqiK9ZOW5lRDR4lIU9gHsoiMda6F7ToSKagTAFAQUIDSHNPH3xv0242NGp80RSM8WOPPZaSktLV1YUQ0T/QHx0ZPTAwkJSclJyUNDg4pAz5zZkxY8bmzZuTk5NtNpsgCDt37ly6dGlOTk5mZuaXX35ZUFDgcDjq6urcbndZWVlFRQVJyNnZ8Rnjk1mhJzDaFh4CKeCBKAAxTwBe5cGXxybHlUQMpklCy4tMQDK+/8k+SJtnz13idI8+99xzWZkZkiSdPXs2OTkpOTmpq6tbo2ELJxWSDPP+X977+S9+HhoaWlFZybKa6NiYvt6+w4cPl5aVxSbEZ6Sl19bUxsbGGk3GsLDQzt7OqMiosNCI4YHBmIiQoukTY0PIwdbqKWnRsqdPQ0kE5gjlpJCMgh4EDD6linMMSVI3EoA6R1rHIMewYZOLZnR2dG/btt1isd23/qFJUydQkBF5iaQUY09ASRQ3btw4e/bs8PBwr8et0Wpqrl1rbGxcuHCh1qgHoixyPCJuYQI4e+7s0aNHV9+9Oi09zTk0bDCbSCroMSrZvuC73+cjCBQbHz9pYmFXd/fZs2dv3OgOC7N7eNjnRXXNvVqr3SdTAqEREC0iSkSkUihAMgyGWIigBDF4aQxBegb7Q3TsioUleoaEgEBqXhICSh3g/YfH7ZZNJQ4DABiNxhdffLGmpmbbtm0kSUZFRRmNRvIHpRPx2DuCwC8HNCwtm/U+HaMLMfiHhrAg0EBGBCKCMaaSPhoTlwRBFxQgkqawzDV3NgfqvostLk7LzHB7vT6BkxGUCegPBHQEHUShqCi1ufz2NhOdTjcwMHD9+vVbn69YsaK6unrr1q0PPfSQz+cTBMFsNqvRVcmUyf/18otr1qxR2Y8yMtLeffftuXPnbvp408DAQH7e+OGhkTC7zeUaBJCPsljiIrNcAzjWapflfgB0UPYTkhLiQlGRrEISQAJkRVLv8mK3RPd63T994bcafSEADI9JAGQE+eA7YL1eX2tb26lTpyZOnDhhwgSLxeL1ep9//vlVq1ZNnjz5+PHjkiSNjo76fL6wsLDt27dXVVU98sgjsiy3tLTcChTGONpvYonqy6j8peofMcZ6vd7lctXX1xvqGjGlHZedVNExQOocWFJ1CxSumZt0vUFvXyAkCZh1hpH+zoRoLefx7N399Uh7puDuJTE/liRFhHyT7uj29Po/gDQVLdra2np7ewEATqfzt7/97cGDB9evX79hwwbitn3yf5ebDSkVC97p5AkBsRIHPBqCJ7FIAplQReNkkVRyJzLAMlb4xUiIMGBISsuyw8PDotXwq1/9SpQlWRZpllG2n/bv52ZJGgCg1Wg5jlu7bk1DfdPGjRuXLlqSlZspciJChE6rVfQlpBUrlr/51lt7dn21ZNlir8+Xm5Nz8cKFM2e+XbJk6YQJBRWVFXm5eYsXL164cMGRI0eOnziRkhhZ/9138TEhWAiIXneoTksIo0giSIkAMgkAD5A4pu8dhHeSkBFB4Ai71eOuLJkyQ6chjx09RFNMdXXN8ePHpk2bBhEuLz8eFRXBsuzZs2fNZvPpb0+Njo5evFg59Ov+7Oyczz//vLS09HzFWUmWfV7flzs/ZxjK7rCfOHFscKg/OSXz7bf/mw+IqfHxJOeKDjXomfjvajBDAyT7CRggZF7RBREBIAQUNIiEyCJMSpCUAPLxgtEehm/ghk5ferGFZmh7uOPYieMGg6mxobG5uZlhmObWlqPfHJ0xffrxEycaG5obGxtZlvV6vaGhoc8///zq1asPHz4sSZIaCLIs29DQsHnz5vT0dNUZJUny888/T4oPf/E/z86amn7x7PlZk2IYaZBQcrYYibwihndTJAmh4DICGSMksaRkyM3MHe4/YYg0tLQ0LVp+5+efbzfqDSRJHDp0sLOzo6xs+rffnmYYxmw2V1ZeamtvO3XqNE1THMe9/vrrK1eurL9+vb6hobCwcOfnX0RERlZeqGzv6CiZOsXrdX+65dPly1dUX2m40d4eopcDw9cvnz2REhLBDbp1gKUkDBClmF1ZhggFH0h1ZFaUgIwlSCNWS1NWg76gaOaN3u7s7PyXX/21VmdVy9O0HgKoaPyJAPB4xDnKMJro6FiW1Wo1Op4XKisuzJu3IMQR5nF5KJrmON7IMrKIEQW/2rX36tXqO++8MzUj1ef2hdhCRU5UEQdgJIoSRSKW0fE8D7DE82Jp6fQ75sw5dODw4cNHwxLSW5ubJexDLAlpDYdZDmkFRCMMCCApBUEyGHnLECItxkjEPGuwOz39r/xpT15iKHb3UFDAQcspE1AK3pZ/OH6Ib4toaZJUkxkjIyNq04bL5XrmmWe+/PLL+fPnk/8EXRVgSAZgwRwVaU9Nam+pTWAQy2j9HK9BJAjaVFlWKMiV7xMcIkWGpUJM/GAgeVxGXHbGpfrrdU0Nq+5ZE67TQoIQAVBu4N/hnlOGQEVVciUjI0M1T+pfLVy4cOfOnZIkrVy5UjXZNxO+UnZWdlNT04L5CyAknKVDmzZtmjp1KsZYp9dNnVKq9qNKUkAGAkXg3Gjjy8/em525wOUetJAsASWFI09E3xPisTzWIDLExwG3xAx4PBp9eMA/wItGVm+9edbI5/chRKSnpX/6ySfP/PRner2eZVmVEWrJkiUAgLvuukstFgIArl27ZjKZPv3007CwsNvEF/8Kfm6Hw78LS4FAgKTZXXu+bmuoGfEgszXGHXzmZVXPWAZjelxYwghCkqQlno8IDe/rqUtKjPW6Ri5WVMqck8L8TYpF4u9OpP6vcNje3h64ySjEcdx15VBnKG8NxvwfPW6tPKuhAcIyEbR2wRfGhKT4SoDAygjN2LRKcKUVEnYIaJYN8NyyxQu9LHn16lWNTgchQVFM0GfHWJSCNx1BJN9GHan+URRERCDnsNNutxdPLn7rrTdnzZ5dPHkyACAiOuLWl5968qm33/5vl3NUq9UQNLFu3frNmzcHAv4lyxf/5pXfFhVNwnIw6J87b+70GTNaGqsj7EAj9tJyk8FsAs4BgkRKHvJm6idoNWU11lHkXRAvSIPdXQazyWjU80KApOhh5xCAsslktlis5SfKFy5cEBoaeuXKle7u7vkL5rtcLojguvXrvj397e9e+91Pf/KTiMhIr8cjj+27qTt2bH/qqaeWLVt69ty5hESRoTWFE3LPnj2zcuFMj6ujtrp6eMSlMxtlEcoYjJFtouBKKpCDCECqIayMEKPTO72+IQ8OiWDzxo+bOm1aU1OTwWDglKOqqmrBggWBQCAxIdEaEtLf33/w4MGnnnrK4/FgjLOysmRZ/t3vfldcXDxnzhyV/IUkydWrV2/ZsiW45sXFn3/+udFoHDdunNXCVlU2EQhZLLbenn5bPAmCz4EsKaz4IhrbOUgl2MQo6IQSFM9J16quxCeZojLGr1mzpr65zWQyMRRdWVkxadKk5ubm/v4+giALCiZyHNfW2rpi+Qqvx+NHKCc7Oz09/bnnnluyePH6det6+/q0Oq3A8yuWr3jzrbfSMzNCQ0Nys7NHR1wetzsiwn7hwgVrSXpCZEJb1XcgwUhQjAw48Ncs1mrRRJlVR6IEeVH0e31NDY0B6fS8Rfd2dHRUnL/C0AYQ9OyVp12WEIEwltLT0/ft25eUlOSIDL925arZZNqydWtsbKzP5+vp6gmPCJclzLA0lgCi4PGjx30+7y9/+bwKplq9FkBAEOSYmA4EJCYQGTwtlmKCX6C06knOmX/HnPl3HDxx3mzW2Kw6pXdQxCTCKsE4BorKUDD0kxR5NRISJKCAFKAJRpRBXWMrI7mFoXYa+IPID2QgS2Pinf/cxL0Q4BQBNa3H4yEIQu2SxRhfu3YtJyeH/AckVbfoSoPrDQl9VGTpgnlf/+5yjC3MOTJqM1gkP0fJJCHLEIgElCSEeET6CXqERJfbmiyFOUt/+iMQnhzSN1jf2PjRRx/1Dw2uvXd9clIyJwmk2hf01yZYrRoGF0ipmd2qV6nfufPOO7du3fr8888/++yzatiLEOI4f3Fx8eXLl/ft3zdj+gyTyRQdHf3ZZ5898MADGzduTE/LDAkJkWUxGL4DniB4gz02c/KMA2eq5pYkBwIqz7hIBX19FHSUMCkD1s8zMmIhY9u/75unfv2O0vSqkTExpqGJlYqnJBn1+l179pSVTbfZbBjjM2fODAwMrF+/fnR0lKbpWz1BO3fu/Oabb375y1/a7Xa3203TtGp21dnEv2navBUd3t4HpX7/xIkTVZeuOCIiH3vk4d9/squ7v5uyJgiyIBOssklldRfcfDjG3ns7OpbcecezG+5isFJmxDe/hv4f4bCtrW3ZsmWDg4OyLK9du3b9+vVlZWX/HtMaaldz8NHS6hUhTCSrGUUZoDFBHYDUAkLQUpMAIin4IiWIBjyuoqz0C5erRgmASVKUZYKiaZqVBQzl/wUOdXqdz+fr7evVaXVlZWWHDx/u7OzMz8tXubDVw2oN8fv9jz326PTpM8LDHRzHna84f/r0qaKiosaGht+/9vvwiAhZkj1ej9/nT0hwaEiX08339PbMmZqJSQRlCQMeyCKhZDgA4iWkNAUBEgeDMGCwhdXXu4Zcnr7h4VXLSwHQtbU0jowMl5ZNVVWI77prFca4vqH+9Tde1xmNAY9H8Q55VXAjNTUtLStLkcblAaktnjojOjqa54XFS5c5R13FxSUWazgBII1xxviJh7+4Ghmb2NByKQBJDaJpmQZQlLFMQBhcLMX4BE9PWX8JIkQzfX3DIjLt2f/1+Wsdhw8f/vGPfgwA4ff7WJY1GAyTJk26cuXKokWL0tLSjh49umHDhtLSUpVSX21TP3r0qMViKSws9Hq9amdv0FKzbE1NzeLFi1tbW8PCwnJycjZtfCdvfN6kmTO6W84MOQc5pAWYIgFFBiNDCd1MmI013yk8JR5phDKah673PPPLn1Dm7F27d69ed1+oLZzVahobG61Wy+zZswcHB20229SpU44cOfLgQw9mZ+dwHEdRFCKJG51dEwsKDEbjlNJpfq8PAKDRBpHDZDbduNFTVDhZp9G0NLfdf+/6gb7exu8qi2bN6avRHtr1/uySJB4iQCg6rmNKXkCl/pQAEiEpAjIgUqzJVnutYWpZaXHpfX5Oq9OYoyITPG7hFhwadBpREA0GbUVlZV1d3axZs44cPGzQ6z/77DODwRAREdFQXy9i2efzDwwOGA1GiODRI0dMJtPEwsItW7eIgqDwZxEMwwiigG5K3wiCSFGkYtIJkiR4nkeIGBlxsixrs9k8mJhcMG73sbNh9jhMEwFeJIGoJshvGS4IRCVYFCkcoHCAkLxmA/3qyz+ODQEmAlDEGEPbv0rprbKjYIy7urreffdddbRvzZo1P//5z7Oyssj/lbkRQFmQRQoRgGEKZsy6fGB/zZXqbHvUqNcfhEIgUrJMBI04FhDyUcjJ0NcGBgYN7JI1dwNHmIyFmOTEmOTEnPH5Tqfz0sVLu3ftKi4uKS4uVvt0bpF0q++BQIBl2b8Z1FNjI4Igli9fnpKS8vLLLz/77LNWq1WhbQ96uxs2bHj66acjIyIzMjIWLFiwcePG3r5ejUbT29ur9EBKQX8fMILIcxJxz6NPPf/M+qNn60rHxygs8AFR5gFSsh+QFoCe0tp8hO3LvSenz77HEZ0HAEVAWqs1iCrcQAJjoNXpGluau290371qFUKoubm5srLy7rvvvjUKqV7CBx98MDQ09PLLLwcfAo9Hq9WqIa8Kcrdf+y1kunXtasOtLMt79uy5ePFiaWnp4iULI6Njkd7Q7ZNfeucTs9khYUoChBQMW4JGGcgoaOIkL5I4jQ45O9vHZSffv/4uStF6J0lws2j0V9M6/ySSIeVQ2y+TkpJ++9vfzp4922Aw8Dz/fz0uvH39g36YlhVIgiMJgSREkRKhJGKZxAjeTLvIgBQhEhDJI5InUIBEIkl/e6kynh036Y5ZoaF2imYxiQRJJmSFHFsM+uDqDb192dWGakUageJ5nqRIhqQWL178yiuvnK84v3bt2u/7mERxypSSyZMnb9267Sc//YkoCOPGjXvzzbeysrJmzpr12u9+t27derfHTZEkwzA+r1OvFVISbId3+S/UtWdFaSH0sTIPVYcayKoKmII3QTgUACvKumv1dQWTZ8Wl5f38Zz9df+9jRqN+3/69v3n1j1VVVakpKYIoVF+5QiCk1WgCHg9JUZ6Rgeqr1deuXnvllVd279nNC3xOTm7QzRJ9Xp8vMjKyqurShIIJkwonnTpdPnFC8fvvfWgPsf76xRcnFaSXTituv3G9e9CrtepJpMcYUEH/QwieG0SKkBKBZSQBWoAsJ1M+EXb29oenp023J9c3dz/3n88VFxenpqR//vnny5Yu8/q86mxSIBA4efLkiL2fMQAAgABJREFUq6/+1u1263Q6juMkSXrmmWfeeOONLVu2vPHGGxs2bOCVgyTJzMzM1tbWkydPzps37y9/+Ys6QJycmveznz1rJEay4iI4TALsw4CHSu4RQFF1gyCkVO9ZAKQfyIgmmrs61hROxEzSkJfc+MGH8YnJa9asbm9va29vmz59+vnz59esWXP9ev3Jk6eefvqnt3aTc2jok08/ve+++7q6urZ+tnnx4sXq4yEEuOzc3D/96U95eXnxMfHNTa1ava7+zPXOGzc2f/xZ45WTlsgUH8nKgCVRACKFr0WNqILvZNDZgawA9DzUE7Spe+B6Ql5kdm4eADYAKFnEENKK3NP37FTu4VGE0LPPPpuWmsYL/MDAgMvlevXVV70ej1ankzAedY9iGff19b7zzjsLFi6cPXu22vyoTNpgdS6e5/mbSnBIEAWKVMg1BZ5S8pMESZIKDmk0Wh7RVS2dZg0p+lwcR1A0KWESBMMDpVcHEkr8rSjgA5EEXgr7Bm40G6xUfATgXQAZlQr+zW0k/6+b+raKoBpEqfuOIIj09PQXXnhhzpw5LMsGP3nxVz9A0gZVylccjIKhoq8hQ8psTYyIOFdxsadniGL1NKsjtIYAJDlGy+v1Q4h0GQz1fp8rxHTHI/dNuuduvyzTeoskQ0mWNRqN3W7PyswMdzhqrl37fMcOAiGDwaDT6TDGXq9X1TlSp+5uRU63xkTUnCdBEBEREXq9ft++far6iSSJzpFhiqLy8/Pf/+D98ePHs8oQz4XKCw8++MDrr79ZVlbGsLTym2ReEo3mMESSOTl5J099OzTssjliIKmVCBZrzLTR4RE0I35N1zCxbfeZeSsem7byEUU6XAcwLcgAQIIImkQQ4AIsxe4/cMBqseTm5gk8/+GHH86cOTM1NZUgiNHRUbXa995771kslkcffVSr1ar8q38DPBBCdWeODYEqSKNKOXq93s7Ozt27d59WZEJXrlwZGRkZFRWlYRk/J6dmxPYPjFy5chkLnN1iA4LPamBxwE3KXqseGUnRgPx9LbVm0vfyzzbEhumQAKAQjOCxrGZW/wqGf2hG529OVWUPGBoamjhx4nPPPVdQUKCe+e3F6n8HhjYAkCRKg4O1lZU6hDQkQRIEH+BFWQCAlCCUFCAMININkKjX8Sb95b7eBf/xyLoXnhNI9OVXu69cqQ4Ns5ttoRpGS5EUS9MaLcMwQRvEMqwoiTRNazWaYPDI0hpWwzAMqcAYRVEkTSCISktLr9fVDQ4MTpo0yWQx6rUGi81sMBpi4mLco26/319QMNFgMOj1Oq/XN7GoQBJllmUTExOsoVaWYU0mo8EabjRSbu9wzbWLmVmJQOIwLwgCz2q0fkkUISS1BhHTfpESgUEkbW2DJNLHz118b0xGcVJSzqlvz1dWnmUZTVxMQl1dfWZWpi0k5LXf//65X/wCEkHrxur0HW2tRw4f+clPnrbaQpMSEw4fPhIRHm60hIlCgOe4uKT0qosVw8POwsJJ27duy8zKPXbseP31+hkzZ8xfNBdoKFuYedu2jbnZCbLg97h9siIOIkiAl6FSCKe8ASxBvQCNzgBT3TiQP3lJXMK4YLzjiCiZXBz07t97L8AFsrKzhp1OhmHS0tO2bduWkpySnJyiTvcihF566aW77rorKSlp3LhxDQ0NTqczKSlJzY8RBNHf33/t2rXi4uKOjg6LxXKjp/uzzzbGx8c++8yz3xw7iqBkNhoCbg+QJQ2rIQgWElpAsKJMBwQCQ8YjkqTRcaWhJyxhfHJmiZtn0jLGTSwodA47X1amGy0Wa2xszNkzZ8uml+3atSs7OysvbxzP84yGxTJ+/fU3kpKSZs+enZiUdOXy5YGBgazs7JGREYII+kfpqRlbtmybNXd2e2tH/1A/JtC586cZhnnhhed1WvLrvdvTMhK8vM9gNXC8T5QESZQRJBFkJaiXaKtHNmqM8eerOwOkdemdD7HaaCyzAAe98TFdCFUWQpCAhKuvXu3t7Z2zcC7JkBIvPveLX7z77rsYY51Zz/kCDMuqQ+EHDx6844458xfM0xl0RpPRarEYjcbgw2Y0GIwGs8WsvkwWkzXEYrKYlB+sZos5JCTEaDCYzRZLiEWWZeeI6+A3R2uvNwBKx+iMw+6AJAOKQILIkSQBIMKE0sMrB0jJR4pu7OnVia7771xQlB3NUIAOxpGiHHTsbmNe/kcxHbz1QgoJGsdx6k7fvn17VlaW2uMWxJe/D4djmTe1WRSOZQYUU6mzhRXk5ze1d/QMDDv9AScv8FpNk3N4mKZ6CVQ7OsKHh635+U+K7lkNWJIymgWlR0j1htTROovFkpGRUVZWVl1dvWfPHq/XS1GUyWRSmQPVLlh1FuSHLGx4eHhWVtbzzz8fHh4eFRnNsowkSTqdLjoq+s9/+fO8ufPi4+MOHzlsC7H19fWbzebwcMeYJwQJCWOOl01Gc+GkqRImjhw7PeIRedLQ75Hah7i+EVh5tat3hPzRM7+LSy8Boh4QRgxoGZAEwQAIeJGHAFAUU3XlslKwnG/Q6Xfs2GEwGFSqUpVPwOPxvP/++w6HY82aNaob8kMjDeol+/1+hmHU8ltfX199ff2hQ4caGhoKCgqWLVtms9nU8GssdkGAQLC4KBeLoKX+uuxzI4HzufqMNCYE92BHvbunmRtqz0kI/eNLP8tKMGohoGSZhJLSKqxOk6pZjb+zvD8EaepJqrmpuLg4k8n0T45n/N+EQzkqKqKm8uxAVwdLIVUFGABCUfkFAiKCcEiSowh6NfSAJAwzxH3/9QKIj4qICp80ZUpKUuqmTz6ub2qWoIwFyWoxAwACfp4Xgu6zVssq3aFj0/Z/44HwHK862kUlRdVXqg8fPpSfmx98hGAQJr1ub1Jy8renT4uSGBMdY7fbN2/+LCEuIT4+bsuWLWUzyyReClo0UeY4N00T5lBjQ+N33e1tyfEJoWYLlKA3wPMyEBApyFRAoERsAISZ0MQc+rY+JqU4vXAekDTmkKiU1IyPP/7I63FznJSenlE0pWTvV1/Fx8Vn5OQCjGmaGezre/PNt370ox9pjaZR57DVFsrz3JEjR8bn56g1DkZD+32+nhs9CYkJN270fPnlzsiIaHuYPSo6KiUtyR9wWx2W7hvtdZcrUxLiIEBYwnq9keNkQQQEoeElSNBmr48ktRGtvb5RzrBk3dMuL+RlAiJSrzXZHaGiJFVUVIaGhvb29k0YN97n9x04cOCJJ55AiFAZLd56663i4uL09HSTyQQhTE1N3bt3L8Mw0dHRokIEk5SUdP36dYRQfn7+Y489ZjQZSIqePn16WmZWqC20/NixEJM5KjTM7/UwGpYH0C+igEiRrBnSencAm0Jje5xyeWXzqnt/RhliJGCUMKnVaBJT0ru7O44fLzebzVVVVT9+8sf9/f0tLc2lpaUGg1GSJATh+++9FxoWdvea1aMul86gt4XYTp46pdNqo6OjIAACL5iM5rqaGr1WH+aw79j15eFvDt0xZ3bfYN/sufOxKFysPMnx7ryC3PbONq2GFoJeNWXQmgMeIAD9cICCTIQA7YfLr0alTphQsgAAEwDMGHs/QN+r2SA04hzZunXrvevXy6KMJfzSiy8+8sgjjqgIgiGBDGSFbrevv+8///M/71q1Ki83F8sYQTRWTfvfDr83QNGkIgUvdnd1NdQ3bN26tbW9bf39966/f/Vv/vRnxOhC7NGcIEGIaYXVASthGAIyhXkNwYew0NPbqhVHf/PCowYKSILAKO3ReIyyFPxLrKXwpvfPMMycOXNUy3wrUfdDcIgBEMCtcFoxBhJUlFZIirGGTJozV6fT9nlHdZGOXiwKNoscHgZiI1JnTnvqnbfsE/IFWZQYRiIoiEg1xYshpkhaxiIBEEXRAILMzMyysrK6urry8nJV40mj0Wi1WnUsHYC/aUz//vD5fHq9fvr06R999FF3d2dubr4iHEnY7eEBv//8+fNZ2dkMzVy4eGHRooUfb9pUWlZKkZTyFcrnFbSs3uPhdMaQqKik4hkLOKBp6B5xI/2woEGsfc6S9dPufJSi7UAXiWVd0B8EJFZUuBBJQIxpkurtGygvP5mdnZOemrrn670Bn3/dunWDg4Mq0VpbW9ubb745a9asefPmqWxtt0qD/xM21IKcRhEJq6iouHjx4uXLl2tqau68886ZM2fabDaSJP1+vxo1Bu8CBohAGAiyIJSNy5hZOqWrsQ7xbj0pQt5FS+4wHUy0a568767nNyyJNJE0BCQGCIsIy5SikoIVcoV/FQ5V91CSJNVZEQRBkiT1w38zOFR6fGVg0BgoWH3hvMs5ZDQaECIEgL0cB2lKQogjCD9F0I7QNvdIHxDvfe5npqIJAIIADtpyrUY3a9as0MiIffv3Xa+pc7vcAT8XGRXOMDSChN8fIAhC1Y/6n/97MBalCZqiAQZpaWk+v3/7tu3FxcWqS6s36BkNE2azHzp4MDkl2aDXR0ZGfvHFlzNnzuzs7LJaQwwGg0r4QFGkyz1iMJu0GvbkseODN/ozY5IFv4wJGpAsInQy1mkM4Vpd5PAI2r3/vDVm4rIHfw4kQ0BgSUrjHPaeO3emcGJBQ0NTz43eqMiIy5cvr1y5EkuiKPCiIGzevHnp0qWxcXECxwGFSTI+Pr6q6lJLS0tGRoZWp/N5PQnx8fv37ztRXs7zgl5nfPzxxz/a9PG48Xn2CAckAQ/4jLTkxpqrTXUNkWGOmOhY3idIAiBpA0VpMcHqjeEE7Thb2TgSYNb+x6+AIZFmrIIoAwwokuA4bstnWycWFHR1dlVWVMyaNWvXrl0PP/ywyWSWJBkhdPLkSafTuWDBAovFohoTlmXtdvvu3bvz8/P1er1a49fpdKpsgNls3vD4fwwOj5ittmGnN3d8Meceaaj9Dga4+Ng4kYQ8hgGRlKA2IFG01qo32a819J4423TfI7+ypk+DdASWGIhYAsqQgEePHCFJIiEh4auvvpo4ceL58xWZmRmZ2bkiz0uyXFlR0dLa8uijjwXjM1kmCYJl2eTkpE0bNyUmJoaEhoqiqGE0+fn5r776anhE+NHjR//0xp8aGuv5AJ+XOy7MHhZmM3xXd/VGb3dcbLRBr0EAiZws+AEBDazOoQtLaesVP999unj6ikX3/QhIWgDV9hl4kwrwZp+kLJ8oP+5whOeMz4UY/vdbb82dNy9vfD4WJIgQQIBkyCuXqz/84IPXXnvNYbcjpZMdklDkxNslfP+6k/MmsRIGFEs6B52112qrLlWdPXfO6/U+9NDDU6cVB3ie0tD5k0r3HSn38lJ4RJTX5yUpWlRIJDEEBBCw6KNxQPINSa7e5/7jwdxkh+Dn9SwgxjSO0c3o8F+DQ7XoQ5Kkz+dT8wS3qhg/lCyFSoCIb3LCBf9/SbHFpJ4GOi0QpaiJBZOWLU3PzEgpKswsnTJhwZxZjz+aPXsW0GoASxJGIy9ghtV+r2oMgCQKQcOKKIXUCaksJ+np6VOmTBkaGqqrq+vt7a2rqwsLC7NYLP9gjo0gCDV3mpmZWXmhoqmpMT4+niAJpCjrnjx5EmM8pWTamTPfxsbE9vT0hFhDwsIcAGAIg48dgiRBUIhkAWv0c3JMam52QUlmwbRxE6enjZuuNTgUT8oAkD4YU0ESQELR2cIc52cZDQCgqbn5+vX6lStXVl+9cuybY3evWqXValV+gAsXLuzcuXPx4sWFhYW3OmP/Z470e8pmpWi0f//+urq6np4ekiQXLVqk6tGoLoxaNFXSwkEokmSMAGYRwRCEBGSzhlk8o3DOzKmpCbG5qTFlhfl3L5r98KqZeQl20efXU1QQCwEmJBEqdUUlvvmX4VD9UE2N3t4H9Df36N8mOgwiFRZDk5PCNGxTc0tnzw1ao6X1RqRlAxj4SdJDUy6Guj46OqxhCpctzl+6CERFAppATPAGsayO5wWt2VA8uSQvO7f6ypXOzs6WltaBgcH4+FiSJCVZhhD93XUWBJ6kFKo2DDkukJCYaLOFfPbZZ0ajMT4pXhIkRCCTxaTVaHfu3Dlu3LiIyIju7m4AgNFkPHLkSFHRZICB3+/jRVFn0PsDgZi4tPTU1LralqvXWvqHvCZHhD40UiYtAWxu6+bPVnU0twcml915x/3PAGCSsAZDBstEVVXV1epL9lCHqm+3e9cur9e7eFkQDhmd6YvPt5vN5uKSYlEQlGw/oT6ok6dOqzx/rr6+PmfcBBKBy5cvO0dGzp079+qrv9FoNJcuXrI77IpTjyNjIxEktFpzftGEvrbuxqa2rq5BGbFmWzSlCwkAnZOjqur6L13rgdrou55+GWgjeQ9BMmaSCD6EJEV6vd5Dhw7Hx8VPnTZVp9NduHChprZm1qxZJpMZIXTlypX6+nqVPT8QCKgZmkAgEBoaarVad+zYUVJSwjDMyMjImTNndu3atWHDhjlz5rz++ut3r167Y8dOW2hYempOQmoSIaOurt7q681eiCTaoLPFI22YV9bUNveeulA74CbXPPh8WEoJAFZAmDgOazR6COWBvt7KCxd1Ol1ubt7EiYUnT548e/bMlClToqJjAMYtzS0ff/zxvffdZw0JARBQik/p8XhsYWGR4RHv/vnPebk5BoOh90bvyfLyhoYGk9n846d/vG/f1xCDEIutpbE1Iy3FHhGWGBdX39RadbVmyOnRmx3m0FhO1mEyrPlGYP/p2pZeLitv+tx7nuA8gNSEAszcNOa3u+Zw1OXavn37o//xeGDUt2//frfHU1ZWRhFkMNykKIkXd2zdfu1azaOPPmI0GgmKUBLtiOcFmqX+bnSIZTX8GiNOO7j/4NVr14aHhw0G49r19+Tl51E0yfGCiLEEKJtdF5eYfujQIZdzwB5iYEggijwBZAYHGNln10FnRx129z2+buXq+QUgINj1tCKzhG+OJvy/wOEtw6WKmaj0L6pZ++HaoSr2DaDa/6o2llOkSnANgIYBDAUYhopyGJMTzMmJuphowLKAIgFFAUQBjEiKUYaWZZV5HAajGhIpPBiq0blVM1NbM3Jycmia9ng8ly5dqqmpMRgMSlOorPKW3V7iuhXbarXayUVFFy9dLC8vn1IyRUk2MjExMXv37jWaDCUlJZs2bVq2fNmePXumTJnqco1oNFpJ4BTeA4CBLEuYoFkZ0BhqZKCRsBZgDYQmCLWAYAEkEUkqDYZKcy2EBIkwAqIo7fh8x7y5c/wB/9atWx995BGH3aG65OXl5ZWVlcuXL8/Ly7vlcdzeN6uW31TqE/WHTz755MyZMwRBWK3W5cuXZ2VlqQMMOp1Ojb1I5VC1EoPnABGCKm8ADC60wumupUC8w5wRF54abXOYGFoR+2UpisAygQAZdCCUk1dl3lHwXkAE/mb0/p9hObrFrarWcf/NkqXfB/EQQZoFHB8Wl5iYlAxZzdnLlzuHBgSaIa2hNwS+dmT0oqc/tmTa+udfyFy3FoTZgIYGJAFR0FML7pfgzVLIMwDMy89LT00bGRnp7Ow8f66ita01JSWFohSSP0n0eX0Mw6h9voIoBO8vGsvHMFqaJAmT0RwSErJ//36TwRQRHeEaHmU1jCPC0dzU0tHRnpGRER0ds2PHjrLSsvaOdqPJyDKMwWSgaQZBxFJaCJDBFp1XWKoJTWoacNd1dFU3dV9pdNY0eyUqPiphyox598dMWwEkPYAaAEmAgCDwH370l5iY6OioyJGRkQcffezqlSspKSnlx4/ZQm2N1787e+7cPWvW0AxDsTpZ5FmWBSRFkhTv9xcUTT1x7Bs+4L906dK1a9eWLlka7ggfHh5KTk4+ebJ8wYJ577/3l6LJkyIckTSp842MUAybnJNvtUYPeCRXgLja3FNV11Xx3Q0vGROgoqMzyuav+RFAIUDSQ1If9OYAJCmWC/gbGxpampoDPv+N7u4nn3q6pbU5MTGxuam5ubnJZgv96quvFi9ebLVaIYRqMV4dU4YQhoeHu1yugwcPKgoMn+bk5KxYsWLPnj15ueN6ensZlrl4obKkqDgiPHSwfyQxrzg5o6BzhBv049r24Yu1N2pahn3AIlAhltis5WufNoWPA8gOoFESKUarwzLm/O4LFy+eO1+xYcOGd95594EHHqAoKjQ0rK+v79vTJ4uKS959550VK1dkZGRI6swVhCLP0xQlCqLD4Qh3OE6fOt3X33fu/LmIyIiFixbXfvfduPy848dPlJWVXb5Y5XG5S6eVcV6PPiYxMy3fL2o05ujqxoHT1a0NPVy7i+gT9HFZU0pm3jlx1p0A6knaBCTFJGBCfa5kWfb7/MGQhCK3bt42aVJRTEzM1SvVV69dW3333bbQULWHA2Lw4UcfSZL0yMMPazXaIJBKyrw/ULpJJCzJMqJQwMdhjAmKEDhBFCWSISABR4ZHdu7cVXW5iqKo5JSUwsJJWdmZsoSVcV2IEIEoShHNBrFRppKJ47qar7bUnPcN94o+n1YOiMOd/bUX4EjX/Mk5P15314rZ2RoAtASUsThmusawECHwr407326h1AqU0uIzZsrg7SOK/2j6UIH9IIrI/5qJkaGkBJbfm071FxB/nTC8dU4AgO7u7vr6+u7u7paWlnvuuScxMfEWSZgkSaotvtV+6fW6jUbzkaOHjhw58off/8nv95IUWVtbe/zY8Ycfebi8vHxgYAAAMGvmLJvNxrKsIHK32pGwMuOCb++xVM9TURlVzhap3dXKLBSBSEIC0onjJ/v7+1evWvXehx9YLZaVy1eoAxU7duwYGhp64IEHWJb1eDxqKfRvgOQWT3RfX9/27du9Xu+MGTOsVmtaWppKCnqLqfyHoGVs/eEPFlb/plv1ZgOZrGwDSZk5IwFGP0BZ+k9B2g913PwbwOH37yImZBn4vUDkgcCPXr7cVX+963rDYFef1eYIjY/Xh4enlpYBmy3oArIkoJRFDjquqgM1xoFHAsCLUsDnNxr1PC9evny5q6urtaU1LCxsydIlBr3e7w+QSks6gRQ9Svl2ztLgr5NF7PN5JUn+zW9+M2vWzBmzZqh2R5LEN998c/78+Xnj8k6fPN3S0pKSmtre1rZqzargv8Iq/YwsSQFB9CMCMzSNpZGmulNA9EkCJQpkXEya3hoFGKM8GkB6g6yQTAEARkdH/+ul//r/2PsO+KiqfP9Tbp2aMsmkN9ITSEKvIr0IigJ2dnXVfW/Vfbtv16265f/2vV11u6u7uoqKBaWo9E6Q3gkhECD0kBBIz2TaLeec/2funYSAgGIvcz75YBInk5t7z/l9f/X7dbvdgwcMyMzKWL169cABA0v79ztQUbFt67Y33njjrbfmpmZmElVFEIajAMp4QQBYIqq34VzDrFn33jZ9+n/+x38ijHRN+9Wvf/2j/37s6NGjHo/n3Xff/fZ37h8+dDCHMCMBKDEAAsDfDixCx5ljzU0NAb8HCxbZkZSUmiNYHEbRRgBIAFAI+dlGvyIg6pNPPyULcnFx8fGTJwoKCk7X1t519111dXV79+79y5//9vOf/3zcuHEIIZMluKdjap7EW265JS4u7rHHHsvMzBRF8bXXXsvLK7DZbPMWLMjISPd7O8eOuzE7KwNhihAPgOYPnjpbe8Tj8dgtDoy5XtkZRi3HQaiD6VbABIw5yIGANyjbpHfmvbFyzeoZM26HAOfm5sydO/fxx59oaWmuqKh48g9Pz/rWrG/ff78WVHhJNDlcQlEDoSH3KRT2sO8/+mhrW+tvfvOb1NQ0gRfXrFnT2tGanZ2NMVw4f0Factq37r7dZkc+XyvGVIqyAuJpOHuqqaWehOwGTknOcCVkAmAxCJglwAziKshdpN0AejAQFEXx+PHjK5aueOSRR31+30svvXTft78dExsbDAZtdnvQ7/+f3/1u5A03jB4zpqtftIdbbH7HGHfQVI0XeKITzIVCnbqz9cuWLgUAZGdnp6Sk5BflG6cJmDx5YeMFgW7sdB2CIAsdoNrWQNWR6jMNrQeOnW/r8MXaLLkZySV5mQNKsmJ4oKpAxCadlmGITZ7JsH27PjhE1zz714gOP2jserDVXAfTh1G5NYIM2vOnkUntdhEqTN5qQkh0dHRmZqbb7e7du3d5efmSJUsYY2lpaSbjzmUFRUHgvN7OwsJiq9Xy97//raSkJDoqOiY2Zu++vdXV1bdOu3XR4kXDhg3Ztn3rwIEDvQEv5DEzBpChyXgNTelzk+TMjLyNCWWkQ+OTrhKP8XKE2zvaX311zv3fuX/DxvdbWlruvedef8BPCX388cfj4uKmT59uavaaBbYPRk5tbW0XLlz41a9+RQgZMGDAoEGDiouLXS6X2bdppkM/DFquT4kC9vRozNYq8y9F4FOHtK8HbSlD4fpCIKjxVitAEFgtYpI7bkBZryGDi4YNzhk7MmnEYFf/UiAJIMoehDrBgDMGdQw3BTLTWBj/oQzwGKm6rmoaz3FpaSmFhQW5eXk2m+3ll1/etWtX37K+siRzfGhf056lBdNTY4AZ7rTVYenXt19lZeWxmmPFJcW8wDEGBg4c+MYbb/bvNyA21lVVVeVwONra2mJjXY4oh9H9E9rZmIM8z2EMFCWgaXpCcmFsQp4rKSc+KYeXYwJBqqtEsDmA4R+ZSaCWlpY9u3fzPO+Mji7Iyz1x4sTgwYMki5VDaMOGDVOm3LRo8WJXTGxSWgagOhJswYDXJLdjRHlp9uzDh6tnzpx58sSJ3n36WK02jhdiY6L37N2Tnd1r7drVY8eOWbhg/rDhQywOpx7whdxiDfi9Gi/YJVtclDvDnV4cl9ZbtsQhbMecneoYchLgRMAJIaOhBJmmQozfevNNnhcdDsf4CRO2bNlcVlqWlJAgy5Zz9eeczqhgMHj27NnS0lIzE2MeLlOD5fTp07///e9nzJhhaqxmZmYihEpLS3/72/83eNDgs7W1BfkF5RvWl5WVuBPiEYKBYKfH60FYTkjITknq7YrrFetKhyhaIYLPDzG2YCxing8zM1Cm64GF7y6MjopqaDh/001TlixZOmrUqOjoaEdU9K6dO0pLyxRFPXTwUHFxMeY4o2tGxaatgKDqQOUfn376oe9+19PhcTidaWlpHM/ZbNbt27cPGTxk2dJliYnJdfW1vCxmZmUjXqKQ7+gIWCwu2ZaQkJSbmFzkTsjixSiqc5izAsIzIzdkEi7BLm03zGOqA0EW//HMcw9+5zu8wC9YsKCsrKygqMjv9wuC0NjY+Otf/3rqlCljJ47HIDwse4U8kJFkwwJmJBRx7ty16x9/f8bvD4yfML5vWVlRnyJXvMvn8emqDiGQJPliOsqoPxmXBTAEPh+JsQl56UnFhb1GDC0ZP6r/hBElQ0uyUmLtVg4oXq9N5rmQjQ6fKQgvpkmvV/332q++Dji8hLztOn4/674K9gHTCXuQY5loZ2YRzUSozWbr169f3759t23btnz5crPptJt0zlyhyEwMuWapqSmZmZm//X+/LSgosFgsffv2XbZ0mSRJo0ePfnn2K253fHZutiiKzGynCt1WhijBjHCMGrTXDAOKQxvGoDmAJOQCGeRHRqiGzBmafzz77H3fvu/cuXPr1q77+U9/ChFqa2/7+1//dvPNN48aNcrr9UZFRSmKIsuyWfPrvs7a2tpNmzbNmTNHVdX7779/8ODB5sQIxtgUQDazOt3Z48u6VD42/MDLH5u5gSJwePUN3tV8J4hcCFOwABFUqY4tVsBj6HYDpwMIPIBQhQgLgkIJ5nnczVthsIB25xwQAppOLJIIIOQxp2k6YNBms7jd8UOHDouJjnnr7bfef/99m9XucDhFQeh+UGb1pbtMACiz2qyZGZlVBw9u3rSlrKQUISTJksvlev75FyZOnEiIfvLkSU3X2lpbM9IyMWd48JAxqutEYYxgDgmCDIBANayrnKJCwRJl5M5FLMqUUmScPgjh4kWL9u/fP3PmTErp5k2bMjIzCoqKAdGfffbZ4cOH33TT5NFjxsyZ82rt6VPJySkWm8RzPGP0QGXl/PnzU1NSxo8fX1RSpirBN994c9CgQTyHBUE8cuQIh7HVKnd42mtqjkwYP95qsRhJew5AnjDEWZwAOyC2ESCoKhYEe8imC/YQFkLe6Ik27iwN2d7GxsZFi5bk5eb6vD6rzdre3j7ppskQ4Q3vl++v2P/Tn/6sT58++/fvX7hwYWpqqtPpNANEVVVfffXVioqKRx99tKysLCMjY/ny5ZIkJScnG3hJm5qaBg4cOO/teUbVNiM5OYkBgjCyWmwaYZpusBYApFOoEsbzsiBYjevHkIZOOtUYJ+JjRw/Pnfvm9OnTnc4oxsDGjRvvuON2WbZs37Zt586d3/vew8W9e7e3tb377ruiKERFRUmSDCC8cP780sWLK/ZXPPjQQ9k5OcOGD3/hhRfSUlPjEtyyKJ2trdU0zWKxJLjdm7dtUVRtxMjRFPMA84JkJ4wHSGZQIgQCxiMgcNgCgMAYohRDiI15PtydCYMYIojfmvtWYlLigH793nnnHV3Xb5kxTQuqssXS2Nj46iuvzLz99iHDhxryfuCqcIiQrmsdbR179ux+6aWXHA7HPffcU1paFuV0hsAPQ13RBUHkDF/v8ijNrNsYUwc2OeRLej06pMgmgBgEJASCHp9D4iTMgBaUeM7QDwmr4F9yJV8AHMKLH/DjfIRFOAD6AGH0lQYPuu+4CRWSJJWVlQ0dOvTUqVMrV65sbW3Vdd1ms5nZSIwRxwkAUK/PGxsTO2DAgGXLlgm8kJiQOHHi5Jdeml2QXygIvKpq5xoaCguLiQoFKPAcJgEvU/whMyZCyFRINSggSDTd7+Uw8vl9gFBRkAmhEGBV1TFGtWfPNpw/n5mZ9fZbb/34sf+WJfn4yWOvvTZn+q239u5TjDB0Oh2MhdsvzWH8YDBYXV194MCBd955Jycn54EHHujXr5/Vau2ZtzHTvz0zEtfAwqsJl1zuZ1x8EeuGQ2hGh2aiGn4CiP0IQipfxWX+FciENCPFb/aThyADGU3q2OhHgBxAPEAhJwwwhmHoa8ioOe7LTK8ZXFJwZeaz7mLxNqTBQg5QQoJ7+Ihhebn57y16r6amhlLKY2zqnyAOQSNIpZQIsoAw8nl9EMKy0lKv1ztnzpx+/frJVjnOFRfw+8vL10+devP+/RWaqiYmJrrdCcaYowGHTGc4BKcAhSJGY286MR9y1RFGmOMxz4UgxuwTAABz3D+fey49I4PnOJfLVXP8+B133sXx0jvvvEN0MmXKFMag3+8fO2FS0B945513A75ATHTM1q3bli9f8e1v3zdg4GCrwxn0eXML+ggct2nTpj59SmXZ4nQ6du/ZM3jwkJUrVkGEkpJT0tIzjRAWAYCwIFEGERK9gQAnWBQCMOYxFsOTz6Z7Yd5VnlMUdcnSpXv37Rt945jc3Lxjx0+U9ClJSEw8erh65co1P/rRj6kx5VxWVlZcXPyXv/zF5/NlZWWdPHnylVdeKSgo+Na3vmWS0TscDlmWd+7cmZmZKQhCr6zs9evWJyQmqIpqs1krD1QMHjLIbrUZDfU6xGYLGmFAh5AiRI3OQmqADUThUCd0pYerD9bVna0/d37MmDFr16776U9/ghBubW2dP2/ePffe63K7/T5/bm6O2+1esGCBt9Mry3LA7//X88+npad/a9YsUZJ4Q83mxpEjn3nmmaSExJiYmNy8vPnz502cPHnT5s2MAV6SBgwZHAxFAlaIeJWFnp8OTOXqkK8f2owEQMBBxlFD89skfAntUEgQRJ7Oju3bto4YMbzd07l02dKf/fJnuqrzMr9r565/v/TiXffcXVBYYNDuUmro3lLAOJ5XVFXXNFEQoYgCvsDh6uqVK1YuWby4qKDg2/ffZ8YhZpOjaXgQQlfSXzJjERBGBhYe65MFJGJjGxr8WVZBkADCDIiCbEoOQYjRxalJ0I2NnwocdukdXm90+DEtDbisSnc1OLxqDZLS3NzcIUOGnD59et++fSdOnGhtbXW73aIoAUCN6Ucbx/FRUdHuhPglS5a0d7QnJyXl5xfMmzdv6LAh8+fPLyktFTjObrHyQIM0iAUdI3/gwtGTezfUVW9vOnXw7OG952qPtLc2JCTGSDLHC0gJBnhOxJysKgoFYPbs2dNnzHj9tddvvuWWXhlZ+6sqXp49e+btMwvy83mO11SNgZCZM7WZmpqaduzYsWfPnu3bt8fFxT300EM5OTmUUrNQeg0Q+nRxpSccdm0fs554Zb8qoozfHUp3Fwe6WHxM6o8usjbjXBtdN2aK1IxeLkqiXS1RYgAkDBkNiHRCdJ2IgjhixIjk5OQNGza8v+H99vb2Dk9HcmIy4iHViT8Q4LGga7pklQRBCPgDeYV5Lc2tixcvTk1Nczqcefl5GzduEkXB5XIFg8rhw4fLykpFSQgbG6OCaJQmTEwM2RQANaNwrpvjxTBkuTidaBwW/X7fk394cujQoRcaG93x8QmJiTnZ2ZX7K3bt3v3DH/+Y43gjxQcZpamZmcOHD//Fz3+2fv16TdN+87vfOaKidVUJ+P0WhwMQPT09vWLfvpqampycHKvN0njhwoHKA3l5ee1tniNHjpaWlFptDsOHMHAbMsJ0ZKirihxHGWXQ0I2AwOwBCW/MECDyq1atDHmcip6fn3/y5Mkpt9x8oaFhzqtzbr/zTkEQbDabSX2MEJo0adLevXv//Oc/792798c//vHAgQObmprM2SePx5OVlcXz/Ny5c0tLS+02B4RwQ/mG0WNGr1275nzDuREjhsdEOynTIWQ8xDwCCFHETIknapTAGAp5QgZjH4Nmvnz5iqX1dWdLS0pjXS5V1foNGBTw+55++qmJEycWFRVRnQo8zyiz2x3jJ044ePDgH/7w+/feW/T0U0+VlJZqhmAcMMi5FFUtLCx87bXX0jMy4uLivH7fmTNnLBZLYmLi7r17cnJyXS4X5ABlegitoQqABqGOgY7C/QWGqjnDAGLAcJjmOYTiAHF48aJFCW53Tk7Ok08+9cQTT4Q8MB699cZb+/ZV/O8ffhftjLrMJggS7zOQW7AI9Wfrt2/eum3btgMHDowbN+72229Py8i4niCNmSeFGmWb0FMOVxeMJh2DwNbo5g/rEXTDH7wimsEvNln6BcGhmUcNBAJFRUXDhg3TNO3EiRM1NTVVVZXJKcl2m13TVUpJU2NjnCuuf//+FRUV+/fvHz9uQjAYPFBZOXXq1Of+8Y/+/fqmJcVqnvPYSkDHya0rZx+tXL1767xzp3fWnd5z5vjuutrK+rrDGzeuslux2+0MbXfOYdCgc7v37OF5vnL//uxeOaNHjVq2cumqlasefuSR/JwCQnVN1SRJopSKonTs2LGtW7eaak3FxcUzZ84sLCw0BxBNUtYPtqJ83nDYHfFH4PBqw0nhjxCWdOEYvIiUZlrU7NNDjEESPpawiwTjmnAY5tJggJoFfIwZYE6HY+DA/oMGDDx58lTDuYaGhnP1deeysjMNwiqmqqrAC8DoZSM66VPam8PciuXLe2VnW2RLXn7eW3PnDhw0qO7sWVP4LL8grwsOiSHAQmEoLCAGO5WH6D4INQAIpQqjOqMUYYHpDGFh147tK1avSktPG9h/0OHDR+6Zdd+hQ1WvvfbaD3/4Q1kQNFXDghz0+3ie11V1+bKlRUXFffuWBQKBCw0Nubm5iJc6O9oYIcDI9JaV9V22bBmEMK+ggEPo9JnTaRkZK1Ys03R14oQJFpvNzMMBSAyx3wAHg0xthTwBUDXuqlk/RbDLeyOq3untfOKJxwsLC4t79z51+vTUm6fabPYXnv/XwIEDBg4aZMbWgUBAEASe58vLy3VdT0lJ6d+//5EjRziOS01NNZ+CxWLp6Ojo1atXU1PTmjVrbhg5wmazd3o7mxqbOtra2tpaBvTvn5iU5O3skAReVT2AqtioYIXgkFGz896Uo4KABwAqiu7zehbMn3v0SPWD3/3uKy+/8r3vPaxr6r///eLQoUNuHD1WU1VRlKDB48mLwvo1a1vb2vr3H9C7uPjgoUOMUbc7QVEUapRO7A5HVExMdKxr2fIVBYX5fUpLn//3PydNmPDWW2/Hxbo0NVjWtw/RA4wGOBzA0IdgJ4I+BBSGVIP6FUJmFg65LtJ5Ylrgo4ePnDh5csLEic8888zMGTOz87KJRp595lmM8axZ98oWOei/pNCjaRov8oIgbNu2bde2nXV1dc3NzePHjZt8yxSXK47oOiVGH81Hh0MENERJCAsZNTT1uhIr5l4N920YYAm7yztXhrJvJhyazZYmdQuEMCUlpaysDBnJ62PHj5WvL4+OjnbHJ9psNo4TCNEHDhxUU3N0+bIV991337lz9fsq9oX2LCQ5qQkSpwLW/K//+4HScTg1npXkuvr3Sc7PcpUUpeZmxrvjrBgqFXt3nD51snfvUiBEsyBp7/Tt2r27vaM1MT5+2q3TX5/zWlNj4x133ZWSktzp7bRIslFkpEePHF26dJk5jz9kyJD+/funpaWZJ5PjODMuNNhs0ecOh/Bii4dJgQ/Z17j+98lWjyniS/qXLsbTsOvOGgECA91tYd1e7pXOHbxYF2S6Toyhe8xxiFJmDMUAVdNki5RfmF9YUNjc3Hy+4fzq1Ws62ttzc/N4nvf7/ZqiyRaZE3DQp6Snp8UZuuqU0uLexfHx8atXrSor6xsIBDdt2jx58kQTDhEjIfsCFEgVCAIIdAKlBdFOjidI8yGqQqYBRhDiDAplPHfuXAABIURX9fHjxwOgvzx79oSJE7OysiCAuq4xokuSePTo0QULFlgslqlTp+YV9UlPTWpsbFy4YIHNImdmZAhWG8Y4GAiIVntRQf6KFSsg0YuLimvr6yorK9LSU1evWXXrtFuiXbGQUAg0CAIQdkLqAazD13QydHkyxkBDQEcUmGozEENCAcehPbv2bN+x3e12l/QpqauvHz16zIIFCzgO3XLLLaayS0eHx+FwNDU1zZkzp729vaSkZMqUKfn5+Y2NjRs3bqyvr8/JybHZbN3UFtnZ2WfOnNm7p2LY8CHt7W07tm2ZdvNN7y18O9EVVVacK2IKeIo5DZEOb/P59qZ6q0MGTAdQg4xAaAimQgN4IKzcX3Ho4L7i3oXNLa1Zmb36DRi0aePGYDA4Y8aMgN8vW22UUMThYCD4pz/+yePx3DBixIgbbujTp09jY+ORI0cOHjw4cOAADnOCYego0ZOSk5pb244cPVJYWFhUVPjG3DczszKPn6wJqt4JY2/U9TZM20Xsw6CDY16O+RAIIKYhau7KULhFEU9Dca3RSG+c7hUrVhQUFNTV1dlsthtG3uj1eJ999h8FBQXTpk2zOqz+Tr8sW1iPEQKe598vf3/JkiWBQDDeHT9k8OBhI4Y77U5zk2Meh1Xy4XVEh9RoUQzDAjPFEYxkr8Gpa8ayoYsOYSdi16gQfqpwCK9BU/klb4jvNtyNjY3V1dXHjx+vq6sbM2bM0KFDjZFbP89z5eUbt27d+sAD92/YsH7Pvm37dm1f+PorCUm2Z5/4dn4KLsiUOOhBQAVMY4wY1R9RgxbBllrbpO6oOpOWN+yWb/0E4Pi9+w7OW/BeRlrSvXff8+rs16JiYm65dZrT6QwEfKIoQgSXL19+6NCh/LzCxKTE9LR0t9ttyvpcbEqG6Cpj7zgSjX2d865XOV9XPXekR9GRh4eqqs83NByoqrLI8gMPPMCJHGDA1+nTdUIpiXZFnzt7buHChVab7YEHv7N61RpKyPnz589fuJCTlTl2wlhnlJ1oPo54AQo0HtyxasUChXkIC2AKMBJ8fpJX2Hf8PQ8CIlEN+YPYFps6etyE1NTksWPHHjty4n/+539feOG5tLSU8ePHB4NBq90JGAkGgwsWLAj4/WVlZX379lUUhRFqtdkYIUdrasrLyzVNe+ihhyx2uwESjKnBU6dPL1+y9MGHvnP0ZM3Bo4c8nvann3rqt4//6r77HgBBHXC61n5i6aI5p07sS0l0CDxs6/Q3deoxcekzbpkVnZAL+GgALRRLCmEyxr//3R+OVB8sKyurrq5+8cUXFy9bWnXgwC8ff9zv8/GSaE5hbd68eceOHUOHDu3fv3/3/ZQkqampac+ePevXr//+97+fmZlpVmEURZEk6c9//nNRUdGgAf1279y6du3ytvNneRb869P/J6e6D6xdtGT5XElGstUmifb2ts7oaNeQISMKSvoDJADJBbBL03helDesL7958ph33p1fffj4d//ze7W1dfPnzX/sJ48hhCWLVVMCvChvfn/j+vLyEcOHl5WVRcfEqMa8Ci8IHR0d27Zt3bpl67333puXn6/TkLfk8/sxzz/7r39kZKbNvGXGc7Ofi4uLe+65v6dluP/09G/cTlvNwfJd65c11p7MTEoElB07dUaSo/v1u3HYDTeB+F66goEtBkOBUR0YHbbHao7t2r0rNTW1uvrw9773MADg17/69Q0jR06YOFFTlEAwKEsShFAzSOyIri9fseLw4cOFhYUul6uoqMhpMA4CBnRV5T4Kcf+V9nm3inLYBtKeGgZ6D9uIPtRN/3Tt55XV8L8SLQ9h9ndNk2U5KysrOzs7Ly9v//79q1atQgi5XLGdnb7exX3iXPGvv/563359AsHOij1b0uOizlRuiOaaBhXHCVq9TDsEFsRM4YCfA36eBTmmQUIRgDGxcatWrR9340SvV31t3jt+RRs/bsyi9xbl5uVOnzFdkm2aHmxpbVm2fNncuXOzsrImTZyUndMrLS1dtsiqono6Pd2x7GX/Xvq3oAhmfJ3zrtftvV7sN2OEud3xWdlZWRlZGOP58+fv2L7TFRtrtdkcdodskX2dPpvdXlhQcOhQ9batW2+99ba1a9e63e4OT1tt7enhwwaJItD97VhSFv7z97vKF/QvdMU6lXinnuhkiVFcosvS0nhm/pznk+KjXO4EISa24WzD228vECUhMSHp+4/+15qVqxqbG++6685w2zNCVQcq//qXv5SVlo6fMCEzK8vT6eE4ziLLHR3tgWAwNT29rLRUEIRnnnnGKsuumGhelDUl6EpIZkH1xZdevufbD9adO7tyzer83Jw9O7bfddstQG3fuXzui8/92h2tZCRy0Ra/y07csWJCnCxDbeGc2c1nTxXl5gJe1CmhDHKIe+FfL5w5fSonJ+eOO+7o9HaWl5c/+v1HeY5TNc1itXo8nueff76lpWXGjBl9+vQxGazMpWma0+nMzc1NTU1dsmTJrl27+vbtaxbyMcZFRUVvvPHG0CGDMSQnj1UlxEhL5i+ZMrbP63/5zYW6yn4lCUlxXIwdOWUa5+R56tu7bd2urevzcrOlqChPq9fiiKGErVy54tSJIxyPpkyZhjn+qaee/sUvf+GIiuYwBhBghP/0xz+drT17//33l/Qtk60Wv9cryXKn1xsMBh0OR25+XlFR0eJFiw5UHejdu4RCYJFFitDwIUNnvzqbE8D4iWNfnP18epq7o/WMUw5sW//WhqWvFaY5B+UnWXVfvBUlxUlJLltrfe3yJYvdUc7Y5ATGh9CWUYI5MRjwr169OhgMNjQ0PPTQdy9cOP+LX/zyvvvuGzZ8uKYoCCNJkhDGqqp6vd5XXnnl7Xlvjxgx4sYbb+zbv19yUrIkSUElSAiBCCKMjbI5uPYHA1f6/uVfXZabuY6c2adrP7+ScHhJL5DRfWqiY2xsbGFhYd++fU+dOvXyK7MJoXGu+IyM9Pz8vMVL3o11RXU01+1Y926w8ci0sb1h4KwFtEvMyzENMxWCIGKqQDWOMiXgd9icIi8mJafNW7gyxp3+r5feuOOeezasXz9xwvgbbrjh1Jkzx44ffeeddzZt2jRkyJB777knPT3dYjV42gjTjXq4bJG7DBu6TOM3AocRRLx6uuYSE0B0HQJkc1rTMtKGjRgW7Yx6b9GimpoajLAoCM4YJ8dhhHBJaUlVVdWq1asfeeSRxYsXO+32I9VVuuLtXZhOfPV//NVDAj03fnhGjN1rlzucsjdaDkZZlQQXl5Zqd7vFdeuWq4qanpH75psLNmzcOnnq5IzMDE3Rd+3a8YMf/hcOASHX3ta6ZPGi8vLyRx59tKRPH1mWIcKSbMUI6pouCKIoipQQTrImpaQNGdR/1arVVVVVKUkJTodDD6rpObkcFN98+60777z3fMOFc7Vntm/ceNfU0TtXvLJ13atTJhQnxWpp8UCgLTLyxDmgVQhGy7Q4K+FI1b7ztXW5/QdhwDGdnT1T987Cd1NSUq0W65QpN/37hRcmTpqUnZeLOU6SpYMHD7788svDhw+fOnVqTEyMWafodi/MDhqfz5eYmFhSUhIMBufNm+d0OmNiYgzhIblvSd9n//6vW26a7BBg+aqFPD1/qGL19KkDM5JwVgoXZQs6RM3GK2nxlpQ4KTc9qr25fvuu3cUFvS2OWCTGX2iof/rJJ202OS8v/8YbRz/x6988/vgTbrcbIuzt9Byurn7qqacGDRx0++23x8bF+To7BUEUJBEaYaskSWZ21Gq1DRk61Gqx/O3vz1hsVkd0DG/8CcOHD3tjzqtFhdnZWcm7t66uPbi5Zu/GonTLhGFFGbE4igtE8bpd0mTRl5Jod0fJNplbsXy5zWJJ6pUNAdRVAiFsbGx+7713ExISx4+fUFNzdPHiRf/9wx9l5+UCxjDHIYybm5oaL1x4/Y03Nm/ePGXKlNtuvTU+Pi4qJobqRNM0TuBNvpSrOfefUqkiAoef2OKYLSpGNVFPS0ubPHlSc3PLovcW19XX2+22zKy0hvN1iHRWbq647/ayBLtqQ+0ibccsAKlu1p8hIJjpGDDVr3AQUcowb9m0o/Kl1xcWDxge60q6fcYMjuePHK/Zs2f3ju3bbr31tttuuy05KQljnlJiEt8JgsQAwxjznGiy3lz7oUbgMIKIV4VDDhA9tIWIRgAFCKG4uLgRI4enp2W8+eabu3btsllsfn/AbrNLslhYUChJ0muvvfbgQw8dPVxdd+ZEa9PZieMGvvHv/4sVW8cNzXCI7VA5i7RmrHsE4uGpl2mdRG2PihLi3bEbN+5IcGfs2Xd4X8Uhi80xdeoty5cu/+5D30WYwwjs2rnjlVdeiYuL+8EPf+h0OnVdx1wo4IAQMEohAJwgIGMS39vRLvCcKAqDhgwJ+P0LFy5ob+/Izs7FFKWnZ/mDavWh6ozU5M3r1jgE0FJ3qOn45lm3DpFRC0ebBdYmMa8MFUS8PPVIMCBDLSc99dChI82157IKy7ActXPrzhWr1ia43Y9+//uLFr1XWFQ0auwYqpML588vWbT4UHX1j370o4yMDDNlatIId5M7mu1sJi5yHJeenl5QUPD666/X1NSY44mSIKclpcx7fU6/Ppme5uNK+9Gf/NcdFtyEtHor386RNgH6ZBxUvRd45hOANzcno83T+f77W/sPHI457vDhY08++ceMtPRHHn50776KktLSkpJSTpAuNDS89dZb69ev/9WvnuhTUsoLghoKxbCh8AdCHg9C0CjuQYgQxkTX4hMShg8bMW/+/OMnTzqinO6YGIkTUhJdr770/KRxQ2v2b4Idp2aOKxvSJ1mmLYLaJAMv8TUKwMfzfj3QInIkJTEuPiFhxarV6amZzpQCzHF+v/qvf/0rIyMjKSmRMbZ+3bo77rwjI6sXAEBXtWM1NQcqK7du2bK/cv+PH/vJqNGjop1OQRQ4jkMGxzTHc1QnJPTQYU9esAgcfkltjfmcRFEUBEFVlV69socMGdrc3Lx16xa73SIIuLHuiESPDStNLezl9FyosXJ+yIKAUQiZbrSxGeO+VBSkUEiHOIYl3ubac/Bk2YBRsi3G09lZ/v6GoBaYduu0cePGu+PjOMwZxHUMQkOY2ugXDO3tULRKLosLr8KOHYHDbwoiXjajeQ2OWPODEYAQNjkqLqoHMIAgHjtm7I0jb1y3bm1lZWVLS0tHR0dcXFxOfg5kaOnSJb16ZTReqK/et+XCid188Ozkkb2Y9zjpPCGBTpHpIiAy0AWmcUBHQNU1lcMcxzuqDp16//19dkf8fz78Xzt37ikrKSsqKT3fcG77zp2btmyZNevbN4wYaU6TIMTB8MQOhBAjzHXnxQRRYoTqhu5EZkbmsOEjdu3aXVlZqQTV1Ky0rMys7Vu2RdssIlS3rF2mt5/60QNTZdooQq+MggL1SUwVGBWYIkEvzzoFGkCMZGTmbN6+OyYqMaZX4aolq+cvfG/S5Mnt7e1+f2DWPd8KBtWVq1Zt2rQpNTXlrrvv7qlR0F2g7c4kdU82m1/abDaTPaO8vLyxsbEgLy8mJibY0XDi8PbWc/sHl8QVZ0k0cMoCmkTYwVEPTwM89VuwJoCgwIKaGkjLzKo/39reGUxLzdnw/valy1Y/8ujDqqIzgKbefAsnSIvfe3fjxo35+fmP/tcP+FBkxXfjMeyS2QPdShNdGyPkZCAwdNgQX8C3ft1an1dJio9LTHI7RbJm2VuJDip2npoxrgyr50XaLJAWrLdKnIqRH0E/hxQIgqrSabVbVUJ37T9QVlKKpJgD+w+vWL50YP/+CHNLlix+/Ne/SkpKZYysXbemYn9FRWUFZeDW6bfdOGqUmcE0dYVDON3dQWZIL1wj1/Wh2/5q88qXfsMcL0Tm7/qwn4UROPzwZZQEoKpouTk5w4YNbW1ramioS3FbL5zePbgkjddbeOoRQAAyAihmEGqYUWg2dDPIsDHMymlQAHLsrv3Hh4ycCgRbW2vb9x55pF9pf4socYadYuBy1dxLt8jn7d1E1lceNXseb9Zzn1z8nBc5RhjiYWlp6ZChg6uqDnZ4PAerDh49fHTSpIkpqanbt23BLFhbU3Hu2KF7bx0Qy7VIeqMIOwSgYMYwoxxQDTF8DUJiCNBzcfHpVQdPL15UO3LUMI9PzeyVd9Mt0zaXv7967Sqf3//YYz+JiYm+9Hqu3utnDBJAxnRCeI7r3bs3Rvjc+botmzdn9cobNnzw2uXvpCc6G05XfGvmqLSogAhaOOjB0IeZn2cqZpRnGg+CPNMR0ABAssOF5ZjNOw8OGDf1j7//e1Or55677z569OgvnvjlmdNn3pz7Zkd7+6x77+ndp4/fyI5e7yBTZmZmVlZWdXX1nh3bseYdNH7M/o3zG8/snTa+t+47AQNnZewVkIahmT3SMSCYhT4gAG2d/qT0rBVrNo+4cdILs+e2tHnLSgcwiKbcPC0YDLzx+useT8e0abf27T9AUwKEUI7jr+3TX2QbxogB2CszK7+w4PjR4zu3bosSYXGf7Oa66i2r5j44czTtrNX8DRxoF5GXgwEeqgiqABJoPFkAqVdRXclpNWfqeWtsYlrRAw8+WlhYVHu21hXnfuynP21paV68eNGJkyc8Hk90dPTdd91dUlJqEkx+iqxY17/Ydb7/p3kN3NfYsph5EoiApmmlJaX9+hWfPb7t+L4kgqhH8Tl4pFEkUA4iniKkYcyQDolOw+29gBqzL2rQM2hgSUFebsnQmzAQFKC1qR02QeZN0tUvYLtE1jd9US2EhVRjlBKMuem3TYcQ7t275+zZs3/961/TMzLuvH3GhjXvlgdah/SOL85K8tSekgUNIw4wPUy4FW5qBxDoCAYxCALm69s7e2Df5vam5qGjek2dfPM//vq3gD8wYfL4krK+ihKECPLoOswF5DiMIOB4BEHZwIH5xb1WrVrzj2f/fOOIofffd/fvfvkIB7xlvdOhtxJAD0AdCAQRCxj6QJxBU4IApBhSgBR/oEWlnGC1nj6wp7rm4PCRNzQ0Nvzuyf99e+7cC+cvFBUVDR95Azaa5G02Wzi6up6GeVVVXS7XrFmzNpWv3rx19blTm4jWnJ/nlnk10NFuxZpgCjWbttqY+gjr/EAd0k6roCa6rOfOHt+2bZMoxlFAb7p56okTJzZu3FhaWjpqzBjTZPOibNC8f+QLowxB4lcD8dGxN0+ZeqSyctvGNXs2t905c8TmRX+1CgwRZnVYNc0HgBqKJwE1WAJlBjkAdIqCWFLEaCrZtIDS8twzfztz8lRGRsbDDz+clpH1z38+F++OpxBkpGf07dufUt28D+YN/ChY+LVcX9vokDGqKKosybpOgMkiCWhsrO141RYZB6LsmOmdPCY4tK95CqGKoW4M2BqMRJyOeB1Zg8h+ulnN6n3DkNG3ImRv8/gARhAxbOqyfJAQ9HI/FH0EDysSHUbW9UWHEEFGAOIh4hBEwOf1AQjSMlKzs7IzMjMDfv/RmoNHD+/rX5ZlB20lOdFK2wkbrwKRAUJYCGYYBCYLJWAhPAQECEFV4OXEjVurS/rdMHL0lKf//LfBg4befvudSSkpihpEGPEc/xGjw/Ay0l3UYNAGBrFLUXFxRkb6/n27Vi2Zf9f0cY11lbnpkgU18rAdIj+GQWTEW6h79NogfdEh7wcWwkc743P+PefdfQdOZ2Tl3zZ9+j+fe87pcIweM7q0X18zRsAYa7p2xZrWtaPD0A9qmq7rvXLyS/JTz9Ueqdi5OiPJkhBFkdJks2NIFQa7ORa6+yI5BniG+SDhGYqZ99661RsbikoLf/TYz3bt2dPe2jZq1KiyfgMAgFRXIcJUVynREcLX4TpDBjjGQR5CmJCamJ3qRlr7S//8v+RoNLQ4FQSbNbVV4HUcgkOTrwBQKBrKBETHIMh4BUmdRNyy6+jf//5u/4HDp8+YfuLEiQNVVX1KSnLyc28YMdLlijVocKjBihcmrTUFniLR4depVINNsSTOEG5koe2MAbMQ1UEBRiLVSLsOVYoAZggDBClFEECkhJw+kevwqILD2hHgDp9vu2PygE6/Ksq63eak0KgTAr1L9ck8+BFIi6zr3Z8foe6Cro6ZCISCAaPtwGKxGnQtBCGUlJiYlJgIULDfwF7vvfF0vEsKap2yFetQZUrA6IxHmIXJxruBK4RBFIoWvv+AYo15V61e+uijj6Zm9jJ4xKkkWQhRQ34bZtdjhkxWXmz+yyAKBvWUtNRZ37rr2L6Mrevfbms57bAWIL8fMTUE75BBCjFFkHEMIIINAmpICUSKojjtzoYGT1XFfghZYkrispVL7773rqKi3oSQLuE6SqlufMJ6CL5/FL+ZmZPmwLiJYlTK6InTqe8UDlSrumaTJaYFYch0gFAAFmb5MSnQQpcqIEmhXLzLvXZtudMJxowf+/qbbwwbcePYUWMMgjxiFDIRI7pRDIMXXRt4ZZrEbrzt8oIoADrCHGDAmpxSmjBWaa0MnNtLfJ0S0yDPA6YwwFGmAxa6yQxSaqgTMIAAwl6/2q//sFXvv6vrwBAV4EaPHm2xOURZkqyyTjSIEQEUQ0SpDmG4ZVT4KAOFn9VZuNqD+zxs7DcnKDZTHOL4m2a89OzPsu8epgTqNSTqgPIEdO9vAHgKgFWOskGp9kKAOdMaWmvTevUmug1zAiUmR+61eCkjK7K+DCstPXXcxAkrZ/8WwGTDhDNTrRRfNDpdbSYMMchTjBEHztSfmHDbTZOmP6LqVlVVdF1HPOIhVlWN469aI7+idKb5AkOilOIQ2iJKQcj+6npecVFexgN/qn2/09sRGzL/FLEwWaXB2Y0MNTWTkABR42BijDs7PMePK5nFuTm5ObdOu9XhcJgi8qIoBgIBhAElVBRN+MEfBQJ7NtqEw0RGacAryhIWRM1riJczpOsIG94Huhi6GJ6IATg2a9SFZtqpBwkFoghSU9MnTZmGkOjz+xC7JAPU9Vsufo563EN6xXF1RhhSDTZ3C9AVnnQCELBY7I2dPl3hw6S0RvIWMQwAIl16stDgoVGCxBblqD1Tp2nkmWeevG36f/BWK2WEhEf/vpIcLBE4/IS+R88UD5dS0Ed2p+8+cqZ3pktR/CLUKCahPYRDThxlAmBcba0H8fbEhPwXF74/884fAMYhwGuKgo2UusHJFNk5kfUlCjTDIUgXsVYIXXg5wRnHQYEX7ASEdnUoyDDINkNRjlkKowACDkAuFDKKXPWpGqc7BvFwx46tHT4eIREhFFD8vMSrRvcp7UHc9aEZEdPi60SnxEjEIV6jKicwpPmpt8Mp+DwBqFMZIBExDiFgkIqZwK2HZbJMni6GrJK1sa29qvJQSW/b0Jsm5RXmHT1+BCG+vb2N43hd12TZ4u/0GozBImUUwQ8xaxdls4zVLRiHgK76mmIsytHj1S7ZR4FNp4Azrg2zHlKjzLh3BvC0exXJkVK59XhGlmPIuFnxCQnry8tFQcaguxUY0EtYV66ctmVXhkMdQB2F4FiiumbBgWg50ORRas40jCp2Q8AzGgpcUVdVEzNAKDYKr5QnyMLLAHD1J2snj5s8ZdptIcRlDHEcI5SYQpoARDixvpnRobEvIUJC7A9/8b///Z83a8HEgTkuP0UAKhgSBTIGUSg2ZJI9KpaT01eUH0hJ7Ttk7HSi8gwAXrTS7jiyx3BMZEXWl88DRMBPqMrFxKY1tqgOYEcwCEOWUzUMum4EEwAgnkKBAIEASXLEHqurSO1VOmLshPpGaNdtHOQAwipRRZFXVRVzmPUw6xB9pD4yopvzuJwkWVRdwTwFelBtb0tw4h2uXipzEtZBWSegplS7asjghRxOFsLGkHtKoBVwDo9Xp0h8d+ncCz7n+TbNHFq3Wa2SLJm9mlpQoZSaWb6PGB12g2J3czgCKiO2WLtWdypZ7/CoVBCARCCHGQegkRWCJKwGbvgQGuS8OhCiok/V7pw9501dTGloVRKTrYwCXSGQgTAHB7qYvGUUfpBm8mpwSBlBgEKMGMdRXdOCrbF2pvubJEeShhwK9SKoQaBjSCHravOBAjXZQKGgKCw6LvrMqeq0vN5cVAzpRIASQHHoBTBiwr6RcNjlOxt5BMgrAIvW7Ed/9Pu3Zj/Z1tg8akCeaEUtHY0BndrtDl52MiK3tsGtGw9aY3NmfecHQLNCZsGcFVBijsoam7fL84ORTRVZn93eveb/YuHiIqMXA8Qu44rVIEzsVZaQ0nvjzs0zJ/dBunTu7IG4aEmHBAPMGVEBRFYNCn7CIUt87QVFBVFTJ8+0xKal2awQWQQsghDm0Sua7Otso0BmtZICFRl1dxD03HXffy969fcPTM5vq2sTBIgBErFmWHYUVrHlRF8ng2KMjlzHz5y6ccI0MToxNTY+Id1yaeIRGboSPaOu60uW9ripKiFtHO+/6ebbX//X/1xoUu3uWK+3lQdAkiUAdQDVEHISDkGJUsETZFxUXNXx2tw+/R2uRGxNjkowry0U1BqyWT2uxHQgLiHr7Nk2dcXo0JAuDBlpTgcKF/p725PSk/xt9et3rRo/KJPn+Yb6C0luKw/MqX6kA0nRQugo2uIlbDt+sskZkzn8hklAoRgLAPKAEIQ4zZCaNH8J6ubS/vjP92uyvradpVc+BhComsaAlpiU2buwKBjQt+6qOFRzVopKSsjq06la9leeW7G64kIHn1MyetK9/8E4F+SiIbQAzJtZV9at7hOWTGKXMYlcisSRztLI+hy29QexEmPJDiSLy8KvW7tKZ8HEpHgkAAIAAZhCRCGnQ1FDFso7OnUZyInvrN5XWDph4Mjp/oCAsAMCAaPurX7V4O86gN2UhASEmcErEu3RsdV7d52o3pudk+knGuJFirCOMIGiBgWF4/2Ul+wpCoutONJU78F3/uh/AkEEBDsA3EXxw+46HICfwpmCBGPU3tpod8VGYbhuxbJUd4xdCjkPGsQEczrkCBRVxhNolazxjvhe57zwvdXbbr374bjMwZRxzLg2I7gN84JcDn7sKnB45Sg/zGLLACOAaswXCvl5WUJo+5YNiIeOmGjJKiu6BjHHAKZAUoFVZaJGOQ07pKiMdduOxKT2HTDpfqDxAInmEBlhoKtR1hy2AR+8n18cHLLr9w0jcPgxvW0mYAvRCCbQ6srq1SsvISXXGZ9x8rzvZIOvrpFExxUMGTVj6OgZuaNvBsgKrXFUFyCyAMQZGQga2uYMdSNjBA4j60uQ/+iSjL+4zyHTQFtdY0xCXEJy/IJ337I4ZFdCrEp1HWASsum8BmUN2wLAJsakLdtwwKPGPfi93wVJFMKxEMgIYWMKnF7NEn0cOAyFRsRolZEA4gFnLUhP3li+QqWBpIw0v64QxOkoBDkq5pnVzqRov2Y7VhdYt/34d3/yv5wtnpcTKOONHpTPBg4B0wEROB75tdj0DPX8uZqqqpREl6IGVUHUeElDvAJ4FUoE23yadMFDNu2pnjDt3uLB4wGyEcCHoBoZzD0MfVI4ZF2aYqHQmtFQPAf9akDmZGt0VILLtW79etFhYTzWCREEkTJeh3KHIvKWWN4WozDbyo1VQT7hju/8HONowAQQCvdNZSUYfu+wkmQEDrv9j29Ac5FZGyCEGP/RGSAcAhzSAQwCEtA1TyDo1XUFA95uiYKOeKAyINgIUTG2EQ1gJBpN1szg7zAT9KaZuNi5cHlq6CObjIjAU2R9JGtwzVeaPS4XCU0YVPxU5JESOC9aAxdObX3h2SdKi93xMdguc5hpOLSdeY3yFNqWr9teWDpm0owfAjGRs7rb2oMWqxNBxnPmXMHFJupPlCyl5j+6oWwnqP6ACClEnezC3jdffaq19WTfvlmx0RwCKjTyeC2eTmd08pbN1a0e4eHHnnJm9NWBRQPW0A8x9BklSymkATVg4ZnW0SpZCFAbDq56c+W7z98wqtQaa8MiQ5gCSAM+TZad58627ao4Pnj8zJG3PcBUKxDcGpMA43DowSBIOQDQJ0qWmoOEYchiKtB5gAnQAoFOO88AR49ufuf1V/5U1icpJ8Uqo4AFU8hQUJV0wHn9/g3b90cnFn/nsT9oKJGXkoAGQy6IYcEIg90SS9gQG+yCbfQlgEN61S0UgcNP/bYSQ4PQGCEyqS+MDrHuEiBF3ULoBBmOLOSMTvRr1Qh7Tv4a9xNdj2sf6VKNrE/k6n3wc2S2PRINEAWAAOB9uv/smrXzdu1Ym+yKSnZHixLv6fAfP1Yry3Hjxk/PGzIBwBiG7ACJDCCdMWyMO0CEPr2ZIvNNKAXUPJqQAQi8wH+KKU2VB7YtWz5P09vT0+NjYhyKonk71dMnGidNvWvoDVOB6NaRk2AbYwJmoIf5vvI5+nhnijFGITK65SgHAoj51M7zAvT5O+pm//sZv6clMSE63h1FiEYoqTpwODY6+a5vPepM7a0CBwMCAQIvWo2qITWgT7iiW3wd7i/rgklj8ISGPmOm8w2BDogXYBWoTW++9MfD+9/PSotOjLfJnBD0aHX1rR0Betd9jySVjgQgCqBoAiTIcHcjBevRR4O6rvCym/bNtEvfUDi8Hrj6cFtwKRxep75dBA4j69OGQ8gopOaUPgJUA9QHBBXo7ZR21p85duLYYa+v0xUb17dssBCXDjoIsMUDIFMYHr4mxiAgMgnoP4PshdnSadjiIAAdqrcZczq2YL/nfOWB3XX1J62SdcyISaLDDbAVUIFiK2EWAgXAeM5s/bjmOfpkcGi2BSgIqBiofl+r1SoBGiRtTadOHq6uPiBb+F69emXl9wZYUn0AW5M1KJnvwHNCj9TeJ4bDrqsyhQEoYD2LMkEt6Pe1xjg4yDoB8J46uL29ub7+zIms1OyCglKYmAV0CaAoACwU2RjARj6d9qSvo11weEV1gQgcRuAwAoeR9XWBQ2aOihs7E1Kg+wDWGPETpnKSYOTNEKAIqAggGXAWwGgo7gp3GFIIkTknABD8jOCQMR0CCpkCgU6IotMgIZokcSgEKhD4vIBxQLQSCpFgU0PHMAQwZnT4WcAhCZOSmt26BEAd6gqGoW9ofg9VVdEmA6YBQQABL+BFXSGcZGOMp139+Sb5TtfDQFeEwE9SHOmBZFAz8qgc0HR/O9N9sgSAOT9NDf4CzgIID6CFwdCzNjty6JVSXOgqt+ubaZe4iEGJrMj6Ojq6Zn+JCYeQIRkKsRAEoOYDiAMAEo1g3hIyAJxkzmR3VwS6XUAjr/ZZmUWDNwAwJCIgIixDolOmMiyEQhldZ8gS8jKRgCGgIUw2QZB+djWknigbwh3GQcwDCBglvEUmvAJ4gWh+TBAQLABzhKhcKHglqMclwSvHrp/F3QshFmUCL8WqCg9EG6BBpgUhRkCQDCZmmakaBRxi12pDibjj3+jo8JN43x9tS0U6RSPri48UYTeDDKRdCU9k6CkoIDz03rMuaJCQsSvsXgg/fftAwmWxsLYGMiPGi1cCUJgx0bTjVDfIQml4KgB9KOB8IhMfphowAmUGw40vkGFAuk0Ku7zfqcdNYx9K1oM/FbtGuy4Wh66NfeD/XHyy4TYr4/vsA7E+jjBsRaLDyIqsrzk0huNC3ehlZGHyz1AIZFJvcj2MODVegygE6HP1jVGPaK8nMIOLGlTAZAmm6DMODa8UKHT1ssBukAk7EF3/Rw9fLkNfRPDPjL5Q89rMag26FA57/CXX1bEcgcPIiqzI+prhoRHuUQB0Ew67IpuL0QMM23S9yxQgs7x0KSh++tFDj/c3BuqNLy+LW8gl6R1IPzfMMZEX0TDmQGo2whp5ZxSeATQREqKu67pCy0xXpE4/CycCXD6w0XWTuq+/5wSHcVUszO7NLhcRi0SH33g4vK6TxT6SrxZZkfVlWvQKW9IcAECf4Cx8BseQfeCcQfrBCzPrcxB8vvErpDA8i2WkFb9sdRB2ddvDImbp46UEvnG1Q/RF7t0Ikn4Zdgal3dvj6h2J6Ku881HX7tcvzZ6h7vCnR26t5wvoZ+NTXvf70EtPDLz4avr53kra4yovG8GkV7l++rnct6tgHruyYaFXuTAU6XX4BkeHX9yzh1dCxAgWfv7uCLzUSkDYIw9Hv/pYeBERP9BVcZn5o18O2U56xeOJrnWEP09EvExc/8tE2Q+vy72OiA1E4PDLFYpHbsGXyjHq0XsZXvjrAoefdxT12WZQvrhDhK4Pzr/M+yESBUbgMLIi68rGlF7amN4znRhZkRVZETiMrE9nXdIRzhijlOq6jgFEGCOEerBLMIRQZBL2s3oM9KLnHr7JxhAWQqwHHHZjoVlHN8VvwNdFaAR94tfTz9NZYYzpum7q2muaZkrV9xDhNyXcP7TuG1mRFYHDL9nq1rzGCGMRA8IApUzXuyg5KNF0KAoARxDxM0dGxrqJ2inrgYVhBR1Tjs/orI/crC/+aUGgA6ZjQAhVNEXkxdADIwRQxmMUid8jKwKHX7kAMUx2paoq1YnAIDIoNSDGQNeJplBKIIIa0jjII4i/wHDk66SCfbVuP0PKXO8aOe+eCUOGKDgCjDMoO+SL94R2zS9/rHtykT70C7qfX5VnSi82u/a4eAj8VPMrQYyQXbQFACGE6rrGCI3iLN2zFuYwCQp3QrGvxHOJrAgcfuOAMPyvpgLCBAqATkI2t63D19jU0dHhiHLaUpJxtBNoCtA1SikURABwtxXvorH/bK6P0m7O8av9ou649qv+MAxEowYWBiEIGIMH6tFD+8PaXozLyS8BTGBQoEwCPA8AR0nIabnGexJCMMbXuLcfOrxkCnB+6FP4uCjIPtP98xHWx5g9oAZPG6AQ6ggpAOkIS7LQCcDJc80dHZ0Ohy0uLjbagoKGwK4Z0eOrxvIo0kgZWR/LXLAIe8+nijVht5VAQoAvCBAP/ErD2vUnKquaa+tbzp4jlAo2S2JOppjkunHW3cDhBKIc+gmLbNatTDIRU+PUtJufVo3EtOOapvEhux/60rTdPd9TURRRFD9oo7/80Eh7NMVctMe6DjjKVA8UVBZsWLXi7Zbzp5ji4aAGdZ2DQmx0qsWZOOjmuwHvAsBKgUR0wnMSu4TQ+SJ0EUJ0XTdvUfedNHMAuq5LknQNKOpW0jEPnVkk4zjuauD6EZ8phBAhZCIxpTQUSVEqCMIVo+UPe470M8DCa70zDZOUUgooA0gDqJMxL4MtCli6dntTo+fw4aNE1zGHYl22BFdsv9zeE0dmMwZkQ0KJB8xQkWCXcqsiTVd4Tuy6RSpCuKe20QefS8+fpVRHiGOMXP011/ZyQj8LITbfx/gXXXZ/Qh5wRF8wAodfeyxkoVNNMCVQ1YBCQEPjur//89TuveeOHHFCLlq02iyWc23NF1Sf14Kic3s9+OOfJE+cHEJNwWISF3fDYbcV/hQTX2Z3iWmXA4GALMsffH/z+5ed2K8UHBpt5TRMUcY0D+TV+iOb5s99TsI+iQsUZyc7ZT5KkjSFVVUdA1J8s26986GfcNFZfg0Lop0DVtaDz9q0pIFAwGKxmLfFdBoURaGUKooSHR19WczdMyl3jVt3jUDzY8T6JjxrmvbFwSG6zjdHXddHCQAEoGZF4UVxye6jLy5YVVl9msf2qChXbExse0dTW8d5LeC3UjRyUL9f/2KWSwIWAEQAeFMQGF3SJEyp3kPY3awNGwzmVzJ3Pe+J1+fFCAsCf4mQ/XXsf0SIqmk6Y8z0mS4TgAuznBo+09epSPH1WPi3v/1t5C58epk5phmdGpymAk0HJ8/+9bvfq92+O9qvZotiKuZjdWrTNDujSVZLstOudXauXLUyLTYurqg3CGqAF0KICAEE6MTx44QQm83m9Xq7TNsnOjZmd2v3yTRtOs/z3XlR84jW19dTSmVZ/sp5r9CYqDfaZEwFcQigDlQPJB2g/dT8F3+X4VQGFrnLcuPsrE3SO3CwTWTerDRXfKy1ubVx6YqljqiolIxeCIgMIGKI9ZjvXF9ff+7cuaSkJPM+mC5Fe3t7MBh0OBySJP3lL39RVTUzM9MMuHt2tM6fP//gwYOFhYWXRY2EkIqKigULFqSkpDgcjo//Vxvv6ff7z5w5Y26YS+0vu0yz88OeI/ukD+H63jwc0zHAKEB+AAjHLSzf/as/PVfbrqfm94NSDBAcfoKQbJejYyzO6KjYuH0Ve6sP1UyYMEQ0ij1h8jR4CdUChAhCtGPH9n379qWlpfK8qCiBnrB0NVdPEKT/z96bwEdVnf3j59xz7507e/YFEhACISEQQiBBIAIB2epSEVEBEVFE9FVEURbZEqm1WosFJbXIpqD1FQTZocgSWcsaBUJIgBBCAgkJyex3O+f8P3MPTCNq//aV1/btL0/y4TMZZu7cOcvzfZbv8xxBEHFwr+hNLZWftv45SjHH8TwvCILIzmC65QgLj8dbVVVltVpvoZQ3w+G/gzSztG7zeFIAIcZAB0DGy2fNVS5UJEBkc7mcHo/F3SC56/mG2pYcDfd7bXV1Gc7wOJUsnDnr2p49Qc1AMMWUMxgCzzzzzBdffAEAYAruZ7qDTEWyyB6EcMaMGXl5eTabrWmuC2MMAHjllVcKCgr+sU/zjz/o32VBQwK0ABAI8V75/bwX70yL6t0l2oyrtMazEqgzw3oB1kP9iv/6WaBcvDM9Ju0O69Z1yxTPJQC8BAQQpPCmTJky5Y9//CMLQsqyjBBSVXX27NkTJkxgFsbSpUsPHDjAhjEQCDS9n08++eSjjz6CwUXxneAbQujEiRO/+93vamtrf+b8Ukqrq6unTJmyd+/ekL/4f0S9EsNFotSgOWkAnLrken3+B9bYNuGJKXUyFMNbyrzDD62q6JR5eyPmPVRsk5618/A3k6e/pxidvjnKzidsuvzohg1fdurUcdCgQeOeHJeSmjJ+/JOKonzfkvh+ZHvGjGmvTp3CI55D/xPdaKwBePTokazsbqWlpd8NowZlyZIlzz//PMdxuq7TJtKsOpvh8D9QJMCLyAIC2qEPlpz8666O9rBIWW7JcVZdtRHdxgOnyEG/x4a1CIzxpUspFssdHFrx+3eA1wN0jbLCOABOnz6tqipL5oV2zi176wdvgL0rhE8YY0opU+UhLXDo0KHr16+zqJrf7w+pBgBAaWlpdXX1d3awIYFA4AcPXg+F6XRdb/q/TdHR4/GwGrJbIIG9RlXV2wqlTWiKPACcvO7TgrZxvF1yKd5yHtVzsE4HtRg1AsHDiz6z5OH1WrWhtGMrc0qCacnCfAA8yDg8PHSZixcvNjY2MhSEENbV1XEcV1pa6vP52DdasmTJsGHDfD5fY2Oj2WxGN8Xv95tMJovFwswRNmiaprEhNZvNJpMpLCwMG9J0HELz5ff7Q4PGZpZSGpri0MRxHPfNN9/U19eHAnE3DRpO0zCEUNd19kzoHtiM3DKhiqKpqh46yQhjirHOZlOWZdZDWzPIX4qiYKzLsqzp2v9snm7kxSnhKMAUaga2PTctT7PFQUeCH1oVZK/16QFoVgW7GwseLBFzlGJ11KigfdfeB0+UfvL5gRuNVm+ODACcqqmffLpqzJgxuf1zL1y4UFpauvjPi3fv3v342Mfr6uowwWqTF2OCmV+pKIrL5aKUHj9+/OqVqzrWfV5fIBCAEGm6Znh4NxraYazf/MqhUQqNGKCUGKlK7uS3J1lu+BZLUVXVY8eOCYLA7Jimezk0NaHHGGO2SRVF8fv9siyzpRLafX6/P3Rx9srQCmFZ5NByatbMP0WamaW32bggugp1AryB/V9ubIlM9oBq0jQ7oEjXEb0BGDylhAIRA0SB1uBKjo09fulSWeHu9vf/GhAe3lRzzG6trq4uLS3t2bNndXX1unXrnE5nbm5uampqIBAoLy+vqanp2LFjYWFhZWVlx44dc3Jy7HY7e9eWLVvGjh0butTmzZsVRbn33nsLCwvr6uqKiooKCgpGjBjRokULTdMQQv/YROV5/uzZs0eOHCkvL2/Tpk1WVlZKSkpVVdXWrVuHDx+OELJarUxprlixIjc3NykpCUK4b9++48ePcxw3aNCgjh07Mifpr3/9a3x8fLt27bZt2yZJ0r333hvKYt4uRLz5rwxcVw4Vbnr56cGcv0yEXkD9AKgcxQba8QByyMhemQFP1WtJUfG1tXWXvt3fKn0gIELolNfIyEhRFAOBgN/v5zjOarW63e7IyEiGi4SQs2fPduzY0WZIbW3tnj17SkpKevTocdddd/295QIhCKGjR4/u3LlTkqQHHngglKlFCGGMFUXZsmXL4cOH27Zt269fv6SkJAaimzZtysjIcDgcq1ev1nU9NTX1zjvvbMp1+jHbCEKoqqrJZCoqKjp06JAsy9HR0XfeeWfbtm0PHjx46dKlhx9+WBRFWZYlSaqtrd2/f39WVlZCQoIsy5s3bz558mRsbOyQoYPa3NHG5/fpmr5hw4as7Ky42LiVn61M75zevXsWQvzPoXFCalSBQkog1CH4bNsxHzVBe6wf2RSCMBCN5CB3g0lq1IUqqi5AHmHgiG61bsNfn3u4V8CrS0LwOjrReQQull98+eWXJ0+e/Nprr5lMZkL0QYMGHTp0KL1LekFBQV5e/rlzxcePHx8xYoTI8VjHPCJ79+31eX39+vX75JNPLlZc9Pq8i/+8uF+/fqmpqUuXfjhy5Mjz509v27pN07XBgwd3Se+KQBCfNm/ZbLfb7x5wt6KoksRpmrZs+bJf//rXiEMff/wxpXTlypUZGRmPPPLoj50i3hQmMcYNDQ0nT548fvw4AKBfv37Z2dmEkN27d/M8n5uby9aP2+0+derUlStXhg8fLsvy1atX9+7de/369RYtWuTm5sbExGiadv78+ZMnTz7wwAPHjh2rqakJ3hJCzcq5GQ5/+dgPoH4VBALgfAWuuX6H3S7KsgUCHuuIEP6m30Ju8jQ4CghHFbcLYbx/x872993XpH8mYOGdrVu3rlq1qlevXgcOHAgLCyspKVmwYMGWLVuSkpI++uijw4cPx8XFnT59Oi4ubsGCBbm5uW+//XZsbOzhw4dnzpyZk5PTvn17BjbvvvsupXTw4MFff/315cuXdV3fvHnzyJEjVVVluyUEwNwPFToXFxfPnDkTANC2bdv169dXVVVt3rw5MTFx9uzZEMKnnnoqEAiYTKYDBw7MnTu3f//+jY2Nzz///NGjR9mufv/991999dVx48aZTKZ33303OTlZluWNGzc+//zz9957L3f7S6sJADqA5Nj+XTk90hTX1QheE2gowwhIcOXz7HUQQoESM8BRceEVFa6jO7e26nQX1VUd3EjZBgIBSZJMJpPZbFZVVRRFRjXSdd3r9YaFhc2aNWvMmDFdu3a9dOnSCy+8cPTo0T59+uzcuTMpKYm9nhnvixYtys/P79Kli9ls3rVrV1JSEkKIjfmxY8cmT54cCAQ6dOiwZcuWjz/++J133snKyqqsrPzTn/6UkJCgKEpZWZmqqqdPn/7ggw/Gjh0bYgUjhARDblG1GGOTyfTVV1/NmjUrPj6+RYsWH374oSRJu3btkmX56aef7tSpU2pqKjHkL3/5y4oVK3bv3l1UVPTSSy/JspyQkLB9+/YVK5bl5+cPGTJUUeQP/vxBWVnZvv37zpWdW7x4MQCw/npdZETUz8s23mjhhAFYv3WHxllt0a0ue3RkMt3cCVwQCSEx4JDj7HaiIFd9fSRv4RF34tvrPVMiOJHXlEBwKnm0Y8cOURAfHP6gKIqKEoAcJJhER0dPeXnK+4vef+65544cPjJ27LgHhz1IkK5jHWH03sL33G53do/sY8eO6ZpeWVm5Z8+e3NxcllY4derUoUOHzBazoijTp88oKFg04ekJoijOe31eWlragP4DmCVXU1PzwgsvOJ3ODskdioqKEI/27NkDABgxYsRPGQZFUd58882vv/46MzPT4/HMmzfv1VdfnTNnTnFx8aJFi3bt2hUTE4MQIoT8/ve/J4Tcf//9e/bsmTRpkt1uz87OLigoiI+PX7hwYUZGxrZt27766quDBw+uWbOmnyE2m60ZEZvh8BcXSJAkggbXyYN/i7JawyDiPS4IdEoxhQQDatC9AX+zXkogQNA1ExEsEF25VH6jcxjGgEM8z9tsNkbQOHXqlMPh+MMf/tCzZ8+ysrJu3bpt2LBh8uTJPM8XFRXNmTPn448/FgShpKRk8ODBr7/++ltvvcX0NcvYs+hcdHS0LMsWi+U3v/lNRUWF0+lctGjRPwik3GLPxsXF5eXlZWZmMuh64IEH8vLyNmzY8MQTT6xfv/7hhx9maLp06dK77747JSXl2WefPXHixOnTp9md7Ny58/nnn09ISLjnnntiY2M///zzxx577NChQ3fcccdtngIa4nMQoLiOHC7s1ynBTKsEogusuI0jwGDaGKDIMRMFAU0Emq+hBmGZIxpQZUI0DDGLLkZGRhYWFs6cOZPFP0VR1HX98OHDHTp04DgOIeQ0RBTFt99++/jx49u2bevWrRvGeNq0aR999BFzBLds2TJ79uypU6dOmzaNUrp3795p06YpisKCYy+++GJ0dPTq1atFUYQQvvfee8OHD//b3/5mtVrtdvvKlSv/8Ic/rFy5EgBw5513rl27duzYsbdwWZsG39gzgiAwRFyxYkX79u0RQrIsZ2ZmLliwYM6cOT179ly8ePGCBQt4nvd4PKtXr37kkUfCw8OHDRtmNpt3797NSEMLFrz70ksvJSUltb6jdcAf+O/P/3vcE+OWLl0aHxev6UpkRCQh+CdbM9z3poqw+SKGt+5T1ICOvW4vksKNxggCO2zESKZzAPAEAupTIIA8MNkjwq5dOnXoRFGXpH6C7NUhlSxmTVe2bt2amZnZJT3D5Wp0OsNVTUY8wli/q89d8+bNKy4udjqdHAKY4OCvjjHCoihSShGH3n33j+UXy60W6yef/MXjdQWtDQ4WFRW999573btn+/3e3/zmNzNmzGjXrt3dAwYmJCToWGe5AJvNFh4R/An4A926dSsoKOjVu9eaL9a0bJGoajKP+B/03Zv+iTEeOHDg/PnzMcaCICxYsGDu3LkTJ04cOXJkQUHBmjVrJk2axN519OjRZcuWNTQ0vPbaa8OGDXvrrbcYz/mJJ56YPn36l19+2aJFi6qqqsuXLy9btqxHjx4sXNQszbnDXx4OAUAUmJDi96myH2BNp5pGNR9VAggrvK5BjVINGkeQU6ATqBNEzWYJUR3hmweAE53KKqTA7XaLokgIsVgsTH9hjFu3bp2UlHTmzBlFUa5evSpJ0sSJEwVB8Hg8HTp0GDdu3JIlSxobGyVJslgsgiCoqupwOHiep5QyzavrutvtbmxsZJmM0LZkqp+pY9AkYMskJiYmMzNzzZo1H3744ddff52QkHDhwgWv1/vYY4+dOnXqyJEjlNL6+vqDBw++8sorVVVVhYWFY8aM4TiuvLz82rVrXbt2TUpKWrVqlaZpzKOaP38+w0L2obcPDjkje2h4hzxRZDfWApKAOFYMalTfI3jjMHgecAjwAuBECnioIapKZh6YOICgN+ALOcqqqrLc0pkzZy5cuFBlSE1NDYSQEZ0YofTy5cuHDx+eMmVKenq6x+OBEL7zzjvJyclerxcAsGnTpujo6NmzZ8uy7HK5cnJyxo0b5/F4IiMjL1++XF5ePn78eBZ3raqqGjVqVGxs7Lp168LDw4uLi0ePHv3ss8+y5NCwYcMuXrzo8XhCJsstWMiEpXIJITk5OfHx8evXr1+2bNmBAwc6dep06tQpjPGYMWM2bdrEcqJnzpy5evXq6NGjy8vLjxw5kp+fX1VVVVZWVlVVNW7cOISYyyXVX69P75w+adILLeJbMvwIJav+WUoIJQBQyI6Vh0TnjMC07Pc5bFYBQZ5DCIiImjiIAEQEcBhyGIoUSKI5nCOSxRlR4/ZoFpNm4kUrx5mQJegABRe5JEkerwcA6HSGaboCIdRUjblfYeFhOtbNFjOPeF3TOWPBS5IFE2yxWpxOJyG4saFRURRZ9hNMvF6vqqqZmZndu3dXlAAmeO7cue3atfvwww8Jwf6A3+l03qzlgH6fX1GU8IhwAED1lWq/z3/u3DlFCdDgzJDQL4SQFWDcYkM4nc4hQ4YcOXLk448/Xr9+fefOnc1m87fffhsbGzt48OAtW7YEAgGM8Ycffuh0OgcOHLhx48Zr165NmDDhgiHV1dWTJk0qLS0tKiqyWCwnT55ctWrVgAEDbDZbM1Wn2Tv8l4muqzzRdQQpBxt9HglQTuB5BHQtAAHgaVArczSImwQAzAGVEr+iIo53e71BrwUQQDgIKCQ/vIIDgUBMTExtba0kSWFhYQ6Hw+v1QgglSdI0LSsrS1VVjLHH4+F5HkIoCIIsy8xRCGnPH3QmbtmfIZXKZPv27b/73e86derUo0eP4uLiI0eOsGRGmzZtOnTo8Omnn/bv33/Dhg12uz09Pf3EiRMXLlzYvXv3mTNnOI7DGLtcrrKysiFDhiAUdHxTU1P9fv9tzRfexMKgt/F3No1ksUAkEsDrECCjTxuBOmRtvghgITgCOAg5QIlOiUL0epcbIB4JJt4QNhQDBgxYtGhRyFDw+/01NTVs6EKcF0EQ/H4/I9Ewk9zv97dr145NUG1tbUJCQl1dHdOhkiQlJiZKknT58uWamprr169/8MEHX375pcfjUVWVWUJ2u52xqBITExnoCoIQFRV1M4bINcWhWxCRxU4FQVi7dm1eXl7//v1zc3OPHDmyd+/e3r17cxx37733/va3v924cePo0aM3bdqUmJjYqlWrJUuW6Lo+derUsLAwZj/FxcXIsmyz2QIBn81qS0hIwIT4A26rxXrbDfNIp6PeJfNYA4RgIzhq8F3I30/2p4Coms1kVly1kgmKSAQi1AFACBKCEQou+K5du37xxRfXrtWEhYcRTDjECaIAIVdWWuZyuVq3al1UVBQdHY0J1jSduXeIQwb3BOt60JlmgXG2d3jEJyQkGC3dIXOXExISXI0uZo4wFrEgCDrWbzHpCCVOp9NkMqua3LTQ5cfASVGUsWPHXr58efTo0UVFRadOnfJ6vWyK77nnns8///zEiRO9evXavn378OHDKaVVVVV1dXVTpkyhlPI8z5hu7du3Z/NuNptbtWrVrI2b4fBfDYcE8LzQJi21kGALoZwoSpTDAcVwRCBzSoDR8QJzQOM4neNlAnyYxLZoBQCC2LCcf7yBKcdxQTvX0FbMzBQEQZKk+vr6yMjIsrKyyMhIk8kUGRnp8/kuXrwYGxvLrNeKiooWLVog40gNVhjFNnyoTq6pU8geNN3h77zzTrdu3ebNm6frelhYWFlZ2a5du1gF+tixY6dNm+ZyudauXTtw4EBBEGw2m8Vi6d+//5NPPunz+ZxOJwNXFlpk0TmLxfK/YrTCJkc1cebO6dnnz+0LSzJDwRhTjkB4g7sLoMwAFFBeh5JGOR2JBHE2RwwgPMfxLLHH8zyjfQIA6urqrFbrjeBYeLjb7W46L3a7vbGxsaGhQdd1n8/ncDgsFgvzIBVFiYqKqqysjIyMZMPOsk2SJHEc53Q6eZ5//PHHs7KyWJm/pmlOpzM2Ntbn87FPDNEufiILl2nSS5cu5eXlPfnkk0899RTP8wMHDty+fTtjmTqdzlGjRn300Ue/+tWv1q5d+8orr2CMY2NjeZ6fMGFCnz59GHvIZBIwwS1bJKiagngUxGnB1JTa+vNxkCAWrwYmjkNYjjCb3FRXqYqNMCmkQaMFG+c3cpQIAAuUUCKbgMyTQIe2ramxYnUdQ8ghDg0cNHDO3Dk7vtoxauRjKpWxjlnA45NPP+lzV5/27ZOrr1QrinKp4lJKSorFbKEUV1VVRUVFYRLETkopJpiZFxzHmUymhoYGADiBFxDHBWT5bMnZnLty7Ha7zWq7du0ahEiSJAhRTe35W6xJHvGE6LfULJEm0vT5hQsXnj59euvWrRaLRRTFkydPHjhwgBCiaVq/fv2ysrK2bNliMplOnTq1dOlSSqnFEnRnZ82alZSUdPXqVbbSOI4LCwsrLi5mSe5mbdwcLP0XjyfkeGA2x/bscQ3rmt2KrVYVIpcS0CFvBHw4HXIa5FTEycFfXuFNqslSp2nJmZlNUJD8GFuPUsoy6mwvlZeXL1myxOv1OhyOqqqqFStWdOnSxeFwJCcnM6Iaq5FYtWpVTU2NqqqapoX+JYQwV/LHvgxuImfPnrXb7U6nMywszO12V1RUiKLI3tujR4/OnTvn5+dXV1c/+uijiqK0a9fuoYce2r9/v9PpTE5Ojo6OdrvdBQUFrH6AqePv14HdbjeRB5wt+86BR0+W+6hZ5iwyEhVO1CCPOSNsejNlZcyIqHASNYVxUvgdSWlYgxxATUORzMMLDw/ned7pdKqGsPJB5lWzeGnfvn03bNhQVFTEgqjLly/fuHEjI46OHj364sWLO3fuZLHTmpqadevWuVwuh8PRt2/f5OTkzZs3JyUltW/fvl27dseOHVu9ejVjG7pcLrvdzpxOQoihncH3q1m+H0UAANTX15eVlcXHx9vtdkmSKioqrl69yiLntbW1TzzxREVFxYoVKzDGjz76aCAQyM3NTUhIOH78eHR0dExMTKtWrXbt3rX2i7V+v08UJEVRDIeeIu728DKMloRA5wCBFAKQ3a2L5nU3VF1EAa9AVJ6qPJaDD4gsUFUgqkBVMyLY1xAmAaS4iPd617RWBhwiI/gRBLCuXbtOfnHyU089teOr7boW/GlobHjqqacqLlbk5+djrEVGROpYP3DggNls5Thu+YrlZ0rOREdHBy1L3iQb4g/4jcISDhP86aefHj9+VNM1Qunq1atLy0oHDx6sqmp2dvb58+crKyt0rDc01M+YMeO7+xSwqDgy+sM1KX0Bt3iKTGpqagghiYmJZrNZEIQTJ05cu3aNzbgkSffff39hYeHSpUtHjBgRFhbGcVyfPn08Hk9hYaHZbE5NTW3duvU+QywWC8tHNNf1N3uH/3ohkKM8gk5H7qMPbZr/rhgVk0gJEswYCez0IIwAxyGX7BMs1jpF9fFiAxLElol3PzHWID2yMCrABEdERIQ4EQw8IISsrI3neaaR09LSSktLx4wZExkZ+dVXXyGEvvjiC4vFouv6Qw89NH369OPHj3s8Hq/XO2bMmO3bt9fU1ERFRbVs2XL9+vWPPvpocnJyfn5+KP/B1PqGDRvq6+uZ0mTPjBo16o033pg+fbosyy1bttyzZ4/P56urq6usrHQ6nW3atBk1atTo0aNHjRqVnp7OiAn/9V//9corrwwZMmTQoEF2u3358uV33XVXXFycpmmsBvkn95D8p1xDcuOwyeCFRQDtfHirFm26VjXSNrERPE80rR4HVKskIqojCijgCMe5fdgREeVyS1eq3YdP1cx6+i1NEZBgYk6hLMuiKLLGMQ0NDQ6Hg+M4URQ5jgu1uDNIjIokSfPmzZs4ceK4ceNSU1MRQufPn+/bt29FRUV1dfXAgQOnT5/OBiQmJubq1at+v99ut+/YsSMlJWXx4sUjR44cPnx4RkaG3+/fuHFjXl6eIAgmk4khGbN4AAB2uz3Ug431eGPVGhjjP//5z0VFRYFAQNd1jLHT6Zw4ceKUKVPy8vJKSkoCgcCFCxdiY2OLi4vPnj2bkpICABg8ePCcOXPGjx9vsVhcLpfT6fzss88ef/zxkydPDh069OrVq59//tmMGTMsFmtt7VWBF4zPvQ3tVIzgNKAcxABiQFnjnIcf/NXn67f5gSpxWAWqQoBOsIqJyCNiBLghILrXZwUq8NZdv1Ty0PDBDiHoVhJMQsEGgRfeeOMNQRCGDh06dMjQxMTEHTt2OByO999/PzU1VVHUTp069ezZ84VJk749+a3L5YqLjRs1ctT27dvr6upiY2IyumasX79+5KMjMzMzZ82eZbPa0tM7T5kyJSUlpaSk5EzJmRcnvXjfffcBAAYMGLDwvYWPPPJIZrfMb7/5tlevXsXFxV8Xfv3gsIfCw8I7JCe/8MILSUlJT094us9dfZqGXrxe7zPPPMPzvM/nY7mMnJycp59+evfu3UOHDh02bNiZM2euX78uSdK6det69+7t9XofeeSRzz77bMmSJTt27OB5XlGU7Ozs5cuXv/TSSyUlJRkZGYy29vrrrzO/P2Sq/twN9f+YNDdpu80iIB5QCCFO7pRyYMd2v9sVabcTVeN4SCCikNM4zouxjKAqibJZ8tucBysqR742NeHOHkDgdQQApJgDZqutV+8cp9NpNpvDw8OzsrIiIiJYHg5jnJ6e3rFjx3379n3zzTdr166tr6+vrKwcOnTovHnzkpOT3W43hHDo0KGKopw7d+7Xv/717NmzExMTdV3v2LFjVFRUUlJShCG9evVKTk5uev+apnXo0CEqKiosLMxqtUZGRjqdzr59+w4ZMsRmszF6xcsvvzx+/PjIyMiMjAzmBvn9/hUrVrzxxhsdO3b0eDyKorRu3fqhhx7ief7QoUMejycvL2/ChAkswSYIQmpqavv27X+s+dzP2L3UqGUzGlRSCHSd+r3de3ZfvvyDqEi7ZOZ5QeIFk6ZiQHiKeUJEAiQqOBv8Em9r/fXhi/c/PDGqZQom5qAFgyErY8AY9+7du127dgghURQ1TRNF0Wq1pqWlJSUlMRctJycnzpCHH35YEIQrV6506NBh4cKF999/v8lkys7OFgQhNzeX1U5QSqdOnfryyy9bLJaUlJRWhowePbq6uvrEiRMAgPfff793794s0EoIadeuXXp6OqOhEkLatm3LzA5mUrB2YhEREQkJCVFRUZIktW3bNjw83Ol05uTkDBw40Gw2Hz16VJblmTNnjh8/3mQyZWVlsSC5z+crKipasGCBw+FgXzY+Pn7EiBEXL148duyYUZ8zf8DdAwxzCcTFxnXr1q1Vq9aE4qbd/r5rycCfPlcUQAyDiAhZhgABgGy79+yz2pwE8hBwHMCIo5wRK4UA80CXqGZDunb98h2R0pszX3IacCgiHoK/95fRdX3IkF/16XOXpmkOp2PYg8N++9vfpqWlCYLA4tijRo0SReHy5cvZWdl5eXlt27a12Wy9evcSBTEtLc3hcETHROfk5LRv12HO3NmPj3l81qxZewr3KLLy2szXXpo8paHxus1qS0xsnduvX/GZYgjgjNdmPDF2nCDw8fHxnTqntWwR/DFbzK1at+puZoo5AAAHN0lEQVTUqVNMTEzoS4ui6Y477jCZTKxK1el0RkVFIYTuu+++QYMGlRiSkZGRn5/ftm3b1q1bd+nSBSFkNpv3799fVVU1f/58FsLVNK1z584DBgyor6/ftm1b9+7d33zzzfT0dF3XFUWJi4vr1asXS6Y0Y+E/YaU1k45ur6g6FnmkKR6BqP7jx+Y//6K1uiYtLIJeb5Ao4o3glgqwLiCXFvBL5vM+/Z4XJmc/O74OEkd0FIYGmwYAgRON1vg3Njk7MIFF59gqJ4Tk5+dv3Lhx+/btUVFRrJTe7/dbLBaMMePRNN0JPzjRLJ/XlETDODWhsxpYTzJBEFjtHaujD9XshxzKgoKCuXPnFhcXx8bGMtp3qDdK6MoNDQ3h4eGhExh++LT6nwuHBqE0OIS8UYUvA9wIhMYDO/9779alfbLbpiRFeBsvU7lBoKqAg36kT1FtUYl1AdOewxfapg8eOOJZAMM14OA4u4YhcwTZILB0IEvshYbX7/dLksQipX6/32azybIcoggxfyt0c2632263h74dK0kMddxm1KTQjLOONqF2ax6Ph40qU4UhOq6iKKE+7zzPM5DTdZ09Dn0KC5+ySAMLNrBVNGjQIEVRCgsLGTSyLqyh6WMrAmONUCrwJlWTRUECgGq6yuKl35upf6I5HDUyggpg65ISo0+si4L5f9q2at1XCWlZWLAomqpiTQOUIEghQISES6Yr576NN6tvzZjUs2O8CVArhLquiXzT+C3n93sFUSCYmEwSAFDTFU3VLBZbTc0VSml4eLjx9SHGGiaER7zRsBt6fW5KKWMJGaMHExMTJjwzYdbMWRAiWQ7OtaIoPI8CsmwymQReNEZD4xGvY539ydITZrM5uGx4xKosQsNC6Y3103SuMcaBQICZPmxdGZ/Cs8XGpiMzM3PYsGFz5sxh1zeZTKqqms1mr9drsVg4jgsEAuzFJpOJuYb/d3r1NQdL/1PdbYQ0TAWTDQcaLB2SJ73z9orZr//10NH0hAQrpcjY+qLVrCKuvEb2UDJ0woTsxx8DYQ7JYNZQSAg1+nxAoBmajlFRMMaMdmE0x8Isi+NyuSorK61Wq6IojPZmtVpDG4xVWYQ6WDJ4CyWcVFVlCflbkJJpUt0Qds1QVNPIpoDQcULsHqqqqhYtWrRmzZrnnnsuMjKSeSoMuUOnK7BbslqtIZZH6K7+F60xCIBFAopN0wO97n3UIvE7Nq4sLqvq0yPV7owSqIqozlHOanbs2Hvi1IWG7P4P3j1mMpBFYIpCmMdBqwCy4mUW3WXd1Ji2YqPEHjPUYd1qGGXU5XIxHGVYyDqiWSwWSZJYJNPhcDCDo66uLiIigrXsQgh5PB5BYAFJwKam6SEkLJMUYo2yKzAyFIvosuoO9nZ2h6H+aozfzxLPiqKIonjixInFixcfPnx43bp1DB0lSWKRWJYWZVRki0VCSNRkP9b9xpXJ7SXus5oYdn6hRoAJgJeeHhLutC9bs02BQlhsrMNq8ykBZjghqpd/e7Z1pG3OyxN7p8VTFVtFFFBkaxDzvpNGtVisqqYE17mm3HzGJst+qy34o2qqqqm6pkuS5HY3RkVGqZoiCpIoigIf3DU8j/x+2WKxut1BgNSxrig+A2Z0DnFGjCA4qpwZ+nx+syVo/fCIVxSZVW5IkqTpGuIRwYRypCmzlFWCsrNQWD8gZpJarVY2oczwtVgstbW1jFZz8ODBWbNmeTwe1mQqtDYkSWIzxXoPmc3mUCayuei+2Tv8V2YMQ7sbs+NmAA66KRwEDS79/OWTe3Z/vX5t5enTut/DcZxH1cJbtOj3wIPdBwyM6dsPEKyKHLWajZPZCTvxkIfCD3pLhNzQUzzPf/PNNyUlJaztBSsJ+GVSBU3XTGVl5auvvtq1a9cXX3xRkqTbnAv8n0yEakRKRUAB1jEXnAU/hLIaqHfVXTz77b4De74kSj0CfgB1jvBej9691z3ZA0ZEt8sAwAGAFVALBTwBtMkJQf85Jw+EsHnHjh2sTPu5554LNcf5Zb4p+c5jSr6b+NUJUCj45lz9xj37Pt24pc7jA6IJKIpkNXdPSxk+qG925+TUeIfil50mwWzofZ0EvcfbvvYopQvfW9izZ8/u3brfEkH5Gdf/p9mLK1eu/PTTT6dOndq3b9//3+/Y7A42w+G/IRxSAIimyQKBQf2saqDuCrhUDrAGeB5omi6Y+VZtgCMMhNl1rGsc4CyiAYcAUQIpQZzwI0v8Ri985n6xB7ecwP5LwqHP51MUJSIigrkj/0ZwCICmG50NOBVAFUGNgwoAXk9FEdDqIfRTToWU57DFEpMMnEmY2BA0AyJRKjE1faM88T9O3bDwKQszhAhTodNOfmE4ZI1hb9FBmlEEU6+DSjdxY+AnQQMRqmoLpzneAiMEIAKgKn4Lx5kEiVU3GXBIbjscQsj5/b6Qp36b/OF/QlhjcRbIuaUPXzMc3nb5/wIAAP//EysBt9jqSisAAAAASUVORK5CYII=)\n",
        "\n",
        "\n",
        "\n",
        "-  sgd = stocastic gradient descent\n",
        "\n",
        "![akira-ai-stochastic-gradient-descent-algorithm.png](data:image/png;base64,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)\n"
      ]
    },
    {
      "cell_type": "code",
      "metadata": {
        "colab": {
          "base_uri": "https://localhost:8080/"
        },
        "id": "t9H8FaqRoe5i",
        "outputId": "60616768-e0a6-4c56-9cd9-bc504cc715f0"
      },
      "source": [
        "# y = 2x - 1\n",
        "\n",
        "import tensorflow as tf\n",
        "import numpy as np\n",
        "from tensorflow.keras import Sequential \n",
        "from tensorflow.keras.layers import Dense \n",
        "print(tf.__version__)"
      ],
      "execution_count": null,
      "outputs": [
        {
          "output_type": "stream",
          "name": "stdout",
          "text": [
            "2.7.0\n"
          ]
        }
      ]
    },
    {
      "cell_type": "code",
      "metadata": {
        "id": "eGntZc4Ks_-9"
      },
      "source": [
        "model = Sequential()\n",
        "model.add(Dense(units = 1, input_shape = [1]))\n",
        "model.compile(optimizer = 'sgd', loss = 'mean_squared_error')\n",
        "model.summary()"
      ],
      "execution_count": null,
      "outputs": []
    },
    {
      "cell_type": "code",
      "metadata": {
        "id": "Kg1hBc8HvBq7"
      },
      "source": [
        "# y = 2x - 1 \n",
        "\n",
        "x = np.array([-1.0, 0.0, 1.0, 2.0, 3.0, 4.0])\n",
        "# y = 2 * x - 1 # parameter \n",
        "y = np.array([-3.0, -1.0,  1.0,  3.0,  5.0,  7.0,])\n",
        "print(\"x: \", x)\n",
        "print(\"y: \", y)"
      ],
      "execution_count": null,
      "outputs": []
    },
    {
      "cell_type": "code",
      "metadata": {
        "id": "Xq2zy3E0vqRL"
      },
      "source": [
        "model.fit(x, y, epochs = 500)"
      ],
      "execution_count": null,
      "outputs": []
    },
    {
      "cell_type": "code",
      "metadata": {
        "colab": {
          "base_uri": "https://localhost:8080/"
        },
        "id": "WApdpeIMwVIa",
        "outputId": "32394235-dcc9-4441-93ec-a1642af8c853"
      },
      "source": [
        "# y = 2x - 1 \n",
        "model.predict([16.0])"
      ],
      "execution_count": null,
      "outputs": [
        {
          "output_type": "execute_result",
          "data": {
            "text/plain": [
              "array([[30.99979]], dtype=float32)"
            ]
          },
          "metadata": {},
          "execution_count": 29
        }
      ]
    }
  ]
}