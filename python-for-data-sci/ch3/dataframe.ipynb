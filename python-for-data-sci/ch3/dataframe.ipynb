{
 "cells": [
  {
   "cell_type": "code",
   "execution_count": 3,
   "metadata": {},
   "outputs": [
    {
     "name": "stdout",
     "output_type": "stream",
     "text": [
      "Requirement already satisfied: pandas in c:\\users\\dell\\appdata\\local\\programs\\python\\python310\\lib\\site-packages (1.3.5)\n",
      "Requirement already satisfied: numpy>=1.21.0 in c:\\users\\dell\\appdata\\local\\programs\\python\\python310\\lib\\site-packages (from pandas) (1.21.6)\n",
      "Requirement already satisfied: pytz>=2017.3 in c:\\users\\dell\\appdata\\local\\programs\\python\\python310\\lib\\site-packages (from pandas) (2021.3)\n",
      "Requirement already satisfied: python-dateutil>=2.7.3 in c:\\users\\dell\\appdata\\local\\programs\\python\\python310\\lib\\site-packages (from pandas) (2.8.2)\n",
      "Requirement already satisfied: six>=1.5 in c:\\users\\dell\\appdata\\local\\programs\\python\\python310\\lib\\site-packages (from python-dateutil>=2.7.3->pandas) (1.16.0)\n"
     ]
    },
    {
     "name": "stderr",
     "output_type": "stream",
     "text": [
      "\n",
      "[notice] A new release of pip available: 22.3.1 -> 23.1.2\n",
      "[notice] To update, run: C:\\Users\\Dell\\AppData\\Local\\Programs\\Python\\Python310\\python.exe -m pip install --upgrade pip\n"
     ]
    },
    {
     "name": "stdout",
     "output_type": "stream",
     "text": [
      "Requirement already satisfied: numpy in c:\\users\\dell\\appdata\\local\\programs\\python\\python310\\lib\\site-packages (1.21.6)\n"
     ]
    },
    {
     "name": "stderr",
     "output_type": "stream",
     "text": [
      "\n",
      "[notice] A new release of pip available: 22.3.1 -> 23.1.2\n",
      "[notice] To update, run: C:\\Users\\Dell\\AppData\\Local\\Programs\\Python\\Python310\\python.exe -m pip install --upgrade pip\n"
     ]
    }
   ],
   "source": [
    "!pip install pandas \n",
    "!pip install numpy\n",
    "\n",
    "import pandas as pd\n",
    "import numpy as np"
   ]
  },
  {
   "cell_type": "code",
   "execution_count": 8,
   "metadata": {},
   "outputs": [
    {
     "name": "stdout",
     "output_type": "stream",
     "text": [
      "Base Salary: \n",
      " [[25000 27000 24000]\n",
      " [31000 29000 30000]\n",
      " [35000 31000 25000]\n",
      " [20000 24000 27000]]\n",
      "Bonus: \n",
      " [[3000 4000 4000]\n",
      " [1000 9000 2000]\n",
      " [8000 3000 5000]\n",
      " [6000 4000 7000]]\n",
      "Base + Bonus: \n",
      " [[28000 31000 28000]\n",
      " [32000 38000 32000]\n",
      " [43000 34000 30000]\n",
      " [26000 28000 34000]]\n"
     ]
    }
   ],
   "source": [
    "# Exercise #2 (page 40): Using Numpy Statistical Functions\n",
    "\n",
    "# Base Salary\n",
    "sam_salary = [25000, 27000, 24000]\n",
    "joe_salary = [31000, 29000, 30000]\n",
    "kate_salary = [35000, 31000, 25000]\n",
    "larry_salary = [20000, 24000, 27000]\n",
    "\n",
    "base_salary = np.array([sam_salary, joe_salary, kate_salary, larry_salary])\n",
    "\n",
    "# Bonus\n",
    "sam_bonus = [3000, 4000, 4000]\n",
    "joe_bonus = [1000, 9000, 2000]\n",
    "kate_bonus = [8000, 3000, 5000]\n",
    "larry_bonus = [6000, 4000, 7000]\n",
    "\n",
    "bonus = np.array([sam_bonus, joe_bonus, kate_bonus, larry_bonus])\n",
    "\n",
    "print(\"Base Salary: \\n\", base_salary)\n",
    "print(\"Bonus: \\n\", bonus)\n",
    "print(\"Base + Bonus: \\n\", base_salary + bonus)"
   ]
  },
  {
   "cell_type": "code",
   "execution_count": 23,
   "metadata": {},
   "outputs": [
    {
     "name": "stdout",
     "output_type": "stream",
     "text": [
      "Highest:  43000\n",
      "Lowest:   26000\n",
      "Average:  32000.0\n",
      "Median:   31500.0\n",
      "Highest(Row/Each Employee): \n",
      " [31000 38000 43000 34000]\n",
      "Highest(Column/Each Month): \n",
      " [43000 38000 34000]\n"
     ]
    }
   ],
   "source": [
    "total_salary = base_salary + bonus\n",
    "\n",
    "print(\"Highest: \", total_salary.max())\n",
    "print(\"Lowest:  \", total_salary.min())\n",
    "print(\"Average: \", np.average(total_salary))\n",
    "print(\"Median:  \", np.median(total_salary))\n",
    "\n",
    "print(\"Highest(Row/Each Employee): \\n\", np.amax(total_salary, axis=1))\n",
    "print(\"Highest(Column/Each Month): \\n\", np.amax(total_salary, axis=0))"
   ]
  },
  {
   "cell_type": "code",
   "execution_count": 34,
   "metadata": {},
   "outputs": [
    {
     "name": "stdout",
     "output_type": "stream",
     "text": [
      "9000       Sam Smith\n",
      "9001       Joe Craig\n",
      "9002     Kate Watson\n",
      "9003    Larry Potter\n",
      "dtype: object\n",
      "9001      Joe Craig\n",
      "9002    Kate Watson\n",
      "dtype: object\n",
      "9001      Joe Craig\n",
      "9002    Kate Watson\n",
      "dtype: object\n"
     ]
    }
   ],
   "source": [
    "employees = [\"Sam Smith\", \"Joe Craig\", \"Kate Watson\", \"Larry Potter\"]\n",
    "employee_names = pd.Series(employees, index = [9000, 9001, 9002, 9003])\n",
    "\n",
    "# Showing all data\n",
    "print(employee_names)\n",
    "\n",
    "# Accessing data in a Series\n",
    "print(employee_names.loc[9001:9002])\n",
    "print(employee_names.iloc[1:3])"
   ]
  },
  {
   "cell_type": "code",
   "execution_count": null,
   "metadata": {},
   "outputs": [],
   "source": []
  }
 ],
 "metadata": {
  "kernelspec": {
   "display_name": "Python 3",
   "language": "python",
   "name": "python3"
  },
  "language_info": {
   "codemirror_mode": {
    "name": "ipython",
    "version": 3
   },
   "file_extension": ".py",
   "mimetype": "text/x-python",
   "name": "python",
   "nbconvert_exporter": "python",
   "pygments_lexer": "ipython3",
   "version": "3.11.1"
  },
  "orig_nbformat": 4
 },
 "nbformat": 4,
 "nbformat_minor": 2
}
