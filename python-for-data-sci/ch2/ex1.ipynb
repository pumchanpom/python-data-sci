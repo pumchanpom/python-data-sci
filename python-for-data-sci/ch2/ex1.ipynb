{
 "cells": [
  {
   "cell_type": "code",
   "execution_count": 66,
   "metadata": {},
   "outputs": [],
   "source": [
    "# From Python for Data Science by Yuli Vasiliev \n",
    "# Exercise #1 (page 34): Improved Photo Tag Analysis\n",
    "\n",
    "photo_list = [\n",
    " {\n",
    "  \"name\": \"photo1.jpg\",\n",
    "  \"tags\": {'coffee', 'breakfast', 'drink', 'table', 'tableware', 'cup', 'food'}\n",
    " },\n",
    " {\n",
    "  \"name\": \"photo2.jpg\",\n",
    "  \"tags\": {'food', 'dish', 'meat', 'meal', 'tableware', 'dinner', 'vegetable'}\n",
    " },\n",
    " {\n",
    "  \"name\": \"photo3.jpg\",\n",
    "  \"tags\": {'city', 'skyline', 'cityscape', 'skyscraper', 'architecture', 'building', 'travel'}\n",
    " },\n",
    " {\n",
    "  \"name\": \"photo4.jpg\",\n",
    "  \"tags\": {'drink', 'juice', 'glass', 'meal', 'fruit', 'food', 'grapes'}\n",
    " }\n",
    "]"
   ]
  },
  {
   "cell_type": "code",
   "execution_count": 67,
   "metadata": {},
   "outputs": [
    {
     "data": {
      "text/plain": [
       "{'food_tableware': ['photo1.jpg', 'photo2.jpg'],\n",
       " 'drink_food': ['photo1.jpg', 'photo4.jpg'],\n",
       " 'food_meal': ['photo2.jpg', 'photo4.jpg']}"
      ]
     },
     "execution_count": 67,
     "metadata": {},
     "output_type": "execute_result"
    }
   ],
   "source": [
    "# Create a function to improve the dictionary of photo tags\n",
    "def photo_tagging(photo_list):\n",
    "    photo_tag = {}\n",
    "    for i in range(0, len(photo_list)-1):\n",
    "        for j in range(i+1, len(photo_list)):\n",
    "            intersect_set = (photo_list[i]['tags']).intersection(photo_list[j]['tags'])\n",
    "            if (len(intersect_set) > 0):\n",
    "                list_item = []\n",
    "                for k in intersect_set:\n",
    "                    list_item.append(k)\n",
    "                title = f\"{list_item[0]}_{list_item[1]}\"\n",
    "                photo_tag[title] = [photo_list[i]['name'], photo_list[j]['name']]\n",
    "    return photo_tag\n",
    "\n",
    "photo_tagging(photo_list)"
   ]
  },
  {
   "cell_type": "code",
   "execution_count": 68,
   "metadata": {},
   "outputs": [
    {
     "name": "stdout",
     "output_type": "stream",
     "text": [
      "{'cat': ['Pat', 'Mat'], 'dog': ['Shakespeare', 'Joe'], 'rabbit': ['Mal', 'Max']}\n"
     ]
    }
   ],
   "source": [
    "# Appending Dictionary\n",
    "\n",
    "dictionary_test = {\n",
    "    'cat': ['Pat', 'Mat'],\n",
    "    'dog': ['Shakespeare', 'Joe']\n",
    "}\n",
    "dictionary_test['rabbit'] = ['Mal', 'Max']\n",
    "print(dictionary_test)"
   ]
  },
  {
   "cell_type": "code",
   "execution_count": 69,
   "metadata": {},
   "outputs": [
    {
     "name": "stdout",
     "output_type": "stream",
     "text": [
      "food_tableware\n"
     ]
    }
   ],
   "source": [
    "# Accessing a list\n",
    "\n",
    "set_item = {'food', 'tableware'}\n",
    "list_item = []\n",
    "for i in set_item:\n",
    "    list_item.append(i)\n",
    "title = f\"{list_item[0]}_{list_item[1]}\"\n",
    "print(title)"
   ]
  },
  {
   "cell_type": "code",
   "execution_count": 70,
   "metadata": {},
   "outputs": [
    {
     "name": "stdout",
     "output_type": "stream",
     "text": [
      "{'table', 'food', 'coffee', 'cup', 'drink', 'breakfast', 'tableware'}\n",
      "<class 'set'>\n",
      "{'food', 'tableware'}\n",
      "{'food', 'tableware'}\n"
     ]
    }
   ],
   "source": [
    "# Accesing the dictionary given\n",
    "\n",
    "a = photo_list[0]['tags']\n",
    "b = photo_list[1]['tags']\n",
    "print(a)\n",
    "print(type(b))\n",
    "print(a.intersection(b))\n",
    "print((photo_list[0]['tags']).intersection(photo_list[1]['tags']))"
   ]
  }
 ],
 "metadata": {
  "kernelspec": {
   "display_name": "Python 3",
   "language": "python",
   "name": "python3"
  },
  "language_info": {
   "codemirror_mode": {
    "name": "ipython",
    "version": 3
   },
   "file_extension": ".py",
   "mimetype": "text/x-python",
   "name": "python",
   "nbconvert_exporter": "python",
   "pygments_lexer": "ipython3",
   "version": "3.11.1"
  },
  "orig_nbformat": 4
 },
 "nbformat": 4,
 "nbformat_minor": 2
}
